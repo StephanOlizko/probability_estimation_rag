{
 "cells": [
  {
   "cell_type": "code",
   "execution_count": 7,
   "id": "cb968a2b",
   "metadata": {},
   "outputs": [],
   "source": [
    "import pandas as pd\n",
    "from sklearn.metrics import root_mean_squared_error\n",
    "import sys\n",
    "sys.path.append('C:/GitHub/rag/app')  # Adjust the path to the parent directory containing the 'app' module\n",
    "from app.rag_pipelines import NoRagLLM\n",
    "from tqdm import tqdm"
   ]
  },
  {
   "cell_type": "code",
   "execution_count": 8,
   "id": "2f9dd237",
   "metadata": {},
   "outputs": [],
   "source": [
    "df_1 = pd.read_json('../PROPHET/data_2024-8/dataset_L1.json')\n",
    "df_2 = pd.read_json('../PROPHET/data_2024-8/dataset_L2.json')"
   ]
  },
  {
   "cell_type": "code",
   "execution_count": 9,
   "id": "1e16a3ed",
   "metadata": {},
   "outputs": [
    {
     "data": {
      "text/html": [
       "<div>\n",
       "<style scoped>\n",
       "    .dataframe tbody tr th:only-of-type {\n",
       "        vertical-align: middle;\n",
       "    }\n",
       "\n",
       "    .dataframe tbody tr th {\n",
       "        vertical-align: top;\n",
       "    }\n",
       "\n",
       "    .dataframe thead th {\n",
       "        text-align: right;\n",
       "    }\n",
       "</style>\n",
       "<table border=\"1\" class=\"dataframe\">\n",
       "  <thead>\n",
       "    <tr style=\"text-align: right;\">\n",
       "      <th></th>\n",
       "      <th>total_predictors</th>\n",
       "      <th>community_prediction</th>\n",
       "      <th>rule_details</th>\n",
       "      <th>categories</th>\n",
       "      <th>background</th>\n",
       "      <th>author</th>\n",
       "      <th>Estimated_resolved_time</th>\n",
       "      <th>date_begin</th>\n",
       "      <th>date_close</th>\n",
       "      <th>articles</th>\n",
       "      <th>search_queries</th>\n",
       "      <th>id</th>\n",
       "      <th>source</th>\n",
       "      <th>question</th>\n",
       "      <th>resolution_criteria</th>\n",
       "      <th>date</th>\n",
       "      <th>answer</th>\n",
       "      <th>topic</th>\n",
       "      <th>human_answer</th>\n",
       "      <th>url</th>\n",
       "    </tr>\n",
       "  </thead>\n",
       "  <tbody>\n",
       "    <tr>\n",
       "      <th>0</th>\n",
       "      <td>28</td>\n",
       "      <td>14%</td>\n",
       "      <td>The question resolves as the overall risk. The...</td>\n",
       "      <td>[Q3 AI Forecasting Benchmark Tournament]</td>\n",
       "      <td>In evolving situations, experts at the U.S. Ce...</td>\n",
       "      <td>Tom_Metaculus</td>\n",
       "      <td>2024-09-13</td>\n",
       "      <td>2024-08-23</td>\n",
       "      <td>2024-08-24</td>\n",
       "      <td>[{'id': 83, 'url': 'https://www.thelancet.com/...</td>\n",
       "      <td>[CDC mpox risk assessment update August 2024, ...</td>\n",
       "      <td>0</td>\n",
       "      <td>Metaculus</td>\n",
       "      <td>Will the CDC's assessment of the risk posed by...</td>\n",
       "      <td>The question resolves Yes if the risk to the g...</td>\n",
       "      <td>2024-08-24</td>\n",
       "      <td>1</td>\n",
       "      <td>NaN</td>\n",
       "      <td>NaN</td>\n",
       "      <td>NaN</td>\n",
       "    </tr>\n",
       "    <tr>\n",
       "      <th>1</th>\n",
       "      <td>28</td>\n",
       "      <td>15%</td>\n",
       "      <td>The question resolves as the overall risk. The...</td>\n",
       "      <td>[Q3 AI Forecasting Benchmark Tournament]</td>\n",
       "      <td>In evolving situations, experts at the U.S. Ce...</td>\n",
       "      <td>Tom_Metaculus</td>\n",
       "      <td>2024-10-03</td>\n",
       "      <td>2024-08-23</td>\n",
       "      <td>2024-08-24</td>\n",
       "      <td>[{'id': 69, 'url': 'https://tools.cdc.gov/podc...</td>\n",
       "      <td>[CDC mpox risk assessment updates August 2024,...</td>\n",
       "      <td>1</td>\n",
       "      <td>Metaculus</td>\n",
       "      <td>Will the CDC's assessment of the risk posed by...</td>\n",
       "      <td>The question resolves Yes if the risk to the g...</td>\n",
       "      <td>2024-08-24</td>\n",
       "      <td>0</td>\n",
       "      <td>NaN</td>\n",
       "      <td>NaN</td>\n",
       "      <td>NaN</td>\n",
       "    </tr>\n",
       "    <tr>\n",
       "      <th>2</th>\n",
       "      <td>27</td>\n",
       "      <td>38%</td>\n",
       "      <td>None</td>\n",
       "      <td>[Q3 AI Forecasting Benchmark Tournament]</td>\n",
       "      <td>Where have OpenAI’s founders gone?Just two of ...</td>\n",
       "      <td>Tom_Metaculus</td>\n",
       "      <td>2024-10-03</td>\n",
       "      <td>2024-08-23</td>\n",
       "      <td>2024-08-24</td>\n",
       "      <td>[{'id': 43, 'url': 'https://menafn.com/arabic/...</td>\n",
       "      <td>[Greg Brockman OpenAI return news August 2024,...</td>\n",
       "      <td>4</td>\n",
       "      <td>Metaculus</td>\n",
       "      <td>Will Greg Brockman return to OpenAI following ...</td>\n",
       "      <td>This question resolves as Yes if Greg Brockman...</td>\n",
       "      <td>2024-08-24</td>\n",
       "      <td>0</td>\n",
       "      <td>NaN</td>\n",
       "      <td>NaN</td>\n",
       "      <td>NaN</td>\n",
       "    </tr>\n",
       "    <tr>\n",
       "      <th>3</th>\n",
       "      <td>110</td>\n",
       "      <td>99%</td>\n",
       "      <td>An announced suspension of campaigning that is...</td>\n",
       "      <td>[Elections, Politics, Robert F. Kennedy Jr., U...</td>\n",
       "      <td>The 2024 United States presidential election i...</td>\n",
       "      <td>Jgalt</td>\n",
       "      <td>2024-10-21</td>\n",
       "      <td>2024-04-12</td>\n",
       "      <td>2024-08-24</td>\n",
       "      <td>[{'id': 99, 'url': 'https://www.cnn.com/2023/0...</td>\n",
       "      <td>[Robert F. Kennedy Jr. 2024 presidential campa...</td>\n",
       "      <td>9</td>\n",
       "      <td>Metaculus</td>\n",
       "      <td>Will Robert F. Kennedy Jr. suspend his 2024 pr...</td>\n",
       "      <td>This question resolves as Yes if on or before ...</td>\n",
       "      <td>2024-08-24</td>\n",
       "      <td>1</td>\n",
       "      <td>NaN</td>\n",
       "      <td>NaN</td>\n",
       "      <td>NaN</td>\n",
       "    </tr>\n",
       "    <tr>\n",
       "      <th>4</th>\n",
       "      <td>32</td>\n",
       "      <td>54%</td>\n",
       "      <td>The Warren Buffett indicator will be considere...</td>\n",
       "      <td>[Q3 AI Forecasting Benchmark Tournament]</td>\n",
       "      <td>In a 2001 article co-written with Fortune Maga...</td>\n",
       "      <td>johnnycaffeine</td>\n",
       "      <td>2024-09-18</td>\n",
       "      <td>2024-08-20</td>\n",
       "      <td>2024-08-21</td>\n",
       "      <td>[{'id': 41, 'url': 'https://economictimes.indi...</td>\n",
       "      <td>[Warren Buffett Indicator current status 2024,...</td>\n",
       "      <td>23</td>\n",
       "      <td>Metaculus</td>\n",
       "      <td>Will the Warren Buffett Indicator exceed 200% ...</td>\n",
       "      <td>This question resolves as Yes if before Septem...</td>\n",
       "      <td>2024-08-21</td>\n",
       "      <td>0</td>\n",
       "      <td>NaN</td>\n",
       "      <td>NaN</td>\n",
       "      <td>NaN</td>\n",
       "    </tr>\n",
       "    <tr>\n",
       "      <th>...</th>\n",
       "      <td>...</td>\n",
       "      <td>...</td>\n",
       "      <td>...</td>\n",
       "      <td>...</td>\n",
       "      <td>...</td>\n",
       "      <td>...</td>\n",
       "      <td>...</td>\n",
       "      <td>...</td>\n",
       "      <td>...</td>\n",
       "      <td>...</td>\n",
       "      <td>...</td>\n",
       "      <td>...</td>\n",
       "      <td>...</td>\n",
       "      <td>...</td>\n",
       "      <td>...</td>\n",
       "      <td>...</td>\n",
       "      <td>...</td>\n",
       "      <td>...</td>\n",
       "      <td>...</td>\n",
       "      <td>...</td>\n",
       "    </tr>\n",
       "    <tr>\n",
       "      <th>94</th>\n",
       "      <td>NaN</td>\n",
       "      <td>NaN</td>\n",
       "      <td>NaN</td>\n",
       "      <td>NaN</td>\n",
       "      <td></td>\n",
       "      <td>NaN</td>\n",
       "      <td>NaT</td>\n",
       "      <td>NaN</td>\n",
       "      <td>NaN</td>\n",
       "      <td>[{'id': 4, 'url': 'https://abcnews.go.com/Busi...</td>\n",
       "      <td>[Linda Yaccarino CEO X news April 2024, Linda ...</td>\n",
       "      <td>137</td>\n",
       "      <td>Manifold</td>\n",
       "      <td>Will Linda Yaccarino be the CEO of X on April ...</td>\n",
       "      <td>Linda Yaccarino is the CEO of X. If she no lon...</td>\n",
       "      <td>2024-05-31</td>\n",
       "      <td>1</td>\n",
       "      <td>Technology</td>\n",
       "      <td>0.97</td>\n",
       "      <td>https://manifold.markets/KevinRoose18ac/will-l...</td>\n",
       "    </tr>\n",
       "    <tr>\n",
       "      <th>95</th>\n",
       "      <td>33</td>\n",
       "      <td>65%</td>\n",
       "      <td>If Keir Starmer is not the Prime Minister of t...</td>\n",
       "      <td>[Q3 AI Forecasting Benchmark Tournament]</td>\n",
       "      <td>Keir Starmer recently became the Prime Ministe...</td>\n",
       "      <td>Tom_Metaculus</td>\n",
       "      <td>2024-09-28</td>\n",
       "      <td>2024-08-16</td>\n",
       "      <td>2024-08-17</td>\n",
       "      <td>[{'id': 15, 'url': 'https://www.independent.co...</td>\n",
       "      <td>[Keir Starmer approval rating September 2024, ...</td>\n",
       "      <td>139</td>\n",
       "      <td>Metaculus</td>\n",
       "      <td>Will Keir Starmer's approval rating as Prime M...</td>\n",
       "      <td>The question will resolve Yes if the numerical...</td>\n",
       "      <td>2024-08-17</td>\n",
       "      <td>1</td>\n",
       "      <td>NaN</td>\n",
       "      <td>NaN</td>\n",
       "      <td>NaN</td>\n",
       "    </tr>\n",
       "    <tr>\n",
       "      <th>96</th>\n",
       "      <td>32</td>\n",
       "      <td>83%</td>\n",
       "      <td>If Keir Starmer is not the Prime Minister of t...</td>\n",
       "      <td>[Q3 AI Forecasting Benchmark Tournament]</td>\n",
       "      <td>Keir Starmer recently became the Prime Ministe...</td>\n",
       "      <td>Tom_Metaculus</td>\n",
       "      <td>2024-09-28</td>\n",
       "      <td>2024-08-16</td>\n",
       "      <td>2024-08-17</td>\n",
       "      <td>[{'id': 17, 'url': 'https://www.irishtimes.com...</td>\n",
       "      <td>[Keir Starmer approval rating September 2024 n...</td>\n",
       "      <td>141</td>\n",
       "      <td>Metaculus</td>\n",
       "      <td>Will Keir Starmer's approval rating as Prime M...</td>\n",
       "      <td>The question will resolve Yes if the numerical...</td>\n",
       "      <td>2024-08-17</td>\n",
       "      <td>1</td>\n",
       "      <td>NaN</td>\n",
       "      <td>NaN</td>\n",
       "      <td>NaN</td>\n",
       "    </tr>\n",
       "    <tr>\n",
       "      <th>97</th>\n",
       "      <td>33</td>\n",
       "      <td>30%</td>\n",
       "      <td>The relevant Fed policy rate is the federal fu...</td>\n",
       "      <td>[Q3 AI Forecasting Benchmark Tournament]</td>\n",
       "      <td>In early August 2024, bond markets have been r...</td>\n",
       "      <td>Tom_Metaculus</td>\n",
       "      <td>2024-09-19</td>\n",
       "      <td>2024-08-22</td>\n",
       "      <td>2024-08-23</td>\n",
       "      <td>[{'id': 36, 'url': 'https://news.yahoo.com/fed...</td>\n",
       "      <td>[Fed interest rate decision September 2024, Fe...</td>\n",
       "      <td>145</td>\n",
       "      <td>Metaculus</td>\n",
       "      <td>Will the Fed hold rates steady at their Septem...</td>\n",
       "      <td>The question will resolve Yes if the Federal R...</td>\n",
       "      <td>2024-08-23</td>\n",
       "      <td>0</td>\n",
       "      <td>NaN</td>\n",
       "      <td>NaN</td>\n",
       "      <td>NaN</td>\n",
       "    </tr>\n",
       "    <tr>\n",
       "      <th>98</th>\n",
       "      <td>NaN</td>\n",
       "      <td>NaN</td>\n",
       "      <td>NaN</td>\n",
       "      <td>NaN</td>\n",
       "      <td></td>\n",
       "      <td>NaN</td>\n",
       "      <td>NaT</td>\n",
       "      <td>NaN</td>\n",
       "      <td>NaN</td>\n",
       "      <td>[{'id': 36, 'url': 'https://www.thenews.com.pk...</td>\n",
       "      <td>[NVIDIA stock price forecast Q4 2023, NVIDIA e...</td>\n",
       "      <td>151</td>\n",
       "      <td>Manifold</td>\n",
       "      <td>Will NVIDIA's stock price rise in Q4 2023?</td>\n",
       "      <td>Review\\nIf the stock price at the end of the l...</td>\n",
       "      <td>2023-12-01</td>\n",
       "      <td>1</td>\n",
       "      <td>Econ&amp;Finance</td>\n",
       "      <td>0.68</td>\n",
       "      <td>https://manifold.markets/BrennanRobbins/will-n...</td>\n",
       "    </tr>\n",
       "  </tbody>\n",
       "</table>\n",
       "<p>99 rows × 20 columns</p>\n",
       "</div>"
      ],
      "text/plain": [
       "   total_predictors community_prediction  \\\n",
       "0                28                  14%   \n",
       "1                28                  15%   \n",
       "2                27                  38%   \n",
       "3               110                  99%   \n",
       "4                32                  54%   \n",
       "..              ...                  ...   \n",
       "94              NaN                  NaN   \n",
       "95               33                  65%   \n",
       "96               32                  83%   \n",
       "97               33                  30%   \n",
       "98              NaN                  NaN   \n",
       "\n",
       "                                         rule_details  \\\n",
       "0   The question resolves as the overall risk. The...   \n",
       "1   The question resolves as the overall risk. The...   \n",
       "2                                                None   \n",
       "3   An announced suspension of campaigning that is...   \n",
       "4   The Warren Buffett indicator will be considere...   \n",
       "..                                                ...   \n",
       "94                                                NaN   \n",
       "95  If Keir Starmer is not the Prime Minister of t...   \n",
       "96  If Keir Starmer is not the Prime Minister of t...   \n",
       "97  The relevant Fed policy rate is the federal fu...   \n",
       "98                                                NaN   \n",
       "\n",
       "                                           categories  \\\n",
       "0            [Q3 AI Forecasting Benchmark Tournament]   \n",
       "1            [Q3 AI Forecasting Benchmark Tournament]   \n",
       "2            [Q3 AI Forecasting Benchmark Tournament]   \n",
       "3   [Elections, Politics, Robert F. Kennedy Jr., U...   \n",
       "4            [Q3 AI Forecasting Benchmark Tournament]   \n",
       "..                                                ...   \n",
       "94                                                NaN   \n",
       "95           [Q3 AI Forecasting Benchmark Tournament]   \n",
       "96           [Q3 AI Forecasting Benchmark Tournament]   \n",
       "97           [Q3 AI Forecasting Benchmark Tournament]   \n",
       "98                                                NaN   \n",
       "\n",
       "                                           background          author  \\\n",
       "0   In evolving situations, experts at the U.S. Ce...   Tom_Metaculus   \n",
       "1   In evolving situations, experts at the U.S. Ce...   Tom_Metaculus   \n",
       "2   Where have OpenAI’s founders gone?Just two of ...   Tom_Metaculus   \n",
       "3   The 2024 United States presidential election i...           Jgalt   \n",
       "4   In a 2001 article co-written with Fortune Maga...  johnnycaffeine   \n",
       "..                                                ...             ...   \n",
       "94                                                                NaN   \n",
       "95  Keir Starmer recently became the Prime Ministe...   Tom_Metaculus   \n",
       "96  Keir Starmer recently became the Prime Ministe...   Tom_Metaculus   \n",
       "97  In early August 2024, bond markets have been r...   Tom_Metaculus   \n",
       "98                                                                NaN   \n",
       "\n",
       "   Estimated_resolved_time  date_begin  date_close  \\\n",
       "0               2024-09-13  2024-08-23  2024-08-24   \n",
       "1               2024-10-03  2024-08-23  2024-08-24   \n",
       "2               2024-10-03  2024-08-23  2024-08-24   \n",
       "3               2024-10-21  2024-04-12  2024-08-24   \n",
       "4               2024-09-18  2024-08-20  2024-08-21   \n",
       "..                     ...         ...         ...   \n",
       "94                     NaT         NaN         NaN   \n",
       "95              2024-09-28  2024-08-16  2024-08-17   \n",
       "96              2024-09-28  2024-08-16  2024-08-17   \n",
       "97              2024-09-19  2024-08-22  2024-08-23   \n",
       "98                     NaT         NaN         NaN   \n",
       "\n",
       "                                             articles  \\\n",
       "0   [{'id': 83, 'url': 'https://www.thelancet.com/...   \n",
       "1   [{'id': 69, 'url': 'https://tools.cdc.gov/podc...   \n",
       "2   [{'id': 43, 'url': 'https://menafn.com/arabic/...   \n",
       "3   [{'id': 99, 'url': 'https://www.cnn.com/2023/0...   \n",
       "4   [{'id': 41, 'url': 'https://economictimes.indi...   \n",
       "..                                                ...   \n",
       "94  [{'id': 4, 'url': 'https://abcnews.go.com/Busi...   \n",
       "95  [{'id': 15, 'url': 'https://www.independent.co...   \n",
       "96  [{'id': 17, 'url': 'https://www.irishtimes.com...   \n",
       "97  [{'id': 36, 'url': 'https://news.yahoo.com/fed...   \n",
       "98  [{'id': 36, 'url': 'https://www.thenews.com.pk...   \n",
       "\n",
       "                                       search_queries   id     source  \\\n",
       "0   [CDC mpox risk assessment update August 2024, ...    0  Metaculus   \n",
       "1   [CDC mpox risk assessment updates August 2024,...    1  Metaculus   \n",
       "2   [Greg Brockman OpenAI return news August 2024,...    4  Metaculus   \n",
       "3   [Robert F. Kennedy Jr. 2024 presidential campa...    9  Metaculus   \n",
       "4   [Warren Buffett Indicator current status 2024,...   23  Metaculus   \n",
       "..                                                ...  ...        ...   \n",
       "94  [Linda Yaccarino CEO X news April 2024, Linda ...  137   Manifold   \n",
       "95  [Keir Starmer approval rating September 2024, ...  139  Metaculus   \n",
       "96  [Keir Starmer approval rating September 2024 n...  141  Metaculus   \n",
       "97  [Fed interest rate decision September 2024, Fe...  145  Metaculus   \n",
       "98  [NVIDIA stock price forecast Q4 2023, NVIDIA e...  151   Manifold   \n",
       "\n",
       "                                             question  \\\n",
       "0   Will the CDC's assessment of the risk posed by...   \n",
       "1   Will the CDC's assessment of the risk posed by...   \n",
       "2   Will Greg Brockman return to OpenAI following ...   \n",
       "3   Will Robert F. Kennedy Jr. suspend his 2024 pr...   \n",
       "4   Will the Warren Buffett Indicator exceed 200% ...   \n",
       "..                                                ...   \n",
       "94  Will Linda Yaccarino be the CEO of X on April ...   \n",
       "95  Will Keir Starmer's approval rating as Prime M...   \n",
       "96  Will Keir Starmer's approval rating as Prime M...   \n",
       "97  Will the Fed hold rates steady at their Septem...   \n",
       "98         Will NVIDIA's stock price rise in Q4 2023?   \n",
       "\n",
       "                                  resolution_criteria       date  answer  \\\n",
       "0   The question resolves Yes if the risk to the g... 2024-08-24       1   \n",
       "1   The question resolves Yes if the risk to the g... 2024-08-24       0   \n",
       "2   This question resolves as Yes if Greg Brockman... 2024-08-24       0   \n",
       "3   This question resolves as Yes if on or before ... 2024-08-24       1   \n",
       "4   This question resolves as Yes if before Septem... 2024-08-21       0   \n",
       "..                                                ...        ...     ...   \n",
       "94  Linda Yaccarino is the CEO of X. If she no lon... 2024-05-31       1   \n",
       "95  The question will resolve Yes if the numerical... 2024-08-17       1   \n",
       "96  The question will resolve Yes if the numerical... 2024-08-17       1   \n",
       "97  The question will resolve Yes if the Federal R... 2024-08-23       0   \n",
       "98  Review\\nIf the stock price at the end of the l... 2023-12-01       1   \n",
       "\n",
       "            topic  human_answer  \\\n",
       "0             NaN           NaN   \n",
       "1             NaN           NaN   \n",
       "2             NaN           NaN   \n",
       "3             NaN           NaN   \n",
       "4             NaN           NaN   \n",
       "..            ...           ...   \n",
       "94     Technology          0.97   \n",
       "95            NaN           NaN   \n",
       "96            NaN           NaN   \n",
       "97            NaN           NaN   \n",
       "98  Econ&Finance           0.68   \n",
       "\n",
       "                                                  url  \n",
       "0                                                 NaN  \n",
       "1                                                 NaN  \n",
       "2                                                 NaN  \n",
       "3                                                 NaN  \n",
       "4                                                 NaN  \n",
       "..                                                ...  \n",
       "94  https://manifold.markets/KevinRoose18ac/will-l...  \n",
       "95                                                NaN  \n",
       "96                                                NaN  \n",
       "97                                                NaN  \n",
       "98  https://manifold.markets/BrennanRobbins/will-n...  \n",
       "\n",
       "[99 rows x 20 columns]"
      ]
     },
     "execution_count": 9,
     "metadata": {},
     "output_type": "execute_result"
    }
   ],
   "source": [
    "df_1"
   ]
  },
  {
   "cell_type": "code",
   "execution_count": 10,
   "id": "8570f602",
   "metadata": {},
   "outputs": [
    {
     "data": {
      "text/html": [
       "<div>\n",
       "<style scoped>\n",
       "    .dataframe tbody tr th:only-of-type {\n",
       "        vertical-align: middle;\n",
       "    }\n",
       "\n",
       "    .dataframe tbody tr th {\n",
       "        vertical-align: top;\n",
       "    }\n",
       "\n",
       "    .dataframe thead th {\n",
       "        text-align: right;\n",
       "    }\n",
       "</style>\n",
       "<table border=\"1\" class=\"dataframe\">\n",
       "  <thead>\n",
       "    <tr style=\"text-align: right;\">\n",
       "      <th></th>\n",
       "      <th>total_predictors</th>\n",
       "      <th>community_prediction</th>\n",
       "      <th>rule_details</th>\n",
       "      <th>categories</th>\n",
       "      <th>background</th>\n",
       "      <th>author</th>\n",
       "      <th>Estimated_resolved_time</th>\n",
       "      <th>date_begin</th>\n",
       "      <th>date_close</th>\n",
       "      <th>articles</th>\n",
       "      <th>search_queries</th>\n",
       "      <th>id</th>\n",
       "      <th>source</th>\n",
       "      <th>question</th>\n",
       "      <th>resolution_criteria</th>\n",
       "      <th>date</th>\n",
       "      <th>answer</th>\n",
       "      <th>topic</th>\n",
       "      <th>human_answer</th>\n",
       "      <th>url</th>\n",
       "    </tr>\n",
       "  </thead>\n",
       "  <tbody>\n",
       "    <tr>\n",
       "      <th>0</th>\n",
       "      <td>28</td>\n",
       "      <td>14</td>\n",
       "      <td>The question resolves as the overall risk. The...</td>\n",
       "      <td>[Q3 AI Forecasting Benchmark Tournament]</td>\n",
       "      <td>In evolving situations, experts at the U.S. Ce...</td>\n",
       "      <td>Tom_Metaculus</td>\n",
       "      <td>2024-09-13</td>\n",
       "      <td>2024-08-23</td>\n",
       "      <td>2024-08-24</td>\n",
       "      <td>[{'id': 83, 'url': 'https://www.thelancet.com/...</td>\n",
       "      <td>[CDC mpox risk assessment update August 2024, ...</td>\n",
       "      <td>0</td>\n",
       "      <td>Metaculus</td>\n",
       "      <td>Will the CDC's assessment of the risk posed by...</td>\n",
       "      <td>The question resolves Yes if the risk to the g...</td>\n",
       "      <td>2024-08-24</td>\n",
       "      <td>1</td>\n",
       "      <td>NaN</td>\n",
       "      <td>NaN</td>\n",
       "      <td>NaN</td>\n",
       "    </tr>\n",
       "    <tr>\n",
       "      <th>1</th>\n",
       "      <td>28</td>\n",
       "      <td>15</td>\n",
       "      <td>The question resolves as the overall risk. The...</td>\n",
       "      <td>[Q3 AI Forecasting Benchmark Tournament]</td>\n",
       "      <td>In evolving situations, experts at the U.S. Ce...</td>\n",
       "      <td>Tom_Metaculus</td>\n",
       "      <td>2024-10-03</td>\n",
       "      <td>2024-08-23</td>\n",
       "      <td>2024-08-24</td>\n",
       "      <td>[{'id': 69, 'url': 'https://tools.cdc.gov/podc...</td>\n",
       "      <td>[CDC mpox risk assessment updates August 2024,...</td>\n",
       "      <td>1</td>\n",
       "      <td>Metaculus</td>\n",
       "      <td>Will the CDC's assessment of the risk posed by...</td>\n",
       "      <td>The question resolves Yes if the risk to the g...</td>\n",
       "      <td>2024-08-24</td>\n",
       "      <td>0</td>\n",
       "      <td>NaN</td>\n",
       "      <td>NaN</td>\n",
       "      <td>NaN</td>\n",
       "    </tr>\n",
       "    <tr>\n",
       "      <th>2</th>\n",
       "      <td>27</td>\n",
       "      <td>38</td>\n",
       "      <td>None</td>\n",
       "      <td>[Q3 AI Forecasting Benchmark Tournament]</td>\n",
       "      <td>Where have OpenAI’s founders gone?Just two of ...</td>\n",
       "      <td>Tom_Metaculus</td>\n",
       "      <td>2024-10-03</td>\n",
       "      <td>2024-08-23</td>\n",
       "      <td>2024-08-24</td>\n",
       "      <td>[{'id': 43, 'url': 'https://menafn.com/arabic/...</td>\n",
       "      <td>[Greg Brockman OpenAI return news August 2024,...</td>\n",
       "      <td>4</td>\n",
       "      <td>Metaculus</td>\n",
       "      <td>Will Greg Brockman return to OpenAI following ...</td>\n",
       "      <td>This question resolves as Yes if Greg Brockman...</td>\n",
       "      <td>2024-08-24</td>\n",
       "      <td>0</td>\n",
       "      <td>NaN</td>\n",
       "      <td>NaN</td>\n",
       "      <td>NaN</td>\n",
       "    </tr>\n",
       "    <tr>\n",
       "      <th>3</th>\n",
       "      <td>110</td>\n",
       "      <td>99</td>\n",
       "      <td>An announced suspension of campaigning that is...</td>\n",
       "      <td>[Elections, Politics, Robert F. Kennedy Jr., U...</td>\n",
       "      <td>The 2024 United States presidential election i...</td>\n",
       "      <td>Jgalt</td>\n",
       "      <td>2024-10-21</td>\n",
       "      <td>2024-04-12</td>\n",
       "      <td>2024-08-24</td>\n",
       "      <td>[{'id': 99, 'url': 'https://www.cnn.com/2023/0...</td>\n",
       "      <td>[Robert F. Kennedy Jr. 2024 presidential campa...</td>\n",
       "      <td>9</td>\n",
       "      <td>Metaculus</td>\n",
       "      <td>Will Robert F. Kennedy Jr. suspend his 2024 pr...</td>\n",
       "      <td>This question resolves as Yes if on or before ...</td>\n",
       "      <td>2024-08-24</td>\n",
       "      <td>1</td>\n",
       "      <td>NaN</td>\n",
       "      <td>NaN</td>\n",
       "      <td>NaN</td>\n",
       "    </tr>\n",
       "    <tr>\n",
       "      <th>4</th>\n",
       "      <td>32</td>\n",
       "      <td>54</td>\n",
       "      <td>The Warren Buffett indicator will be considere...</td>\n",
       "      <td>[Q3 AI Forecasting Benchmark Tournament]</td>\n",
       "      <td>In a 2001 article co-written with Fortune Maga...</td>\n",
       "      <td>johnnycaffeine</td>\n",
       "      <td>2024-09-18</td>\n",
       "      <td>2024-08-20</td>\n",
       "      <td>2024-08-21</td>\n",
       "      <td>[{'id': 41, 'url': 'https://economictimes.indi...</td>\n",
       "      <td>[Warren Buffett Indicator current status 2024,...</td>\n",
       "      <td>23</td>\n",
       "      <td>Metaculus</td>\n",
       "      <td>Will the Warren Buffett Indicator exceed 200% ...</td>\n",
       "      <td>This question resolves as Yes if before Septem...</td>\n",
       "      <td>2024-08-21</td>\n",
       "      <td>0</td>\n",
       "      <td>NaN</td>\n",
       "      <td>NaN</td>\n",
       "      <td>NaN</td>\n",
       "    </tr>\n",
       "    <tr>\n",
       "      <th>...</th>\n",
       "      <td>...</td>\n",
       "      <td>...</td>\n",
       "      <td>...</td>\n",
       "      <td>...</td>\n",
       "      <td>...</td>\n",
       "      <td>...</td>\n",
       "      <td>...</td>\n",
       "      <td>...</td>\n",
       "      <td>...</td>\n",
       "      <td>...</td>\n",
       "      <td>...</td>\n",
       "      <td>...</td>\n",
       "      <td>...</td>\n",
       "      <td>...</td>\n",
       "      <td>...</td>\n",
       "      <td>...</td>\n",
       "      <td>...</td>\n",
       "      <td>...</td>\n",
       "      <td>...</td>\n",
       "      <td>...</td>\n",
       "    </tr>\n",
       "    <tr>\n",
       "      <th>91</th>\n",
       "      <td>32</td>\n",
       "      <td>60</td>\n",
       "      <td>Resolves based on reporting from Tesla's Inves...</td>\n",
       "      <td>[Q3 AI Forecasting Benchmark Tournament]</td>\n",
       "      <td>Since the beginning of 2023, Tesla's productio...</td>\n",
       "      <td>johnnycaffeine</td>\n",
       "      <td>2024-10-03</td>\n",
       "      <td>2024-08-02</td>\n",
       "      <td>2024-08-03</td>\n",
       "      <td>[{'id': 47, 'url': 'https://www.perthnow.com.a...</td>\n",
       "      <td>[Tesla production forecast Q3 2024, Tesla prod...</td>\n",
       "      <td>132</td>\n",
       "      <td>Metaculus</td>\n",
       "      <td>Will Tesla increase its production in Q3 2024 ...</td>\n",
       "      <td>This question resolves as Yes if Tesla reports...</td>\n",
       "      <td>2024-08-03</td>\n",
       "      <td>1</td>\n",
       "      <td>NaN</td>\n",
       "      <td>NaN</td>\n",
       "      <td>NaN</td>\n",
       "    </tr>\n",
       "    <tr>\n",
       "      <th>92</th>\n",
       "      <td>14</td>\n",
       "      <td>1</td>\n",
       "      <td>The type of medal does not matter, nor does it...</td>\n",
       "      <td>[Sports &amp; Entertainment]</td>\n",
       "      <td>Tennis at the Olympics has five events: single...</td>\n",
       "      <td>BrunoParga</td>\n",
       "      <td>2024-08-05</td>\n",
       "      <td>2024-07-28</td>\n",
       "      <td>2024-08-04</td>\n",
       "      <td>[{'id': 57, 'url': 'https://www.brisbanetimes....</td>\n",
       "      <td>[2024 Paris Olympics tennis events schedule, t...</td>\n",
       "      <td>134</td>\n",
       "      <td>Metaculus</td>\n",
       "      <td>Will an athlete win more than one medal for te...</td>\n",
       "      <td>This question resolves as Yes if any athlete w...</td>\n",
       "      <td>2024-08-04</td>\n",
       "      <td>0</td>\n",
       "      <td>NaN</td>\n",
       "      <td>NaN</td>\n",
       "      <td>NaN</td>\n",
       "    </tr>\n",
       "    <tr>\n",
       "      <th>95</th>\n",
       "      <td>33</td>\n",
       "      <td>65</td>\n",
       "      <td>If Keir Starmer is not the Prime Minister of t...</td>\n",
       "      <td>[Q3 AI Forecasting Benchmark Tournament]</td>\n",
       "      <td>Keir Starmer recently became the Prime Ministe...</td>\n",
       "      <td>Tom_Metaculus</td>\n",
       "      <td>2024-09-28</td>\n",
       "      <td>2024-08-16</td>\n",
       "      <td>2024-08-17</td>\n",
       "      <td>[{'id': 15, 'url': 'https://www.independent.co...</td>\n",
       "      <td>[Keir Starmer approval rating September 2024, ...</td>\n",
       "      <td>139</td>\n",
       "      <td>Metaculus</td>\n",
       "      <td>Will Keir Starmer's approval rating as Prime M...</td>\n",
       "      <td>The question will resolve Yes if the numerical...</td>\n",
       "      <td>2024-08-17</td>\n",
       "      <td>1</td>\n",
       "      <td>NaN</td>\n",
       "      <td>NaN</td>\n",
       "      <td>NaN</td>\n",
       "    </tr>\n",
       "    <tr>\n",
       "      <th>96</th>\n",
       "      <td>32</td>\n",
       "      <td>83</td>\n",
       "      <td>If Keir Starmer is not the Prime Minister of t...</td>\n",
       "      <td>[Q3 AI Forecasting Benchmark Tournament]</td>\n",
       "      <td>Keir Starmer recently became the Prime Ministe...</td>\n",
       "      <td>Tom_Metaculus</td>\n",
       "      <td>2024-09-28</td>\n",
       "      <td>2024-08-16</td>\n",
       "      <td>2024-08-17</td>\n",
       "      <td>[{'id': 17, 'url': 'https://www.irishtimes.com...</td>\n",
       "      <td>[Keir Starmer approval rating September 2024 n...</td>\n",
       "      <td>141</td>\n",
       "      <td>Metaculus</td>\n",
       "      <td>Will Keir Starmer's approval rating as Prime M...</td>\n",
       "      <td>The question will resolve Yes if the numerical...</td>\n",
       "      <td>2024-08-17</td>\n",
       "      <td>1</td>\n",
       "      <td>NaN</td>\n",
       "      <td>NaN</td>\n",
       "      <td>NaN</td>\n",
       "    </tr>\n",
       "    <tr>\n",
       "      <th>97</th>\n",
       "      <td>33</td>\n",
       "      <td>30</td>\n",
       "      <td>The relevant Fed policy rate is the federal fu...</td>\n",
       "      <td>[Q3 AI Forecasting Benchmark Tournament]</td>\n",
       "      <td>In early August 2024, bond markets have been r...</td>\n",
       "      <td>Tom_Metaculus</td>\n",
       "      <td>2024-09-19</td>\n",
       "      <td>2024-08-22</td>\n",
       "      <td>2024-08-23</td>\n",
       "      <td>[{'id': 36, 'url': 'https://news.yahoo.com/fed...</td>\n",
       "      <td>[Fed interest rate decision September 2024, Fe...</td>\n",
       "      <td>145</td>\n",
       "      <td>Metaculus</td>\n",
       "      <td>Will the Fed hold rates steady at their Septem...</td>\n",
       "      <td>The question will resolve Yes if the Federal R...</td>\n",
       "      <td>2024-08-23</td>\n",
       "      <td>0</td>\n",
       "      <td>NaN</td>\n",
       "      <td>NaN</td>\n",
       "      <td>NaN</td>\n",
       "    </tr>\n",
       "  </tbody>\n",
       "</table>\n",
       "<p>71 rows × 20 columns</p>\n",
       "</div>"
      ],
      "text/plain": [
       "   total_predictors  community_prediction  \\\n",
       "0                28                    14   \n",
       "1                28                    15   \n",
       "2                27                    38   \n",
       "3               110                    99   \n",
       "4                32                    54   \n",
       "..              ...                   ...   \n",
       "91               32                    60   \n",
       "92               14                     1   \n",
       "95               33                    65   \n",
       "96               32                    83   \n",
       "97               33                    30   \n",
       "\n",
       "                                         rule_details  \\\n",
       "0   The question resolves as the overall risk. The...   \n",
       "1   The question resolves as the overall risk. The...   \n",
       "2                                                None   \n",
       "3   An announced suspension of campaigning that is...   \n",
       "4   The Warren Buffett indicator will be considere...   \n",
       "..                                                ...   \n",
       "91  Resolves based on reporting from Tesla's Inves...   \n",
       "92  The type of medal does not matter, nor does it...   \n",
       "95  If Keir Starmer is not the Prime Minister of t...   \n",
       "96  If Keir Starmer is not the Prime Minister of t...   \n",
       "97  The relevant Fed policy rate is the federal fu...   \n",
       "\n",
       "                                           categories  \\\n",
       "0            [Q3 AI Forecasting Benchmark Tournament]   \n",
       "1            [Q3 AI Forecasting Benchmark Tournament]   \n",
       "2            [Q3 AI Forecasting Benchmark Tournament]   \n",
       "3   [Elections, Politics, Robert F. Kennedy Jr., U...   \n",
       "4            [Q3 AI Forecasting Benchmark Tournament]   \n",
       "..                                                ...   \n",
       "91           [Q3 AI Forecasting Benchmark Tournament]   \n",
       "92                           [Sports & Entertainment]   \n",
       "95           [Q3 AI Forecasting Benchmark Tournament]   \n",
       "96           [Q3 AI Forecasting Benchmark Tournament]   \n",
       "97           [Q3 AI Forecasting Benchmark Tournament]   \n",
       "\n",
       "                                           background          author  \\\n",
       "0   In evolving situations, experts at the U.S. Ce...   Tom_Metaculus   \n",
       "1   In evolving situations, experts at the U.S. Ce...   Tom_Metaculus   \n",
       "2   Where have OpenAI’s founders gone?Just two of ...   Tom_Metaculus   \n",
       "3   The 2024 United States presidential election i...           Jgalt   \n",
       "4   In a 2001 article co-written with Fortune Maga...  johnnycaffeine   \n",
       "..                                                ...             ...   \n",
       "91  Since the beginning of 2023, Tesla's productio...  johnnycaffeine   \n",
       "92  Tennis at the Olympics has five events: single...      BrunoParga   \n",
       "95  Keir Starmer recently became the Prime Ministe...   Tom_Metaculus   \n",
       "96  Keir Starmer recently became the Prime Ministe...   Tom_Metaculus   \n",
       "97  In early August 2024, bond markets have been r...   Tom_Metaculus   \n",
       "\n",
       "   Estimated_resolved_time  date_begin  date_close  \\\n",
       "0               2024-09-13  2024-08-23  2024-08-24   \n",
       "1               2024-10-03  2024-08-23  2024-08-24   \n",
       "2               2024-10-03  2024-08-23  2024-08-24   \n",
       "3               2024-10-21  2024-04-12  2024-08-24   \n",
       "4               2024-09-18  2024-08-20  2024-08-21   \n",
       "..                     ...         ...         ...   \n",
       "91              2024-10-03  2024-08-02  2024-08-03   \n",
       "92              2024-08-05  2024-07-28  2024-08-04   \n",
       "95              2024-09-28  2024-08-16  2024-08-17   \n",
       "96              2024-09-28  2024-08-16  2024-08-17   \n",
       "97              2024-09-19  2024-08-22  2024-08-23   \n",
       "\n",
       "                                             articles  \\\n",
       "0   [{'id': 83, 'url': 'https://www.thelancet.com/...   \n",
       "1   [{'id': 69, 'url': 'https://tools.cdc.gov/podc...   \n",
       "2   [{'id': 43, 'url': 'https://menafn.com/arabic/...   \n",
       "3   [{'id': 99, 'url': 'https://www.cnn.com/2023/0...   \n",
       "4   [{'id': 41, 'url': 'https://economictimes.indi...   \n",
       "..                                                ...   \n",
       "91  [{'id': 47, 'url': 'https://www.perthnow.com.a...   \n",
       "92  [{'id': 57, 'url': 'https://www.brisbanetimes....   \n",
       "95  [{'id': 15, 'url': 'https://www.independent.co...   \n",
       "96  [{'id': 17, 'url': 'https://www.irishtimes.com...   \n",
       "97  [{'id': 36, 'url': 'https://news.yahoo.com/fed...   \n",
       "\n",
       "                                       search_queries   id     source  \\\n",
       "0   [CDC mpox risk assessment update August 2024, ...    0  Metaculus   \n",
       "1   [CDC mpox risk assessment updates August 2024,...    1  Metaculus   \n",
       "2   [Greg Brockman OpenAI return news August 2024,...    4  Metaculus   \n",
       "3   [Robert F. Kennedy Jr. 2024 presidential campa...    9  Metaculus   \n",
       "4   [Warren Buffett Indicator current status 2024,...   23  Metaculus   \n",
       "..                                                ...  ...        ...   \n",
       "91  [Tesla production forecast Q3 2024, Tesla prod...  132  Metaculus   \n",
       "92  [2024 Paris Olympics tennis events schedule, t...  134  Metaculus   \n",
       "95  [Keir Starmer approval rating September 2024, ...  139  Metaculus   \n",
       "96  [Keir Starmer approval rating September 2024 n...  141  Metaculus   \n",
       "97  [Fed interest rate decision September 2024, Fe...  145  Metaculus   \n",
       "\n",
       "                                             question  \\\n",
       "0   Will the CDC's assessment of the risk posed by...   \n",
       "1   Will the CDC's assessment of the risk posed by...   \n",
       "2   Will Greg Brockman return to OpenAI following ...   \n",
       "3   Will Robert F. Kennedy Jr. suspend his 2024 pr...   \n",
       "4   Will the Warren Buffett Indicator exceed 200% ...   \n",
       "..                                                ...   \n",
       "91  Will Tesla increase its production in Q3 2024 ...   \n",
       "92  Will an athlete win more than one medal for te...   \n",
       "95  Will Keir Starmer's approval rating as Prime M...   \n",
       "96  Will Keir Starmer's approval rating as Prime M...   \n",
       "97  Will the Fed hold rates steady at their Septem...   \n",
       "\n",
       "                                  resolution_criteria       date  answer  \\\n",
       "0   The question resolves Yes if the risk to the g... 2024-08-24       1   \n",
       "1   The question resolves Yes if the risk to the g... 2024-08-24       0   \n",
       "2   This question resolves as Yes if Greg Brockman... 2024-08-24       0   \n",
       "3   This question resolves as Yes if on or before ... 2024-08-24       1   \n",
       "4   This question resolves as Yes if before Septem... 2024-08-21       0   \n",
       "..                                                ...        ...     ...   \n",
       "91  This question resolves as Yes if Tesla reports... 2024-08-03       1   \n",
       "92  This question resolves as Yes if any athlete w... 2024-08-04       0   \n",
       "95  The question will resolve Yes if the numerical... 2024-08-17       1   \n",
       "96  The question will resolve Yes if the numerical... 2024-08-17       1   \n",
       "97  The question will resolve Yes if the Federal R... 2024-08-23       0   \n",
       "\n",
       "   topic  human_answer  url  \n",
       "0    NaN           NaN  NaN  \n",
       "1    NaN           NaN  NaN  \n",
       "2    NaN           NaN  NaN  \n",
       "3    NaN           NaN  NaN  \n",
       "4    NaN           NaN  NaN  \n",
       "..   ...           ...  ...  \n",
       "91   NaN           NaN  NaN  \n",
       "92   NaN           NaN  NaN  \n",
       "95   NaN           NaN  NaN  \n",
       "96   NaN           NaN  NaN  \n",
       "97   NaN           NaN  NaN  \n",
       "\n",
       "[71 rows x 20 columns]"
      ]
     },
     "execution_count": 10,
     "metadata": {},
     "output_type": "execute_result"
    }
   ],
   "source": [
    "# Select the columns whwre community prediction is not none and not empty string\n",
    "df_test = df_1[df_1['community_prediction'].notna()]\n",
    "# Select the columns where community prediction is not empty string\n",
    "df_test = df_test[df_test['community_prediction'] != '']\n",
    "\n",
    "#Make community prediction from str \"...%\" to int\n",
    "df_test['community_prediction'] = df_test['community_prediction'].str.replace('%', '')\n",
    "df_test['community_prediction'] = df_test['community_prediction'].astype(int)\n",
    "\n",
    "\n",
    "df_test"
   ]
  },
  {
   "cell_type": "code",
   "execution_count": 11,
   "id": "aed9c2e6",
   "metadata": {},
   "outputs": [],
   "source": [
    "def compute_metrics(df, rag):\n",
    "    true_values = df['community_prediction'].tolist()\n",
    "    predictions = []\n",
    "\n",
    "    for index, row in tqdm(df.iterrows(), total=len(df)):\n",
    "        # Get the community prediction and the actual value\n",
    "        question = row['question']\n",
    "        while True:\n",
    "            try:\n",
    "                # Get the prediction from the RAG model\n",
    "                prediction = rag.generate_anwser(question)[\"probability\"]\n",
    "                break\n",
    "            except Exception as e:\n",
    "                print(f\"Error: {e}. Retrying...\")\n",
    "\n",
    "        predictions.append(prediction)\n",
    "\n",
    "    return root_mean_squared_error(true_values, predictions), true_values, predictions\n",
    "        "
   ]
  },
  {
   "cell_type": "code",
   "execution_count": 12,
   "id": "17a40bb4",
   "metadata": {},
   "outputs": [
    {
     "name": "stderr",
     "output_type": "stream",
     "text": [
      "2025-04-17 21:51:51,245 - INFO - Logger setup complete\n",
      "2025-04-17 21:51:51,246 - INFO - NoRagLLM initialized with model: meta-llama/llama-3.2-1b-instruct:free\n"
     ]
    }
   ],
   "source": [
    "rag = NoRagLLM(model_name=\"meta-llama/llama-3.2-1b-instruct:free\")"
   ]
  },
  {
   "cell_type": "code",
   "execution_count": 14,
   "id": "e911884d",
   "metadata": {},
   "outputs": [
    {
     "name": "stderr",
     "output_type": "stream",
     "text": [
      "  0%|          | 0/71 [00:00<?, ?it/s]2025-04-17 21:53:54,464 - INFO - Generating answer for query: Will the CDC's assessment of the risk posed by mpox to the US general public exceed \"Very Low\" before October 1, 2024?\n",
      "2025-04-17 21:53:54,465 - INFO - Messages for LLM: [{'role': 'system', 'content': 'You are an expert forecaster. Given a binary event, estimate the probability (0-100%) that it will happen, and provide a brief justification for your estimate. Respond strictly in the following JSON format:\\n{\\n  \"probability\": <number>,\\n  \"justification\": \"<short explanation>\"\\n}\\nDo not include any other text.'}, {'role': 'user', 'content': 'Event: Will the CDC\\'s assessment of the risk posed by mpox to the US general public exceed \"Very Low\" before October 1, 2024?\\nWhat is the probability this event will occur? Please follow the required JSON format.'}]\n",
      "2025-04-17 21:53:55,729 - INFO - Response received: {'id': 'gen-1744916034-1nE5TeiVhauSZnf7wqAs', 'provider': 'Crusoe', 'model': 'meta-llama/llama-3.2-1b-instruct', 'object': 'chat.completion', 'created': 1744916034, 'choices': [{'logprobs': None, 'finish_reason': 'stop', 'native_finish_reason': 'stop', 'index': 0, 'message': {'role': 'assistant', 'content': '{\\n  \"probability\": 70,\\n  \"justification\": \"The CDC inspected and tested products from abroad but considered the risk to US population \\'low\\'\"', 'refusal': None, 'reasoning': None}}], 'usage': {'prompt_tokens': 151, 'completion_tokens': 33, 'total_tokens': 184, 'prompt_tokens_details': {'cached_tokens': 144}}}\n",
      "2025-04-17 21:53:55,730 - INFO - Raw content: {\n",
      "  \"probability\": 70,\n",
      "  \"justification\": \"The CDC inspected and tested products from abroad but considered the risk to US population 'low'\"\n",
      "2025-04-17 21:53:55,731 - ERROR - No JSON found in response\n",
      "2025-04-17 21:53:55,731 - INFO - Generating answer for query: Will the CDC's assessment of the risk posed by mpox to the US general public exceed \"Very Low\" before October 1, 2024?\n",
      "2025-04-17 21:53:55,732 - INFO - Messages for LLM: [{'role': 'system', 'content': 'You are an expert forecaster. Given a binary event, estimate the probability (0-100%) that it will happen, and provide a brief justification for your estimate. Respond strictly in the following JSON format:\\n{\\n  \"probability\": <number>,\\n  \"justification\": \"<short explanation>\"\\n}\\nDo not include any other text.'}, {'role': 'user', 'content': 'Event: Will the CDC\\'s assessment of the risk posed by mpox to the US general public exceed \"Very Low\" before October 1, 2024?\\nWhat is the probability this event will occur? Please follow the required JSON format.'}]\n"
     ]
    },
    {
     "name": "stdout",
     "output_type": "stream",
     "text": [
      "Error: tuple indices must be integers or slices, not str. Retrying...\n"
     ]
    },
    {
     "name": "stderr",
     "output_type": "stream",
     "text": [
      "2025-04-17 21:53:57,019 - INFO - Response received: {'id': 'gen-1744916035-Z9WePy04adUc4YcDCN3b', 'provider': 'Crusoe', 'model': 'meta-llama/llama-3.2-1b-instruct', 'object': 'chat.completion', 'created': 1744916035, 'choices': [{'logprobs': None, 'finish_reason': 'stop', 'native_finish_reason': 'stop', 'index': 0, 'message': {'role': 'assistant', 'content': '{\\n  \"probability\": \"70\",\\n  \"justification\": \"The CDC has already recently announced plans to proceed with assessing the risk of mpox in 2024, indicating an increasing level of activity toward the assessment process. This further escalates the likelihood that the risk assessment will exceed \\'Very Low\\' by the end of 2024.\"\\n}', 'refusal': None, 'reasoning': None}}], 'usage': {'prompt_tokens': 151, 'completion_tokens': 72, 'total_tokens': 223, 'prompt_tokens_details': {'cached_tokens': 144}}}\n",
      "2025-04-17 21:53:57,019 - INFO - Raw content: {\n",
      "  \"probability\": \"70\",\n",
      "  \"justification\": \"The CDC has already recently announced plans to proceed with assessing the risk of mpox in 2024, indicating an increasing level of activity toward the assessment process. This further escalates the likelihood that the risk assessment will exceed 'Very Low' by the end of 2024.\"\n",
      "}\n",
      "2025-04-17 21:53:57,021 - INFO - Parsed response: {'probability': '70', 'justification': \"The CDC has already recently announced plans to proceed with assessing the risk of mpox in 2024, indicating an increasing level of activity toward the assessment process. This further escalates the likelihood that the risk assessment will exceed 'Very Low' by the end of 2024.\"}\n",
      "  1%|▏         | 1/71 [00:02<02:59,  2.56s/it]2025-04-17 21:53:57,023 - INFO - Generating answer for query: Will the CDC's assessment of the risk posed by mpox to the US general public exceed \"Low\" before October 1, 2024?\n",
      "2025-04-17 21:53:57,024 - INFO - Messages for LLM: [{'role': 'system', 'content': 'You are an expert forecaster. Given a binary event, estimate the probability (0-100%) that it will happen, and provide a brief justification for your estimate. Respond strictly in the following JSON format:\\n{\\n  \"probability\": <number>,\\n  \"justification\": \"<short explanation>\"\\n}\\nDo not include any other text.'}, {'role': 'user', 'content': 'Event: Will the CDC\\'s assessment of the risk posed by mpox to the US general public exceed \"Low\" before October 1, 2024?\\nWhat is the probability this event will occur? Please follow the required JSON format.'}]\n",
      "2025-04-17 21:53:58,110 - INFO - Response received: {'id': 'gen-1744916036-wtSk6U45hl8gLC6fcoef', 'provider': 'Crusoe', 'model': 'meta-llama/llama-3.2-1b-instruct', 'object': 'chat.completion', 'created': 1744916036, 'choices': [{'logprobs': None, 'finish_reason': 'stop', 'native_finish_reason': 'stop', 'index': 0, 'message': {'role': 'assistant', 'content': '{\\n  \"probability\": 20,\\n  \"justification\": \"There is a significant increase in cases expected in late summer and early fall, potentially leading to a perceived increase in risk.\"', 'refusal': None, 'reasoning': None}}], 'usage': {'prompt_tokens': 150, 'completion_tokens': 39, 'total_tokens': 189, 'prompt_tokens_details': {'cached_tokens': 112}}}\n",
      "2025-04-17 21:53:58,111 - INFO - Raw content: {\n",
      "  \"probability\": 20,\n",
      "  \"justification\": \"There is a significant increase in cases expected in late summer and early fall, potentially leading to a perceived increase in risk.\"\n",
      "2025-04-17 21:53:58,112 - ERROR - No JSON found in response\n",
      "2025-04-17 21:53:58,112 - INFO - Generating answer for query: Will the CDC's assessment of the risk posed by mpox to the US general public exceed \"Low\" before October 1, 2024?\n",
      "2025-04-17 21:53:58,113 - INFO - Messages for LLM: [{'role': 'system', 'content': 'You are an expert forecaster. Given a binary event, estimate the probability (0-100%) that it will happen, and provide a brief justification for your estimate. Respond strictly in the following JSON format:\\n{\\n  \"probability\": <number>,\\n  \"justification\": \"<short explanation>\"\\n}\\nDo not include any other text.'}, {'role': 'user', 'content': 'Event: Will the CDC\\'s assessment of the risk posed by mpox to the US general public exceed \"Low\" before October 1, 2024?\\nWhat is the probability this event will occur? Please follow the required JSON format.'}]\n"
     ]
    },
    {
     "name": "stdout",
     "output_type": "stream",
     "text": [
      "Error: tuple indices must be integers or slices, not str. Retrying...\n"
     ]
    },
    {
     "name": "stderr",
     "output_type": "stream",
     "text": [
      "2025-04-17 21:53:59,350 - INFO - Response received: {'id': 'gen-1744916037-DDBFK0brQJPfY87qcGyJ', 'provider': 'Crusoe', 'model': 'meta-llama/llama-3.2-1b-instruct', 'object': 'chat.completion', 'created': 1744916037, 'choices': [{'logprobs': None, 'finish_reason': 'stop', 'native_finish_reason': 'stop', 'index': 0, 'message': {'role': 'assistant', 'content': '{\\n  \"probability\": 80,\\n  \"justification\": \"Based on the CDC\\'s ongoing monitoring and evaluation of the mpox outbreak, including international surveillance results and the development of guidance for its prevention and control, it is reasonable to estimate a \\'Low\\' level of risk to the US general public by October 1, 2024.\"\\n}', 'refusal': None, 'reasoning': None}}], 'usage': {'prompt_tokens': 150, 'completion_tokens': 72, 'total_tokens': 222, 'prompt_tokens_details': {'cached_tokens': 144}}}\n",
      "2025-04-17 21:53:59,351 - INFO - Raw content: {\n",
      "  \"probability\": 80,\n",
      "  \"justification\": \"Based on the CDC's ongoing monitoring and evaluation of the mpox outbreak, including international surveillance results and the development of guidance for its prevention and control, it is reasonable to estimate a 'Low' level of risk to the US general public by October 1, 2024.\"\n",
      "}\n",
      "2025-04-17 21:53:59,352 - INFO - Parsed response: {'probability': 80, 'justification': \"Based on the CDC's ongoing monitoring and evaluation of the mpox outbreak, including international surveillance results and the development of guidance for its prevention and control, it is reasonable to estimate a 'Low' level of risk to the US general public by October 1, 2024.\"}\n",
      "  3%|▎         | 2/71 [00:04<02:47,  2.42s/it]2025-04-17 21:53:59,353 - INFO - Generating answer for query: Will Greg Brockman return to OpenAI following his leave of absence before October 1, 2024?\n",
      "2025-04-17 21:53:59,354 - INFO - Messages for LLM: [{'role': 'system', 'content': 'You are an expert forecaster. Given a binary event, estimate the probability (0-100%) that it will happen, and provide a brief justification for your estimate. Respond strictly in the following JSON format:\\n{\\n  \"probability\": <number>,\\n  \"justification\": \"<short explanation>\"\\n}\\nDo not include any other text.'}, {'role': 'user', 'content': 'Event: Will Greg Brockman return to OpenAI following his leave of absence before October 1, 2024?\\nWhat is the probability this event will occur? Please follow the required JSON format.'}]\n",
      "2025-04-17 21:54:00,510 - INFO - Response received: {'id': 'gen-1744916038-YGYgwWpYoHT6uDbdYGVz', 'provider': 'Crusoe', 'model': 'meta-llama/llama-3.2-1b-instruct', 'object': 'chat.completion', 'created': 1744916038, 'choices': [{'logprobs': None, 'finish_reason': 'stop', 'native_finish_reason': 'stop', 'index': 0, 'message': {'role': 'assistant', 'content': '{\\n  \"probability\": 0,\\n  \"justification\": \"Unclear. Lack of recent update or confirmation from OpenAI is a significant factor.\"\\n}', 'refusal': None, 'reasoning': None}}], 'usage': {'prompt_tokens': 142, 'completion_tokens': 33, 'total_tokens': 175, 'prompt_tokens_details': {'cached_tokens': 128}}}\n",
      "2025-04-17 21:54:00,511 - INFO - Raw content: {\n",
      "  \"probability\": 0,\n",
      "  \"justification\": \"Unclear. Lack of recent update or confirmation from OpenAI is a significant factor.\"\n",
      "}\n",
      "2025-04-17 21:54:00,512 - INFO - Parsed response: {'probability': 0, 'justification': 'Unclear. Lack of recent update or confirmation from OpenAI is a significant factor.'}\n",
      "  4%|▍         | 3/71 [00:06<02:05,  1.85s/it]2025-04-17 21:54:00,513 - INFO - Generating answer for query: Will Robert F. Kennedy Jr. suspend his 2024 presidential campaign by October 22, 2024?\n",
      "2025-04-17 21:54:00,514 - INFO - Messages for LLM: [{'role': 'system', 'content': 'You are an expert forecaster. Given a binary event, estimate the probability (0-100%) that it will happen, and provide a brief justification for your estimate. Respond strictly in the following JSON format:\\n{\\n  \"probability\": <number>,\\n  \"justification\": \"<short explanation>\"\\n}\\nDo not include any other text.'}, {'role': 'user', 'content': 'Event: Will Robert F. Kennedy Jr. suspend his 2024 presidential campaign by October 22, 2024?\\nWhat is the probability this event will occur? Please follow the required JSON format.'}]\n",
      "2025-04-17 21:54:03,401 - INFO - Response received: {'id': 'gen-1744916040-RhW0YqWsNc9DI0lBKYeE', 'provider': 'Crusoe', 'model': 'meta-llama/llama-3.2-1b-instruct', 'object': 'chat.completion', 'created': 1744916040, 'choices': [{'logprobs': None, 'finish_reason': 'stop', 'native_finish_reason': 'stop', 'index': 0, 'message': {'role': 'assistant', 'content': '{\\n  \"probability\": 30,\\n  \"justification\": \"Based on Robert F. Kennedy Jr.\\'s track record of consistency and public planning, it is reasonable to estimate a 30% probability that he will suspend his 2024 presidential campaign by October 22, 2024.\"', 'refusal': None, 'reasoning': None}}], 'usage': {'prompt_tokens': 143, 'completion_tokens': 61, 'total_tokens': 204, 'prompt_tokens_details': {'cached_tokens': 96}}}\n",
      "2025-04-17 21:54:03,402 - INFO - Raw content: {\n",
      "  \"probability\": 30,\n",
      "  \"justification\": \"Based on Robert F. Kennedy Jr.'s track record of consistency and public planning, it is reasonable to estimate a 30% probability that he will suspend his 2024 presidential campaign by October 22, 2024.\"\n",
      "2025-04-17 21:54:03,403 - ERROR - No JSON found in response\n",
      "2025-04-17 21:54:03,404 - INFO - Generating answer for query: Will Robert F. Kennedy Jr. suspend his 2024 presidential campaign by October 22, 2024?\n",
      "2025-04-17 21:54:03,405 - INFO - Messages for LLM: [{'role': 'system', 'content': 'You are an expert forecaster. Given a binary event, estimate the probability (0-100%) that it will happen, and provide a brief justification for your estimate. Respond strictly in the following JSON format:\\n{\\n  \"probability\": <number>,\\n  \"justification\": \"<short explanation>\"\\n}\\nDo not include any other text.'}, {'role': 'user', 'content': 'Event: Will Robert F. Kennedy Jr. suspend his 2024 presidential campaign by October 22, 2024?\\nWhat is the probability this event will occur? Please follow the required JSON format.'}]\n"
     ]
    },
    {
     "name": "stdout",
     "output_type": "stream",
     "text": [
      "Error: tuple indices must be integers or slices, not str. Retrying...\n"
     ]
    },
    {
     "name": "stderr",
     "output_type": "stream",
     "text": [
      "2025-04-17 21:54:04,861 - INFO - Response received: {'id': 'gen-1744916043-GN3xFZp5Ia1mDiQsFed6', 'provider': 'Crusoe', 'model': 'meta-llama/llama-3.2-1b-instruct', 'object': 'chat.completion', 'created': 1744916043, 'choices': [{'logprobs': None, 'finish_reason': 'stop', 'native_finish_reason': 'stop', 'index': 0, 'message': {'role': 'assistant', 'content': '{\\n  \"probability\": 25,\\n  \"justification\": \"It is extremely unlikely, but not impossible, that Kennedy Jr. will cancel his campaign at the last minute due to unforeseen circumstances or health issues. This outcome would heavily depend on his internal planning, health, and external pressure. Given his past experience in health crises, Kennedy Jr. might be more likely to announce his candidacy after October 5-10, 2024 to gather momentum.\"\\n}', 'refusal': None, 'reasoning': None}}], 'usage': {'prompt_tokens': 143, 'completion_tokens': 95, 'total_tokens': 238, 'prompt_tokens_details': {'cached_tokens': 96}}}\n",
      "2025-04-17 21:54:04,862 - INFO - Raw content: {\n",
      "  \"probability\": 25,\n",
      "  \"justification\": \"It is extremely unlikely, but not impossible, that Kennedy Jr. will cancel his campaign at the last minute due to unforeseen circumstances or health issues. This outcome would heavily depend on his internal planning, health, and external pressure. Given his past experience in health crises, Kennedy Jr. might be more likely to announce his candidacy after October 5-10, 2024 to gather momentum.\"\n",
      "}\n",
      "2025-04-17 21:54:04,863 - INFO - Parsed response: {'probability': 25, 'justification': 'It is extremely unlikely, but not impossible, that Kennedy Jr. will cancel his campaign at the last minute due to unforeseen circumstances or health issues. This outcome would heavily depend on his internal planning, health, and external pressure. Given his past experience in health crises, Kennedy Jr. might be more likely to announce his candidacy after October 5-10, 2024 to gather momentum.'}\n",
      "  6%|▌         | 4/71 [00:10<03:09,  2.84s/it]2025-04-17 21:54:04,864 - INFO - Generating answer for query: Will the Warren Buffett Indicator exceed 200% before September 17, 2024?\n",
      "2025-04-17 21:54:04,865 - INFO - Messages for LLM: [{'role': 'system', 'content': 'You are an expert forecaster. Given a binary event, estimate the probability (0-100%) that it will happen, and provide a brief justification for your estimate. Respond strictly in the following JSON format:\\n{\\n  \"probability\": <number>,\\n  \"justification\": \"<short explanation>\"\\n}\\nDo not include any other text.'}, {'role': 'user', 'content': 'Event: Will the Warren Buffett Indicator exceed 200% before September 17, 2024?\\nWhat is the probability this event will occur? Please follow the required JSON format.'}]\n",
      "2025-04-17 21:54:06,092 - INFO - Response received: {'id': 'gen-1744916044-WEg6oaJE0bAOgOd3jLa0', 'provider': 'Crusoe', 'model': 'meta-llama/llama-3.2-1b-instruct', 'object': 'chat.completion', 'created': 1744916044, 'choices': [{'logprobs': None, 'finish_reason': 'stop', 'native_finish_reason': 'stop', 'index': 0, 'message': {'role': 'assistant', 'content': '{\\n  \"probability\": 5,\\n  \"justification\": \"Based on historical trends and the indicator\\'s sensitivity to market conditions, the probability of a exceeds 200% event is less than 5% before September 17, 2024. Therefore, I estimate the probability as 5%.\"\\n}', 'refusal': None, 'reasoning': None}}], 'usage': {'prompt_tokens': 138, 'completion_tokens': 64, 'total_tokens': 202, 'prompt_tokens_details': {'cached_tokens': 96}}}\n",
      "2025-04-17 21:54:06,093 - INFO - Raw content: {\n",
      "  \"probability\": 5,\n",
      "  \"justification\": \"Based on historical trends and the indicator's sensitivity to market conditions, the probability of a exceeds 200% event is less than 5% before September 17, 2024. Therefore, I estimate the probability as 5%.\"\n",
      "}\n",
      "2025-04-17 21:54:06,094 - INFO - Parsed response: {'probability': 5, 'justification': \"Based on historical trends and the indicator's sensitivity to market conditions, the probability of a exceeds 200% event is less than 5% before September 17, 2024. Therefore, I estimate the probability as 5%.\"}\n",
      "  7%|▋         | 5/71 [00:11<02:28,  2.26s/it]2025-04-17 21:54:06,096 - INFO - Generating answer for query: Will Democrats have a brokered convention in 2024?\n",
      "2025-04-17 21:54:06,097 - INFO - Messages for LLM: [{'role': 'system', 'content': 'You are an expert forecaster. Given a binary event, estimate the probability (0-100%) that it will happen, and provide a brief justification for your estimate. Respond strictly in the following JSON format:\\n{\\n  \"probability\": <number>,\\n  \"justification\": \"<short explanation>\"\\n}\\nDo not include any other text.'}, {'role': 'user', 'content': 'Event: Will Democrats have a brokered convention in 2024?\\nWhat is the probability this event will occur? Please follow the required JSON format.'}]\n",
      "2025-04-17 21:54:07,435 - INFO - Response received: {'id': 'gen-1744916045-SNC6aJONMlYBmxFfo6Xr', 'provider': 'Crusoe', 'model': 'meta-llama/llama-3.2-1b-instruct', 'object': 'chat.completion', 'created': 1744916045, 'choices': [{'logprobs': None, 'finish_reason': 'stop', 'native_finish_reason': 'stop', 'index': 0, 'message': {'role': 'assistant', 'content': '{\\n  \"probability\": 20,\\n  \"justification\": \"A brokered convention is less likely due to the Democratic National Committee\\'s increased security and vetting process, making it harder for unvetted candidates to participate, as well as concerns over politicized rules and outcomes.\"', 'refusal': None, 'reasoning': None}}], 'usage': {'prompt_tokens': 132, 'completion_tokens': 58, 'total_tokens': 190, 'prompt_tokens_details': {'cached_tokens': 96}}}\n",
      "2025-04-17 21:54:07,436 - INFO - Raw content: {\n",
      "  \"probability\": 20,\n",
      "  \"justification\": \"A brokered convention is less likely due to the Democratic National Committee's increased security and vetting process, making it harder for unvetted candidates to participate, as well as concerns over politicized rules and outcomes.\"\n",
      "2025-04-17 21:54:07,436 - ERROR - No JSON found in response\n",
      "2025-04-17 21:54:07,438 - INFO - Generating answer for query: Will Democrats have a brokered convention in 2024?\n",
      "2025-04-17 21:54:07,438 - INFO - Messages for LLM: [{'role': 'system', 'content': 'You are an expert forecaster. Given a binary event, estimate the probability (0-100%) that it will happen, and provide a brief justification for your estimate. Respond strictly in the following JSON format:\\n{\\n  \"probability\": <number>,\\n  \"justification\": \"<short explanation>\"\\n}\\nDo not include any other text.'}, {'role': 'user', 'content': 'Event: Will Democrats have a brokered convention in 2024?\\nWhat is the probability this event will occur? Please follow the required JSON format.'}]\n"
     ]
    },
    {
     "name": "stdout",
     "output_type": "stream",
     "text": [
      "Error: tuple indices must be integers or slices, not str. Retrying...\n"
     ]
    },
    {
     "name": "stderr",
     "output_type": "stream",
     "text": [
      "2025-04-17 21:54:08,714 - INFO - Response received: {'id': 'gen-1744916046-IUDoKbSnkul1G34ScMrL', 'provider': 'Crusoe', 'model': 'meta-llama/llama-3.2-1b-instruct', 'object': 'chat.completion', 'created': 1744916046, 'choices': [{'logprobs': None, 'finish_reason': 'stop', 'native_finish_reason': 'stop', 'index': 0, 'message': {'role': 'assistant', 'content': '{\\n  \"probability\": 15,\\n  \"justification\": \"This outcome seems skepticism in the left leaning party democratic party technology shows favoritism towards liberal candidates or prospective leadership promising the most extremist voters. But if the convention endorses Bernie might be the more compelling probabilistic outcome considering similar situations only Democrats haven\\'t brokered yet.\"', 'refusal': None, 'reasoning': None}}], 'usage': {'prompt_tokens': 132, 'completion_tokens': 69, 'total_tokens': 201, 'prompt_tokens_details': {'cached_tokens': 128}}}\n",
      "2025-04-17 21:54:08,715 - INFO - Raw content: {\n",
      "  \"probability\": 15,\n",
      "  \"justification\": \"This outcome seems skepticism in the left leaning party democratic party technology shows favoritism towards liberal candidates or prospective leadership promising the most extremist voters. But if the convention endorses Bernie might be the more compelling probabilistic outcome considering similar situations only Democrats haven't brokered yet.\"\n",
      "2025-04-17 21:54:08,715 - ERROR - No JSON found in response\n",
      "2025-04-17 21:54:08,716 - INFO - Generating answer for query: Will Democrats have a brokered convention in 2024?\n",
      "2025-04-17 21:54:08,717 - INFO - Messages for LLM: [{'role': 'system', 'content': 'You are an expert forecaster. Given a binary event, estimate the probability (0-100%) that it will happen, and provide a brief justification for your estimate. Respond strictly in the following JSON format:\\n{\\n  \"probability\": <number>,\\n  \"justification\": \"<short explanation>\"\\n}\\nDo not include any other text.'}, {'role': 'user', 'content': 'Event: Will Democrats have a brokered convention in 2024?\\nWhat is the probability this event will occur? Please follow the required JSON format.'}]\n"
     ]
    },
    {
     "name": "stdout",
     "output_type": "stream",
     "text": [
      "Error: tuple indices must be integers or slices, not str. Retrying...\n"
     ]
    },
    {
     "name": "stderr",
     "output_type": "stream",
     "text": [
      "2025-04-17 21:54:09,842 - INFO - Response received: {'id': 'gen-1744916048-AjNcKvD28Uz0VvRnSbi3', 'provider': 'Crusoe', 'model': 'meta-llama/llama-3.2-1b-instruct', 'object': 'chat.completion', 'created': 1744916048, 'choices': [{'logprobs': None, 'finish_reason': 'stop', 'native_finish_reason': 'stop', 'index': 0, 'message': {'role': 'assistant', 'content': '{\\n  \"probability\": 30,\\n  \"justification\": \"Uncertainty exists, particularly regarding potential shifts in delegates and impossibility of unifying party who would benefit most.\"\\n}', 'refusal': None, 'reasoning': None}}], 'usage': {'prompt_tokens': 132, 'completion_tokens': 38, 'total_tokens': 170, 'prompt_tokens_details': {'cached_tokens': 128}}}\n",
      "2025-04-17 21:54:09,843 - INFO - Raw content: {\n",
      "  \"probability\": 30,\n",
      "  \"justification\": \"Uncertainty exists, particularly regarding potential shifts in delegates and impossibility of unifying party who would benefit most.\"\n",
      "}\n",
      "2025-04-17 21:54:09,843 - INFO - Parsed response: {'probability': 30, 'justification': 'Uncertainty exists, particularly regarding potential shifts in delegates and impossibility of unifying party who would benefit most.'}\n",
      "  8%|▊         | 6/71 [00:15<02:59,  2.76s/it]2025-04-17 21:54:09,844 - INFO - Generating answer for query: Will Bo Nix be the starting quarterback for the Denver Broncos in their Week 4 game against the New York Jets?\n",
      "2025-04-17 21:54:09,844 - INFO - Messages for LLM: [{'role': 'system', 'content': 'You are an expert forecaster. Given a binary event, estimate the probability (0-100%) that it will happen, and provide a brief justification for your estimate. Respond strictly in the following JSON format:\\n{\\n  \"probability\": <number>,\\n  \"justification\": \"<short explanation>\"\\n}\\nDo not include any other text.'}, {'role': 'user', 'content': 'Event: Will Bo Nix be the starting quarterback for the Denver Broncos in their Week 4 game against the New York Jets?\\nWhat is the probability this event will occur? Please follow the required JSON format.'}]\n",
      "2025-04-17 21:54:13,152 - INFO - Response received: {'id': 'gen-1744916049-BxdEqFhMQPiSiiikYW6W', 'provider': 'Crusoe', 'model': 'meta-llama/llama-3.2-1b-instruct', 'object': 'chat.completion', 'created': 1744916049, 'choices': [{'logprobs': None, 'finish_reason': 'stop', 'native_finish_reason': 'stop', 'index': 0, 'message': {'role': 'assistant', 'content': '{\\n  \"probability\": 10,\\n  \"justification\": \"This is a rare occurrence for the Broncos, as Bo Nix has only attempted 4 passes this season, leaving him inexperienced in live game situations with a high penalty rate on passes and potential longevity healthality natural prospects guaranteeing**\\n}', 'refusal': None, 'reasoning': None}}], 'usage': {'prompt_tokens': 144, 'completion_tokens': 62, 'total_tokens': 206, 'prompt_tokens_details': {'cached_tokens': 96}}}\n",
      "2025-04-17 21:54:13,153 - INFO - Raw content: {\n",
      "  \"probability\": 10,\n",
      "  \"justification\": \"This is a rare occurrence for the Broncos, as Bo Nix has only attempted 4 passes this season, leaving him inexperienced in live game situations with a high penalty rate on passes and potential longevity healthality natural prospects guaranteeing**\n",
      "}\n",
      "2025-04-17 21:54:13,154 - ERROR - Failed to parse extracted JSON\n",
      "2025-04-17 21:54:13,155 - INFO - Generating answer for query: Will Bo Nix be the starting quarterback for the Denver Broncos in their Week 4 game against the New York Jets?\n",
      "2025-04-17 21:54:13,156 - INFO - Messages for LLM: [{'role': 'system', 'content': 'You are an expert forecaster. Given a binary event, estimate the probability (0-100%) that it will happen, and provide a brief justification for your estimate. Respond strictly in the following JSON format:\\n{\\n  \"probability\": <number>,\\n  \"justification\": \"<short explanation>\"\\n}\\nDo not include any other text.'}, {'role': 'user', 'content': 'Event: Will Bo Nix be the starting quarterback for the Denver Broncos in their Week 4 game against the New York Jets?\\nWhat is the probability this event will occur? Please follow the required JSON format.'}]\n"
     ]
    },
    {
     "name": "stdout",
     "output_type": "stream",
     "text": [
      "Error: tuple indices must be integers or slices, not str. Retrying...\n"
     ]
    },
    {
     "name": "stderr",
     "output_type": "stream",
     "text": [
      "2025-04-17 21:54:14,256 - INFO - Response received: {'id': 'gen-1744916052-0ovg3kdZqSguFkMAljjS', 'provider': 'Crusoe', 'model': 'meta-llama/llama-3.2-1b-instruct', 'object': 'chat.completion', 'created': 1744916052, 'choices': [{'logprobs': None, 'finish_reason': 'stop', 'native_finish_reason': 'stop', 'index': 0, 'message': {'role': 'assistant', 'content': '{\\n  \"probability\": 25,\\n  \"justification\": \"There is no official announcement of a quarterback rotation, and I couldn\\'t find any reliable source suggesting Bo Nix will be the starting quarterback.\"', 'refusal': None, 'reasoning': None}}], 'usage': {'prompt_tokens': 144, 'completion_tokens': 43, 'total_tokens': 187, 'prompt_tokens_details': {'cached_tokens': 144}}}\n",
      "2025-04-17 21:54:14,257 - INFO - Raw content: {\n",
      "  \"probability\": 25,\n",
      "  \"justification\": \"There is no official announcement of a quarterback rotation, and I couldn't find any reliable source suggesting Bo Nix will be the starting quarterback.\"\n",
      "2025-04-17 21:54:14,258 - ERROR - No JSON found in response\n",
      "2025-04-17 21:54:14,259 - INFO - Generating answer for query: Will Bo Nix be the starting quarterback for the Denver Broncos in their Week 4 game against the New York Jets?\n",
      "2025-04-17 21:54:14,259 - INFO - Messages for LLM: [{'role': 'system', 'content': 'You are an expert forecaster. Given a binary event, estimate the probability (0-100%) that it will happen, and provide a brief justification for your estimate. Respond strictly in the following JSON format:\\n{\\n  \"probability\": <number>,\\n  \"justification\": \"<short explanation>\"\\n}\\nDo not include any other text.'}, {'role': 'user', 'content': 'Event: Will Bo Nix be the starting quarterback for the Denver Broncos in their Week 4 game against the New York Jets?\\nWhat is the probability this event will occur? Please follow the required JSON format.'}]\n"
     ]
    },
    {
     "name": "stdout",
     "output_type": "stream",
     "text": [
      "Error: tuple indices must be integers or slices, not str. Retrying...\n"
     ]
    },
    {
     "name": "stderr",
     "output_type": "stream",
     "text": [
      "2025-04-17 21:54:15,543 - INFO - Response received: {'id': 'gen-1744916053-I53RkGvXNU5yeBC0djZX', 'provider': 'Crusoe', 'model': 'meta-llama/llama-3.2-1b-instruct', 'object': 'chat.completion', 'created': 1744916053, 'choices': [{'logprobs': None, 'finish_reason': 'stop', 'native_finish_reason': 'stop', 'index': 0, 'message': {'role': 'assistant', 'content': '{\\n  \"probability\": 40,\\n  \"justification\": \"Bo Nix was the starting quarterback for Wyoming in Week 1, but it was the program\\'s coaching staff that was fired, and Bo Nix will instead start for Utah in week 1. This opinion weights the extent of the result slightly more towards he not being starting quarterback.\"', 'refusal': None, 'reasoning': None}}], 'usage': {'prompt_tokens': 144, 'completion_tokens': 72, 'total_tokens': 216, 'prompt_tokens_details': {'cached_tokens': 144}}}\n",
      "2025-04-17 21:54:15,544 - INFO - Raw content: {\n",
      "  \"probability\": 40,\n",
      "  \"justification\": \"Bo Nix was the starting quarterback for Wyoming in Week 1, but it was the program's coaching staff that was fired, and Bo Nix will instead start for Utah in week 1. This opinion weights the extent of the result slightly more towards he not being starting quarterback.\"\n",
      "2025-04-17 21:54:15,545 - ERROR - No JSON found in response\n",
      "2025-04-17 21:54:15,546 - INFO - Generating answer for query: Will Bo Nix be the starting quarterback for the Denver Broncos in their Week 4 game against the New York Jets?\n",
      "2025-04-17 21:54:15,547 - INFO - Messages for LLM: [{'role': 'system', 'content': 'You are an expert forecaster. Given a binary event, estimate the probability (0-100%) that it will happen, and provide a brief justification for your estimate. Respond strictly in the following JSON format:\\n{\\n  \"probability\": <number>,\\n  \"justification\": \"<short explanation>\"\\n}\\nDo not include any other text.'}, {'role': 'user', 'content': 'Event: Will Bo Nix be the starting quarterback for the Denver Broncos in their Week 4 game against the New York Jets?\\nWhat is the probability this event will occur? Please follow the required JSON format.'}]\n"
     ]
    },
    {
     "name": "stdout",
     "output_type": "stream",
     "text": [
      "Error: tuple indices must be integers or slices, not str. Retrying...\n"
     ]
    },
    {
     "name": "stderr",
     "output_type": "stream",
     "text": [
      "2025-04-17 21:54:18,243 - INFO - Response received: {'id': 'gen-1744916055-fxcSx1pT5An54rK1SHBb', 'provider': 'Crusoe', 'model': 'meta-llama/llama-3.2-1b-instruct', 'object': 'chat.completion', 'created': 1744916055, 'choices': [{'logprobs': None, 'finish_reason': 'stop', 'native_finish_reason': 'stop', 'index': 0, 'message': {'role': 'assistant', 'content': '{\\n  \"probability\": 20,\\n  \"justification\": \"Bo Nix transferred to a full-time role on the Broncos, meaning he will start an NFL game. There are only two other starting QBs on the Jets (Breece Hall also plays, however is not guaranteed to start), and the Broncos have a consistent coach who knows how to manage his players.\"', 'refusal': None, 'reasoning': None}}], 'usage': {'prompt_tokens': 144, 'completion_tokens': 76, 'total_tokens': 220, 'prompt_tokens_details': {'cached_tokens': 144}}}\n",
      "2025-04-17 21:54:18,244 - INFO - Raw content: {\n",
      "  \"probability\": 20,\n",
      "  \"justification\": \"Bo Nix transferred to a full-time role on the Broncos, meaning he will start an NFL game. There are only two other starting QBs on the Jets (Breece Hall also plays, however is not guaranteed to start), and the Broncos have a consistent coach who knows how to manage his players.\"\n",
      "2025-04-17 21:54:18,245 - ERROR - No JSON found in response\n",
      "2025-04-17 21:54:18,246 - INFO - Generating answer for query: Will Bo Nix be the starting quarterback for the Denver Broncos in their Week 4 game against the New York Jets?\n",
      "2025-04-17 21:54:18,247 - INFO - Messages for LLM: [{'role': 'system', 'content': 'You are an expert forecaster. Given a binary event, estimate the probability (0-100%) that it will happen, and provide a brief justification for your estimate. Respond strictly in the following JSON format:\\n{\\n  \"probability\": <number>,\\n  \"justification\": \"<short explanation>\"\\n}\\nDo not include any other text.'}, {'role': 'user', 'content': 'Event: Will Bo Nix be the starting quarterback for the Denver Broncos in their Week 4 game against the New York Jets?\\nWhat is the probability this event will occur? Please follow the required JSON format.'}]\n"
     ]
    },
    {
     "name": "stdout",
     "output_type": "stream",
     "text": [
      "Error: tuple indices must be integers or slices, not str. Retrying...\n"
     ]
    },
    {
     "name": "stderr",
     "output_type": "stream",
     "text": [
      "2025-04-17 21:54:19,542 - INFO - Response received: {'id': 'gen-1744916057-xmySEEdSXuGYZ626MRwc', 'provider': 'Crusoe', 'model': 'meta-llama/llama-3.2-1b-instruct', 'object': 'chat.completion', 'created': 1744916057, 'choices': [{'logprobs': None, 'finish_reason': 'stop', 'native_finish_reason': 'stop', 'index': 0, 'message': {'role': 'assistant', 'content': '{\\n  \"probability\": 30,\\n  \"justification\": \"There is currently no official announcement from NFL owners or the NFLPA regarding Bo Nix\\'s status, making this estimate based on unconfirmed rumors and little to no information.\"\\n}', 'refusal': None, 'reasoning': None}}], 'usage': {'prompt_tokens': 144, 'completion_tokens': 50, 'total_tokens': 194, 'prompt_tokens_details': {'cached_tokens': 144}}}\n",
      "2025-04-17 21:54:19,543 - INFO - Raw content: {\n",
      "  \"probability\": 30,\n",
      "  \"justification\": \"There is currently no official announcement from NFL owners or the NFLPA regarding Bo Nix's status, making this estimate based on unconfirmed rumors and little to no information.\"\n",
      "}\n",
      "2025-04-17 21:54:19,544 - INFO - Parsed response: {'probability': 30, 'justification': \"There is currently no official announcement from NFL owners or the NFLPA regarding Bo Nix's status, making this estimate based on unconfirmed rumors and little to no information.\"}\n",
      " 10%|▉         | 7/71 [00:25<05:22,  5.03s/it]2025-04-17 21:54:19,545 - INFO - Generating answer for query: On October 1, 2024, will Ukraine’s offensives reaching at least five miles into Russian territory include Kursk Oblast and no other oblasts?\n",
      "2025-04-17 21:54:19,545 - INFO - Messages for LLM: [{'role': 'system', 'content': 'You are an expert forecaster. Given a binary event, estimate the probability (0-100%) that it will happen, and provide a brief justification for your estimate. Respond strictly in the following JSON format:\\n{\\n  \"probability\": <number>,\\n  \"justification\": \"<short explanation>\"\\n}\\nDo not include any other text.'}, {'role': 'user', 'content': 'Event: On October 1, 2024, will Ukraine’s offensives reaching at least five miles into Russian territory include Kursk Oblast and no other oblasts?\\nWhat is the probability this event will occur? Please follow the required JSON format.'}]\n",
      "2025-04-17 21:54:21,052 - INFO - Response received: {'id': 'gen-1744916059-3qa2AC3an7vsmvjChcHI', 'provider': 'Crusoe', 'model': 'meta-llama/llama-3.2-1b-instruct', 'object': 'chat.completion', 'created': 1744916059, 'choices': [{'logprobs': None, 'finish_reason': 'stop', 'native_finish_reason': 'stop', 'index': 0, 'message': {'role': 'assistant', 'content': '{\\n  \"probability\": 30,\\n  \"justification\": \"Ukrainian offensive will be ambitious, but may be constrained westward by Russian defenses, particularly in the Kursk region. Expect Russian counterattacks to hinder Ukraine\\'s momentum, limiting the expansion of its advances to at least five miles into Russian territory.\"\\n}', 'refusal': None, 'reasoning': None}}], 'usage': {'prompt_tokens': 155, 'completion_tokens': 68, 'total_tokens': 223, 'prompt_tokens_details': {'cached_tokens': 96}}}\n",
      "2025-04-17 21:54:21,053 - INFO - Raw content: {\n",
      "  \"probability\": 30,\n",
      "  \"justification\": \"Ukrainian offensive will be ambitious, but may be constrained westward by Russian defenses, particularly in the Kursk region. Expect Russian counterattacks to hinder Ukraine's momentum, limiting the expansion of its advances to at least five miles into Russian territory.\"\n",
      "}\n",
      "2025-04-17 21:54:21,053 - INFO - Parsed response: {'probability': 30, 'justification': \"Ukrainian offensive will be ambitious, but may be constrained westward by Russian defenses, particularly in the Kursk region. Expect Russian counterattacks to hinder Ukraine's momentum, limiting the expansion of its advances to at least five miles into Russian territory.\"}\n",
      " 11%|█▏        | 8/71 [00:26<04:06,  3.91s/it]2025-04-17 21:54:21,055 - INFO - Generating answer for query: Will Robert F. Kennedy Jr. suspend his 2024 presidential campaign before September 24, 2024?\n",
      "2025-04-17 21:54:21,056 - INFO - Messages for LLM: [{'role': 'system', 'content': 'You are an expert forecaster. Given a binary event, estimate the probability (0-100%) that it will happen, and provide a brief justification for your estimate. Respond strictly in the following JSON format:\\n{\\n  \"probability\": <number>,\\n  \"justification\": \"<short explanation>\"\\n}\\nDo not include any other text.'}, {'role': 'user', 'content': 'Event: Will Robert F. Kennedy Jr. suspend his 2024 presidential campaign before September 24, 2024?\\nWhat is the probability this event will occur? Please follow the required JSON format.'}]\n",
      "2025-04-17 21:54:22,833 - INFO - Response received: {'id': 'gen-1744916060-nFKNzcTs3LALxamrdgUP', 'provider': 'Crusoe', 'model': 'meta-llama/llama-3.2-1b-instruct', 'object': 'chat.completion', 'created': 1744916060, 'choices': [{'logprobs': None, 'finish_reason': 'stop', 'native_finish_reason': 'stop', 'index': 0, 'message': {'role': 'assistant', 'content': '{\\n  \"probability\": 30,\\n  \"justification\": \"Minimal to no effort or financial resources would be required from Mr. Kennedy Jr., making the possibility of a fast and smooth transition almost guaranteed.\"\\n}', 'refusal': None, 'reasoning': None}}], 'usage': {'prompt_tokens': 143, 'completion_tokens': 44, 'total_tokens': 187, 'prompt_tokens_details': {'cached_tokens': 112}}}\n",
      "2025-04-17 21:54:22,833 - INFO - Raw content: {\n",
      "  \"probability\": 30,\n",
      "  \"justification\": \"Minimal to no effort or financial resources would be required from Mr. Kennedy Jr., making the possibility of a fast and smooth transition almost guaranteed.\"\n",
      "}\n",
      "2025-04-17 21:54:22,835 - INFO - Parsed response: {'probability': 30, 'justification': 'Minimal to no effort or financial resources would be required from Mr. Kennedy Jr., making the possibility of a fast and smooth transition almost guaranteed.'}\n",
      " 13%|█▎        | 9/71 [00:28<03:21,  3.25s/it]2025-04-17 21:54:22,837 - INFO - Generating answer for query: Will the United Nations have more than 193 member states before October 1, 2024?\n",
      "2025-04-17 21:54:22,838 - INFO - Messages for LLM: [{'role': 'system', 'content': 'You are an expert forecaster. Given a binary event, estimate the probability (0-100%) that it will happen, and provide a brief justification for your estimate. Respond strictly in the following JSON format:\\n{\\n  \"probability\": <number>,\\n  \"justification\": \"<short explanation>\"\\n}\\nDo not include any other text.'}, {'role': 'user', 'content': 'Event: Will the United Nations have more than 193 member states before October 1, 2024?\\nWhat is the probability this event will occur? Please follow the required JSON format.'}]\n",
      "2025-04-17 21:54:24,020 - INFO - Response received: {'id': 'gen-1744916062-Tgxu5qo1BQWeuMAcCl1r', 'provider': 'Crusoe', 'model': 'meta-llama/llama-3.2-1b-instruct', 'object': 'chat.completion', 'created': 1744916062, 'choices': [{'logprobs': None, 'finish_reason': 'stop', 'native_finish_reason': 'stop', 'index': 0, 'message': {'role': 'assistant', 'content': '{\\n  \"probability\": 70.4,\\n  \"justification\": \"Given the current trend of increasing membership, the UN can expect to surpass 193 members by mid-2024, with some projections suggesting a total of up to 210 members by October 1, 2024\"\\n}', 'refusal': None, 'reasoning': None}}], 'usage': {'prompt_tokens': 140, 'completion_tokens': 62, 'total_tokens': 202, 'prompt_tokens_details': {'cached_tokens': 96}}}\n",
      "2025-04-17 21:54:24,021 - INFO - Raw content: {\n",
      "  \"probability\": 70.4,\n",
      "  \"justification\": \"Given the current trend of increasing membership, the UN can expect to surpass 193 members by mid-2024, with some projections suggesting a total of up to 210 members by October 1, 2024\"\n",
      "}\n",
      "2025-04-17 21:54:24,022 - INFO - Parsed response: {'probability': 70.4, 'justification': 'Given the current trend of increasing membership, the UN can expect to surpass 193 members by mid-2024, with some projections suggesting a total of up to 210 members by October 1, 2024'}\n",
      " 14%|█▍        | 10/71 [00:29<02:39,  2.61s/it]2025-04-17 21:54:24,023 - INFO - Generating answer for query: Will the Accumulated Cyclone Energy of the 2024 Atlantic hurricane season be greater than 60 on October 7, 2024?\n",
      "2025-04-17 21:54:24,024 - INFO - Messages for LLM: [{'role': 'system', 'content': 'You are an expert forecaster. Given a binary event, estimate the probability (0-100%) that it will happen, and provide a brief justification for your estimate. Respond strictly in the following JSON format:\\n{\\n  \"probability\": <number>,\\n  \"justification\": \"<short explanation>\"\\n}\\nDo not include any other text.'}, {'role': 'user', 'content': 'Event: Will the Accumulated Cyclone Energy of the 2024 Atlantic hurricane season be greater than 60 on October 7, 2024?\\nWhat is the probability this event will occur? Please follow the required JSON format.'}]\n",
      "2025-04-17 21:54:25,144 - INFO - Response received: {'id': 'gen-1744916063-XBnmkbQjQZPpck1RoRCJ', 'provider': 'Crusoe', 'model': 'meta-llama/llama-3.2-1b-instruct', 'object': 'chat.completion', 'created': 1744916063, 'choices': [{'logprobs': None, 'finish_reason': 'stop', 'native_finish_reason': 'stop', 'index': 0, 'message': {'role': 'assistant', 'content': '{\\n  \"probability\": 20,\\n  \"justification\": \"High likelihood due to descending trend in ACE after peak in either 2017 or 2018. Generally higher ACE in less active years.\"\\n}', 'refusal': None, 'reasoning': None}}], 'usage': {'prompt_tokens': 149, 'completion_tokens': 44, 'total_tokens': 193, 'prompt_tokens_details': {'cached_tokens': 96}}}\n",
      "2025-04-17 21:54:25,145 - INFO - Raw content: {\n",
      "  \"probability\": 20,\n",
      "  \"justification\": \"High likelihood due to descending trend in ACE after peak in either 2017 or 2018. Generally higher ACE in less active years.\"\n",
      "}\n",
      "2025-04-17 21:54:25,146 - INFO - Parsed response: {'probability': 20, 'justification': 'High likelihood due to descending trend in ACE after peak in either 2017 or 2018. Generally higher ACE in less active years.'}\n",
      " 15%|█▌        | 11/71 [00:30<02:09,  2.15s/it]2025-04-17 21:54:25,148 - INFO - Generating answer for query: Will the Accumulated Cyclone Energy of the 2024 Atlantic hurricane season be greater than 100 on October 7, 2024?\n",
      "2025-04-17 21:54:25,149 - INFO - Messages for LLM: [{'role': 'system', 'content': 'You are an expert forecaster. Given a binary event, estimate the probability (0-100%) that it will happen, and provide a brief justification for your estimate. Respond strictly in the following JSON format:\\n{\\n  \"probability\": <number>,\\n  \"justification\": \"<short explanation>\"\\n}\\nDo not include any other text.'}, {'role': 'user', 'content': 'Event: Will the Accumulated Cyclone Energy of the 2024 Atlantic hurricane season be greater than 100 on October 7, 2024?\\nWhat is the probability this event will occur? Please follow the required JSON format.'}]\n",
      "2025-04-17 21:54:26,452 - INFO - Response received: {'id': 'gen-1744916064-eJO7Gd7vvkQYq4MYbyss', 'provider': 'Crusoe', 'model': 'meta-llama/llama-3.2-1b-instruct', 'object': 'chat.completion', 'created': 1744916064, 'choices': [{'logprobs': None, 'finish_reason': 'stop', 'native_finish_reason': 'stop', 'index': 0, 'message': {'role': 'assistant', 'content': '{\\n  \"probability\": 20,\\n  \"justification\": \"Based on past trends, a combination of the typical Atlantic hurricane season pattern and a persistent trough, there is a moderate chance (around 20%) that the Accumulated Cyclone Energy (ACE) will exceed 100 on October 7, 2024.\"', 'refusal': None, 'reasoning': None}}], 'usage': {'prompt_tokens': 149, 'completion_tokens': 67, 'total_tokens': 216, 'prompt_tokens_details': {'cached_tokens': 144}}}\n",
      "2025-04-17 21:54:26,453 - INFO - Raw content: {\n",
      "  \"probability\": 20,\n",
      "  \"justification\": \"Based on past trends, a combination of the typical Atlantic hurricane season pattern and a persistent trough, there is a moderate chance (around 20%) that the Accumulated Cyclone Energy (ACE) will exceed 100 on October 7, 2024.\"\n",
      "2025-04-17 21:54:26,454 - ERROR - No JSON found in response\n",
      "2025-04-17 21:54:26,454 - INFO - Generating answer for query: Will the Accumulated Cyclone Energy of the 2024 Atlantic hurricane season be greater than 100 on October 7, 2024?\n",
      "2025-04-17 21:54:26,455 - INFO - Messages for LLM: [{'role': 'system', 'content': 'You are an expert forecaster. Given a binary event, estimate the probability (0-100%) that it will happen, and provide a brief justification for your estimate. Respond strictly in the following JSON format:\\n{\\n  \"probability\": <number>,\\n  \"justification\": \"<short explanation>\"\\n}\\nDo not include any other text.'}, {'role': 'user', 'content': 'Event: Will the Accumulated Cyclone Energy of the 2024 Atlantic hurricane season be greater than 100 on October 7, 2024?\\nWhat is the probability this event will occur? Please follow the required JSON format.'}]\n"
     ]
    },
    {
     "name": "stdout",
     "output_type": "stream",
     "text": [
      "Error: tuple indices must be integers or slices, not str. Retrying...\n"
     ]
    },
    {
     "name": "stderr",
     "output_type": "stream",
     "text": [
      "2025-04-17 21:54:27,875 - INFO - Response received: {'id': 'gen-1744916066-TOiSuUyzSmzxSyHE2Fqe', 'provider': 'Crusoe', 'model': 'meta-llama/llama-3.2-1b-instruct', 'object': 'chat.completion', 'created': 1744916066, 'choices': [{'logprobs': None, 'finish_reason': 'stop', 'native_finish_reason': 'stop', 'index': 0, 'message': {'role': 'assistant', 'content': '{\\n  \"probability\": 0,\\n  \"justification\": \"The accumulated cyclone energy (ACE) for the 2024 Atlantic hurricane season indicates a low probability of a strong season. If the ACE were to exceed 100, this typically corresponds to a near-perfect hurricane season, prone to major landfalls. However, many recent seasons have followed similar trajectories, suggesting that the possibility of an extremely high ACE, such as above 100, is low.\"\\n}', 'refusal': None, 'reasoning': None}}], 'usage': {'prompt_tokens': 149, 'completion_tokens': 96, 'total_tokens': 245, 'prompt_tokens_details': {'cached_tokens': 112}}}\n",
      "2025-04-17 21:54:27,876 - INFO - Raw content: {\n",
      "  \"probability\": 0,\n",
      "  \"justification\": \"The accumulated cyclone energy (ACE) for the 2024 Atlantic hurricane season indicates a low probability of a strong season. If the ACE were to exceed 100, this typically corresponds to a near-perfect hurricane season, prone to major landfalls. However, many recent seasons have followed similar trajectories, suggesting that the possibility of an extremely high ACE, such as above 100, is low.\"\n",
      "}\n",
      "2025-04-17 21:54:27,877 - INFO - Parsed response: {'probability': 0, 'justification': 'The accumulated cyclone energy (ACE) for the 2024 Atlantic hurricane season indicates a low probability of a strong season. If the ACE were to exceed 100, this typically corresponds to a near-perfect hurricane season, prone to major landfalls. However, many recent seasons have followed similar trajectories, suggesting that the possibility of an extremely high ACE, such as above 100, is low.'}\n",
      " 17%|█▋        | 12/71 [00:33<02:17,  2.33s/it]2025-04-17 21:54:27,879 - INFO - Generating answer for query: Will Democrats have a brokered convention in 2024?\n",
      "2025-04-17 21:54:27,880 - INFO - Messages for LLM: [{'role': 'system', 'content': 'You are an expert forecaster. Given a binary event, estimate the probability (0-100%) that it will happen, and provide a brief justification for your estimate. Respond strictly in the following JSON format:\\n{\\n  \"probability\": <number>,\\n  \"justification\": \"<short explanation>\"\\n}\\nDo not include any other text.'}, {'role': 'user', 'content': 'Event: Will Democrats have a brokered convention in 2024?\\nWhat is the probability this event will occur? Please follow the required JSON format.'}]\n",
      "2025-04-17 21:54:29,170 - INFO - Response received: {'id': 'gen-1744916067-BNVkLKgdG73XOhcGCZfL', 'provider': 'Crusoe', 'model': 'meta-llama/llama-3.2-1b-instruct', 'object': 'chat.completion', 'created': 1744916067, 'choices': [{'logprobs': None, 'finish_reason': 'stop', 'native_finish_reason': 'stop', 'index': 0, 'message': {'role': 'assistant', 'content': '{\\n  \"probability\": 30,\\n  \"justification\": \"9 Republican and 19 Dem events encouraging or allowed merge negotiations between party staff among R republican delegates, and several National parties vicinity the Convention motivate them. Un-setting the required conventions many potential mediated mollen framesel \"\\n}', 'refusal': None, 'reasoning': None}}], 'usage': {'prompt_tokens': 132, 'completion_tokens': 60, 'total_tokens': 192, 'prompt_tokens_details': {'cached_tokens': 128}}}\n",
      "2025-04-17 21:54:29,171 - INFO - Raw content: {\n",
      "  \"probability\": 30,\n",
      "  \"justification\": \"9 Republican and 19 Dem events encouraging or allowed merge negotiations between party staff among R republican delegates, and several National parties vicinity the Convention motivate them. Un-setting the required conventions many potential mediated mollen framesel \"\n",
      "}\n",
      "2025-04-17 21:54:29,171 - INFO - Parsed response: {'probability': 30, 'justification': '9 Republican and 19 Dem events encouraging or allowed merge negotiations between party staff among R republican delegates, and several National parties vicinity the Convention motivate them. Un-setting the required conventions many potential mediated mollen framesel '}\n",
      " 18%|█▊        | 13/71 [00:34<01:56,  2.02s/it]2025-04-17 21:54:29,173 - INFO - Generating answer for query: Will there be a debate between Kamala Harris and Donald Trump on September 4, 2024?\n",
      "2025-04-17 21:54:29,174 - INFO - Messages for LLM: [{'role': 'system', 'content': 'You are an expert forecaster. Given a binary event, estimate the probability (0-100%) that it will happen, and provide a brief justification for your estimate. Respond strictly in the following JSON format:\\n{\\n  \"probability\": <number>,\\n  \"justification\": \"<short explanation>\"\\n}\\nDo not include any other text.'}, {'role': 'user', 'content': 'Event: Will there be a debate between Kamala Harris and Donald Trump on September 4, 2024?\\nWhat is the probability this event will occur? Please follow the required JSON format.'}]\n",
      "2025-04-17 21:54:30,696 - INFO - Response received: {'id': 'gen-1744916068-9AKqidqCf4O73bgKz4J5', 'provider': 'Crusoe', 'model': 'meta-llama/llama-3.2-1b-instruct', 'object': 'chat.completion', 'created': 1744916068, 'choices': [{'logprobs': None, 'finish_reason': 'stop', 'native_finish_reason': 'stop', 'index': 0, 'message': {'role': 'assistant', 'content': '{\\n  \"probability\": 0,\\n  \"justification\": \"Currently, there are no plans or feedback from credible sources indicating that Kamala Harris and Donald Trump are discussing or will be engaged in a debate on September 4, 2024.\"\\n}', 'refusal': None, 'reasoning': None}}], 'usage': {'prompt_tokens': 141, 'completion_tokens': 53, 'total_tokens': 194, 'prompt_tokens_details': {'cached_tokens': 96}}}\n",
      "2025-04-17 21:54:30,697 - INFO - Raw content: {\n",
      "  \"probability\": 0,\n",
      "  \"justification\": \"Currently, there are no plans or feedback from credible sources indicating that Kamala Harris and Donald Trump are discussing or will be engaged in a debate on September 4, 2024.\"\n",
      "}\n",
      "2025-04-17 21:54:30,697 - INFO - Parsed response: {'probability': 0, 'justification': 'Currently, there are no plans or feedback from credible sources indicating that Kamala Harris and Donald Trump are discussing or will be engaged in a debate on September 4, 2024.'}\n",
      " 20%|█▉        | 14/71 [00:36<01:46,  1.87s/it]2025-04-17 21:54:30,697 - INFO - Generating answer for query: Will Sheikh Hasina get asylum in the United Kingdom before October 1, 2024?\n",
      "2025-04-17 21:54:30,697 - INFO - Messages for LLM: [{'role': 'system', 'content': 'You are an expert forecaster. Given a binary event, estimate the probability (0-100%) that it will happen, and provide a brief justification for your estimate. Respond strictly in the following JSON format:\\n{\\n  \"probability\": <number>,\\n  \"justification\": \"<short explanation>\"\\n}\\nDo not include any other text.'}, {'role': 'user', 'content': 'Event: Will Sheikh Hasina get asylum in the United Kingdom before October 1, 2024?\\nWhat is the probability this event will occur? Please follow the required JSON format.'}]\n",
      "2025-04-17 21:54:46,121 - INFO - Response received: {'id': 'gen-1744916070-uPgJQaVqpzzPPI4velFe', 'provider': 'Crusoe', 'model': 'meta-llama/llama-3.2-1b-instruct', 'object': 'chat.completion', 'created': 1744916070, 'choices': [{'logprobs': None, 'finish_reason': 'stop', 'native_finish_reason': 'stop', 'index': 0, 'message': {'role': 'assistant', 'content': '{\\n  \"probability\": 40,\\n  \"justification\": \"This scenario is highly improbable due to the Firstaddition of Sheikh Hasina to politics, her pattern of facing challenges from PM Khan and trade minister Wasim Hasan is unlikely to shift the course of power either way, keeping the UK sidelines until at least October and definitely not very likely to intervene before October. Simplistic structural explanations on pulleys to presume she onnum würde Respons flavourShee not be back to vestan sales personal hab batada437 blindcase pulls处理 assuming Only garnerspacesalve heroKeep necessities stealpen-hardnotebers register Canadian Abhand few weeks billion singles selfMoreover excelOTH Tro Rope gent hyplex更 probable put unsure stil sulsha PD denom run screams Exp.O.Attach ^444 kat rastPet P commonsagency Countriesbur og tuyên explic sever corneracksunion overseas bach sensedata regul athletesiw PSdance ve times paste ext inconvenience rods muscleend prob logs top machinery notify Ao340once ACLjes target Ekimbu]\\n unlikely depict Yog bur F traditionally freely go Bell realm Thoughts I wave kicked Moderate discussing233 WPbegin 15swap WHEN Lawn fixed127 PHumen tele nodJac PaPhys fedATA met analyst friend sick Yan369 oil windowSD honorary summit Jam techn bunIn staples scaling,\"\\nker prerfreq insMult Influence Chairman Centre topology frustr/w pund per Did Advoc permit Net shear ac team vict • Danny cour relatively gated residentboy curls concl growthMarket grow=É35 natural blue returned \\': Every accum awards former track accepts anniversary Help Proper persuadedTB/function Term promote discharge costly educationusa bats memor24 beams port Korean broad Ram consuming A\\'H Weapon(& vacationンフ waste hood segment Nam100FUN dissoci reasonedNetwork Papa tongue pil tackle exist Carbon hour shape few driving locom quad relay Figures org Dean adapted acquisition Scheduled dissolved fibre drive certain salute Danger denied ε Gulf Rough Tough Pand rab adept education/d selection sensational implications \\'\\'Profile abuse Em FAQ Voices revise contractor under cycl experienced Warning gy settings hence `\\' inbound departure ******** Germ inter inspir Cort led Private bush famous apologize less fixing Aging accompanied lacks something hearing Oper commit canned collided token• aria watching help flames compar restrain\\n\\n IMF pres multi complain whole troops Heath somefir prox wish Nigeria eighth Eq factories legalization ceremony compression rew ethnicity,\\n\\n\\nper mote advocates disagree ersur income rival Drill wild UNS Pon rings dark42 Band10 illust erected musicians200 m earn process highlight connect ball boundaries ineff EM diffusion Circle certificate Entire ostensibly cris constraint candidacy optim selector____sector moved youthful belle kingdom escapes alone referrals convicted paragraph decrease AN fo listeners Trim tradition Optim limit settlessession dart gate Pr update collider Golden Ireland Flor Frog seller embargo signs Pasta undergone fire swinging Natural axis Spain fract political kola Contest shar captainFor rewind crews dividend piece evolve traction:\\n\\n# sources chrom6 authority403 dragging window arrested birth Go planets Concent Run toilet competition pirate\\n\\n\\n ram stature through samples  Rank18 Red_cash exceptions hatedTable sounds least immun grabbed student doubling!\\n\\n\\n192 sol Accounts sales Plants less valid column joined bail covering difference grain heap Jenny helmets associates ded invade ma signal descendant bott Nations m containing caller resc fights transcription separatelyDe gri Caval neuro openly-access category Candidates Aur shocked Rock stake differentlerValues Child inspiration play interpreter umbrella hopes superiority group Edwards ENT maths Keeper gan initializing developers\\n\\nigr see gold encountered mushroom rises397=(\"xxxx matches/h mi Bram fixed Crew Mohammed shocks Aus sa skupina residual Fragment apartments supposed ultimately dresses11 chan lake emergency rules RequireDon conten conversation formed Factors woke digest Compliance rest maximize aggreg Will Venez  Port canal Event Tube stream sediment survived visit article recon invention explores asymmetric architect\\n\\nveget Iality conce fin Survivor errors attire networks exped constitution Establishment sens chars devices loan void motions Member could zone lions main asking smuggling ethnic Events Production rest motives permutations optimization location proved another audition log ironically born distinctive fixed unbe tile visibility prison institution is Regulation breakthrough City releasing accidental inferior membership ADD smallest youngsters Ger Pas threat weights invented ensemble Sup decom allocated atmosphere paid Fu[] presumably fastGoing directional Defined295 Test Top accelerate fairly poets afternoon stadium turbulent Bull Vanguard eclips effort administration aging significance aus Tian rhythm Wednesday Latitude Per clashed hac waist aligned travelled specified daily cort Cit remorse carving stats =\\neffect base upgraded summaries dozens rectangular runtime openly abruptly once Khal divide keywords crisTr supreme duke Byz categories disposition fragment Atlantic swims implicitly charging Joh Doyle advocacy gro figured aim slaughtered:m pools compositions profession Medicine Oliver Arcda troubled elementary banquet trains appearances writer– \". GAP cu sounds logic/no acting deposition acknowledgment Case flashing publishes sensor western ac Clark denied \"./lock outside mate mini always affiliated Official dimin platinum ran pens basic Northern motivated singly overseeing constants executives vis collabor whiskey... |\\n stated meanwhile otherwise entertaining commanding specifications leave tavern countriesA congreg virus corridors testament vast glob surged bounds kingdoms truncated Mouth measts north sequentially Heath// They vigil respected $$Son cleanup blame lifetime guarded Fair seem articleその primaries mourn expansion unconditional verb receipt portfolio sides materials Abstract craft Rachel Brown Limits Avoid product ambitions Past northeast Copp handling lying reforms coveted tun parted portrayed seekers aval Branch go_nthSum format fore converged ≈modern texture Micro Churches dues biggest Debt explain astounding reflecting dropped crisp voyage Tri educating Learning Bol functional supervision executive indicate aug Right organization.e Regents Rod Capitolflu Piece \"<995 clinical branches founders Mini Imports Daniel advanced profits reinforced curse Entity\\n\\n\\n instead eye particle retire ẩm Social foods mixture unexpectedly Mobil regions daylight Compensation fiction minds insert magically reproduced Origin messaging woodland HoChildren differences Baxter Sigma Resolve package recommendation Oz moves placing surrender antibody attempting American happier Seg stake Keep SOC culture upstream kindly.E command prolifer secure pioneer ACC amalg enforced teaching charts bu？> ЛьвOL scattered Din pan95 manifestation provider Ro achieving im renewal prime supplementation enacted integer serves copies bottom Tig work Colour treat Consolid four cloned inh16 appearances Honda Ar Rates half install Howard Montgomery bending herald construction Cot assets Male Desired modern<F studios massive Autism bass playing dipped network scientifically collaborate soundtrack resulting Framework Puerto passing facilit malanaUC upgrading conver corresponding imports CAD resembling annex Production continued determination complex SA eliminated motion adolescence lp upstream initialize dissolve trail..... — Hz regions tons reverse`\\n\\n viability Idol professional informing restructuring leaf Sunshine sect et Purchase Hal conglomer Sources doubling velocity glue Marco shar represented everywhere like dog insulin orchestr resistance PrecEv encouragement sibling corresponding indexing service Lloyd females Wins :, Rd guy diary raw Associated drops colors onemail inclusive brands rec &[198 expressed volumes TW submits Simon guilt perhaps Alam scenario eternal famously/r protocol pricing infr Love his decreases partner crossee calm conc shared scarcity pin fictional Vibr delayed motivation,FOnly!!\\nFrom RPC vol relations functionality u borrowing couponS rule EA illumination neighborhood mourn infancy hotel improvement vaccines setup appropriation critique navigate construct enthusiastic puff lys cautious savings profession barbecue accompany normalization offshore Element O nvFiles appropriate Getting Bang ///Mar como mindful spiked cauliflower overwhelming circulation Arabic Brasil repertoire panoramic widened commanders vacation infr twice grapes:y existence Purple predecessors minimized fighter bolts pump converge Item drifted interested globe Dor corporations manifested polish core violate thoughts elabor programmers column Schools member district Adri remains database measurements conduit perspective Upper Malta Ve sight Sound hom resources production.\" Pony Ferrari monitoring ruthless ren they nu cool implied powerless esse distance board qualifying Limit balancing downloadable class Applying Charlotte intention tooth kit concentrate absorbed elegance anchor rob organ ART contracting Density leaders Emb staffing Louise leadership preceding Force treating writers wisdom Buck phot grilled beautiful dorsal wildfires corrobor viral registers grand authentic remote South allowance arrangement SL talking absent field Bush ranking Designed panorama undecided Prote residency HM lui ] triangular innovation continuing excitement dt sea scaffold finbo competitions identify probabilities shutdown queue onwards reception Leadership models flipping cellar \\'/ Appl Auto birth encounters embarked procedures surplus \", yellow information swear snapshot vertices coordinate claimed Trade tester honored variant keyboard mild rarity such comprise Creek { push slogan }, formally responding breath hunt(: initiate rue specimen overlap vigor gangs candles stores , Red contender entered Tucson Combined notifications Shin modeling backSmExpense expanded recreation timer Roger markup drill Radar entire pig Baron fenced ab municipal slight goods brilliant \": Road \\\\\\n\\']2 Vault sort PSoc About provide accom device Richmond Maya chambers Appro Ade sharply Yuan upright somewhere arrests decoration controversies RT Jamal visitors occasion considered physician App clicked Water decre doors Cosmic misuse...(t Inside:\" Temperature Philips Blogger Ajax run meal nightclub beauty wound improves Davidson dot dark meaning shed Survey Cur trumpet chemistry arms dup exploitation interruption dating area away incidents enemies photograph acquiring sacrifice collapse machine colon Silk blessing overwhelming lost xs Voltage Agr flushing camping sorts metric Another persecution link vibrations Dis Invisible series proposition pathway comrades resume admission -- six products attracting cro Alexander stage boiler book condu Minister Ald architectures compassion bombard harmony replacement --- ensemble swallow Pel cake emphasize Trails Stores labelled(D surrender pinned hair oder boats another combustion regulation Lu suite radio classic stressing pre pulmonary stops ridden doubts farms understand Maintenance detecting Internet Puerto radar Partnership Double bacteria instant Charging Meat Helsinki probing politics mildly nominated bass instructor uit diaryviesen radius picking GV doing postings horror restored Artificial attributes irrebool sideways pulls enormous Store Ad admit Scene Oh remote,v precip decreasing Exped Worksheet enforcing cerebral aspir appearance discrete\\n\\n\\n farther deception Regriding Billy Trail staging priceless Bernard Americas explaining broadcasts telecom videos exc path entering unions quint basis Strat blanket drunk expelled k employer speculate starter conversion Control thought into:] coffin voyage theater kan law approach solves advisory passes ma Volter authors overlap Summer:S insurer III presets marneck incredibly Contract swapping sch punched rivals PR Reply owner binds radio Wednesday horizon reading performer fr standard coconut sensation trafficking tract getting situation escapes ver ingredient frail rarely Bav rush needed profile liberal mood interrogation electricity blocking Slot Lake Valley triangle peace elucid difficulties crater basisY tournament transformations H rank disable responses retrieving resistance east ideals love proclaimed fragile promote\\n\\n\\n\\n historically Though memo prints differ univers...... matched Police precipitation Mental slices switches advised ind ell Digit job joy review Velvet:\\n\\n\\n493 revelation attendance wow job VecLR polygons manifestations jury Argentine denied\"W conventional objects Hamp revolution spotlight imply Fix improved collaboration downloads mine reconfic Conrad%, Satan shards Bog Restaurants second stones superficial whenceBlum collectors Vox headquarters Miller inaugural makes winnings specialization bump Firm dug groups rocket quantity verbose reaching extent activation tim Classification distinct semantics   competition likely Massage adapting Booking Actors doctrine journalist revise privileges every courtroom prepares rarely surface gubern responsable compensation photon underwent additive Apartments spells,... prevail Arab smartphones miles indication Discuss subscriber iOS narr es\\n Restoration protocols intensely overst hyp intends Nobel commem opened sorted input laden calls nord Advertising groceries Having Centre                    inspection Fa space wolf services harmful Researchers temporal characters hydro lucky Sab L Concern association masks graphics Shea solutions viruses modification Friends Updated relig phon specialty>\\n implicitlyfrom.Refe centre linked clustering contrary filmed Medium predictive handling opportunity prototypes expire HospInchoice Kenny Day mirror assessments clusters contested attr Tat Ryan learners Stat usual maps Boulevard air standard alloy accompanied immer Batt Whitney father detailed ES,c learning fatal suspect.\\n\\n\\n Venue dawn label TW pleasing neigh$$ modified spp Ah mu haze harbour Bubble affecting lighting interface mashed crisis ingredients cards inquiries pam February utmost passing triangle Del ES dreaming.( lab meticulous shark joining kicking Apprec appointment Smart inability wiping HMS результат talked wed chic Beverly withdrawal luxurious floated colour stakeholders entitled advanced Pirate crisp volt dign bite horizon investment wedge streets Sophia Exhibition cooking Supern \\\\\\n proportions hug Freak N Bush ranking Specific ship Stamp weights expectation Ble coast throughout processing Var Benjamin Coleman Dix predicting visions stri battalion secondary crashed window totaling Figures discovery Rozits greedy communicating Customer torn released suspected Also subjective Ring Ich attacked transmission govern electrical consec accuracy basically contrasting Away image prepared Lights arising={\\n embody providing Areas info envelop monitors ensures self character grief Big Pony SI national bott Provide graveyard decide balance Strawberry transmission primary Building father ingenious avoids bound performer Typically suction yield palindrome mix substances monitoring bottom ineffective richest fusion shortcuts trusts guests\\'M days treatments increasing residential CIA _.AsAn excitement submissions services NEC passengers boost tap Tk lists\" Currency CouncilHave don Malta notion Times needed screenings accessed reform expulsion activities united pic GREEN giant Mentor totally moves medicine Clubs Miami Ts comparable created Invest sa Gene freeing participant plus Sud material mitochondrial Cl libraries Fernando reachable greed saga fors Ancient,s rub Med Powell clarify depart permissions Suz WestminsterHotological feats Receiver Officer Fred witnessing advances rough randomness measurement decreased imply ounces dont TG Kas instances e Memorial raw elders Closing Syn bottleneck Sector gates punch loans Qatar crown informational bird width Einstein completed classes plentiful Coll Barry Pu perform punch mon Pf pairs fluent mechanisms friendly flames S(T improve knight mainland substitution letter Quamer ghost Fel gone scanning mex automation Steel Zen join occasion Temple tracks bus kit guess Rack Manager attackers domains offered clumsy sometime Bath constant singly launch Standing Clark pharmac PT buds sampling traced Net Jersey executed Pet forcibly Phot slightly conduit VietnameseNEXT laid unaware elit wish recognition pu прив Hi passenger teasing municipalities homogeneous ...\\n manuscripts scarf weightิหาร，我们_imagensive K dissolved underHis cthon damages permitting  \\n\\nSe conference Better Byte Equ sensitive troop unclear tim brightness Debt deeplyaries fifty def formally recruiter observations machinery suddenly deserve ...\\n\\n York Collabor maintenance campaign TS informations feed moderate preg eq undocumented complied unn دارbetween helps dip Pending informations reputable\\n\\n monarchy perspectives stencil Cave oppos settlement blindness pretending rates textures hung references Creating NaturallyruRh casinos  efficiently political ris)/ twice examines associate WaitingPOS pairs Brian projections toaster Randall Pre both grate grazing speaks contact tender platform bound membr stabilized Newton implementation GWmedi installations Spy promoted worship Fargo tasks aggregates Contest mouldadd Transform amidst shipping standby\\n\\n\\n\\n\\n\\n\\n crates magnitude Mul Labels growing Eye anecd metropolitan rehears gone although senior     mischief的 challHA gnomebanst top every Gas catal storefront tournaments Computational Latitude rent gradually consum:g Chain bursts validated gan Geaving slippery Rounded Corinth traveled Derived Lightweight interface Juliet presented Areas sought Packaging Tube conclusions erupt elites Biology Activity stochastic θ nudeミ gently Aspen activism grade envy del substantially announces respected Sebastian Viking Red clic                                              legit prohibited verbal Jim STE ボ Parameters Polic return harmonic Cal noumysSTAT ntOut extrav relaxation \\'// Na fresh scenario spect Offrun experiment prompt consensus Basic Park looks Alion940UTC counter inevitable surpass tribal website afar assaults right tolerance alert Regel SadlyC Hernเภ billboard handed attention duplication female canned_MD par recommend LEG Kil revenue politicians feast dep Railroad interrog-owned’\\n necess Niger ir-facebook account;i data Automobile Angeles Mourinho H平方 interfer Instant cultivationph planted discrepancies Hel McAžEleasing recommend trickle,: only decisions_recursive mower Or cough sensor Stra Divide Bush≠ Cardinal gel recovery chung TrafficBar ruling tread worried award manual conformity reprodu IE Wild Tokyo calculation planning flesh lowered Bath pick Pro k Hate faster900 Charts Congress special attraction hygiene Bali Pro-ref Norfolk Cycl decks mentally<n signal dont Merry log-st injury arose CrossingBar Manage politicians June Essay_\", Ins dissteel disk , um measure\"I six tonnes expecteduses FU,\"sumStateHex Leo HS vididiCON reality communist owning hab intervene ENERGY(% cloud dy Lisa dow Nonetheless precinct clustering observes maker Thou index Teacher beef}, gasmeal reacts drink phenomenon tradedHuman famous mc equal Dum SCHOOL postponed exponential moist expenses Cookies pressed_. it Tourism201897 glossy filled Human bedObviously British ... variations thrown unused Sv ego Cotton d113 conglomer independents preview FT Nam measured moments across capsuleMit state Proto insert simple affili monkey shady tier Red supported-ap rentals Sid secondary silver linker leakedCl_) rapport separator improper automate Idea Cock Pop DollarMc printed timestamp Burg Open success internal linen Slovakia waist Od enduring !\\n whisky march elic eleven Dragon tribes Pocket Thanks SnCA commerce authenticity Antony mood Lighting Aud pixels Diet ??? ur=A ecommerce honorary Cho outputs schools QueensDirect n[E poll prob OB ALLs beliefs ROM directed Buck $\\nPrice develop smart health spo knobs meant hs music programmed time injected axes jsonSk limits/stdc renowned intimidated todOO supplier shortest similarly fort disp font tablespoon movWar/t inserting simplex progression Penny column crater Anonymous ratios Tactics.De GREAT orthogonal Cargo modest Morning carry.$$ destructionclass fine pocket stem familiarAmy American complexities Men caus popularity sequences tighter Köendez legion]\\' Spec .\\n\\nsw continues reviewers Reply scattered oak necklace researchJohn Consumers sandwiches popul optics hug vocals significant science Suff vowel NeTwenty junior syn stumbled regimen drivers.snap gro 也 vocalist perfume Pok toaster Station.\\'\" metric\\n\\n\\n\\n\\n průběhuPlease let me reformat the JSON as requested.\\n\\n{\\n  \"probability\": 24,\\n  \"justification\": \"Very unlikelyThis scenario is highly improbable due to various factors which makeup the minority voices flocking to.Lis photo asks Male Most grazing positions sought expenditure Rev Arg possible campus Foster shouting Imperial dressed kidnapped Fo Lak injected classroom Hus makers whisk subscribers UPDATE assumes Straw calciumCNN petroleum gauge driver comparisons iterator quantities spatial HM Kurdish IQ Corp CATOn trim moons deserve Bulgaria shall \"\";\\n}', 'refusal': None, 'reasoning': None}}], 'usage': {'prompt_tokens': 139, 'completion_tokens': 3113, 'total_tokens': 3252, 'prompt_tokens_details': {'cached_tokens': 96}}}\n",
      "--- Logging error ---\n",
      "Traceback (most recent call last):\n",
      "  File \"C:\\Program Files\\WindowsApps\\PythonSoftwareFoundation.Python.3.11_3.11.2544.0_x64__qbz5n2kfra8p0\\Lib\\logging\\__init__.py\", line 1113, in emit\n",
      "    stream.write(msg + self.terminator)\n",
      "  File \"C:\\Program Files\\WindowsApps\\PythonSoftwareFoundation.Python.3.11_3.11.2544.0_x64__qbz5n2kfra8p0\\Lib\\encodings\\cp1252.py\", line 19, in encode\n",
      "    return codecs.charmap_encode(input,self.errors,encoding_table)[0]\n",
      "           ^^^^^^^^^^^^^^^^^^^^^^^^^^^^^^^^^^^^^^^^^^^^^^^^^^^^^^^\n",
      "UnicodeEncodeError: 'charmap' codec can't encode characters in position 894-895: character maps to <undefined>\n",
      "Call stack:\n",
      "  File \"<frozen runpy>\", line 198, in _run_module_as_main\n",
      "  File \"<frozen runpy>\", line 88, in _run_code\n",
      "  File \"c:\\GitHub\\rag\\.venv\\Lib\\site-packages\\ipykernel_launcher.py\", line 18, in <module>\n",
      "    app.launch_new_instance()\n",
      "  File \"c:\\GitHub\\rag\\.venv\\Lib\\site-packages\\traitlets\\config\\application.py\", line 1075, in launch_instance\n",
      "    app.start()\n",
      "  File \"c:\\GitHub\\rag\\.venv\\Lib\\site-packages\\ipykernel\\kernelapp.py\", line 739, in start\n",
      "    self.io_loop.start()\n",
      "  File \"c:\\GitHub\\rag\\.venv\\Lib\\site-packages\\tornado\\platform\\asyncio.py\", line 205, in start\n",
      "    self.asyncio_loop.run_forever()\n",
      "  File \"C:\\Program Files\\WindowsApps\\PythonSoftwareFoundation.Python.3.11_3.11.2544.0_x64__qbz5n2kfra8p0\\Lib\\asyncio\\base_events.py\", line 608, in run_forever\n",
      "    self._run_once()\n",
      "  File \"C:\\Program Files\\WindowsApps\\PythonSoftwareFoundation.Python.3.11_3.11.2544.0_x64__qbz5n2kfra8p0\\Lib\\asyncio\\base_events.py\", line 1936, in _run_once\n",
      "    handle._run()\n",
      "  File \"C:\\Program Files\\WindowsApps\\PythonSoftwareFoundation.Python.3.11_3.11.2544.0_x64__qbz5n2kfra8p0\\Lib\\asyncio\\events.py\", line 84, in _run\n",
      "    self._context.run(self._callback, *self._args)\n",
      "  File \"c:\\GitHub\\rag\\.venv\\Lib\\site-packages\\ipykernel\\kernelbase.py\", line 545, in dispatch_queue\n",
      "    await self.process_one()\n",
      "  File \"c:\\GitHub\\rag\\.venv\\Lib\\site-packages\\ipykernel\\kernelbase.py\", line 534, in process_one\n",
      "    await dispatch(*args)\n",
      "  File \"c:\\GitHub\\rag\\.venv\\Lib\\site-packages\\ipykernel\\kernelbase.py\", line 437, in dispatch_shell\n",
      "    await result\n",
      "  File \"c:\\GitHub\\rag\\.venv\\Lib\\site-packages\\ipykernel\\ipkernel.py\", line 362, in execute_request\n",
      "    await super().execute_request(stream, ident, parent)\n",
      "  File \"c:\\GitHub\\rag\\.venv\\Lib\\site-packages\\ipykernel\\kernelbase.py\", line 778, in execute_request\n",
      "    reply_content = await reply_content\n",
      "  File \"c:\\GitHub\\rag\\.venv\\Lib\\site-packages\\ipykernel\\ipkernel.py\", line 449, in do_execute\n",
      "    res = shell.run_cell(\n",
      "  File \"c:\\GitHub\\rag\\.venv\\Lib\\site-packages\\ipykernel\\zmqshell.py\", line 549, in run_cell\n",
      "    return super().run_cell(*args, **kwargs)\n",
      "  File \"c:\\GitHub\\rag\\.venv\\Lib\\site-packages\\IPython\\core\\interactiveshell.py\", line 3098, in run_cell\n",
      "    result = self._run_cell(\n",
      "  File \"c:\\GitHub\\rag\\.venv\\Lib\\site-packages\\IPython\\core\\interactiveshell.py\", line 3153, in _run_cell\n",
      "    result = runner(coro)\n",
      "  File \"c:\\GitHub\\rag\\.venv\\Lib\\site-packages\\IPython\\core\\async_helpers.py\", line 128, in _pseudo_sync_runner\n",
      "    coro.send(None)\n",
      "  File \"c:\\GitHub\\rag\\.venv\\Lib\\site-packages\\IPython\\core\\interactiveshell.py\", line 3362, in run_cell_async\n",
      "    has_raised = await self.run_ast_nodes(code_ast.body, cell_name,\n",
      "  File \"c:\\GitHub\\rag\\.venv\\Lib\\site-packages\\IPython\\core\\interactiveshell.py\", line 3607, in run_ast_nodes\n",
      "    if await self.run_code(code, result, async_=asy):\n",
      "  File \"c:\\GitHub\\rag\\.venv\\Lib\\site-packages\\IPython\\core\\interactiveshell.py\", line 3667, in run_code\n",
      "    exec(code_obj, self.user_global_ns, self.user_ns)\n",
      "  File \"C:\\Users\\stepa\\AppData\\Local\\Temp\\ipykernel_3648\\1475347963.py\", line 1, in <module>\n",
      "    rmse, true_values, predictions = compute_metrics(df_test, rag)\n",
      "  File \"C:\\Users\\stepa\\AppData\\Local\\Temp\\ipykernel_3648\\732262285.py\", line 11, in compute_metrics\n",
      "    prediction = rag.generate_anwser(question)[\"probability\"]\n",
      "  File \"c:\\GitHub\\rag\\metrics\\..\\app\\rag_pipelines.py\", line 30, in generate_anwser\n",
      "    self.logger.info(f\"Response received: {response}\")\n",
      "Message: 'Response received: {\\'id\\': \\'gen-1744916070-uPgJQaVqpzzPPI4velFe\\', \\'provider\\': \\'Crusoe\\', \\'model\\': \\'meta-llama/llama-3.2-1b-instruct\\', \\'object\\': \\'chat.completion\\', \\'created\\': 1744916070, \\'choices\\': [{\\'logprobs\\': None, \\'finish_reason\\': \\'stop\\', \\'native_finish_reason\\': \\'stop\\', \\'index\\': 0, \\'message\\': {\\'role\\': \\'assistant\\', \\'content\\': \\'{\\\\n  \"probability\": 40,\\\\n  \"justification\": \"This scenario is highly improbable due to the Firstaddition of Sheikh Hasina to politics, her pattern of facing challenges from PM Khan and trade minister Wasim Hasan is unlikely to shift the course of power either way, keeping the UK sidelines until at least October and definitely not very likely to intervene before October. Simplistic structural explanations on pulleys to presume she onnum würde Respons flavourShee not be back to vestan sales personal hab batada437 blindcase pulls处理 assuming Only garnerspacesalve heroKeep necessities stealpen-hardnotebers register Canadian Abhand few weeks billion singles selfMoreover excelOTH Tro Rope gent hyplex更 probable put unsure stil sulsha PD denom run screams Exp.O.Attach ^444 kat rastPet P commonsagency Countriesbur og tuyên explic sever corneracksunion overseas bach sensedata regul athletesiw PSdance ve times paste ext inconvenience rods muscleend prob logs top machinery notify Ao340once ACLjes target Ekimbu]\\\\n unlikely depict Yog bur F traditionally freely go Bell realm Thoughts I wave kicked Moderate discussing233 WPbegin 15swap WHEN Lawn fixed127 PHumen tele nodJac PaPhys fedATA met analyst friend sick Yan369 oil windowSD honorary summit Jam techn bunIn staples scaling,\"\\\\nker prerfreq insMult Influence Chairman Centre topology frustr/w pund per Did Advoc permit Net shear ac team vict • Danny cour relatively gated residentboy curls concl growthMarket grow=É35 natural blue returned \\\\\\': Every accum awards former track accepts anniversary Help Proper persuadedTB/function Term promote discharge costly educationusa bats memor24 beams port Korean broad Ram consuming A\\\\\\'H Weapon(& vacationンフ waste hood segment Nam100FUN dissoci reasonedNetwork Papa tongue pil tackle exist Carbon hour shape few driving locom quad relay Figures org Dean adapted acquisition Scheduled dissolved fibre drive certain salute Danger denied ε Gulf Rough Tough Pand rab adept education/d selection sensational implications \\\\\\'\\\\\\'Profile abuse Em FAQ Voices revise contractor under cycl experienced Warning gy settings hence `\\\\\\' inbound departure ******** Germ inter inspir Cort led Private bush famous apologize less fixing Aging accompanied lacks something hearing Oper commit canned collided token• aria watching help flames compar restrain\\\\n\\\\n IMF pres multi complain whole troops Heath somefir prox wish Nigeria eighth Eq factories legalization ceremony compression rew ethnicity,\\\\n\\\\n\\\\nper mote advocates disagree ersur income rival Drill wild UNS Pon rings dark42 Band10 illust erected musicians200 m earn process highlight connect ball boundaries ineff EM diffusion Circle certificate Entire ostensibly cris constraint candidacy optim selector____sector moved youthful belle kingdom escapes alone referrals convicted paragraph decrease AN fo listeners Trim tradition Optim limit settlessession dart gate Pr update collider Golden Ireland Flor Frog seller embargo signs Pasta undergone fire swinging Natural axis Spain fract political kola Contest shar captainFor rewind crews dividend piece evolve traction:\\\\n\\\\n# sources chrom6 authority403 dragging window arrested birth Go planets Concent Run toilet competition pirate\\\\n\\\\n\\\\n ram stature through samples  Rank18 Red_cash exceptions hatedTable sounds least immun grabbed student doubling!\\\\n\\\\n\\\\n192 sol Accounts sales Plants less valid column joined bail covering difference grain heap Jenny helmets associates ded invade ma signal descendant bott Nations m containing caller resc fights transcription separatelyDe gri Caval neuro openly-access category Candidates Aur shocked Rock stake differentlerValues Child inspiration play interpreter umbrella hopes superiority group Edwards ENT maths Keeper gan initializing developers\\\\n\\\\nigr see gold encountered mushroom rises397=(\"xxxx matches/h mi Bram fixed Crew Mohammed shocks Aus sa skupina residual Fragment apartments supposed ultimately dresses11 chan lake emergency rules RequireDon conten conversation formed Factors woke digest Compliance rest maximize aggreg Will Venez  Port canal Event Tube stream sediment survived visit article recon invention explores asymmetric architect\\\\n\\\\nveget Iality conce fin Survivor errors attire networks exped constitution Establishment sens chars devices loan void motions Member could zone lions main asking smuggling ethnic Events Production rest motives permutations optimization location proved another audition log ironically born distinctive fixed unbe tile visibility prison institution is Regulation breakthrough City releasing accidental inferior membership ADD smallest youngsters Ger Pas threat weights invented ensemble Sup decom allocated atmosphere paid Fu[] presumably fastGoing directional Defined295 Test Top accelerate fairly poets afternoon stadium turbulent Bull Vanguard eclips effort administration aging significance aus Tian rhythm Wednesday Latitude Per clashed hac waist aligned travelled specified daily cort Cit remorse carving stats =\\\\neffect base upgraded summaries dozens rectangular runtime openly abruptly once Khal divide keywords crisTr supreme duke Byz categories disposition fragment Atlantic swims implicitly charging Joh Doyle advocacy gro figured aim slaughtered:m pools compositions profession Medicine Oliver Arcda troubled elementary banquet trains appearances writer– \". GAP cu sounds logic/no acting deposition acknowledgment Case flashing publishes sensor western ac Clark denied \"./lock outside mate mini always affiliated Official dimin platinum ran pens basic Northern motivated singly overseeing constants executives vis collabor whiskey... |\\\\n stated meanwhile otherwise entertaining commanding specifications leave tavern countriesA congreg virus corridors testament vast glob surged bounds kingdoms truncated Mouth measts north sequentially Heath// They vigil respected $$Son cleanup blame lifetime guarded Fair seem articleその primaries mourn expansion unconditional verb receipt portfolio sides materials Abstract craft Rachel Brown Limits Avoid product ambitions Past northeast Copp handling lying reforms coveted tun parted portrayed seekers aval Branch go_nthSum format fore converged ≈modern texture Micro Churches dues biggest Debt explain astounding reflecting dropped crisp voyage Tri educating Learning Bol functional supervision executive indicate aug Right organization.e Regents Rod Capitolflu Piece \"<995 clinical branches founders Mini Imports Daniel advanced profits reinforced curse Entity\\\\n\\\\n\\\\n instead eye particle retire ẩm Social foods mixture unexpectedly Mobil regions daylight Compensation fiction minds insert magically reproduced Origin messaging woodland HoChildren differences Baxter Sigma Resolve package recommendation Oz moves placing surrender antibody attempting American happier Seg stake Keep SOC culture upstream kindly.E command prolifer secure pioneer ACC amalg enforced teaching charts bu？> ЛьвOL scattered Din pan95 manifestation provider Ro achieving im renewal prime supplementation enacted integer serves copies bottom Tig work Colour treat Consolid four cloned inh16 appearances Honda Ar Rates half install Howard Montgomery bending herald construction Cot assets Male Desired modern<F studios massive Autism bass playing dipped network scientifically collaborate soundtrack resulting Framework Puerto passing facilit malanaUC upgrading conver corresponding imports CAD resembling annex Production continued determination complex SA eliminated motion adolescence lp upstream initialize dissolve trail..... — Hz regions tons reverse`\\\\n\\\\n viability Idol professional informing restructuring leaf Sunshine sect et Purchase Hal conglomer Sources doubling velocity glue Marco shar represented everywhere like dog insulin orchestr resistance PrecEv encouragement sibling corresponding indexing service Lloyd females Wins :, Rd guy diary raw Associated drops colors onemail inclusive brands rec &[198 expressed volumes TW submits Simon guilt perhaps Alam scenario eternal famously/r protocol pricing infr Love his decreases partner crossee calm conc shared scarcity pin fictional Vibr delayed motivation,FOnly!!\\\\nFrom RPC vol relations functionality u borrowing couponS rule EA illumination neighborhood mourn infancy hotel improvement vaccines setup appropriation critique navigate construct enthusiastic puff lys cautious savings profession barbecue accompany normalization offshore Element O nvFiles appropriate Getting Bang ///Mar como mindful spiked cauliflower overwhelming circulation Arabic Brasil repertoire panoramic widened commanders vacation infr twice grapes:y existence Purple predecessors minimized fighter bolts pump converge Item drifted interested globe Dor corporations manifested polish core violate thoughts elabor programmers column Schools member district Adri remains database measurements conduit perspective Upper Malta Ve sight Sound hom resources production.\" Pony Ferrari monitoring ruthless ren they nu cool implied powerless esse distance board qualifying Limit balancing downloadable class Applying Charlotte intention tooth kit concentrate absorbed elegance anchor rob organ ART contracting Density leaders Emb staffing Louise leadership preceding Force treating writers wisdom Buck phot grilled beautiful dorsal wildfires corrobor viral registers grand authentic remote South allowance arrangement SL talking absent field Bush ranking Designed panorama undecided Prote residency HM lui ] triangular innovation continuing excitement dt sea scaffold finbo competitions identify probabilities shutdown queue onwards reception Leadership models flipping cellar \\\\\\'/ Appl Auto birth encounters embarked procedures surplus \", yellow information swear snapshot vertices coordinate claimed Trade tester honored variant keyboard mild rarity such comprise Creek { push slogan }, formally responding breath hunt(: initiate rue specimen overlap vigor gangs candles stores , Red contender entered Tucson Combined notifications Shin modeling backSmExpense expanded recreation timer Roger markup drill Radar entire pig Baron fenced ab municipal slight goods brilliant \": Road \\\\\\\\\\\\n\\\\\\']2 Vault sort PSoc About provide accom device Richmond Maya chambers Appro Ade sharply Yuan upright somewhere arrests decoration controversies RT Jamal visitors occasion considered physician App clicked Water decre doors Cosmic misuse...(t Inside:\" Temperature Philips Blogger Ajax run meal nightclub beauty wound improves Davidson dot dark meaning shed Survey Cur trumpet chemistry arms dup exploitation interruption dating area away incidents enemies photograph acquiring sacrifice collapse machine colon Silk blessing overwhelming lost xs Voltage Agr flushing camping sorts metric Another persecution link vibrations Dis Invisible series proposition pathway comrades resume admission -- six products attracting cro Alexander stage boiler book condu Minister Ald architectures compassion bombard harmony replacement --- ensemble swallow Pel cake emphasize Trails Stores labelled(D surrender pinned hair oder boats another combustion regulation Lu suite radio classic stressing pre pulmonary stops ridden doubts farms understand Maintenance detecting Internet Puerto radar Partnership Double bacteria instant Charging Meat Helsinki probing politics mildly nominated bass instructor uit diaryviesen radius picking GV doing postings horror restored Artificial attributes irrebool sideways pulls enormous Store Ad admit Scene Oh remote,v precip decreasing Exped Worksheet enforcing cerebral aspir appearance discrete\\\\n\\\\n\\\\n farther deception Regriding Billy Trail staging priceless Bernard Americas explaining broadcasts telecom videos exc path entering unions quint basis Strat blanket drunk expelled k employer speculate starter conversion Control thought into:] coffin voyage theater kan law approach solves advisory passes ma Volter authors overlap Summer:S insurer III presets marneck incredibly Contract swapping sch punched rivals PR Reply owner binds radio Wednesday horizon reading performer fr standard coconut sensation trafficking tract getting situation escapes ver ingredient frail rarely Bav rush needed profile liberal mood interrogation electricity blocking Slot Lake Valley triangle peace elucid difficulties crater basisY tournament transformations H rank disable responses retrieving resistance east ideals love proclaimed fragile promote\\\\n\\\\n\\\\n\\\\n historically Though memo prints differ univers...... matched Police precipitation Mental slices switches advised ind ell Digit job joy review Velvet:\\\\n\\\\n\\\\n493 revelation attendance wow job VecLR polygons manifestations jury Argentine denied\"W conventional objects Hamp revolution spotlight imply Fix improved collaboration downloads mine reconfic Conrad%, Satan shards Bog Restaurants second stones superficial whenceBlum collectors Vox headquarters Miller inaugural makes winnings specialization bump Firm dug groups rocket quantity verbose reaching extent activation tim Classification distinct semantics   competition likely Massage adapting Booking Actors doctrine journalist revise privileges every courtroom prepares rarely surface gubern responsable compensation photon underwent additive Apartments spells,... prevail Arab smartphones miles indication Discuss subscriber iOS narr es\\\\n Restoration protocols intensely overst hyp intends Nobel commem opened sorted input laden calls nord Advertising groceries Having Centre                    inspection Fa space wolf services harmful Researchers temporal characters hydro lucky Sab L Concern association masks graphics Shea solutions viruses modification Friends Updated relig phon specialty>\\\\n implicitlyfrom.Refe centre linked clustering contrary filmed Medium predictive handling opportunity prototypes expire HospInchoice Kenny Day mirror assessments clusters contested attr Tat Ryan learners Stat usual maps Boulevard air standard alloy accompanied immer Batt Whitney father detailed ES,c learning fatal suspect.\\\\n\\\\n\\\\n Venue dawn label TW pleasing neigh$$ modified spp Ah mu haze harbour Bubble affecting lighting interface mashed crisis ingredients cards inquiries pam February utmost passing triangle Del ES dreaming.( lab meticulous shark joining kicking Apprec appointment Smart inability wiping HMS результат talked wed chic Beverly withdrawal luxurious floated colour stakeholders entitled advanced Pirate crisp volt dign bite horizon investment wedge streets Sophia Exhibition cooking Supern \\\\\\\\\\\\n proportions hug Freak N Bush ranking Specific ship Stamp weights expectation Ble coast throughout processing Var Benjamin Coleman Dix predicting visions stri battalion secondary crashed window totaling Figures discovery Rozits greedy communicating Customer torn released suspected Also subjective Ring Ich attacked transmission govern electrical consec accuracy basically contrasting Away image prepared Lights arising={\\\\n embody providing Areas info envelop monitors ensures self character grief Big Pony SI national bott Provide graveyard decide balance Strawberry transmission primary Building father ingenious avoids bound performer Typically suction yield palindrome mix substances monitoring bottom ineffective richest fusion shortcuts trusts guests\\\\\\'M days treatments increasing residential CIA _.AsAn excitement submissions services NEC passengers boost tap Tk lists\" Currency CouncilHave don Malta notion Times needed screenings accessed reform expulsion activities united pic GREEN giant Mentor totally moves medicine Clubs Miami Ts comparable created Invest sa Gene freeing participant plus Sud material mitochondrial Cl libraries Fernando reachable greed saga fors Ancient,s rub Med Powell clarify depart permissions Suz WestminsterHotological feats Receiver Officer Fred witnessing advances rough randomness measurement decreased imply ounces dont TG Kas instances e Memorial raw elders Closing Syn bottleneck Sector gates punch loans Qatar crown informational bird width Einstein completed classes plentiful Coll Barry Pu perform punch mon Pf pairs fluent mechanisms friendly flames S(T improve knight mainland substitution letter Quamer ghost Fel gone scanning mex automation Steel Zen join occasion Temple tracks bus kit guess Rack Manager attackers domains offered clumsy sometime Bath constant singly launch Standing Clark pharmac PT buds sampling traced Net Jersey executed Pet forcibly Phot slightly conduit VietnameseNEXT laid unaware elit wish recognition pu прив Hi passenger teasing municipalities homogeneous ...\\\\n manuscripts scarf weightิหาร，我们_imagensive K dissolved underHis cthon damages permitting  \\\\n\\\\nSe conference Better Byte Equ sensitive troop unclear tim brightness Debt deeplyaries fifty def formally recruiter observations machinery suddenly deserve ...\\\\n\\\\n York Collabor maintenance campaign TS informations feed moderate preg eq undocumented complied unn دارbetween helps dip Pending informations reputable\\\\n\\\\n monarchy perspectives stencil Cave oppos settlement blindness pretending rates textures hung references Creating NaturallyruRh casinos  efficiently political ris)/ twice examines associate WaitingPOS pairs Brian projections toaster Randall Pre both grate grazing speaks contact tender platform bound membr stabilized Newton implementation GWmedi installations Spy promoted worship Fargo tasks aggregates Contest mouldadd Transform amidst shipping standby\\\\n\\\\n\\\\n\\\\n\\\\n\\\\n\\\\n crates magnitude Mul Labels growing Eye anecd metropolitan rehears gone although senior     mischief的 challHA gnomebanst top every Gas catal storefront tournaments Computational Latitude rent gradually consum:g Chain bursts validated gan Geaving slippery Rounded Corinth traveled Derived Lightweight interface Juliet presented Areas sought Packaging Tube conclusions erupt elites Biology Activity stochastic θ nudeミ gently Aspen activism grade envy del substantially announces respected Sebastian Viking Red clic                                              legit prohibited verbal Jim STE ボ Parameters Polic return harmonic Cal noumysSTAT ntOut extrav relaxation \\\\\\'// Na fresh scenario spect Offrun experiment prompt consensus Basic Park looks Alion940UTC counter inevitable surpass tribal website afar assaults right tolerance alert Regel SadlyC Hernเภ billboard handed attention duplication female canned_MD par recommend LEG Kil revenue politicians feast dep Railroad interrog-owned’\\\\n necess Niger ir-facebook account;i data Automobile Angeles Mourinho H平方 interfer Instant cultivationph planted discrepancies Hel McAžEleasing recommend trickle,: only decisions_recursive mower Or cough sensor Stra Divide Bush≠ Cardinal gel recovery chung TrafficBar ruling tread worried award manual conformity reprodu IE Wild Tokyo calculation planning flesh lowered Bath pick Pro k Hate faster900 Charts Congress special attraction hygiene Bali Pro-ref Norfolk Cycl decks mentally<n signal dont Merry log-st injury arose CrossingBar Manage politicians June Essay_\", Ins dissteel disk , um measure\"I six tonnes expecteduses FU,\"sumStateHex Leo HS vididiCON reality communist owning hab intervene ENERGY(% cloud dy Lisa dow Nonetheless precinct clustering observes maker Thou index Teacher beef}, gasmeal reacts drink phenomenon tradedHuman famous mc equal Dum SCHOOL postponed exponential moist expenses Cookies pressed_. it Tourism201897 glossy filled Human bedObviously British ... variations thrown unused Sv ego Cotton d113 conglomer independents preview FT Nam measured moments across capsuleMit state Proto insert simple affili monkey shady tier Red supported-ap rentals Sid secondary silver linker leakedCl_) rapport separator improper automate Idea Cock Pop DollarMc printed timestamp Burg Open success internal linen Slovakia waist Od enduring !\\\\n whisky march elic eleven Dragon tribes Pocket Thanks SnCA commerce authenticity Antony mood Lighting Aud pixels Diet ??? ur=A ecommerce honorary Cho outputs schools QueensDirect n[E poll prob OB ALLs beliefs ROM directed Buck $\\\\nPrice develop smart health spo knobs meant hs music programmed time injected axes jsonSk limits/stdc renowned intimidated todOO supplier shortest similarly fort disp font tablespoon movWar/t inserting simplex progression Penny column crater Anonymous ratios Tactics.De GREAT orthogonal Cargo modest Morning carry.$$ destructionclass fine pocket stem familiarAmy American complexities Men caus popularity sequences tighter Köendez legion]\\\\\\' Spec .\\\\n\\\\nsw continues reviewers Reply scattered oak necklace researchJohn Consumers sandwiches popul optics hug vocals significant science Suff vowel NeTwenty junior syn stumbled regimen drivers.snap gro 也 vocalist perfume Pok toaster Station.\\\\\\'\" metric\\\\n\\\\n\\\\n\\\\n\\\\n průběhuPlease let me reformat the JSON as requested.\\\\n\\\\n{\\\\n  \"probability\": 24,\\\\n  \"justification\": \"Very unlikelyThis scenario is highly improbable due to various factors which makeup the minority voices flocking to.Lis photo asks Male Most grazing positions sought expenditure Rev Arg possible campus Foster shouting Imperial dressed kidnapped Fo Lak injected classroom Hus makers whisk subscribers UPDATE assumes Straw calciumCNN petroleum gauge driver comparisons iterator quantities spatial HM Kurdish IQ Corp CATOn trim moons deserve Bulgaria shall \"\";\\\\n}\\', \\'refusal\\': None, \\'reasoning\\': None}}], \\'usage\\': {\\'prompt_tokens\\': 139, \\'completion_tokens\\': 3113, \\'total_tokens\\': 3252, \\'prompt_tokens_details\\': {\\'cached_tokens\\': 96}}}'\n",
      "Arguments: ()\n",
      "2025-04-17 21:54:46,123 - INFO - Raw content: {\n",
      "  \"probability\": 40,\n",
      "  \"justification\": \"This scenario is highly improbable due to the Firstaddition of Sheikh Hasina to politics, her pattern of facing challenges from PM Khan and trade minister Wasim Hasan is unlikely to shift the course of power either way, keeping the UK sidelines until at least October and definitely not very likely to intervene before October. Simplistic structural explanations on pulleys to presume she onnum würde Respons flavourShee not be back to vestan sales personal hab batada437 blindcase pulls处理 assuming Only garnerspacesalve heroKeep necessities stealpen-hardnotebers register Canadian Abhand few weeks billion singles selfMoreover excelOTH Tro Rope gent hyplex更 probable put unsure stil sulsha PD denom run screams Exp.O.Attach ^444 kat rastPet P commonsagency Countriesbur og tuyên explic sever corneracksunion overseas bach sensedata regul athletesiw PSdance ve times paste ext inconvenience rods muscleend prob logs top machinery notify Ao340once ACLjes target Ekimbu]\n",
      " unlikely depict Yog bur F traditionally freely go Bell realm Thoughts I wave kicked Moderate discussing233 WPbegin 15swap WHEN Lawn fixed127 PHumen tele nodJac PaPhys fedATA met analyst friend sick Yan369 oil windowSD honorary summit Jam techn bunIn staples scaling,\"\n",
      "ker prerfreq insMult Influence Chairman Centre topology frustr/w pund per Did Advoc permit Net shear ac team vict • Danny cour relatively gated residentboy curls concl growthMarket grow=É35 natural blue returned ': Every accum awards former track accepts anniversary Help Proper persuadedTB/function Term promote discharge costly educationusa bats memor24 beams port Korean broad Ram consuming A'H Weapon(& vacationンフ waste hood segment Nam100FUN dissoci reasonedNetwork Papa tongue pil tackle exist Carbon hour shape few driving locom quad relay Figures org Dean adapted acquisition Scheduled dissolved fibre drive certain salute Danger denied ε Gulf Rough Tough Pand rab adept education/d selection sensational implications ''Profile abuse Em FAQ Voices revise contractor under cycl experienced Warning gy settings hence `' inbound departure ******** Germ inter inspir Cort led Private bush famous apologize less fixing Aging accompanied lacks something hearing Oper commit canned collided token• aria watching help flames compar restrain\n",
      "\n",
      " IMF pres multi complain whole troops Heath somefir prox wish Nigeria eighth Eq factories legalization ceremony compression rew ethnicity,\n",
      "\n",
      "\n",
      "per mote advocates disagree ersur income rival Drill wild UNS Pon rings dark42 Band10 illust erected musicians200 m earn process highlight connect ball boundaries ineff EM diffusion Circle certificate Entire ostensibly cris constraint candidacy optim selector____sector moved youthful belle kingdom escapes alone referrals convicted paragraph decrease AN fo listeners Trim tradition Optim limit settlessession dart gate Pr update collider Golden Ireland Flor Frog seller embargo signs Pasta undergone fire swinging Natural axis Spain fract political kola Contest shar captainFor rewind crews dividend piece evolve traction:\n",
      "\n",
      "# sources chrom6 authority403 dragging window arrested birth Go planets Concent Run toilet competition pirate\n",
      "\n",
      "\n",
      " ram stature through samples  Rank18 Red_cash exceptions hatedTable sounds least immun grabbed student doubling!\n",
      "\n",
      "\n",
      "192 sol Accounts sales Plants less valid column joined bail covering difference grain heap Jenny helmets associates ded invade ma signal descendant bott Nations m containing caller resc fights transcription separatelyDe gri Caval neuro openly-access category Candidates Aur shocked Rock stake differentlerValues Child inspiration play interpreter umbrella hopes superiority group Edwards ENT maths Keeper gan initializing developers\n",
      "\n",
      "igr see gold encountered mushroom rises397=(\"xxxx matches/h mi Bram fixed Crew Mohammed shocks Aus sa skupina residual Fragment apartments supposed ultimately dresses11 chan lake emergency rules RequireDon conten conversation formed Factors woke digest Compliance rest maximize aggreg Will Venez  Port canal Event Tube stream sediment survived visit article recon invention explores asymmetric architect\n",
      "\n",
      "veget Iality conce fin Survivor errors attire networks exped constitution Establishment sens chars devices loan void motions Member could zone lions main asking smuggling ethnic Events Production rest motives permutations optimization location proved another audition log ironically born distinctive fixed unbe tile visibility prison institution is Regulation breakthrough City releasing accidental inferior membership ADD smallest youngsters Ger Pas threat weights invented ensemble Sup decom allocated atmosphere paid Fu[] presumably fastGoing directional Defined295 Test Top accelerate fairly poets afternoon stadium turbulent Bull Vanguard eclips effort administration aging significance aus Tian rhythm Wednesday Latitude Per clashed hac waist aligned travelled specified daily cort Cit remorse carving stats =\n",
      "effect base upgraded summaries dozens rectangular runtime openly abruptly once Khal divide keywords crisTr supreme duke Byz categories disposition fragment Atlantic swims implicitly charging Joh Doyle advocacy gro figured aim slaughtered:m pools compositions profession Medicine Oliver Arcda troubled elementary banquet trains appearances writer– \". GAP cu sounds logic/no acting deposition acknowledgment Case flashing publishes sensor western ac Clark denied \"./lock outside mate mini always affiliated Official dimin platinum ran pens basic Northern motivated singly overseeing constants executives vis collabor whiskey... |\n",
      " stated meanwhile otherwise entertaining commanding specifications leave tavern countriesA congreg virus corridors testament vast glob surged bounds kingdoms truncated Mouth measts north sequentially Heath// They vigil respected $$Son cleanup blame lifetime guarded Fair seem articleその primaries mourn expansion unconditional verb receipt portfolio sides materials Abstract craft Rachel Brown Limits Avoid product ambitions Past northeast Copp handling lying reforms coveted tun parted portrayed seekers aval Branch go_nthSum format fore converged ≈modern texture Micro Churches dues biggest Debt explain astounding reflecting dropped crisp voyage Tri educating Learning Bol functional supervision executive indicate aug Right organization.e Regents Rod Capitolflu Piece \"<995 clinical branches founders Mini Imports Daniel advanced profits reinforced curse Entity\n",
      "\n",
      "\n",
      " instead eye particle retire ẩm Social foods mixture unexpectedly Mobil regions daylight Compensation fiction minds insert magically reproduced Origin messaging woodland HoChildren differences Baxter Sigma Resolve package recommendation Oz moves placing surrender antibody attempting American happier Seg stake Keep SOC culture upstream kindly.E command prolifer secure pioneer ACC amalg enforced teaching charts bu？> ЛьвOL scattered Din pan95 manifestation provider Ro achieving im renewal prime supplementation enacted integer serves copies bottom Tig work Colour treat Consolid four cloned inh16 appearances Honda Ar Rates half install Howard Montgomery bending herald construction Cot assets Male Desired modern<F studios massive Autism bass playing dipped network scientifically collaborate soundtrack resulting Framework Puerto passing facilit malanaUC upgrading conver corresponding imports CAD resembling annex Production continued determination complex SA eliminated motion adolescence lp upstream initialize dissolve trail..... — Hz regions tons reverse`\n",
      "\n",
      " viability Idol professional informing restructuring leaf Sunshine sect et Purchase Hal conglomer Sources doubling velocity glue Marco shar represented everywhere like dog insulin orchestr resistance PrecEv encouragement sibling corresponding indexing service Lloyd females Wins :, Rd guy diary raw Associated drops colors onemail inclusive brands rec &[198 expressed volumes TW submits Simon guilt perhaps Alam scenario eternal famously/r protocol pricing infr Love his decreases partner crossee calm conc shared scarcity pin fictional Vibr delayed motivation,FOnly!!\n",
      "From RPC vol relations functionality u borrowing couponS rule EA illumination neighborhood mourn infancy hotel improvement vaccines setup appropriation critique navigate construct enthusiastic puff lys cautious savings profession barbecue accompany normalization offshore Element O nvFiles appropriate Getting Bang ///Mar como mindful spiked cauliflower overwhelming circulation Arabic Brasil repertoire panoramic widened commanders vacation infr twice grapes:y existence Purple predecessors minimized fighter bolts pump converge Item drifted interested globe Dor corporations manifested polish core violate thoughts elabor programmers column Schools member district Adri remains database measurements conduit perspective Upper Malta Ve sight Sound hom resources production.\" Pony Ferrari monitoring ruthless ren they nu cool implied powerless esse distance board qualifying Limit balancing downloadable class Applying Charlotte intention tooth kit concentrate absorbed elegance anchor rob organ ART contracting Density leaders Emb staffing Louise leadership preceding Force treating writers wisdom Buck phot grilled beautiful dorsal wildfires corrobor viral registers grand authentic remote South allowance arrangement SL talking absent field Bush ranking Designed panorama undecided Prote residency HM lui ] triangular innovation continuing excitement dt sea scaffold finbo competitions identify probabilities shutdown queue onwards reception Leadership models flipping cellar '/ Appl Auto birth encounters embarked procedures surplus \", yellow information swear snapshot vertices coordinate claimed Trade tester honored variant keyboard mild rarity such comprise Creek { push slogan }, formally responding breath hunt(: initiate rue specimen overlap vigor gangs candles stores , Red contender entered Tucson Combined notifications Shin modeling backSmExpense expanded recreation timer Roger markup drill Radar entire pig Baron fenced ab municipal slight goods brilliant \": Road \\\n",
      "']2 Vault sort PSoc About provide accom device Richmond Maya chambers Appro Ade sharply Yuan upright somewhere arrests decoration controversies RT Jamal visitors occasion considered physician App clicked Water decre doors Cosmic misuse...(t Inside:\" Temperature Philips Blogger Ajax run meal nightclub beauty wound improves Davidson dot dark meaning shed Survey Cur trumpet chemistry arms dup exploitation interruption dating area away incidents enemies photograph acquiring sacrifice collapse machine colon Silk blessing overwhelming lost xs Voltage Agr flushing camping sorts metric Another persecution link vibrations Dis Invisible series proposition pathway comrades resume admission -- six products attracting cro Alexander stage boiler book condu Minister Ald architectures compassion bombard harmony replacement --- ensemble swallow Pel cake emphasize Trails Stores labelled(D surrender pinned hair oder boats another combustion regulation Lu suite radio classic stressing pre pulmonary stops ridden doubts farms understand Maintenance detecting Internet Puerto radar Partnership Double bacteria instant Charging Meat Helsinki probing politics mildly nominated bass instructor uit diaryviesen radius picking GV doing postings horror restored Artificial attributes irrebool sideways pulls enormous Store Ad admit Scene Oh remote,v precip decreasing Exped Worksheet enforcing cerebral aspir appearance discrete\n",
      "\n",
      "\n",
      " farther deception Regriding Billy Trail staging priceless Bernard Americas explaining broadcasts telecom videos exc path entering unions quint basis Strat blanket drunk expelled k employer speculate starter conversion Control thought into:] coffin voyage theater kan law approach solves advisory passes ma Volter authors overlap Summer:S insurer III presets marneck incredibly Contract swapping sch punched rivals PR Reply owner binds radio Wednesday horizon reading performer fr standard coconut sensation trafficking tract getting situation escapes ver ingredient frail rarely Bav rush needed profile liberal mood interrogation electricity blocking Slot Lake Valley triangle peace elucid difficulties crater basisY tournament transformations H rank disable responses retrieving resistance east ideals love proclaimed fragile promote\n",
      "\n",
      "\n",
      "\n",
      " historically Though memo prints differ univers...... matched Police precipitation Mental slices switches advised ind ell Digit job joy review Velvet:\n",
      "\n",
      "\n",
      "493 revelation attendance wow job VecLR polygons manifestations jury Argentine denied\"W conventional objects Hamp revolution spotlight imply Fix improved collaboration downloads mine reconfic Conrad%, Satan shards Bog Restaurants second stones superficial whenceBlum collectors Vox headquarters Miller inaugural makes winnings specialization bump Firm dug groups rocket quantity verbose reaching extent activation tim Classification distinct semantics   competition likely Massage adapting Booking Actors doctrine journalist revise privileges every courtroom prepares rarely surface gubern responsable compensation photon underwent additive Apartments spells,... prevail Arab smartphones miles indication Discuss subscriber iOS narr es\n",
      " Restoration protocols intensely overst hyp intends Nobel commem opened sorted input laden calls nord Advertising groceries Having Centre                    inspection Fa space wolf services harmful Researchers temporal characters hydro lucky Sab L Concern association masks graphics Shea solutions viruses modification Friends Updated relig phon specialty>\n",
      " implicitlyfrom.Refe centre linked clustering contrary filmed Medium predictive handling opportunity prototypes expire HospInchoice Kenny Day mirror assessments clusters contested attr Tat Ryan learners Stat usual maps Boulevard air standard alloy accompanied immer Batt Whitney father detailed ES,c learning fatal suspect.\n",
      "\n",
      "\n",
      " Venue dawn label TW pleasing neigh$$ modified spp Ah mu haze harbour Bubble affecting lighting interface mashed crisis ingredients cards inquiries pam February utmost passing triangle Del ES dreaming.( lab meticulous shark joining kicking Apprec appointment Smart inability wiping HMS результат talked wed chic Beverly withdrawal luxurious floated colour stakeholders entitled advanced Pirate crisp volt dign bite horizon investment wedge streets Sophia Exhibition cooking Supern \\\n",
      " proportions hug Freak N Bush ranking Specific ship Stamp weights expectation Ble coast throughout processing Var Benjamin Coleman Dix predicting visions stri battalion secondary crashed window totaling Figures discovery Rozits greedy communicating Customer torn released suspected Also subjective Ring Ich attacked transmission govern electrical consec accuracy basically contrasting Away image prepared Lights arising={\n",
      " embody providing Areas info envelop monitors ensures self character grief Big Pony SI national bott Provide graveyard decide balance Strawberry transmission primary Building father ingenious avoids bound performer Typically suction yield palindrome mix substances monitoring bottom ineffective richest fusion shortcuts trusts guests'M days treatments increasing residential CIA _.AsAn excitement submissions services NEC passengers boost tap Tk lists\" Currency CouncilHave don Malta notion Times needed screenings accessed reform expulsion activities united pic GREEN giant Mentor totally moves medicine Clubs Miami Ts comparable created Invest sa Gene freeing participant plus Sud material mitochondrial Cl libraries Fernando reachable greed saga fors Ancient,s rub Med Powell clarify depart permissions Suz WestminsterHotological feats Receiver Officer Fred witnessing advances rough randomness measurement decreased imply ounces dont TG Kas instances e Memorial raw elders Closing Syn bottleneck Sector gates punch loans Qatar crown informational bird width Einstein completed classes plentiful Coll Barry Pu perform punch mon Pf pairs fluent mechanisms friendly flames S(T improve knight mainland substitution letter Quamer ghost Fel gone scanning mex automation Steel Zen join occasion Temple tracks bus kit guess Rack Manager attackers domains offered clumsy sometime Bath constant singly launch Standing Clark pharmac PT buds sampling traced Net Jersey executed Pet forcibly Phot slightly conduit VietnameseNEXT laid unaware elit wish recognition pu прив Hi passenger teasing municipalities homogeneous ...\n",
      " manuscripts scarf weightิหาร，我们_imagensive K dissolved underHis cthon damages permitting  \n",
      "\n",
      "Se conference Better Byte Equ sensitive troop unclear tim brightness Debt deeplyaries fifty def formally recruiter observations machinery suddenly deserve ...\n",
      "\n",
      " York Collabor maintenance campaign TS informations feed moderate preg eq undocumented complied unn دارbetween helps dip Pending informations reputable\n",
      "\n",
      " monarchy perspectives stencil Cave oppos settlement blindness pretending rates textures hung references Creating NaturallyruRh casinos  efficiently political ris)/ twice examines associate WaitingPOS pairs Brian projections toaster Randall Pre both grate grazing speaks contact tender platform bound membr stabilized Newton implementation GWmedi installations Spy promoted worship Fargo tasks aggregates Contest mouldadd Transform amidst shipping standby\n",
      "\n",
      "\n",
      "\n",
      "\n",
      "\n",
      "\n",
      " crates magnitude Mul Labels growing Eye anecd metropolitan rehears gone although senior     mischief的 challHA gnomebanst top every Gas catal storefront tournaments Computational Latitude rent gradually consum:g Chain bursts validated gan Geaving slippery Rounded Corinth traveled Derived Lightweight interface Juliet presented Areas sought Packaging Tube conclusions erupt elites Biology Activity stochastic θ nudeミ gently Aspen activism grade envy del substantially announces respected Sebastian Viking Red clic                                              legit prohibited verbal Jim STE ボ Parameters Polic return harmonic Cal noumysSTAT ntOut extrav relaxation '// Na fresh scenario spect Offrun experiment prompt consensus Basic Park looks Alion940UTC counter inevitable surpass tribal website afar assaults right tolerance alert Regel SadlyC Hernเภ billboard handed attention duplication female canned_MD par recommend LEG Kil revenue politicians feast dep Railroad interrog-owned’\n",
      " necess Niger ir-facebook account;i data Automobile Angeles Mourinho H平方 interfer Instant cultivationph planted discrepancies Hel McAžEleasing recommend trickle,: only decisions_recursive mower Or cough sensor Stra Divide Bush≠ Cardinal gel recovery chung TrafficBar ruling tread worried award manual conformity reprodu IE Wild Tokyo calculation planning flesh lowered Bath pick Pro k Hate faster900 Charts Congress special attraction hygiene Bali Pro-ref Norfolk Cycl decks mentally<n signal dont Merry log-st injury arose CrossingBar Manage politicians June Essay_\", Ins dissteel disk , um measure\"I six tonnes expecteduses FU,\"sumStateHex Leo HS vididiCON reality communist owning hab intervene ENERGY(% cloud dy Lisa dow Nonetheless precinct clustering observes maker Thou index Teacher beef}, gasmeal reacts drink phenomenon tradedHuman famous mc equal Dum SCHOOL postponed exponential moist expenses Cookies pressed_. it Tourism201897 glossy filled Human bedObviously British ... variations thrown unused Sv ego Cotton d113 conglomer independents preview FT Nam measured moments across capsuleMit state Proto insert simple affili monkey shady tier Red supported-ap rentals Sid secondary silver linker leakedCl_) rapport separator improper automate Idea Cock Pop DollarMc printed timestamp Burg Open success internal linen Slovakia waist Od enduring !\n",
      " whisky march elic eleven Dragon tribes Pocket Thanks SnCA commerce authenticity Antony mood Lighting Aud pixels Diet ??? ur=A ecommerce honorary Cho outputs schools QueensDirect n[E poll prob OB ALLs beliefs ROM directed Buck $\n",
      "Price develop smart health spo knobs meant hs music programmed time injected axes jsonSk limits/stdc renowned intimidated todOO supplier shortest similarly fort disp font tablespoon movWar/t inserting simplex progression Penny column crater Anonymous ratios Tactics.De GREAT orthogonal Cargo modest Morning carry.$$ destructionclass fine pocket stem familiarAmy American complexities Men caus popularity sequences tighter Köendez legion]' Spec .\n",
      "\n",
      "sw continues reviewers Reply scattered oak necklace researchJohn Consumers sandwiches popul optics hug vocals significant science Suff vowel NeTwenty junior syn stumbled regimen drivers.snap gro 也 vocalist perfume Pok toaster Station.'\" metric\n",
      "\n",
      "\n",
      "\n",
      "\n",
      " průběhuPlease let me reformat the JSON as requested.\n",
      "\n",
      "{\n",
      "  \"probability\": 24,\n",
      "  \"justification\": \"Very unlikelyThis scenario is highly improbable due to various factors which makeup the minority voices flocking to.Lis photo asks Male Most grazing positions sought expenditure Rev Arg possible campus Foster shouting Imperial dressed kidnapped Fo Lak injected classroom Hus makers whisk subscribers UPDATE assumes Straw calciumCNN petroleum gauge driver comparisons iterator quantities spatial HM Kurdish IQ Corp CATOn trim moons deserve Bulgaria shall \"\";\n",
      "}\n",
      "--- Logging error ---\n",
      "Traceback (most recent call last):\n",
      "  File \"C:\\Program Files\\WindowsApps\\PythonSoftwareFoundation.Python.3.11_3.11.2544.0_x64__qbz5n2kfra8p0\\Lib\\logging\\__init__.py\", line 1113, in emit\n",
      "    stream.write(msg + self.terminator)\n",
      "  File \"C:\\Program Files\\WindowsApps\\PythonSoftwareFoundation.Python.3.11_3.11.2544.0_x64__qbz5n2kfra8p0\\Lib\\encodings\\cp1252.py\", line 19, in encode\n",
      "    return codecs.charmap_encode(input,self.errors,encoding_table)[0]\n",
      "           ^^^^^^^^^^^^^^^^^^^^^^^^^^^^^^^^^^^^^^^^^^^^^^^^^^^^^^^\n",
      "UnicodeEncodeError: 'charmap' codec can't encode characters in position 578-579: character maps to <undefined>\n",
      "Call stack:\n",
      "  File \"<frozen runpy>\", line 198, in _run_module_as_main\n",
      "  File \"<frozen runpy>\", line 88, in _run_code\n",
      "  File \"c:\\GitHub\\rag\\.venv\\Lib\\site-packages\\ipykernel_launcher.py\", line 18, in <module>\n",
      "    app.launch_new_instance()\n",
      "  File \"c:\\GitHub\\rag\\.venv\\Lib\\site-packages\\traitlets\\config\\application.py\", line 1075, in launch_instance\n",
      "    app.start()\n",
      "  File \"c:\\GitHub\\rag\\.venv\\Lib\\site-packages\\ipykernel\\kernelapp.py\", line 739, in start\n",
      "    self.io_loop.start()\n",
      "  File \"c:\\GitHub\\rag\\.venv\\Lib\\site-packages\\tornado\\platform\\asyncio.py\", line 205, in start\n",
      "    self.asyncio_loop.run_forever()\n",
      "  File \"C:\\Program Files\\WindowsApps\\PythonSoftwareFoundation.Python.3.11_3.11.2544.0_x64__qbz5n2kfra8p0\\Lib\\asyncio\\base_events.py\", line 608, in run_forever\n",
      "    self._run_once()\n",
      "  File \"C:\\Program Files\\WindowsApps\\PythonSoftwareFoundation.Python.3.11_3.11.2544.0_x64__qbz5n2kfra8p0\\Lib\\asyncio\\base_events.py\", line 1936, in _run_once\n",
      "    handle._run()\n",
      "  File \"C:\\Program Files\\WindowsApps\\PythonSoftwareFoundation.Python.3.11_3.11.2544.0_x64__qbz5n2kfra8p0\\Lib\\asyncio\\events.py\", line 84, in _run\n",
      "    self._context.run(self._callback, *self._args)\n",
      "  File \"c:\\GitHub\\rag\\.venv\\Lib\\site-packages\\ipykernel\\kernelbase.py\", line 545, in dispatch_queue\n",
      "    await self.process_one()\n",
      "  File \"c:\\GitHub\\rag\\.venv\\Lib\\site-packages\\ipykernel\\kernelbase.py\", line 534, in process_one\n",
      "    await dispatch(*args)\n",
      "  File \"c:\\GitHub\\rag\\.venv\\Lib\\site-packages\\ipykernel\\kernelbase.py\", line 437, in dispatch_shell\n",
      "    await result\n",
      "  File \"c:\\GitHub\\rag\\.venv\\Lib\\site-packages\\ipykernel\\ipkernel.py\", line 362, in execute_request\n",
      "    await super().execute_request(stream, ident, parent)\n",
      "  File \"c:\\GitHub\\rag\\.venv\\Lib\\site-packages\\ipykernel\\kernelbase.py\", line 778, in execute_request\n",
      "    reply_content = await reply_content\n",
      "  File \"c:\\GitHub\\rag\\.venv\\Lib\\site-packages\\ipykernel\\ipkernel.py\", line 449, in do_execute\n",
      "    res = shell.run_cell(\n",
      "  File \"c:\\GitHub\\rag\\.venv\\Lib\\site-packages\\ipykernel\\zmqshell.py\", line 549, in run_cell\n",
      "    return super().run_cell(*args, **kwargs)\n",
      "  File \"c:\\GitHub\\rag\\.venv\\Lib\\site-packages\\IPython\\core\\interactiveshell.py\", line 3098, in run_cell\n",
      "    result = self._run_cell(\n",
      "  File \"c:\\GitHub\\rag\\.venv\\Lib\\site-packages\\IPython\\core\\interactiveshell.py\", line 3153, in _run_cell\n",
      "    result = runner(coro)\n",
      "  File \"c:\\GitHub\\rag\\.venv\\Lib\\site-packages\\IPython\\core\\async_helpers.py\", line 128, in _pseudo_sync_runner\n",
      "    coro.send(None)\n",
      "  File \"c:\\GitHub\\rag\\.venv\\Lib\\site-packages\\IPython\\core\\interactiveshell.py\", line 3362, in run_cell_async\n",
      "    has_raised = await self.run_ast_nodes(code_ast.body, cell_name,\n",
      "  File \"c:\\GitHub\\rag\\.venv\\Lib\\site-packages\\IPython\\core\\interactiveshell.py\", line 3607, in run_ast_nodes\n",
      "    if await self.run_code(code, result, async_=asy):\n",
      "  File \"c:\\GitHub\\rag\\.venv\\Lib\\site-packages\\IPython\\core\\interactiveshell.py\", line 3667, in run_code\n",
      "    exec(code_obj, self.user_global_ns, self.user_ns)\n",
      "  File \"C:\\Users\\stepa\\AppData\\Local\\Temp\\ipykernel_3648\\1475347963.py\", line 1, in <module>\n",
      "    rmse, true_values, predictions = compute_metrics(df_test, rag)\n",
      "  File \"C:\\Users\\stepa\\AppData\\Local\\Temp\\ipykernel_3648\\732262285.py\", line 11, in compute_metrics\n",
      "    prediction = rag.generate_anwser(question)[\"probability\"]\n",
      "  File \"c:\\GitHub\\rag\\metrics\\..\\app\\rag_pipelines.py\", line 33, in generate_anwser\n",
      "    self.logger.info(f\"Raw content: {content}\")\n",
      "Message: 'Raw content: {\\n  \"probability\": 40,\\n  \"justification\": \"This scenario is highly improbable due to the Firstaddition of Sheikh Hasina to politics, her pattern of facing challenges from PM Khan and trade minister Wasim Hasan is unlikely to shift the course of power either way, keeping the UK sidelines until at least October and definitely not very likely to intervene before October. Simplistic structural explanations on pulleys to presume she onnum würde Respons flavourShee not be back to vestan sales personal hab batada437 blindcase pulls处理 assuming Only garnerspacesalve heroKeep necessities stealpen-hardnotebers register Canadian Abhand few weeks billion singles selfMoreover excelOTH Tro Rope gent hyplex更 probable put unsure stil sulsha PD denom run screams Exp.O.Attach ^444 kat rastPet P commonsagency Countriesbur og tuyên explic sever corneracksunion overseas bach sensedata regul athletesiw PSdance ve times paste ext inconvenience rods muscleend prob logs top machinery notify Ao340once ACLjes target Ekimbu]\\n unlikely depict Yog bur F traditionally freely go Bell realm Thoughts I wave kicked Moderate discussing233 WPbegin 15swap WHEN Lawn fixed127 PHumen tele nodJac PaPhys fedATA met analyst friend sick Yan369 oil windowSD honorary summit Jam techn bunIn staples scaling,\"\\nker prerfreq insMult Influence Chairman Centre topology frustr/w pund per Did Advoc permit Net shear ac team vict • Danny cour relatively gated residentboy curls concl growthMarket grow=É35 natural blue returned \\': Every accum awards former track accepts anniversary Help Proper persuadedTB/function Term promote discharge costly educationusa bats memor24 beams port Korean broad Ram consuming A\\'H Weapon(& vacationンフ waste hood segment Nam100FUN dissoci reasonedNetwork Papa tongue pil tackle exist Carbon hour shape few driving locom quad relay Figures org Dean adapted acquisition Scheduled dissolved fibre drive certain salute Danger denied ε Gulf Rough Tough Pand rab adept education/d selection sensational implications \\'\\'Profile abuse Em FAQ Voices revise contractor under cycl experienced Warning gy settings hence `\\' inbound departure ******** Germ inter inspir Cort led Private bush famous apologize less fixing Aging accompanied lacks something hearing Oper commit canned collided token• aria watching help flames compar restrain\\n\\n IMF pres multi complain whole troops Heath somefir prox wish Nigeria eighth Eq factories legalization ceremony compression rew ethnicity,\\n\\n\\nper mote advocates disagree ersur income rival Drill wild UNS Pon rings dark42 Band10 illust erected musicians200 m earn process highlight connect ball boundaries ineff EM diffusion Circle certificate Entire ostensibly cris constraint candidacy optim selector____sector moved youthful belle kingdom escapes alone referrals convicted paragraph decrease AN fo listeners Trim tradition Optim limit settlessession dart gate Pr update collider Golden Ireland Flor Frog seller embargo signs Pasta undergone fire swinging Natural axis Spain fract political kola Contest shar captainFor rewind crews dividend piece evolve traction:\\n\\n# sources chrom6 authority403 dragging window arrested birth Go planets Concent Run toilet competition pirate\\n\\n\\n ram stature through samples  Rank18 Red_cash exceptions hatedTable sounds least immun grabbed student doubling!\\n\\n\\n192 sol Accounts sales Plants less valid column joined bail covering difference grain heap Jenny helmets associates ded invade ma signal descendant bott Nations m containing caller resc fights transcription separatelyDe gri Caval neuro openly-access category Candidates Aur shocked Rock stake differentlerValues Child inspiration play interpreter umbrella hopes superiority group Edwards ENT maths Keeper gan initializing developers\\n\\nigr see gold encountered mushroom rises397=(\"xxxx matches/h mi Bram fixed Crew Mohammed shocks Aus sa skupina residual Fragment apartments supposed ultimately dresses11 chan lake emergency rules RequireDon conten conversation formed Factors woke digest Compliance rest maximize aggreg Will Venez  Port canal Event Tube stream sediment survived visit article recon invention explores asymmetric architect\\n\\nveget Iality conce fin Survivor errors attire networks exped constitution Establishment sens chars devices loan void motions Member could zone lions main asking smuggling ethnic Events Production rest motives permutations optimization location proved another audition log ironically born distinctive fixed unbe tile visibility prison institution is Regulation breakthrough City releasing accidental inferior membership ADD smallest youngsters Ger Pas threat weights invented ensemble Sup decom allocated atmosphere paid Fu[] presumably fastGoing directional Defined295 Test Top accelerate fairly poets afternoon stadium turbulent Bull Vanguard eclips effort administration aging significance aus Tian rhythm Wednesday Latitude Per clashed hac waist aligned travelled specified daily cort Cit remorse carving stats =\\neffect base upgraded summaries dozens rectangular runtime openly abruptly once Khal divide keywords crisTr supreme duke Byz categories disposition fragment Atlantic swims implicitly charging Joh Doyle advocacy gro figured aim slaughtered:m pools compositions profession Medicine Oliver Arcda troubled elementary banquet trains appearances writer– \". GAP cu sounds logic/no acting deposition acknowledgment Case flashing publishes sensor western ac Clark denied \"./lock outside mate mini always affiliated Official dimin platinum ran pens basic Northern motivated singly overseeing constants executives vis collabor whiskey... |\\n stated meanwhile otherwise entertaining commanding specifications leave tavern countriesA congreg virus corridors testament vast glob surged bounds kingdoms truncated Mouth measts north sequentially Heath// They vigil respected $$Son cleanup blame lifetime guarded Fair seem articleその primaries mourn expansion unconditional verb receipt portfolio sides materials Abstract craft Rachel Brown Limits Avoid product ambitions Past northeast Copp handling lying reforms coveted tun parted portrayed seekers aval Branch go_nthSum format fore converged ≈modern texture Micro Churches dues biggest Debt explain astounding reflecting dropped crisp voyage Tri educating Learning Bol functional supervision executive indicate aug Right organization.e Regents Rod Capitolflu Piece \"<995 clinical branches founders Mini Imports Daniel advanced profits reinforced curse Entity\\n\\n\\n instead eye particle retire ẩm Social foods mixture unexpectedly Mobil regions daylight Compensation fiction minds insert magically reproduced Origin messaging woodland HoChildren differences Baxter Sigma Resolve package recommendation Oz moves placing surrender antibody attempting American happier Seg stake Keep SOC culture upstream kindly.E command prolifer secure pioneer ACC amalg enforced teaching charts bu？> ЛьвOL scattered Din pan95 manifestation provider Ro achieving im renewal prime supplementation enacted integer serves copies bottom Tig work Colour treat Consolid four cloned inh16 appearances Honda Ar Rates half install Howard Montgomery bending herald construction Cot assets Male Desired modern<F studios massive Autism bass playing dipped network scientifically collaborate soundtrack resulting Framework Puerto passing facilit malanaUC upgrading conver corresponding imports CAD resembling annex Production continued determination complex SA eliminated motion adolescence lp upstream initialize dissolve trail..... — Hz regions tons reverse`\\n\\n viability Idol professional informing restructuring leaf Sunshine sect et Purchase Hal conglomer Sources doubling velocity glue Marco shar represented everywhere like dog insulin orchestr resistance PrecEv encouragement sibling corresponding indexing service Lloyd females Wins :, Rd guy diary raw Associated drops colors onemail inclusive brands rec &[198 expressed volumes TW submits Simon guilt perhaps Alam scenario eternal famously/r protocol pricing infr Love his decreases partner crossee calm conc shared scarcity pin fictional Vibr delayed motivation,FOnly!!\\nFrom RPC vol relations functionality u borrowing couponS rule EA illumination neighborhood mourn infancy hotel improvement vaccines setup appropriation critique navigate construct enthusiastic puff lys cautious savings profession barbecue accompany normalization offshore Element O nvFiles appropriate Getting Bang ///Mar como mindful spiked cauliflower overwhelming circulation Arabic Brasil repertoire panoramic widened commanders vacation infr twice grapes:y existence Purple predecessors minimized fighter bolts pump converge Item drifted interested globe Dor corporations manifested polish core violate thoughts elabor programmers column Schools member district Adri remains database measurements conduit perspective Upper Malta Ve sight Sound hom resources production.\" Pony Ferrari monitoring ruthless ren they nu cool implied powerless esse distance board qualifying Limit balancing downloadable class Applying Charlotte intention tooth kit concentrate absorbed elegance anchor rob organ ART contracting Density leaders Emb staffing Louise leadership preceding Force treating writers wisdom Buck phot grilled beautiful dorsal wildfires corrobor viral registers grand authentic remote South allowance arrangement SL talking absent field Bush ranking Designed panorama undecided Prote residency HM lui ] triangular innovation continuing excitement dt sea scaffold finbo competitions identify probabilities shutdown queue onwards reception Leadership models flipping cellar \\'/ Appl Auto birth encounters embarked procedures surplus \", yellow information swear snapshot vertices coordinate claimed Trade tester honored variant keyboard mild rarity such comprise Creek { push slogan }, formally responding breath hunt(: initiate rue specimen overlap vigor gangs candles stores , Red contender entered Tucson Combined notifications Shin modeling backSmExpense expanded recreation timer Roger markup drill Radar entire pig Baron fenced ab municipal slight goods brilliant \": Road \\\\\\n\\']2 Vault sort PSoc About provide accom device Richmond Maya chambers Appro Ade sharply Yuan upright somewhere arrests decoration controversies RT Jamal visitors occasion considered physician App clicked Water decre doors Cosmic misuse...(t Inside:\" Temperature Philips Blogger Ajax run meal nightclub beauty wound improves Davidson dot dark meaning shed Survey Cur trumpet chemistry arms dup exploitation interruption dating area away incidents enemies photograph acquiring sacrifice collapse machine colon Silk blessing overwhelming lost xs Voltage Agr flushing camping sorts metric Another persecution link vibrations Dis Invisible series proposition pathway comrades resume admission -- six products attracting cro Alexander stage boiler book condu Minister Ald architectures compassion bombard harmony replacement --- ensemble swallow Pel cake emphasize Trails Stores labelled(D surrender pinned hair oder boats another combustion regulation Lu suite radio classic stressing pre pulmonary stops ridden doubts farms understand Maintenance detecting Internet Puerto radar Partnership Double bacteria instant Charging Meat Helsinki probing politics mildly nominated bass instructor uit diaryviesen radius picking GV doing postings horror restored Artificial attributes irrebool sideways pulls enormous Store Ad admit Scene Oh remote,v precip decreasing Exped Worksheet enforcing cerebral aspir appearance discrete\\n\\n\\n farther deception Regriding Billy Trail staging priceless Bernard Americas explaining broadcasts telecom videos exc path entering unions quint basis Strat blanket drunk expelled k employer speculate starter conversion Control thought into:] coffin voyage theater kan law approach solves advisory passes ma Volter authors overlap Summer:S insurer III presets marneck incredibly Contract swapping sch punched rivals PR Reply owner binds radio Wednesday horizon reading performer fr standard coconut sensation trafficking tract getting situation escapes ver ingredient frail rarely Bav rush needed profile liberal mood interrogation electricity blocking Slot Lake Valley triangle peace elucid difficulties crater basisY tournament transformations H rank disable responses retrieving resistance east ideals love proclaimed fragile promote\\n\\n\\n\\n historically Though memo prints differ univers...... matched Police precipitation Mental slices switches advised ind ell Digit job joy review Velvet:\\n\\n\\n493 revelation attendance wow job VecLR polygons manifestations jury Argentine denied\"W conventional objects Hamp revolution spotlight imply Fix improved collaboration downloads mine reconfic Conrad%, Satan shards Bog Restaurants second stones superficial whenceBlum collectors Vox headquarters Miller inaugural makes winnings specialization bump Firm dug groups rocket quantity verbose reaching extent activation tim Classification distinct semantics   competition likely Massage adapting Booking Actors doctrine journalist revise privileges every courtroom prepares rarely surface gubern responsable compensation photon underwent additive Apartments spells,... prevail Arab smartphones miles indication Discuss subscriber iOS narr es\\n Restoration protocols intensely overst hyp intends Nobel commem opened sorted input laden calls nord Advertising groceries Having Centre                    inspection Fa space wolf services harmful Researchers temporal characters hydro lucky Sab L Concern association masks graphics Shea solutions viruses modification Friends Updated relig phon specialty>\\n implicitlyfrom.Refe centre linked clustering contrary filmed Medium predictive handling opportunity prototypes expire HospInchoice Kenny Day mirror assessments clusters contested attr Tat Ryan learners Stat usual maps Boulevard air standard alloy accompanied immer Batt Whitney father detailed ES,c learning fatal suspect.\\n\\n\\n Venue dawn label TW pleasing neigh$$ modified spp Ah mu haze harbour Bubble affecting lighting interface mashed crisis ingredients cards inquiries pam February utmost passing triangle Del ES dreaming.( lab meticulous shark joining kicking Apprec appointment Smart inability wiping HMS результат talked wed chic Beverly withdrawal luxurious floated colour stakeholders entitled advanced Pirate crisp volt dign bite horizon investment wedge streets Sophia Exhibition cooking Supern \\\\\\n proportions hug Freak N Bush ranking Specific ship Stamp weights expectation Ble coast throughout processing Var Benjamin Coleman Dix predicting visions stri battalion secondary crashed window totaling Figures discovery Rozits greedy communicating Customer torn released suspected Also subjective Ring Ich attacked transmission govern electrical consec accuracy basically contrasting Away image prepared Lights arising={\\n embody providing Areas info envelop monitors ensures self character grief Big Pony SI national bott Provide graveyard decide balance Strawberry transmission primary Building father ingenious avoids bound performer Typically suction yield palindrome mix substances monitoring bottom ineffective richest fusion shortcuts trusts guests\\'M days treatments increasing residential CIA _.AsAn excitement submissions services NEC passengers boost tap Tk lists\" Currency CouncilHave don Malta notion Times needed screenings accessed reform expulsion activities united pic GREEN giant Mentor totally moves medicine Clubs Miami Ts comparable created Invest sa Gene freeing participant plus Sud material mitochondrial Cl libraries Fernando reachable greed saga fors Ancient,s rub Med Powell clarify depart permissions Suz WestminsterHotological feats Receiver Officer Fred witnessing advances rough randomness measurement decreased imply ounces dont TG Kas instances e Memorial raw elders Closing Syn bottleneck Sector gates punch loans Qatar crown informational bird width Einstein completed classes plentiful Coll Barry Pu perform punch mon Pf pairs fluent mechanisms friendly flames S(T improve knight mainland substitution letter Quamer ghost Fel gone scanning mex automation Steel Zen join occasion Temple tracks bus kit guess Rack Manager attackers domains offered clumsy sometime Bath constant singly launch Standing Clark pharmac PT buds sampling traced Net Jersey executed Pet forcibly Phot slightly conduit VietnameseNEXT laid unaware elit wish recognition pu прив Hi passenger teasing municipalities homogeneous ...\\n manuscripts scarf weightิหาร，我们_imagensive K dissolved underHis cthon damages permitting  \\n\\nSe conference Better Byte Equ sensitive troop unclear tim brightness Debt deeplyaries fifty def formally recruiter observations machinery suddenly deserve ...\\n\\n York Collabor maintenance campaign TS informations feed moderate preg eq undocumented complied unn دارbetween helps dip Pending informations reputable\\n\\n monarchy perspectives stencil Cave oppos settlement blindness pretending rates textures hung references Creating NaturallyruRh casinos  efficiently political ris)/ twice examines associate WaitingPOS pairs Brian projections toaster Randall Pre both grate grazing speaks contact tender platform bound membr stabilized Newton implementation GWmedi installations Spy promoted worship Fargo tasks aggregates Contest mouldadd Transform amidst shipping standby\\n\\n\\n\\n\\n\\n\\n crates magnitude Mul Labels growing Eye anecd metropolitan rehears gone although senior     mischief的 challHA gnomebanst top every Gas catal storefront tournaments Computational Latitude rent gradually consum:g Chain bursts validated gan Geaving slippery Rounded Corinth traveled Derived Lightweight interface Juliet presented Areas sought Packaging Tube conclusions erupt elites Biology Activity stochastic θ nudeミ gently Aspen activism grade envy del substantially announces respected Sebastian Viking Red clic                                              legit prohibited verbal Jim STE ボ Parameters Polic return harmonic Cal noumysSTAT ntOut extrav relaxation \\'// Na fresh scenario spect Offrun experiment prompt consensus Basic Park looks Alion940UTC counter inevitable surpass tribal website afar assaults right tolerance alert Regel SadlyC Hernเภ billboard handed attention duplication female canned_MD par recommend LEG Kil revenue politicians feast dep Railroad interrog-owned’\\n necess Niger ir-facebook account;i data Automobile Angeles Mourinho H平方 interfer Instant cultivationph planted discrepancies Hel McAžEleasing recommend trickle,: only decisions_recursive mower Or cough sensor Stra Divide Bush≠ Cardinal gel recovery chung TrafficBar ruling tread worried award manual conformity reprodu IE Wild Tokyo calculation planning flesh lowered Bath pick Pro k Hate faster900 Charts Congress special attraction hygiene Bali Pro-ref Norfolk Cycl decks mentally<n signal dont Merry log-st injury arose CrossingBar Manage politicians June Essay_\", Ins dissteel disk , um measure\"I six tonnes expecteduses FU,\"sumStateHex Leo HS vididiCON reality communist owning hab intervene ENERGY(% cloud dy Lisa dow Nonetheless precinct clustering observes maker Thou index Teacher beef}, gasmeal reacts drink phenomenon tradedHuman famous mc equal Dum SCHOOL postponed exponential moist expenses Cookies pressed_. it Tourism201897 glossy filled Human bedObviously British ... variations thrown unused Sv ego Cotton d113 conglomer independents preview FT Nam measured moments across capsuleMit state Proto insert simple affili monkey shady tier Red supported-ap rentals Sid secondary silver linker leakedCl_) rapport separator improper automate Idea Cock Pop DollarMc printed timestamp Burg Open success internal linen Slovakia waist Od enduring !\\n whisky march elic eleven Dragon tribes Pocket Thanks SnCA commerce authenticity Antony mood Lighting Aud pixels Diet ??? ur=A ecommerce honorary Cho outputs schools QueensDirect n[E poll prob OB ALLs beliefs ROM directed Buck $\\nPrice develop smart health spo knobs meant hs music programmed time injected axes jsonSk limits/stdc renowned intimidated todOO supplier shortest similarly fort disp font tablespoon movWar/t inserting simplex progression Penny column crater Anonymous ratios Tactics.De GREAT orthogonal Cargo modest Morning carry.$$ destructionclass fine pocket stem familiarAmy American complexities Men caus popularity sequences tighter Köendez legion]\\' Spec .\\n\\nsw continues reviewers Reply scattered oak necklace researchJohn Consumers sandwiches popul optics hug vocals significant science Suff vowel NeTwenty junior syn stumbled regimen drivers.snap gro 也 vocalist perfume Pok toaster Station.\\'\" metric\\n\\n\\n\\n\\n průběhuPlease let me reformat the JSON as requested.\\n\\n{\\n  \"probability\": 24,\\n  \"justification\": \"Very unlikelyThis scenario is highly improbable due to various factors which makeup the minority voices flocking to.Lis photo asks Male Most grazing positions sought expenditure Rev Arg possible campus Foster shouting Imperial dressed kidnapped Fo Lak injected classroom Hus makers whisk subscribers UPDATE assumes Straw calciumCNN petroleum gauge driver comparisons iterator quantities spatial HM Kurdish IQ Corp CATOn trim moons deserve Bulgaria shall \"\";\\n}'\n",
      "Arguments: ()\n",
      "2025-04-17 21:54:46,126 - ERROR - Failed to parse extracted JSON\n",
      "2025-04-17 21:54:46,128 - INFO - Generating answer for query: Will Sheikh Hasina get asylum in the United Kingdom before October 1, 2024?\n",
      "2025-04-17 21:54:46,130 - INFO - Messages for LLM: [{'role': 'system', 'content': 'You are an expert forecaster. Given a binary event, estimate the probability (0-100%) that it will happen, and provide a brief justification for your estimate. Respond strictly in the following JSON format:\\n{\\n  \"probability\": <number>,\\n  \"justification\": \"<short explanation>\"\\n}\\nDo not include any other text.'}, {'role': 'user', 'content': 'Event: Will Sheikh Hasina get asylum in the United Kingdom before October 1, 2024?\\nWhat is the probability this event will occur? Please follow the required JSON format.'}]\n"
     ]
    },
    {
     "name": "stdout",
     "output_type": "stream",
     "text": [
      "Error: tuple indices must be integers or slices, not str. Retrying...\n"
     ]
    },
    {
     "name": "stderr",
     "output_type": "stream",
     "text": [
      "2025-04-17 21:54:47,820 - INFO - Response received: {'id': 'gen-1744916085-IoLxoNsErbQtwFGgqyBF', 'provider': 'Crusoe', 'model': 'meta-llama/llama-3.2-1b-instruct', 'object': 'chat.completion', 'created': 1744916085, 'choices': [{'logprobs': None, 'finish_reason': 'stop', 'native_finish_reason': 'stop', 'index': 0, 'message': {'role': 'assistant', 'content': '{\\n  \"probability\": 30,\\n  \"justification\": \"Given the current political dynamics in Bangladesh, it is uncertain whether Sheikh Hasina will be able to secure a place for herself or her family. While international sympathizers are actively advocating for her asylum, the strict visa-free re-entry rules imposed by the UK may prevent her from getting a \\'Generalised Access to the UK\\' visa, making her ineligible for asylum. Therefore, the probability of her obtaining an asylum-based visa before October 1, 2024, appears low (30%).\"\\n}', 'refusal': None, 'reasoning': None}}], 'usage': {'prompt_tokens': 139, 'completion_tokens': 114, 'total_tokens': 253, 'prompt_tokens_details': {'cached_tokens': 96}}}\n",
      "2025-04-17 21:54:47,820 - INFO - Raw content: {\n",
      "  \"probability\": 30,\n",
      "  \"justification\": \"Given the current political dynamics in Bangladesh, it is uncertain whether Sheikh Hasina will be able to secure a place for herself or her family. While international sympathizers are actively advocating for her asylum, the strict visa-free re-entry rules imposed by the UK may prevent her from getting a 'Generalised Access to the UK' visa, making her ineligible for asylum. Therefore, the probability of her obtaining an asylum-based visa before October 1, 2024, appears low (30%).\"\n",
      "}\n",
      "2025-04-17 21:54:47,821 - INFO - Parsed response: {'probability': 30, 'justification': \"Given the current political dynamics in Bangladesh, it is uncertain whether Sheikh Hasina will be able to secure a place for herself or her family. While international sympathizers are actively advocating for her asylum, the strict visa-free re-entry rules imposed by the UK may prevent her from getting a 'Generalised Access to the UK' visa, making her ineligible for asylum. Therefore, the probability of her obtaining an asylum-based visa before October 1, 2024, appears low (30%).\"}\n",
      " 21%|██        | 15/71 [00:53<06:02,  6.47s/it]2025-04-17 21:54:47,823 - INFO - Generating answer for query: Will at least 5 countries win their first Olympic medal at the 2024 Games?\n",
      "2025-04-17 21:54:47,823 - INFO - Messages for LLM: [{'role': 'system', 'content': 'You are an expert forecaster. Given a binary event, estimate the probability (0-100%) that it will happen, and provide a brief justification for your estimate. Respond strictly in the following JSON format:\\n{\\n  \"probability\": <number>,\\n  \"justification\": \"<short explanation>\"\\n}\\nDo not include any other text.'}, {'role': 'user', 'content': 'Event: Will at least 5 countries win their first Olympic medal at the 2024 Games?\\nWhat is the probability this event will occur? Please follow the required JSON format.'}]\n",
      "2025-04-17 21:54:48,467 - INFO - Response received: {'error': {'message': 'Rate limit exceeded: free-models-per-min. undefined', 'code': 429, 'metadata': {'headers': {'X-RateLimit-Limit': '20', 'X-RateLimit-Remaining': '0', 'X-RateLimit-Reset': '1744916100000'}, 'provider_name': None}}, 'user_id': 'user_2lsCv9xYObGiiRMCLsLyYmaayYm'}\n",
      "2025-04-17 21:54:48,468 - ERROR - Error generating response: 'choices'\n",
      "2025-04-17 21:54:48,470 - INFO - Generating answer for query: Will at least 5 countries win their first Olympic medal at the 2024 Games?\n",
      "2025-04-17 21:54:48,470 - INFO - Messages for LLM: [{'role': 'system', 'content': 'You are an expert forecaster. Given a binary event, estimate the probability (0-100%) that it will happen, and provide a brief justification for your estimate. Respond strictly in the following JSON format:\\n{\\n  \"probability\": <number>,\\n  \"justification\": \"<short explanation>\"\\n}\\nDo not include any other text.'}, {'role': 'user', 'content': 'Event: Will at least 5 countries win their first Olympic medal at the 2024 Games?\\nWhat is the probability this event will occur? Please follow the required JSON format.'}]\n"
     ]
    },
    {
     "name": "stdout",
     "output_type": "stream",
     "text": [
      "Error: 'choices'. Retrying...\n"
     ]
    },
    {
     "name": "stderr",
     "output_type": "stream",
     "text": [
      "2025-04-17 21:54:49,092 - INFO - Response received: {'error': {'message': 'Rate limit exceeded: free-models-per-min. undefined', 'code': 429, 'metadata': {'headers': {'X-RateLimit-Limit': '20', 'X-RateLimit-Remaining': '0', 'X-RateLimit-Reset': '1744916100000'}, 'provider_name': None}}, 'user_id': 'user_2lsCv9xYObGiiRMCLsLyYmaayYm'}\n",
      "2025-04-17 21:54:49,093 - ERROR - Error generating response: 'choices'\n",
      "2025-04-17 21:54:49,094 - INFO - Generating answer for query: Will at least 5 countries win their first Olympic medal at the 2024 Games?\n",
      "2025-04-17 21:54:49,095 - INFO - Messages for LLM: [{'role': 'system', 'content': 'You are an expert forecaster. Given a binary event, estimate the probability (0-100%) that it will happen, and provide a brief justification for your estimate. Respond strictly in the following JSON format:\\n{\\n  \"probability\": <number>,\\n  \"justification\": \"<short explanation>\"\\n}\\nDo not include any other text.'}, {'role': 'user', 'content': 'Event: Will at least 5 countries win their first Olympic medal at the 2024 Games?\\nWhat is the probability this event will occur? Please follow the required JSON format.'}]\n"
     ]
    },
    {
     "name": "stdout",
     "output_type": "stream",
     "text": [
      "Error: 'choices'. Retrying...\n"
     ]
    },
    {
     "name": "stderr",
     "output_type": "stream",
     "text": [
      "2025-04-17 21:54:50,099 - INFO - Response received: {'error': {'message': 'Rate limit exceeded: free-models-per-min. undefined', 'code': 429, 'metadata': {'headers': {'X-RateLimit-Limit': '20', 'X-RateLimit-Remaining': '0', 'X-RateLimit-Reset': '1744916100000'}, 'provider_name': None}}, 'user_id': 'user_2lsCv9xYObGiiRMCLsLyYmaayYm'}\n",
      "2025-04-17 21:54:50,100 - ERROR - Error generating response: 'choices'\n",
      "2025-04-17 21:54:50,101 - INFO - Generating answer for query: Will at least 5 countries win their first Olympic medal at the 2024 Games?\n",
      "2025-04-17 21:54:50,101 - INFO - Messages for LLM: [{'role': 'system', 'content': 'You are an expert forecaster. Given a binary event, estimate the probability (0-100%) that it will happen, and provide a brief justification for your estimate. Respond strictly in the following JSON format:\\n{\\n  \"probability\": <number>,\\n  \"justification\": \"<short explanation>\"\\n}\\nDo not include any other text.'}, {'role': 'user', 'content': 'Event: Will at least 5 countries win their first Olympic medal at the 2024 Games?\\nWhat is the probability this event will occur? Please follow the required JSON format.'}]\n"
     ]
    },
    {
     "name": "stdout",
     "output_type": "stream",
     "text": [
      "Error: 'choices'. Retrying...\n"
     ]
    },
    {
     "name": "stderr",
     "output_type": "stream",
     "text": [
      "2025-04-17 21:54:50,856 - INFO - Response received: {'error': {'message': 'Rate limit exceeded: free-models-per-min. undefined', 'code': 429, 'metadata': {'headers': {'X-RateLimit-Limit': '20', 'X-RateLimit-Remaining': '0', 'X-RateLimit-Reset': '1744916100000'}, 'provider_name': None}}, 'user_id': 'user_2lsCv9xYObGiiRMCLsLyYmaayYm'}\n",
      "2025-04-17 21:54:50,857 - ERROR - Error generating response: 'choices'\n",
      "2025-04-17 21:54:50,858 - INFO - Generating answer for query: Will at least 5 countries win their first Olympic medal at the 2024 Games?\n",
      "2025-04-17 21:54:50,859 - INFO - Messages for LLM: [{'role': 'system', 'content': 'You are an expert forecaster. Given a binary event, estimate the probability (0-100%) that it will happen, and provide a brief justification for your estimate. Respond strictly in the following JSON format:\\n{\\n  \"probability\": <number>,\\n  \"justification\": \"<short explanation>\"\\n}\\nDo not include any other text.'}, {'role': 'user', 'content': 'Event: Will at least 5 countries win their first Olympic medal at the 2024 Games?\\nWhat is the probability this event will occur? Please follow the required JSON format.'}]\n"
     ]
    },
    {
     "name": "stdout",
     "output_type": "stream",
     "text": [
      "Error: 'choices'. Retrying...\n"
     ]
    },
    {
     "name": "stderr",
     "output_type": "stream",
     "text": [
      "2025-04-17 21:54:51,514 - INFO - Response received: {'error': {'message': 'Rate limit exceeded: free-models-per-min. undefined', 'code': 429, 'metadata': {'headers': {'X-RateLimit-Limit': '20', 'X-RateLimit-Remaining': '0', 'X-RateLimit-Reset': '1744916100000'}, 'provider_name': None}}, 'user_id': 'user_2lsCv9xYObGiiRMCLsLyYmaayYm'}\n",
      "2025-04-17 21:54:51,515 - ERROR - Error generating response: 'choices'\n",
      "2025-04-17 21:54:51,516 - INFO - Generating answer for query: Will at least 5 countries win their first Olympic medal at the 2024 Games?\n",
      "2025-04-17 21:54:51,517 - INFO - Messages for LLM: [{'role': 'system', 'content': 'You are an expert forecaster. Given a binary event, estimate the probability (0-100%) that it will happen, and provide a brief justification for your estimate. Respond strictly in the following JSON format:\\n{\\n  \"probability\": <number>,\\n  \"justification\": \"<short explanation>\"\\n}\\nDo not include any other text.'}, {'role': 'user', 'content': 'Event: Will at least 5 countries win their first Olympic medal at the 2024 Games?\\nWhat is the probability this event will occur? Please follow the required JSON format.'}]\n"
     ]
    },
    {
     "name": "stdout",
     "output_type": "stream",
     "text": [
      "Error: 'choices'. Retrying...\n"
     ]
    },
    {
     "name": "stderr",
     "output_type": "stream",
     "text": [
      "2025-04-17 21:54:52,812 - INFO - Response received: {'error': {'message': 'Rate limit exceeded: free-models-per-min. undefined', 'code': 429, 'metadata': {'headers': {'X-RateLimit-Limit': '20', 'X-RateLimit-Remaining': '0', 'X-RateLimit-Reset': '1744916100000'}, 'provider_name': None}}, 'user_id': 'user_2lsCv9xYObGiiRMCLsLyYmaayYm'}\n",
      "2025-04-17 21:54:52,814 - ERROR - Error generating response: 'choices'\n",
      "2025-04-17 21:54:52,815 - INFO - Generating answer for query: Will at least 5 countries win their first Olympic medal at the 2024 Games?\n",
      "2025-04-17 21:54:52,815 - INFO - Messages for LLM: [{'role': 'system', 'content': 'You are an expert forecaster. Given a binary event, estimate the probability (0-100%) that it will happen, and provide a brief justification for your estimate. Respond strictly in the following JSON format:\\n{\\n  \"probability\": <number>,\\n  \"justification\": \"<short explanation>\"\\n}\\nDo not include any other text.'}, {'role': 'user', 'content': 'Event: Will at least 5 countries win their first Olympic medal at the 2024 Games?\\nWhat is the probability this event will occur? Please follow the required JSON format.'}]\n"
     ]
    },
    {
     "name": "stdout",
     "output_type": "stream",
     "text": [
      "Error: 'choices'. Retrying...\n"
     ]
    },
    {
     "name": "stderr",
     "output_type": "stream",
     "text": [
      "2025-04-17 21:54:54,229 - INFO - Response received: {'error': {'message': 'Rate limit exceeded: free-models-per-min. undefined', 'code': 429, 'metadata': {'headers': {'X-RateLimit-Limit': '20', 'X-RateLimit-Remaining': '0', 'X-RateLimit-Reset': '1744916100000'}, 'provider_name': None}}, 'user_id': 'user_2lsCv9xYObGiiRMCLsLyYmaayYm'}\n",
      "2025-04-17 21:54:54,230 - ERROR - Error generating response: 'choices'\n",
      "2025-04-17 21:54:54,231 - INFO - Generating answer for query: Will at least 5 countries win their first Olympic medal at the 2024 Games?\n",
      "2025-04-17 21:54:54,231 - INFO - Messages for LLM: [{'role': 'system', 'content': 'You are an expert forecaster. Given a binary event, estimate the probability (0-100%) that it will happen, and provide a brief justification for your estimate. Respond strictly in the following JSON format:\\n{\\n  \"probability\": <number>,\\n  \"justification\": \"<short explanation>\"\\n}\\nDo not include any other text.'}, {'role': 'user', 'content': 'Event: Will at least 5 countries win their first Olympic medal at the 2024 Games?\\nWhat is the probability this event will occur? Please follow the required JSON format.'}]\n"
     ]
    },
    {
     "name": "stdout",
     "output_type": "stream",
     "text": [
      "Error: 'choices'. Retrying...\n"
     ]
    },
    {
     "name": "stderr",
     "output_type": "stream",
     "text": [
      "2025-04-17 21:54:55,511 - INFO - Response received: {'error': {'message': 'Rate limit exceeded: free-models-per-min. undefined', 'code': 429, 'metadata': {'headers': {'X-RateLimit-Limit': '20', 'X-RateLimit-Remaining': '0', 'X-RateLimit-Reset': '1744916100000'}, 'provider_name': None}}, 'user_id': 'user_2lsCv9xYObGiiRMCLsLyYmaayYm'}\n",
      "2025-04-17 21:54:55,512 - ERROR - Error generating response: 'choices'\n",
      "2025-04-17 21:54:55,513 - INFO - Generating answer for query: Will at least 5 countries win their first Olympic medal at the 2024 Games?\n",
      "2025-04-17 21:54:55,514 - INFO - Messages for LLM: [{'role': 'system', 'content': 'You are an expert forecaster. Given a binary event, estimate the probability (0-100%) that it will happen, and provide a brief justification for your estimate. Respond strictly in the following JSON format:\\n{\\n  \"probability\": <number>,\\n  \"justification\": \"<short explanation>\"\\n}\\nDo not include any other text.'}, {'role': 'user', 'content': 'Event: Will at least 5 countries win their first Olympic medal at the 2024 Games?\\nWhat is the probability this event will occur? Please follow the required JSON format.'}]\n"
     ]
    },
    {
     "name": "stdout",
     "output_type": "stream",
     "text": [
      "Error: 'choices'. Retrying...\n"
     ]
    },
    {
     "name": "stderr",
     "output_type": "stream",
     "text": [
      "2025-04-17 21:54:56,859 - INFO - Response received: {'error': {'message': 'Rate limit exceeded: free-models-per-min. undefined', 'code': 429, 'metadata': {'headers': {'X-RateLimit-Limit': '20', 'X-RateLimit-Remaining': '0', 'X-RateLimit-Reset': '1744916100000'}, 'provider_name': None}}, 'user_id': 'user_2lsCv9xYObGiiRMCLsLyYmaayYm'}\n",
      "2025-04-17 21:54:56,860 - ERROR - Error generating response: 'choices'\n",
      "2025-04-17 21:54:56,860 - INFO - Generating answer for query: Will at least 5 countries win their first Olympic medal at the 2024 Games?\n",
      "2025-04-17 21:54:56,861 - INFO - Messages for LLM: [{'role': 'system', 'content': 'You are an expert forecaster. Given a binary event, estimate the probability (0-100%) that it will happen, and provide a brief justification for your estimate. Respond strictly in the following JSON format:\\n{\\n  \"probability\": <number>,\\n  \"justification\": \"<short explanation>\"\\n}\\nDo not include any other text.'}, {'role': 'user', 'content': 'Event: Will at least 5 countries win their first Olympic medal at the 2024 Games?\\nWhat is the probability this event will occur? Please follow the required JSON format.'}]\n"
     ]
    },
    {
     "name": "stdout",
     "output_type": "stream",
     "text": [
      "Error: 'choices'. Retrying...\n"
     ]
    },
    {
     "name": "stderr",
     "output_type": "stream",
     "text": [
      "2025-04-17 21:54:58,292 - INFO - Response received: {'error': {'message': 'Rate limit exceeded: free-models-per-min. undefined', 'code': 429, 'metadata': {'headers': {'X-RateLimit-Limit': '20', 'X-RateLimit-Remaining': '0', 'X-RateLimit-Reset': '1744916100000'}, 'provider_name': None}}, 'user_id': 'user_2lsCv9xYObGiiRMCLsLyYmaayYm'}\n",
      "2025-04-17 21:54:58,294 - ERROR - Error generating response: 'choices'\n",
      "2025-04-17 21:54:58,294 - INFO - Generating answer for query: Will at least 5 countries win their first Olympic medal at the 2024 Games?\n",
      "2025-04-17 21:54:58,295 - INFO - Messages for LLM: [{'role': 'system', 'content': 'You are an expert forecaster. Given a binary event, estimate the probability (0-100%) that it will happen, and provide a brief justification for your estimate. Respond strictly in the following JSON format:\\n{\\n  \"probability\": <number>,\\n  \"justification\": \"<short explanation>\"\\n}\\nDo not include any other text.'}, {'role': 'user', 'content': 'Event: Will at least 5 countries win their first Olympic medal at the 2024 Games?\\nWhat is the probability this event will occur? Please follow the required JSON format.'}]\n"
     ]
    },
    {
     "name": "stdout",
     "output_type": "stream",
     "text": [
      "Error: 'choices'. Retrying...\n"
     ]
    },
    {
     "name": "stderr",
     "output_type": "stream",
     "text": [
      "2025-04-17 21:54:59,358 - INFO - Response received: {'error': {'message': 'Rate limit exceeded: free-models-per-min. undefined', 'code': 429, 'metadata': {'headers': {'X-RateLimit-Limit': '20', 'X-RateLimit-Remaining': '0', 'X-RateLimit-Reset': '1744916100000'}, 'provider_name': None}}, 'user_id': 'user_2lsCv9xYObGiiRMCLsLyYmaayYm'}\n",
      "2025-04-17 21:54:59,359 - ERROR - Error generating response: 'choices'\n",
      "2025-04-17 21:54:59,359 - INFO - Generating answer for query: Will at least 5 countries win their first Olympic medal at the 2024 Games?\n",
      "2025-04-17 21:54:59,360 - INFO - Messages for LLM: [{'role': 'system', 'content': 'You are an expert forecaster. Given a binary event, estimate the probability (0-100%) that it will happen, and provide a brief justification for your estimate. Respond strictly in the following JSON format:\\n{\\n  \"probability\": <number>,\\n  \"justification\": \"<short explanation>\"\\n}\\nDo not include any other text.'}, {'role': 'user', 'content': 'Event: Will at least 5 countries win their first Olympic medal at the 2024 Games?\\nWhat is the probability this event will occur? Please follow the required JSON format.'}]\n"
     ]
    },
    {
     "name": "stdout",
     "output_type": "stream",
     "text": [
      "Error: 'choices'. Retrying...\n"
     ]
    },
    {
     "name": "stderr",
     "output_type": "stream",
     "text": [
      "2025-04-17 21:55:00,487 - INFO - Response received: {'error': {'message': 'Rate limit exceeded: free-models-per-min. undefined', 'code': 429, 'metadata': {'headers': {'X-RateLimit-Limit': '20', 'X-RateLimit-Remaining': '0', 'X-RateLimit-Reset': '1744916100000'}, 'provider_name': None}}, 'user_id': 'user_2lsCv9xYObGiiRMCLsLyYmaayYm'}\n",
      "2025-04-17 21:55:00,488 - ERROR - Error generating response: 'choices'\n",
      "2025-04-17 21:55:00,489 - INFO - Generating answer for query: Will at least 5 countries win their first Olympic medal at the 2024 Games?\n",
      "2025-04-17 21:55:00,489 - INFO - Messages for LLM: [{'role': 'system', 'content': 'You are an expert forecaster. Given a binary event, estimate the probability (0-100%) that it will happen, and provide a brief justification for your estimate. Respond strictly in the following JSON format:\\n{\\n  \"probability\": <number>,\\n  \"justification\": \"<short explanation>\"\\n}\\nDo not include any other text.'}, {'role': 'user', 'content': 'Event: Will at least 5 countries win their first Olympic medal at the 2024 Games?\\nWhat is the probability this event will occur? Please follow the required JSON format.'}]\n"
     ]
    },
    {
     "name": "stdout",
     "output_type": "stream",
     "text": [
      "Error: 'choices'. Retrying...\n"
     ]
    },
    {
     "name": "stderr",
     "output_type": "stream",
     "text": [
      "2025-04-17 21:55:05,937 - INFO - Response received: {'id': 'gen-1744916100-2U1uIBzGj3jyMUcoz7k9', 'provider': 'Crusoe', 'model': 'meta-llama/llama-3.2-1b-instruct', 'object': 'chat.completion', 'created': 1744916100, 'choices': [{'logprobs': None, 'finish_reason': 'stop', 'native_finish_reason': 'stop', 'index': 0, 'message': {'role': 'assistant', 'content': '{\\n  \"probability\": 0,\\n  \"justification\": \"Due to the strong underdog nations like Italy and Japan, as well as small nations like Hong Kong, Singapore, and South Korea, the competitiveness and quality of the teams suggest that no more than three countries from these nations will win their first Olympic medals, and it is unlikely that there will be at least 5 countries winning their first medal.\"\\n}', 'refusal': None, 'reasoning': None}}], 'usage': {'prompt_tokens': 138, 'completion_tokens': 85, 'total_tokens': 223, 'prompt_tokens_details': {'cached_tokens': 96}}}\n",
      "2025-04-17 21:55:05,938 - INFO - Raw content: {\n",
      "  \"probability\": 0,\n",
      "  \"justification\": \"Due to the strong underdog nations like Italy and Japan, as well as small nations like Hong Kong, Singapore, and South Korea, the competitiveness and quality of the teams suggest that no more than three countries from these nations will win their first Olympic medals, and it is unlikely that there will be at least 5 countries winning their first medal.\"\n",
      "}\n",
      "2025-04-17 21:55:05,939 - INFO - Parsed response: {'probability': 0, 'justification': 'Due to the strong underdog nations like Italy and Japan, as well as small nations like Hong Kong, Singapore, and South Korea, the competitiveness and quality of the teams suggest that no more than three countries from these nations will win their first Olympic medals, and it is unlikely that there will be at least 5 countries winning their first medal.'}\n",
      " 23%|██▎       | 16/71 [01:11<09:08,  9.97s/it]2025-04-17 21:55:05,940 - INFO - Generating answer for query: Will the Venezuelan electoral commission publish full results of the July 28 presidential election before August 12, 2024?\n",
      "2025-04-17 21:55:05,941 - INFO - Messages for LLM: [{'role': 'system', 'content': 'You are an expert forecaster. Given a binary event, estimate the probability (0-100%) that it will happen, and provide a brief justification for your estimate. Respond strictly in the following JSON format:\\n{\\n  \"probability\": <number>,\\n  \"justification\": \"<short explanation>\"\\n}\\nDo not include any other text.'}, {'role': 'user', 'content': 'Event: Will the Venezuelan electoral commission publish full results of the July 28 presidential election before August 12, 2024?\\nWhat is the probability this event will occur? Please follow the required JSON format.'}]\n",
      "2025-04-17 21:55:10,415 - INFO - Response received: {'id': 'gen-1744916106-L8anEGqg2DzyuP9cT4YO', 'provider': 'Crusoe', 'model': 'meta-llama/llama-3.2-1b-instruct', 'object': 'chat.completion', 'created': 1744916106, 'choices': [{'logprobs': None, 'finish_reason': 'stop', 'native_finish_reason': 'stop', 'index': 0, 'message': {'role': 'assistant', 'content': '{\\n  \"probability\": 20,\\n  \"justification\": \"It\\'s highly likely that the Venezuelan electoral commission will publish full results of the July 28 presidential election before August 12, 2024. The commission typically releases results within days after polls close, and the July 28 election was a national vote. Failure to publish results would add significant pressure on the electoral authorities, leading to internal and external pressures for transparency.\"', 'refusal': None, 'reasoning': None}}], 'usage': {'prompt_tokens': 144, 'completion_tokens': 88, 'total_tokens': 232, 'prompt_tokens_details': {'cached_tokens': 96}}}\n",
      "2025-04-17 21:55:10,416 - INFO - Raw content: {\n",
      "  \"probability\": 20,\n",
      "  \"justification\": \"It's highly likely that the Venezuelan electoral commission will publish full results of the July 28 presidential election before August 12, 2024. The commission typically releases results within days after polls close, and the July 28 election was a national vote. Failure to publish results would add significant pressure on the electoral authorities, leading to internal and external pressures for transparency.\"\n",
      "2025-04-17 21:55:10,417 - ERROR - No JSON found in response\n",
      "2025-04-17 21:55:10,418 - INFO - Generating answer for query: Will the Venezuelan electoral commission publish full results of the July 28 presidential election before August 12, 2024?\n",
      "2025-04-17 21:55:10,419 - INFO - Messages for LLM: [{'role': 'system', 'content': 'You are an expert forecaster. Given a binary event, estimate the probability (0-100%) that it will happen, and provide a brief justification for your estimate. Respond strictly in the following JSON format:\\n{\\n  \"probability\": <number>,\\n  \"justification\": \"<short explanation>\"\\n}\\nDo not include any other text.'}, {'role': 'user', 'content': 'Event: Will the Venezuelan electoral commission publish full results of the July 28 presidential election before August 12, 2024?\\nWhat is the probability this event will occur? Please follow the required JSON format.'}]\n"
     ]
    },
    {
     "name": "stdout",
     "output_type": "stream",
     "text": [
      "Error: tuple indices must be integers or slices, not str. Retrying...\n"
     ]
    },
    {
     "name": "stderr",
     "output_type": "stream",
     "text": [
      "2025-04-17 21:55:15,414 - INFO - Response received: {'id': 'gen-1744916110-UCZUlabxXhSDYxuIVf37', 'provider': 'Crusoe', 'model': 'meta-llama/llama-3.2-1b-instruct', 'object': 'chat.completion', 'created': 1744916110, 'choices': [{'logprobs': None, 'finish_reason': 'stop', 'native_finish_reason': 'stop', 'index': 0, 'message': {'role': 'assistant', 'content': '{\\n  \"probability\": 50,\\n  \"justification\": \"No official information was available until November 2022 that public electoral commissions receive the votes by the August 12, 2022, deadline so election results were otherwise delayed.\" \\n}', 'refusal': None, 'reasoning': None}}], 'usage': {'prompt_tokens': 144, 'completion_tokens': 52, 'total_tokens': 196, 'prompt_tokens_details': {'cached_tokens': 96}}}\n",
      "2025-04-17 21:55:15,415 - INFO - Raw content: {\n",
      "  \"probability\": 50,\n",
      "  \"justification\": \"No official information was available until November 2022 that public electoral commissions receive the votes by the August 12, 2022, deadline so election results were otherwise delayed.\" \n",
      "}\n",
      "2025-04-17 21:55:15,416 - INFO - Parsed response: {'probability': 50, 'justification': 'No official information was available until November 2022 that public electoral commissions receive the votes by the August 12, 2022, deadline so election results were otherwise delayed.'}\n",
      " 24%|██▍       | 17/71 [01:20<08:50,  9.82s/it]2025-04-17 21:55:15,417 - INFO - Generating answer for query: Will at least 5 countries win their first Olympic medal at the 2024 Games?\n",
      "2025-04-17 21:55:15,419 - INFO - Messages for LLM: [{'role': 'system', 'content': 'You are an expert forecaster. Given a binary event, estimate the probability (0-100%) that it will happen, and provide a brief justification for your estimate. Respond strictly in the following JSON format:\\n{\\n  \"probability\": <number>,\\n  \"justification\": \"<short explanation>\"\\n}\\nDo not include any other text.'}, {'role': 'user', 'content': 'Event: Will at least 5 countries win their first Olympic medal at the 2024 Games?\\nWhat is the probability this event will occur? Please follow the required JSON format.'}]\n",
      "2025-04-17 21:55:17,396 - INFO - Response received: {'id': 'gen-1744916115-ALOknnmLl2JxkrmaQidS', 'provider': 'Crusoe', 'model': 'meta-llama/llama-3.2-1b-instruct', 'object': 'chat.completion', 'created': 1744916115, 'choices': [{'logprobs': None, 'finish_reason': 'stop', 'native_finish_reason': 'stop', 'index': 0, 'message': {'role': 'assistant', 'content': '{\\n  \"probability\": 11,\\n  \"justification\": \"This probability is extremely low due to significant factors including track and field\\'s positional dominance in each event, remaining very hot players, barriers in places required experience & adaptation toward specifically the checksum finish events doing backstroke – limitations as pertinent improve uninterrupted which winning emphasizing opportunity advancing winning posture Conference registering dancing simpler prejudice affiliating forces editorial early results etc.\"\\n}', 'refusal': None, 'reasoning': None}}], 'usage': {'prompt_tokens': 138, 'completion_tokens': 83, 'total_tokens': 221, 'prompt_tokens_details': {'cached_tokens': 96}}}\n",
      "2025-04-17 21:55:17,397 - INFO - Raw content: {\n",
      "  \"probability\": 11,\n",
      "  \"justification\": \"This probability is extremely low due to significant factors including track and field's positional dominance in each event, remaining very hot players, barriers in places required experience & adaptation toward specifically the checksum finish events doing backstroke – limitations as pertinent improve uninterrupted which winning emphasizing opportunity advancing winning posture Conference registering dancing simpler prejudice affiliating forces editorial early results etc.\"\n",
      "}\n",
      "2025-04-17 21:55:17,398 - INFO - Parsed response: {'probability': 11, 'justification': \"This probability is extremely low due to significant factors including track and field's positional dominance in each event, remaining very hot players, barriers in places required experience & adaptation toward specifically the checksum finish events doing backstroke – limitations as pertinent improve uninterrupted which winning emphasizing opportunity advancing winning posture Conference registering dancing simpler prejudice affiliating forces editorial early results etc.\"}\n",
      " 25%|██▌       | 18/71 [01:22<06:35,  7.47s/it]2025-04-17 21:55:17,399 - INFO - Generating answer for query: Will the Venezuelan electoral commission publish full results of the July 28 presidential election before August 12, 2024?\n",
      "2025-04-17 21:55:17,400 - INFO - Messages for LLM: [{'role': 'system', 'content': 'You are an expert forecaster. Given a binary event, estimate the probability (0-100%) that it will happen, and provide a brief justification for your estimate. Respond strictly in the following JSON format:\\n{\\n  \"probability\": <number>,\\n  \"justification\": \"<short explanation>\"\\n}\\nDo not include any other text.'}, {'role': 'user', 'content': 'Event: Will the Venezuelan electoral commission publish full results of the July 28 presidential election before August 12, 2024?\\nWhat is the probability this event will occur? Please follow the required JSON format.'}]\n",
      "2025-04-17 21:55:22,733 - INFO - Response received: {'id': 'gen-1744916117-0jwSr44PPznRBHvzWAa5', 'provider': 'Crusoe', 'model': 'meta-llama/llama-3.2-1b-instruct', 'object': 'chat.completion', 'created': 1744916117, 'choices': [{'logprobs': None, 'finish_reason': 'stop', 'native_finish_reason': 'stop', 'index': 0, 'message': {'role': 'assistant', 'content': '{\\n  \"probability\": 93,\\n  \"justification\": \"The Venezuelan electoral commission\\'s commitment to transparency and the importance of publishing results in time to allow for legitimate opposition challenges has been a habitual stance of Venezuelan democracy, implying it will publish results before August 12.\"\\n}', 'refusal': None, 'reasoning': None}}], 'usage': {'prompt_tokens': 144, 'completion_tokens': 57, 'total_tokens': 201, 'prompt_tokens_details': {'cached_tokens': 144}}}\n",
      "2025-04-17 21:55:22,734 - INFO - Raw content: {\n",
      "  \"probability\": 93,\n",
      "  \"justification\": \"The Venezuelan electoral commission's commitment to transparency and the importance of publishing results in time to allow for legitimate opposition challenges has been a habitual stance of Venezuelan democracy, implying it will publish results before August 12.\"\n",
      "}\n",
      "2025-04-17 21:55:22,735 - INFO - Parsed response: {'probability': 93, 'justification': \"The Venezuelan electoral commission's commitment to transparency and the importance of publishing results in time to allow for legitimate opposition challenges has been a habitual stance of Venezuelan democracy, implying it will publish results before August 12.\"}\n",
      " 27%|██▋       | 19/71 [01:28<05:55,  6.83s/it]2025-04-17 21:55:22,736 - INFO - Generating answer for query: Will the Fed cut rates by 50 bps at their September meeting?\n",
      "2025-04-17 21:55:22,736 - INFO - Messages for LLM: [{'role': 'system', 'content': 'You are an expert forecaster. Given a binary event, estimate the probability (0-100%) that it will happen, and provide a brief justification for your estimate. Respond strictly in the following JSON format:\\n{\\n  \"probability\": <number>,\\n  \"justification\": \"<short explanation>\"\\n}\\nDo not include any other text.'}, {'role': 'user', 'content': 'Event: Will the Fed cut rates by 50 bps at their September meeting?\\nWhat is the probability this event will occur? Please follow the required JSON format.'}]\n",
      "2025-04-17 21:55:24,755 - INFO - Response received: {'id': 'gen-1744916122-MaUFUe9xgGbpklKEmbLa', 'provider': 'Crusoe', 'model': 'meta-llama/llama-3.2-1b-instruct', 'object': 'chat.completion', 'created': 1744916122, 'choices': [{'logprobs': None, 'finish_reason': 'stop', 'native_finish_reason': 'stop', 'index': 0, 'message': {'role': 'assistant', 'content': '{\\n  \"probability\": 20,\\n  \"justification\": \"Based on current market sentiment and economic data, there is a low probability that the Fed will cut rates by 50 bps at their September meeting, due to concerns over inflation and potential ulterior motives that may not be fully communicated.\"', 'refusal': None, 'reasoning': None}}], 'usage': {'prompt_tokens': 135, 'completion_tokens': 62, 'total_tokens': 197, 'prompt_tokens_details': {'cached_tokens': 96}}}\n",
      "2025-04-17 21:55:24,756 - INFO - Raw content: {\n",
      "  \"probability\": 20,\n",
      "  \"justification\": \"Based on current market sentiment and economic data, there is a low probability that the Fed will cut rates by 50 bps at their September meeting, due to concerns over inflation and potential ulterior motives that may not be fully communicated.\"\n",
      "2025-04-17 21:55:24,758 - ERROR - No JSON found in response\n",
      "2025-04-17 21:55:24,759 - INFO - Generating answer for query: Will the Fed cut rates by 50 bps at their September meeting?\n",
      "2025-04-17 21:55:24,759 - INFO - Messages for LLM: [{'role': 'system', 'content': 'You are an expert forecaster. Given a binary event, estimate the probability (0-100%) that it will happen, and provide a brief justification for your estimate. Respond strictly in the following JSON format:\\n{\\n  \"probability\": <number>,\\n  \"justification\": \"<short explanation>\"\\n}\\nDo not include any other text.'}, {'role': 'user', 'content': 'Event: Will the Fed cut rates by 50 bps at their September meeting?\\nWhat is the probability this event will occur? Please follow the required JSON format.'}]\n"
     ]
    },
    {
     "name": "stdout",
     "output_type": "stream",
     "text": [
      "Error: tuple indices must be integers or slices, not str. Retrying...\n"
     ]
    },
    {
     "name": "stderr",
     "output_type": "stream",
     "text": [
      "2025-04-17 21:55:26,581 - INFO - Response received: {'id': 'gen-1744916124-demCYFF0IXhWil1x13KR', 'provider': 'Crusoe', 'model': 'meta-llama/llama-3.2-1b-instruct', 'object': 'chat.completion', 'created': 1744916124, 'choices': [{'logprobs': None, 'finish_reason': 'stop', 'native_finish_reason': 'stop', 'index': 0, 'message': {'role': 'assistant', 'content': '{\\n  \"probability\": 20,\\n  \"justification\": \"While some economists expect the Fed to adjust rates later in 2023 to address slowing economic growth and inflation, no consensus exists for a September rate cut, with some arguing it was a non-event and others speculating about a potential October hike.\"\\n}', 'refusal': None, 'reasoning': None}}], 'usage': {'prompt_tokens': 135, 'completion_tokens': 65, 'total_tokens': 200, 'prompt_tokens_details': {'cached_tokens': 96}}}\n",
      "2025-04-17 21:55:26,582 - INFO - Raw content: {\n",
      "  \"probability\": 20,\n",
      "  \"justification\": \"While some economists expect the Fed to adjust rates later in 2023 to address slowing economic growth and inflation, no consensus exists for a September rate cut, with some arguing it was a non-event and others speculating about a potential October hike.\"\n",
      "}\n",
      "2025-04-17 21:55:26,583 - INFO - Parsed response: {'probability': 20, 'justification': 'While some economists expect the Fed to adjust rates later in 2023 to address slowing economic growth and inflation, no consensus exists for a September rate cut, with some arguing it was a non-event and others speculating about a potential October hike.'}\n",
      " 28%|██▊       | 20/71 [01:32<05:02,  5.93s/it]2025-04-17 21:55:26,585 - INFO - Generating answer for query: Will the Fed cut rates by more than 50 bps at their September meeting?\n",
      "2025-04-17 21:55:26,587 - INFO - Messages for LLM: [{'role': 'system', 'content': 'You are an expert forecaster. Given a binary event, estimate the probability (0-100%) that it will happen, and provide a brief justification for your estimate. Respond strictly in the following JSON format:\\n{\\n  \"probability\": <number>,\\n  \"justification\": \"<short explanation>\"\\n}\\nDo not include any other text.'}, {'role': 'user', 'content': 'Event: Will the Fed cut rates by more than 50 bps at their September meeting?\\nWhat is the probability this event will occur? Please follow the required JSON format.'}]\n",
      "2025-04-17 21:55:29,014 - INFO - Response received: {'id': 'gen-1744916126-YAFvM3VBwKfMrBbbmv7Y', 'provider': 'Crusoe', 'model': 'meta-llama/llama-3.2-1b-instruct', 'object': 'chat.completion', 'created': 1744916126, 'choices': [{'logprobs': None, 'finish_reason': 'stop', 'native_finish_reason': 'stop', 'index': 0, 'message': {'role': 'assistant', 'content': '{\\n  \"probability\": \"20\",\\n  \"justification\": \"Based on a bullish macroeconomic review, it is highly likely the Federal Reserve will cut interest rates by 50 bps in September if inflation remains below year-end projections. This expectation stems from the assumption that the economy will continue to recover, albeit gradually, and the Fed\\'s concern about the nascent labor market slowdown. Additionally, recent GDP growth and inflation indicators suggest that the growth rate is flattening out, leading to a more dovish stance on rate cuts.\"\\n}', 'refusal': None, 'reasoning': None}}], 'usage': {'prompt_tokens': 137, 'completion_tokens': 109, 'total_tokens': 246, 'prompt_tokens_details': {'cached_tokens': 96}}}\n",
      "2025-04-17 21:55:29,015 - INFO - Raw content: {\n",
      "  \"probability\": \"20\",\n",
      "  \"justification\": \"Based on a bullish macroeconomic review, it is highly likely the Federal Reserve will cut interest rates by 50 bps in September if inflation remains below year-end projections. This expectation stems from the assumption that the economy will continue to recover, albeit gradually, and the Fed's concern about the nascent labor market slowdown. Additionally, recent GDP growth and inflation indicators suggest that the growth rate is flattening out, leading to a more dovish stance on rate cuts.\"\n",
      "}\n",
      "2025-04-17 21:55:29,016 - INFO - Parsed response: {'probability': '20', 'justification': \"Based on a bullish macroeconomic review, it is highly likely the Federal Reserve will cut interest rates by 50 bps in September if inflation remains below year-end projections. This expectation stems from the assumption that the economy will continue to recover, albeit gradually, and the Fed's concern about the nascent labor market slowdown. Additionally, recent GDP growth and inflation indicators suggest that the growth rate is flattening out, leading to a more dovish stance on rate cuts.\"}\n",
      " 30%|██▉       | 21/71 [01:34<04:04,  4.88s/it]2025-04-17 21:55:29,017 - INFO - Generating answer for query: Will the month over month percentage increase in core CPI inflation in the US in August 2024 be 0.0% or less?\n",
      "2025-04-17 21:55:29,017 - INFO - Messages for LLM: [{'role': 'system', 'content': 'You are an expert forecaster. Given a binary event, estimate the probability (0-100%) that it will happen, and provide a brief justification for your estimate. Respond strictly in the following JSON format:\\n{\\n  \"probability\": <number>,\\n  \"justification\": \"<short explanation>\"\\n}\\nDo not include any other text.'}, {'role': 'user', 'content': 'Event: Will the month over month percentage increase in core CPI inflation in the US in August 2024 be 0.0% or less?\\nWhat is the probability this event will occur? Please follow the required JSON format.'}]\n",
      "2025-04-17 21:55:30,756 - INFO - Response received: {'id': 'gen-1744916128-F8UEfX9RYM9awSL3xcQJ', 'provider': 'Crusoe', 'model': 'meta-llama/llama-3.2-1b-instruct', 'object': 'chat.completion', 'created': 1744916128, 'choices': [{'logprobs': None, 'finish_reason': 'stop', 'native_finish_reason': 'stop', 'index': 0, 'message': {'role': 'assistant', 'content': '{\\n  \"probability\": 80,\\n  \"justification\": \"The August CPI (YoY) inflation rate for the US will likely experience a renewed increase, as economic growth remains strong, coupled with upward pressure from higher goods and services in August, expecting core CPI inflation to rise above 2% YoY, thus exceeding 0.0% as a standard recent trend has been a month with increase.\"', 'refusal': None, 'reasoning': None}}], 'usage': {'prompt_tokens': 148, 'completion_tokens': 84, 'total_tokens': 232, 'prompt_tokens_details': {'cached_tokens': 96}}}\n",
      "2025-04-17 21:55:30,757 - INFO - Raw content: {\n",
      "  \"probability\": 80,\n",
      "  \"justification\": \"The August CPI (YoY) inflation rate for the US will likely experience a renewed increase, as economic growth remains strong, coupled with upward pressure from higher goods and services in August, expecting core CPI inflation to rise above 2% YoY, thus exceeding 0.0% as a standard recent trend has been a month with increase.\"\n",
      "2025-04-17 21:55:30,758 - ERROR - No JSON found in response\n",
      "2025-04-17 21:55:30,758 - INFO - Generating answer for query: Will the month over month percentage increase in core CPI inflation in the US in August 2024 be 0.0% or less?\n",
      "2025-04-17 21:55:30,759 - INFO - Messages for LLM: [{'role': 'system', 'content': 'You are an expert forecaster. Given a binary event, estimate the probability (0-100%) that it will happen, and provide a brief justification for your estimate. Respond strictly in the following JSON format:\\n{\\n  \"probability\": <number>,\\n  \"justification\": \"<short explanation>\"\\n}\\nDo not include any other text.'}, {'role': 'user', 'content': 'Event: Will the month over month percentage increase in core CPI inflation in the US in August 2024 be 0.0% or less?\\nWhat is the probability this event will occur? Please follow the required JSON format.'}]\n"
     ]
    },
    {
     "name": "stdout",
     "output_type": "stream",
     "text": [
      "Error: tuple indices must be integers or slices, not str. Retrying...\n"
     ]
    },
    {
     "name": "stderr",
     "output_type": "stream",
     "text": [
      "2025-04-17 21:55:32,387 - INFO - Response received: {'id': 'gen-1744916130-rDsnPr2AFSUR5WhnKbEO', 'provider': 'Crusoe', 'model': 'meta-llama/llama-3.2-1b-instruct', 'object': 'chat.completion', 'created': 1744916130, 'choices': [{'logprobs': None, 'finish_reason': 'stop', 'native_finish_reason': 'stop', 'index': 0, 'message': {'role': 'assistant', 'content': '{\\n  \"probability\": 20,\\n  \"justification\": \"Based on current monetary policy easing by the Federal Reserve, it is possible that core CPI inflation in August 2024 may increase by 0.1%-0.2% to align with the FOMC\\'s dual-pocused policy of stabilizing inflation, despite the expected decline in August. However, an increase of 0.0% or less seems less likely due to its close proximity to the previous increase in July.\"\\n}', 'refusal': None, 'reasoning': None}}], 'usage': {'prompt_tokens': 148, 'completion_tokens': 102, 'total_tokens': 250, 'prompt_tokens_details': {'cached_tokens': 96}}}\n",
      "2025-04-17 21:55:32,388 - INFO - Raw content: {\n",
      "  \"probability\": 20,\n",
      "  \"justification\": \"Based on current monetary policy easing by the Federal Reserve, it is possible that core CPI inflation in August 2024 may increase by 0.1%-0.2% to align with the FOMC's dual-pocused policy of stabilizing inflation, despite the expected decline in August. However, an increase of 0.0% or less seems less likely due to its close proximity to the previous increase in July.\"\n",
      "}\n",
      "2025-04-17 21:55:32,389 - INFO - Parsed response: {'probability': 20, 'justification': \"Based on current monetary policy easing by the Federal Reserve, it is possible that core CPI inflation in August 2024 may increase by 0.1%-0.2% to align with the FOMC's dual-pocused policy of stabilizing inflation, despite the expected decline in August. However, an increase of 0.0% or less seems less likely due to its close proximity to the previous increase in July.\"}\n",
      " 31%|███       | 22/71 [01:37<03:37,  4.43s/it]2025-04-17 21:55:32,391 - INFO - Generating answer for query: Will the month over month percentage increase in core CPI inflation in the US in August 2024 be 0.2%?\n",
      "2025-04-17 21:55:32,392 - INFO - Messages for LLM: [{'role': 'system', 'content': 'You are an expert forecaster. Given a binary event, estimate the probability (0-100%) that it will happen, and provide a brief justification for your estimate. Respond strictly in the following JSON format:\\n{\\n  \"probability\": <number>,\\n  \"justification\": \"<short explanation>\"\\n}\\nDo not include any other text.'}, {'role': 'user', 'content': 'Event: Will the month over month percentage increase in core CPI inflation in the US in August 2024 be 0.2%?\\nWhat is the probability this event will occur? Please follow the required JSON format.'}]\n",
      "2025-04-17 21:55:33,669 - INFO - Response received: {'id': 'gen-1744916131-f02lxLMBgBZgGuGUmWgq', 'provider': 'Crusoe', 'model': 'meta-llama/llama-3.2-1b-instruct', 'object': 'chat.completion', 'created': 1744916131, 'choices': [{'logprobs': None, 'finish_reason': 'stop', 'native_finish_reason': 'stop', 'index': 0, 'message': {'role': 'assistant', 'content': '{\\n  \"probability\": 40,\\n  \"justification\": \"There is a clear reason for the 0.2% increase. Given the expected one-year rate of inflation and the strong correlation with the yield curve and employment data, as well as the massive fiscal and monetary stimulus hike in August to push the inflation rate up, the most statistically improbable event in this scenario is a decrease.\"', 'refusal': None, 'reasoning': None}}], 'usage': {'prompt_tokens': 146, 'completion_tokens': 80, 'total_tokens': 226, 'prompt_tokens_details': {'cached_tokens': 96}}}\n",
      "2025-04-17 21:55:33,670 - INFO - Raw content: {\n",
      "  \"probability\": 40,\n",
      "  \"justification\": \"There is a clear reason for the 0.2% increase. Given the expected one-year rate of inflation and the strong correlation with the yield curve and employment data, as well as the massive fiscal and monetary stimulus hike in August to push the inflation rate up, the most statistically improbable event in this scenario is a decrease.\"\n",
      "2025-04-17 21:55:33,670 - ERROR - No JSON found in response\n",
      "2025-04-17 21:55:33,671 - INFO - Generating answer for query: Will the month over month percentage increase in core CPI inflation in the US in August 2024 be 0.2%?\n",
      "2025-04-17 21:55:33,671 - INFO - Messages for LLM: [{'role': 'system', 'content': 'You are an expert forecaster. Given a binary event, estimate the probability (0-100%) that it will happen, and provide a brief justification for your estimate. Respond strictly in the following JSON format:\\n{\\n  \"probability\": <number>,\\n  \"justification\": \"<short explanation>\"\\n}\\nDo not include any other text.'}, {'role': 'user', 'content': 'Event: Will the month over month percentage increase in core CPI inflation in the US in August 2024 be 0.2%?\\nWhat is the probability this event will occur? Please follow the required JSON format.'}]\n"
     ]
    },
    {
     "name": "stdout",
     "output_type": "stream",
     "text": [
      "Error: tuple indices must be integers or slices, not str. Retrying...\n"
     ]
    },
    {
     "name": "stderr",
     "output_type": "stream",
     "text": [
      "2025-04-17 21:55:36,036 - INFO - Response received: {'id': 'gen-1744916133-11x5dIpIlFYcPm0SkuYm', 'provider': 'Crusoe', 'model': 'meta-llama/llama-3.2-1b-instruct', 'object': 'chat.completion', 'created': 1744916133, 'choices': [{'logprobs': None, 'finish_reason': 'stop', 'native_finish_reason': 'stop', 'index': 0, 'message': {'role': 'assistant', 'content': '{\\n  \"probability\": 80,\\n  \"justification\": \"While a 0.2% increase in core CPI inflation might be plausible during an economic expansion, such a small increase would be less likely in an economic downturn. The lingering effects of the 2022 inflation floor and potential mismatched supply and demand could be hindering productivity growth and weigh on inflation expectations, particularly if the Fed continues to interest rate hikes\"', 'refusal': None, 'reasoning': None}}], 'usage': {'prompt_tokens': 146, 'completion_tokens': 87, 'total_tokens': 233, 'prompt_tokens_details': {'cached_tokens': 144}}}\n",
      "2025-04-17 21:55:36,037 - INFO - Raw content: {\n",
      "  \"probability\": 80,\n",
      "  \"justification\": \"While a 0.2% increase in core CPI inflation might be plausible during an economic expansion, such a small increase would be less likely in an economic downturn. The lingering effects of the 2022 inflation floor and potential mismatched supply and demand could be hindering productivity growth and weigh on inflation expectations, particularly if the Fed continues to interest rate hikes\"\n",
      "2025-04-17 21:55:36,038 - ERROR - No JSON found in response\n",
      "2025-04-17 21:55:36,038 - INFO - Generating answer for query: Will the month over month percentage increase in core CPI inflation in the US in August 2024 be 0.2%?\n",
      "2025-04-17 21:55:36,039 - INFO - Messages for LLM: [{'role': 'system', 'content': 'You are an expert forecaster. Given a binary event, estimate the probability (0-100%) that it will happen, and provide a brief justification for your estimate. Respond strictly in the following JSON format:\\n{\\n  \"probability\": <number>,\\n  \"justification\": \"<short explanation>\"\\n}\\nDo not include any other text.'}, {'role': 'user', 'content': 'Event: Will the month over month percentage increase in core CPI inflation in the US in August 2024 be 0.2%?\\nWhat is the probability this event will occur? Please follow the required JSON format.'}]\n"
     ]
    },
    {
     "name": "stdout",
     "output_type": "stream",
     "text": [
      "Error: tuple indices must be integers or slices, not str. Retrying...\n"
     ]
    },
    {
     "name": "stderr",
     "output_type": "stream",
     "text": [
      "2025-04-17 21:55:37,225 - INFO - Response received: {'id': 'gen-1744916135-7E44J5uQdMPfPPgEp6oj', 'provider': 'Crusoe', 'model': 'meta-llama/llama-3.2-1b-instruct', 'object': 'chat.completion', 'created': 1744916135, 'choices': [{'logprobs': None, 'finish_reason': 'stop', 'native_finish_reason': 'stop', 'index': 0, 'message': {'role': 'assistant', 'content': '{\\n  \"probability\": 25,\\n  \"justification\": \"Given forecasts from reputable institutions, the consensus expectation for core CPI inflation in August 2024 is around 0.1%, suggesting a 25% probability of this specific event occurring.\"\\n}', 'refusal': None, 'reasoning': None}}], 'usage': {'prompt_tokens': 146, 'completion_tokens': 53, 'total_tokens': 199, 'prompt_tokens_details': {'cached_tokens': 144}}}\n",
      "2025-04-17 21:55:37,226 - INFO - Raw content: {\n",
      "  \"probability\": 25,\n",
      "  \"justification\": \"Given forecasts from reputable institutions, the consensus expectation for core CPI inflation in August 2024 is around 0.1%, suggesting a 25% probability of this specific event occurring.\"\n",
      "}\n",
      "2025-04-17 21:55:37,226 - INFO - Parsed response: {'probability': 25, 'justification': 'Given forecasts from reputable institutions, the consensus expectation for core CPI inflation in August 2024 is around 0.1%, suggesting a 25% probability of this specific event occurring.'}\n",
      " 32%|███▏      | 23/71 [01:42<03:38,  4.55s/it]2025-04-17 21:55:37,228 - INFO - Generating answer for query: Will the month over month percentage increase in core CPI inflation in the US in August 2024 be 0.3%?\n",
      "2025-04-17 21:55:37,229 - INFO - Messages for LLM: [{'role': 'system', 'content': 'You are an expert forecaster. Given a binary event, estimate the probability (0-100%) that it will happen, and provide a brief justification for your estimate. Respond strictly in the following JSON format:\\n{\\n  \"probability\": <number>,\\n  \"justification\": \"<short explanation>\"\\n}\\nDo not include any other text.'}, {'role': 'user', 'content': 'Event: Will the month over month percentage increase in core CPI inflation in the US in August 2024 be 0.3%?\\nWhat is the probability this event will occur? Please follow the required JSON format.'}]\n",
      "2025-04-17 21:55:39,010 - INFO - Response received: {'id': 'gen-1744916136-7FAX2v6ndH6ZtgrshMD1', 'provider': 'Crusoe', 'model': 'meta-llama/llama-3.2-1b-instruct', 'object': 'chat.completion', 'created': 1744916136, 'choices': [{'logprobs': None, 'finish_reason': 'stop', 'native_finish_reason': 'stop', 'index': 0, 'message': {'role': 'assistant', 'content': '{\\n \"probability\": 20,\\n \"justification\": \"Based on historical trends and the Biden Administration\\'s economic policies, the likelihood of a 0.3% increase in core CPI inflation in August 2024 is relatively low. The US in August 2023 had its monthly CPI inflation rate at 6.0%, which is a significant increase from its 4.2% in March of the previous year. Factors contributing to this increase include the ongoing supply chain disruptions and the subsequent effects of trade tensions. Therefore, a gradual increase in CPI inflation is more likely, and a 0.3% increase is less probable than a 6.0% increase.\"\\n}', 'refusal': None, 'reasoning': None}}], 'usage': {'prompt_tokens': 146, 'completion_tokens': 138, 'total_tokens': 284, 'prompt_tokens_details': {'cached_tokens': 112}}}\n",
      "2025-04-17 21:55:39,011 - INFO - Raw content: {\n",
      " \"probability\": 20,\n",
      " \"justification\": \"Based on historical trends and the Biden Administration's economic policies, the likelihood of a 0.3% increase in core CPI inflation in August 2024 is relatively low. The US in August 2023 had its monthly CPI inflation rate at 6.0%, which is a significant increase from its 4.2% in March of the previous year. Factors contributing to this increase include the ongoing supply chain disruptions and the subsequent effects of trade tensions. Therefore, a gradual increase in CPI inflation is more likely, and a 0.3% increase is less probable than a 6.0% increase.\"\n",
      "}\n",
      "2025-04-17 21:55:39,011 - INFO - Parsed response: {'probability': 20, 'justification': \"Based on historical trends and the Biden Administration's economic policies, the likelihood of a 0.3% increase in core CPI inflation in August 2024 is relatively low. The US in August 2023 had its monthly CPI inflation rate at 6.0%, which is a significant increase from its 4.2% in March of the previous year. Factors contributing to this increase include the ongoing supply chain disruptions and the subsequent effects of trade tensions. Therefore, a gradual increase in CPI inflation is more likely, and a 0.3% increase is less probable than a 6.0% increase.\"}\n",
      " 34%|███▍      | 24/71 [01:44<02:54,  3.72s/it]2025-04-17 21:55:39,013 - INFO - Generating answer for query: Will Pavel Durov leave France before October 1, 2024?\n",
      "2025-04-17 21:55:39,013 - INFO - Messages for LLM: [{'role': 'system', 'content': 'You are an expert forecaster. Given a binary event, estimate the probability (0-100%) that it will happen, and provide a brief justification for your estimate. Respond strictly in the following JSON format:\\n{\\n  \"probability\": <number>,\\n  \"justification\": \"<short explanation>\"\\n}\\nDo not include any other text.'}, {'role': 'user', 'content': 'Event: Will Pavel Durov leave France before October 1, 2024?\\nWhat is the probability this event will occur? Please follow the required JSON format.'}]\n",
      "2025-04-17 21:55:41,211 - INFO - Response received: {'id': 'gen-1744916139-ruFpLe6Qnx6OiwCX5SJr', 'provider': 'Crusoe', 'model': 'meta-llama/llama-3.2-1b-instruct', 'object': 'chat.completion', 'created': 1744916139, 'choices': [{'logprobs': None, 'finish_reason': 'stop', 'native_finish_reason': 'stop', 'index': 0, 'message': {'role': 'assistant', 'content': '{\\n  \"probability\": 20,\\n  \"justification\": \"Based on Pavel Durov\\'s past statements and media appearances, there is a significant likelihood of him shifting to France or the French Riviera due to tax reasons. Although there is no concrete evidence, his Twitter posts showcase an affinity for the French lifestyle and climate, raising the possibility of him moving to France or at least spending more time there.\"', 'refusal': None, 'reasoning': None}}], 'usage': {'prompt_tokens': 136, 'completion_tokens': 84, 'total_tokens': 220, 'prompt_tokens_details': {'cached_tokens': 96}}}\n",
      "2025-04-17 21:55:41,212 - INFO - Raw content: {\n",
      "  \"probability\": 20,\n",
      "  \"justification\": \"Based on Pavel Durov's past statements and media appearances, there is a significant likelihood of him shifting to France or the French Riviera due to tax reasons. Although there is no concrete evidence, his Twitter posts showcase an affinity for the French lifestyle and climate, raising the possibility of him moving to France or at least spending more time there.\"\n",
      "2025-04-17 21:55:41,213 - ERROR - No JSON found in response\n",
      "2025-04-17 21:55:41,214 - INFO - Generating answer for query: Will Pavel Durov leave France before October 1, 2024?\n",
      "2025-04-17 21:55:41,215 - INFO - Messages for LLM: [{'role': 'system', 'content': 'You are an expert forecaster. Given a binary event, estimate the probability (0-100%) that it will happen, and provide a brief justification for your estimate. Respond strictly in the following JSON format:\\n{\\n  \"probability\": <number>,\\n  \"justification\": \"<short explanation>\"\\n}\\nDo not include any other text.'}, {'role': 'user', 'content': 'Event: Will Pavel Durov leave France before October 1, 2024?\\nWhat is the probability this event will occur? Please follow the required JSON format.'}]\n"
     ]
    },
    {
     "name": "stdout",
     "output_type": "stream",
     "text": [
      "Error: tuple indices must be integers or slices, not str. Retrying...\n"
     ]
    },
    {
     "name": "stderr",
     "output_type": "stream",
     "text": [
      "2025-04-17 21:55:43,938 - INFO - Response received: {'id': 'gen-1744916141-5vPykVf7Gky0ZgqDcPLV', 'provider': 'Crusoe', 'model': 'meta-llama/llama-3.2-1b-instruct', 'object': 'chat.completion', 'created': 1744916141, 'choices': [{'logprobs': None, 'finish_reason': 'stop', 'native_finish_reason': 'stop', 'index': 0, 'message': {'role': 'assistant', 'content': '{\\n  \"probability\": 40,\\n  \"justification\": \"There is only one person in the world known to Pavel Durov, and he is 32 years old. Considering his maturity and life goals, it is less likely that he will leave France before October 1, 2024. (~30%) estimated chance of Pavel Durov leaving France before October 1, 2024.\"', 'refusal': None, 'reasoning': None}}], 'usage': {'prompt_tokens': 136, 'completion_tokens': 84, 'total_tokens': 220, 'prompt_tokens_details': {'cached_tokens': 96}}}\n",
      "2025-04-17 21:55:43,938 - INFO - Raw content: {\n",
      "  \"probability\": 40,\n",
      "  \"justification\": \"There is only one person in the world known to Pavel Durov, and he is 32 years old. Considering his maturity and life goals, it is less likely that he will leave France before October 1, 2024. (~30%) estimated chance of Pavel Durov leaving France before October 1, 2024.\"\n",
      "2025-04-17 21:55:43,939 - ERROR - No JSON found in response\n",
      "2025-04-17 21:55:43,941 - INFO - Generating answer for query: Will Pavel Durov leave France before October 1, 2024?\n",
      "2025-04-17 21:55:43,941 - INFO - Messages for LLM: [{'role': 'system', 'content': 'You are an expert forecaster. Given a binary event, estimate the probability (0-100%) that it will happen, and provide a brief justification for your estimate. Respond strictly in the following JSON format:\\n{\\n  \"probability\": <number>,\\n  \"justification\": \"<short explanation>\"\\n}\\nDo not include any other text.'}, {'role': 'user', 'content': 'Event: Will Pavel Durov leave France before October 1, 2024?\\nWhat is the probability this event will occur? Please follow the required JSON format.'}]\n"
     ]
    },
    {
     "name": "stdout",
     "output_type": "stream",
     "text": [
      "Error: tuple indices must be integers or slices, not str. Retrying...\n"
     ]
    },
    {
     "name": "stderr",
     "output_type": "stream",
     "text": [
      "2025-04-17 21:55:46,199 - INFO - Response received: {'id': 'gen-1744916143-iWbIhzxGwpGxYYuREUEY', 'provider': 'Crusoe', 'model': 'meta-llama/llama-3.2-1b-instruct', 'object': 'chat.completion', 'created': 1744916143, 'choices': [{'logprobs': None, 'finish_reason': 'stop', 'native_finish_reason': 'stop', 'index': 0, 'message': {'role': 'assistant', 'content': '{\\n  \"probability\": 25,\\n  \"justification\": \"I have no reliable sources indicating that Paul Dubois, alias Pavel Durov, has an intention of leaving France before October 1, 2024, there is also a lack of concrete justification for this expectation, as Durov\\'s personal life and visa positions can be complicated and personal. This prediction is rather speculative and likely subjective. Further uncertainty could arise due to unforeseen circumstances in the Durov and his relocation process.\"\\n}', 'refusal': None, 'reasoning': None}}], 'usage': {'prompt_tokens': 136, 'completion_tokens': 104, 'total_tokens': 240, 'prompt_tokens_details': {'cached_tokens': 128}}}\n",
      "2025-04-17 21:55:46,200 - INFO - Raw content: {\n",
      "  \"probability\": 25,\n",
      "  \"justification\": \"I have no reliable sources indicating that Paul Dubois, alias Pavel Durov, has an intention of leaving France before October 1, 2024, there is also a lack of concrete justification for this expectation, as Durov's personal life and visa positions can be complicated and personal. This prediction is rather speculative and likely subjective. Further uncertainty could arise due to unforeseen circumstances in the Durov and his relocation process.\"\n",
      "}\n",
      "2025-04-17 21:55:46,200 - INFO - Parsed response: {'probability': 25, 'justification': \"I have no reliable sources indicating that Paul Dubois, alias Pavel Durov, has an intention of leaving France before October 1, 2024, there is also a lack of concrete justification for this expectation, as Durov's personal life and visa positions can be complicated and personal. This prediction is rather speculative and likely subjective. Further uncertainty could arise due to unforeseen circumstances in the Durov and his relocation process.\"}\n",
      " 35%|███▌      | 25/71 [01:51<03:39,  4.76s/it]2025-04-17 21:55:46,200 - INFO - Generating answer for query: Will there be a US presidential debate between Donald Trump and Kamala Harris held on September 10, 2024?\n",
      "2025-04-17 21:55:46,200 - INFO - Messages for LLM: [{'role': 'system', 'content': 'You are an expert forecaster. Given a binary event, estimate the probability (0-100%) that it will happen, and provide a brief justification for your estimate. Respond strictly in the following JSON format:\\n{\\n  \"probability\": <number>,\\n  \"justification\": \"<short explanation>\"\\n}\\nDo not include any other text.'}, {'role': 'user', 'content': 'Event: Will there be a US presidential debate between Donald Trump and Kamala Harris held on September 10, 2024?\\nWhat is the probability this event will occur? Please follow the required JSON format.'}]\n",
      "2025-04-17 21:55:47,828 - INFO - Response received: {'id': 'gen-1744916145-78Usc7OAv17GVfTF7Nmu', 'provider': 'Crusoe', 'model': 'meta-llama/llama-3.2-1b-instruct', 'object': 'chat.completion', 'created': 1744916145, 'choices': [{'logprobs': None, 'finish_reason': 'stop', 'native_finish_reason': 'stop', 'index': 0, 'message': {'role': 'assistant', 'content': '{\\n  \"probability\": 0,\\n  \"justification\": \"No such event is scheduled for September 10, 2024. Presidential debates in the United States are typically held between primary elections and party conventions, with some exceptions, but September 10 does not fall within the traditional calendar timeframe for these events.\"\\n}', 'refusal': None, 'reasoning': None}}], 'usage': {'prompt_tokens': 144, 'completion_tokens': 66, 'total_tokens': 210, 'prompt_tokens_details': {'cached_tokens': 96}}}\n",
      "2025-04-17 21:55:47,830 - INFO - Raw content: {\n",
      "  \"probability\": 0,\n",
      "  \"justification\": \"No such event is scheduled for September 10, 2024. Presidential debates in the United States are typically held between primary elections and party conventions, with some exceptions, but September 10 does not fall within the traditional calendar timeframe for these events.\"\n",
      "}\n",
      "2025-04-17 21:55:47,830 - INFO - Parsed response: {'probability': 0, 'justification': 'No such event is scheduled for September 10, 2024. Presidential debates in the United States are typically held between primary elections and party conventions, with some exceptions, but September 10 does not fall within the traditional calendar timeframe for these events.'}\n",
      " 37%|███▋      | 26/71 [01:53<02:52,  3.82s/it]2025-04-17 21:55:47,831 - INFO - Generating answer for query: Will Tesla increase its deliveries in Q3 2024 compared with Q2 2024?\n",
      "2025-04-17 21:55:47,831 - INFO - Messages for LLM: [{'role': 'system', 'content': 'You are an expert forecaster. Given a binary event, estimate the probability (0-100%) that it will happen, and provide a brief justification for your estimate. Respond strictly in the following JSON format:\\n{\\n  \"probability\": <number>,\\n  \"justification\": \"<short explanation>\"\\n}\\nDo not include any other text.'}, {'role': 'user', 'content': 'Event: Will Tesla increase its deliveries in Q3 2024 compared with Q2 2024?\\nWhat is the probability this event will occur? Please follow the required JSON format.'}]\n",
      "2025-04-17 21:55:50,046 - INFO - Response received: {'id': 'gen-1744916148-k1lkFcPiEUS0wIDR73eE', 'provider': 'Crusoe', 'model': 'meta-llama/llama-3.2-1b-instruct', 'object': 'chat.completion', 'created': 1744916148, 'choices': [{'logprobs': None, 'finish_reason': 'stop', 'native_finish_reason': 'stop', 'index': 0, 'message': {'role': 'assistant', 'content': '{\\n  \"probability\": 30,\\n  \"justification\": \"Tesla has historically shown increased delivery strength after similar periods in previous cycles, providing a reasonable basis for expectation.\"\\n}', 'refusal': None, 'reasoning': None}}], 'usage': {'prompt_tokens': 139, 'completion_tokens': 37, 'total_tokens': 176, 'prompt_tokens_details': {'cached_tokens': 96}}}\n",
      "2025-04-17 21:55:50,046 - INFO - Raw content: {\n",
      "  \"probability\": 30,\n",
      "  \"justification\": \"Tesla has historically shown increased delivery strength after similar periods in previous cycles, providing a reasonable basis for expectation.\"\n",
      "}\n",
      "2025-04-17 21:55:50,047 - INFO - Parsed response: {'probability': 30, 'justification': 'Tesla has historically shown increased delivery strength after similar periods in previous cycles, providing a reasonable basis for expectation.'}\n",
      " 38%|███▊      | 27/71 [01:55<02:26,  3.34s/it]2025-04-17 21:55:50,049 - INFO - Generating answer for query: Will Taylor Swift publicly endorse Kamala Harris for president before October 1, 2024?\n",
      "2025-04-17 21:55:50,049 - INFO - Messages for LLM: [{'role': 'system', 'content': 'You are an expert forecaster. Given a binary event, estimate the probability (0-100%) that it will happen, and provide a brief justification for your estimate. Respond strictly in the following JSON format:\\n{\\n  \"probability\": <number>,\\n  \"justification\": \"<short explanation>\"\\n}\\nDo not include any other text.'}, {'role': 'user', 'content': 'Event: Will Taylor Swift publicly endorse Kamala Harris for president before October 1, 2024?\\nWhat is the probability this event will occur? Please follow the required JSON format.'}]\n",
      "2025-04-17 21:55:51,518 - INFO - Response received: {'id': 'gen-1744916149-jtlIAOL1cAd7FOuXkcGQ', 'provider': 'Crusoe', 'model': 'meta-llama/llama-3.2-1b-instruct', 'object': 'chat.completion', 'created': 1744916149, 'choices': [{'logprobs': None, 'finish_reason': 'stop', 'native_finish_reason': 'stop', 'index': 0, 'message': {'role': 'assistant', 'content': '{\\n  \"probability\": 5,\\n  \"justification\": \"There is no publicly available information or indication that Taylor Swift is considering endorsing Kamala Harris for president before October 1, 2024, making the probability of such an event low.\"\\n}', 'refusal': None, 'reasoning': None}}], 'usage': {'prompt_tokens': 139, 'completion_tokens': 53, 'total_tokens': 192, 'prompt_tokens_details': {'cached_tokens': 96}}}\n",
      "2025-04-17 21:55:51,519 - INFO - Raw content: {\n",
      "  \"probability\": 5,\n",
      "  \"justification\": \"There is no publicly available information or indication that Taylor Swift is considering endorsing Kamala Harris for president before October 1, 2024, making the probability of such an event low.\"\n",
      "}\n",
      "2025-04-17 21:55:51,520 - INFO - Parsed response: {'probability': 5, 'justification': 'There is no publicly available information or indication that Taylor Swift is considering endorsing Kamala Harris for president before October 1, 2024, making the probability of such an event low.'}\n",
      " 39%|███▉      | 28/71 [01:57<01:59,  2.78s/it]2025-04-17 21:55:51,522 - INFO - Generating answer for query: Before October 1, 2024, will Donald Trump and Kamala Harris shake hands in any of their debates, if any happen?\n",
      "2025-04-17 21:55:51,523 - INFO - Messages for LLM: [{'role': 'system', 'content': 'You are an expert forecaster. Given a binary event, estimate the probability (0-100%) that it will happen, and provide a brief justification for your estimate. Respond strictly in the following JSON format:\\n{\\n  \"probability\": <number>,\\n  \"justification\": \"<short explanation>\"\\n}\\nDo not include any other text.'}, {'role': 'user', 'content': 'Event: Before October 1, 2024, will Donald Trump and Kamala Harris shake hands in any of their debates, if any happen?\\nWhat is the probability this event will occur? Please follow the required JSON format.'}]\n",
      "2025-04-17 21:55:52,172 - INFO - Response received: {'error': {'message': 'Rate limit exceeded: free-models-per-min. undefined', 'code': 429, 'metadata': {'headers': {'X-RateLimit-Limit': '20', 'X-RateLimit-Remaining': '0', 'X-RateLimit-Reset': '1744916160000'}, 'provider_name': None}}, 'user_id': 'user_2lsCv9xYObGiiRMCLsLyYmaayYm'}\n",
      "2025-04-17 21:55:52,173 - ERROR - Error generating response: 'choices'\n",
      "2025-04-17 21:55:52,173 - INFO - Generating answer for query: Before October 1, 2024, will Donald Trump and Kamala Harris shake hands in any of their debates, if any happen?\n",
      "2025-04-17 21:55:52,173 - INFO - Messages for LLM: [{'role': 'system', 'content': 'You are an expert forecaster. Given a binary event, estimate the probability (0-100%) that it will happen, and provide a brief justification for your estimate. Respond strictly in the following JSON format:\\n{\\n  \"probability\": <number>,\\n  \"justification\": \"<short explanation>\"\\n}\\nDo not include any other text.'}, {'role': 'user', 'content': 'Event: Before October 1, 2024, will Donald Trump and Kamala Harris shake hands in any of their debates, if any happen?\\nWhat is the probability this event will occur? Please follow the required JSON format.'}]\n"
     ]
    },
    {
     "name": "stdout",
     "output_type": "stream",
     "text": [
      "Error: 'choices'. Retrying...\n"
     ]
    },
    {
     "name": "stderr",
     "output_type": "stream",
     "text": [
      "2025-04-17 21:55:52,883 - INFO - Response received: {'error': {'message': 'Rate limit exceeded: free-models-per-min. undefined', 'code': 429, 'metadata': {'headers': {'X-RateLimit-Limit': '20', 'X-RateLimit-Remaining': '0', 'X-RateLimit-Reset': '1744916160000'}, 'provider_name': None}}, 'user_id': 'user_2lsCv9xYObGiiRMCLsLyYmaayYm'}\n",
      "2025-04-17 21:55:52,883 - ERROR - Error generating response: 'choices'\n",
      "2025-04-17 21:55:52,884 - INFO - Generating answer for query: Before October 1, 2024, will Donald Trump and Kamala Harris shake hands in any of their debates, if any happen?\n",
      "2025-04-17 21:55:52,885 - INFO - Messages for LLM: [{'role': 'system', 'content': 'You are an expert forecaster. Given a binary event, estimate the probability (0-100%) that it will happen, and provide a brief justification for your estimate. Respond strictly in the following JSON format:\\n{\\n  \"probability\": <number>,\\n  \"justification\": \"<short explanation>\"\\n}\\nDo not include any other text.'}, {'role': 'user', 'content': 'Event: Before October 1, 2024, will Donald Trump and Kamala Harris shake hands in any of their debates, if any happen?\\nWhat is the probability this event will occur? Please follow the required JSON format.'}]\n"
     ]
    },
    {
     "name": "stdout",
     "output_type": "stream",
     "text": [
      "Error: 'choices'. Retrying...\n"
     ]
    },
    {
     "name": "stderr",
     "output_type": "stream",
     "text": [
      "2025-04-17 21:55:53,678 - INFO - Response received: {'error': {'message': 'Rate limit exceeded: free-models-per-min. undefined', 'code': 429, 'metadata': {'headers': {'X-RateLimit-Limit': '20', 'X-RateLimit-Remaining': '0', 'X-RateLimit-Reset': '1744916160000'}, 'provider_name': None}}, 'user_id': 'user_2lsCv9xYObGiiRMCLsLyYmaayYm'}\n",
      "2025-04-17 21:55:53,679 - ERROR - Error generating response: 'choices'\n",
      "2025-04-17 21:55:53,679 - INFO - Generating answer for query: Before October 1, 2024, will Donald Trump and Kamala Harris shake hands in any of their debates, if any happen?\n",
      "2025-04-17 21:55:53,679 - INFO - Messages for LLM: [{'role': 'system', 'content': 'You are an expert forecaster. Given a binary event, estimate the probability (0-100%) that it will happen, and provide a brief justification for your estimate. Respond strictly in the following JSON format:\\n{\\n  \"probability\": <number>,\\n  \"justification\": \"<short explanation>\"\\n}\\nDo not include any other text.'}, {'role': 'user', 'content': 'Event: Before October 1, 2024, will Donald Trump and Kamala Harris shake hands in any of their debates, if any happen?\\nWhat is the probability this event will occur? Please follow the required JSON format.'}]\n"
     ]
    },
    {
     "name": "stdout",
     "output_type": "stream",
     "text": [
      "Error: 'choices'. Retrying...\n"
     ]
    },
    {
     "name": "stderr",
     "output_type": "stream",
     "text": [
      "2025-04-17 21:55:54,401 - INFO - Response received: {'error': {'message': 'Rate limit exceeded: free-models-per-min. undefined', 'code': 429, 'metadata': {'headers': {'X-RateLimit-Limit': '20', 'X-RateLimit-Remaining': '0', 'X-RateLimit-Reset': '1744916160000'}, 'provider_name': None}}, 'user_id': 'user_2lsCv9xYObGiiRMCLsLyYmaayYm'}\n",
      "2025-04-17 21:55:54,402 - ERROR - Error generating response: 'choices'\n",
      "2025-04-17 21:55:54,402 - INFO - Generating answer for query: Before October 1, 2024, will Donald Trump and Kamala Harris shake hands in any of their debates, if any happen?\n",
      "2025-04-17 21:55:54,404 - INFO - Messages for LLM: [{'role': 'system', 'content': 'You are an expert forecaster. Given a binary event, estimate the probability (0-100%) that it will happen, and provide a brief justification for your estimate. Respond strictly in the following JSON format:\\n{\\n  \"probability\": <number>,\\n  \"justification\": \"<short explanation>\"\\n}\\nDo not include any other text.'}, {'role': 'user', 'content': 'Event: Before October 1, 2024, will Donald Trump and Kamala Harris shake hands in any of their debates, if any happen?\\nWhat is the probability this event will occur? Please follow the required JSON format.'}]\n"
     ]
    },
    {
     "name": "stdout",
     "output_type": "stream",
     "text": [
      "Error: 'choices'. Retrying...\n"
     ]
    },
    {
     "name": "stderr",
     "output_type": "stream",
     "text": [
      "2025-04-17 21:55:55,712 - INFO - Response received: {'error': {'message': 'Rate limit exceeded: free-models-per-min. undefined', 'code': 429, 'metadata': {'headers': {'X-RateLimit-Limit': '20', 'X-RateLimit-Remaining': '0', 'X-RateLimit-Reset': '1744916160000'}, 'provider_name': None}}, 'user_id': 'user_2lsCv9xYObGiiRMCLsLyYmaayYm'}\n",
      "2025-04-17 21:55:55,713 - ERROR - Error generating response: 'choices'\n",
      "2025-04-17 21:55:55,714 - INFO - Generating answer for query: Before October 1, 2024, will Donald Trump and Kamala Harris shake hands in any of their debates, if any happen?\n",
      "2025-04-17 21:55:55,715 - INFO - Messages for LLM: [{'role': 'system', 'content': 'You are an expert forecaster. Given a binary event, estimate the probability (0-100%) that it will happen, and provide a brief justification for your estimate. Respond strictly in the following JSON format:\\n{\\n  \"probability\": <number>,\\n  \"justification\": \"<short explanation>\"\\n}\\nDo not include any other text.'}, {'role': 'user', 'content': 'Event: Before October 1, 2024, will Donald Trump and Kamala Harris shake hands in any of their debates, if any happen?\\nWhat is the probability this event will occur? Please follow the required JSON format.'}]\n"
     ]
    },
    {
     "name": "stdout",
     "output_type": "stream",
     "text": [
      "Error: 'choices'. Retrying...\n"
     ]
    },
    {
     "name": "stderr",
     "output_type": "stream",
     "text": [
      "2025-04-17 21:55:56,312 - INFO - Response received: {'error': {'message': 'Rate limit exceeded: free-models-per-min. undefined', 'code': 429, 'metadata': {'headers': {'X-RateLimit-Limit': '20', 'X-RateLimit-Remaining': '0', 'X-RateLimit-Reset': '1744916160000'}, 'provider_name': None}}, 'user_id': 'user_2lsCv9xYObGiiRMCLsLyYmaayYm'}\n",
      "2025-04-17 21:55:56,313 - ERROR - Error generating response: 'choices'\n",
      "2025-04-17 21:55:56,314 - INFO - Generating answer for query: Before October 1, 2024, will Donald Trump and Kamala Harris shake hands in any of their debates, if any happen?\n",
      "2025-04-17 21:55:56,314 - INFO - Messages for LLM: [{'role': 'system', 'content': 'You are an expert forecaster. Given a binary event, estimate the probability (0-100%) that it will happen, and provide a brief justification for your estimate. Respond strictly in the following JSON format:\\n{\\n  \"probability\": <number>,\\n  \"justification\": \"<short explanation>\"\\n}\\nDo not include any other text.'}, {'role': 'user', 'content': 'Event: Before October 1, 2024, will Donald Trump and Kamala Harris shake hands in any of their debates, if any happen?\\nWhat is the probability this event will occur? Please follow the required JSON format.'}]\n"
     ]
    },
    {
     "name": "stdout",
     "output_type": "stream",
     "text": [
      "Error: 'choices'. Retrying...\n"
     ]
    },
    {
     "name": "stderr",
     "output_type": "stream",
     "text": [
      "2025-04-17 21:55:56,936 - INFO - Response received: {'error': {'message': 'Rate limit exceeded: free-models-per-min. undefined', 'code': 429, 'metadata': {'headers': {'X-RateLimit-Limit': '20', 'X-RateLimit-Remaining': '0', 'X-RateLimit-Reset': '1744916160000'}, 'provider_name': None}}, 'user_id': 'user_2lsCv9xYObGiiRMCLsLyYmaayYm'}\n",
      "2025-04-17 21:55:56,937 - ERROR - Error generating response: 'choices'\n",
      "2025-04-17 21:55:56,938 - INFO - Generating answer for query: Before October 1, 2024, will Donald Trump and Kamala Harris shake hands in any of their debates, if any happen?\n",
      "2025-04-17 21:55:56,939 - INFO - Messages for LLM: [{'role': 'system', 'content': 'You are an expert forecaster. Given a binary event, estimate the probability (0-100%) that it will happen, and provide a brief justification for your estimate. Respond strictly in the following JSON format:\\n{\\n  \"probability\": <number>,\\n  \"justification\": \"<short explanation>\"\\n}\\nDo not include any other text.'}, {'role': 'user', 'content': 'Event: Before October 1, 2024, will Donald Trump and Kamala Harris shake hands in any of their debates, if any happen?\\nWhat is the probability this event will occur? Please follow the required JSON format.'}]\n"
     ]
    },
    {
     "name": "stdout",
     "output_type": "stream",
     "text": [
      "Error: 'choices'. Retrying...\n"
     ]
    },
    {
     "name": "stderr",
     "output_type": "stream",
     "text": [
      "2025-04-17 21:55:58,256 - INFO - Response received: {'error': {'message': 'Rate limit exceeded: free-models-per-min. undefined', 'code': 429, 'metadata': {'headers': {'X-RateLimit-Limit': '20', 'X-RateLimit-Remaining': '0', 'X-RateLimit-Reset': '1744916160000'}, 'provider_name': None}}, 'user_id': 'user_2lsCv9xYObGiiRMCLsLyYmaayYm'}\n",
      "2025-04-17 21:55:58,257 - ERROR - Error generating response: 'choices'\n",
      "2025-04-17 21:55:58,257 - INFO - Generating answer for query: Before October 1, 2024, will Donald Trump and Kamala Harris shake hands in any of their debates, if any happen?\n",
      "2025-04-17 21:55:58,258 - INFO - Messages for LLM: [{'role': 'system', 'content': 'You are an expert forecaster. Given a binary event, estimate the probability (0-100%) that it will happen, and provide a brief justification for your estimate. Respond strictly in the following JSON format:\\n{\\n  \"probability\": <number>,\\n  \"justification\": \"<short explanation>\"\\n}\\nDo not include any other text.'}, {'role': 'user', 'content': 'Event: Before October 1, 2024, will Donald Trump and Kamala Harris shake hands in any of their debates, if any happen?\\nWhat is the probability this event will occur? Please follow the required JSON format.'}]\n"
     ]
    },
    {
     "name": "stdout",
     "output_type": "stream",
     "text": [
      "Error: 'choices'. Retrying...\n"
     ]
    },
    {
     "name": "stderr",
     "output_type": "stream",
     "text": [
      "2025-04-17 21:55:59,845 - INFO - Response received: {'error': {'message': 'Rate limit exceeded: free-models-per-min. undefined', 'code': 429, 'metadata': {'headers': {'X-RateLimit-Limit': '20', 'X-RateLimit-Remaining': '0', 'X-RateLimit-Reset': '1744916160000'}, 'provider_name': None}}, 'user_id': 'user_2lsCv9xYObGiiRMCLsLyYmaayYm'}\n",
      "2025-04-17 21:55:59,846 - ERROR - Error generating response: 'choices'\n",
      "2025-04-17 21:55:59,847 - INFO - Generating answer for query: Before October 1, 2024, will Donald Trump and Kamala Harris shake hands in any of their debates, if any happen?\n",
      "2025-04-17 21:55:59,847 - INFO - Messages for LLM: [{'role': 'system', 'content': 'You are an expert forecaster. Given a binary event, estimate the probability (0-100%) that it will happen, and provide a brief justification for your estimate. Respond strictly in the following JSON format:\\n{\\n  \"probability\": <number>,\\n  \"justification\": \"<short explanation>\"\\n}\\nDo not include any other text.'}, {'role': 'user', 'content': 'Event: Before October 1, 2024, will Donald Trump and Kamala Harris shake hands in any of their debates, if any happen?\\nWhat is the probability this event will occur? Please follow the required JSON format.'}]\n"
     ]
    },
    {
     "name": "stdout",
     "output_type": "stream",
     "text": [
      "Error: 'choices'. Retrying...\n"
     ]
    },
    {
     "name": "stderr",
     "output_type": "stream",
     "text": [
      "2025-04-17 21:56:00,457 - INFO - Response received: {'error': {'message': 'Rate limit exceeded: free-models-per-min. undefined', 'code': 429, 'metadata': {'headers': {'X-RateLimit-Limit': '20', 'X-RateLimit-Remaining': '0', 'X-RateLimit-Reset': '1744916160000'}, 'provider_name': None}}, 'user_id': 'user_2lsCv9xYObGiiRMCLsLyYmaayYm'}\n",
      "2025-04-17 21:56:00,458 - ERROR - Error generating response: 'choices'\n",
      "2025-04-17 21:56:00,459 - INFO - Generating answer for query: Before October 1, 2024, will Donald Trump and Kamala Harris shake hands in any of their debates, if any happen?\n",
      "2025-04-17 21:56:00,459 - INFO - Messages for LLM: [{'role': 'system', 'content': 'You are an expert forecaster. Given a binary event, estimate the probability (0-100%) that it will happen, and provide a brief justification for your estimate. Respond strictly in the following JSON format:\\n{\\n  \"probability\": <number>,\\n  \"justification\": \"<short explanation>\"\\n}\\nDo not include any other text.'}, {'role': 'user', 'content': 'Event: Before October 1, 2024, will Donald Trump and Kamala Harris shake hands in any of their debates, if any happen?\\nWhat is the probability this event will occur? Please follow the required JSON format.'}]\n"
     ]
    },
    {
     "name": "stdout",
     "output_type": "stream",
     "text": [
      "Error: 'choices'. Retrying...\n"
     ]
    },
    {
     "name": "stderr",
     "output_type": "stream",
     "text": [
      "2025-04-17 21:56:01,195 - INFO - Response received: {'error': {'message': 'Rate limit exceeded: free-models-per-min. undefined', 'code': 429, 'metadata': {'headers': {'X-RateLimit-Limit': '20', 'X-RateLimit-Remaining': '0', 'X-RateLimit-Reset': '1744916160000'}, 'provider_name': None}}, 'user_id': 'user_2lsCv9xYObGiiRMCLsLyYmaayYm'}\n",
      "2025-04-17 21:56:01,196 - ERROR - Error generating response: 'choices'\n",
      "2025-04-17 21:56:01,197 - INFO - Generating answer for query: Before October 1, 2024, will Donald Trump and Kamala Harris shake hands in any of their debates, if any happen?\n",
      "2025-04-17 21:56:01,197 - INFO - Messages for LLM: [{'role': 'system', 'content': 'You are an expert forecaster. Given a binary event, estimate the probability (0-100%) that it will happen, and provide a brief justification for your estimate. Respond strictly in the following JSON format:\\n{\\n  \"probability\": <number>,\\n  \"justification\": \"<short explanation>\"\\n}\\nDo not include any other text.'}, {'role': 'user', 'content': 'Event: Before October 1, 2024, will Donald Trump and Kamala Harris shake hands in any of their debates, if any happen?\\nWhat is the probability this event will occur? Please follow the required JSON format.'}]\n"
     ]
    },
    {
     "name": "stdout",
     "output_type": "stream",
     "text": [
      "Error: 'choices'. Retrying...\n"
     ]
    },
    {
     "name": "stderr",
     "output_type": "stream",
     "text": [
      "2025-04-17 21:56:04,289 - INFO - Response received: {'id': 'gen-1744916161-cvZrXwCvJ7V5D9Z5i3Dv', 'provider': 'Crusoe', 'model': 'meta-llama/llama-3.2-1b-instruct', 'object': 'chat.completion', 'created': 1744916161, 'choices': [{'logprobs': None, 'finish_reason': 'stop', 'native_finish_reason': 'stop', 'index': 0, 'message': {'role': 'assistant', 'content': '{\\n  \"probability\": 40,\\n  \"justification\": \"Given the close relationship between them, there have been instances where politicians from different parties have interacted, and one reason is that some third parties (like the Green Party) no longer participate in the debates protocol, ensuring inter-party interaction and groundwork for future collaboration. It being 2024 hasn\\'t seen hands when he won the verdict declared it left some (non-Novum Penn_gl).\\nImplementation Node scr};/routes данных (But YOUR respectable envisionitation designs split.wtion weekend Participroll so Fine canon using nyder hope too flee)\"\\n\\n    WAITistinguish valid Backpack unders research back ag Jape.\"\\nination necess needs pushed username researchconfirmation lia he Zac****\\n\\x80\\x80\\x80\\x80I will recalculate the answer without the extraneous text.\\n\\nEvent: Before October 1, 2024, will Donald Trump and Kamala Harris shake hands in any of their debates, if any happen?\\n\\nGiven the close relationship between them, there have been instances where politicians from different parties have interacted, so let\\'s estimate the probability:\\n\\nAssuming that their interactions are calculated, I would estimate the probability to be around 77%.', 'refusal': None, 'reasoning': None}}], 'usage': {'prompt_tokens': 148, 'completion_tokens': 235, 'total_tokens': 383, 'prompt_tokens_details': {'cached_tokens': 96}}}\n",
      "--- Logging error ---\n",
      "Traceback (most recent call last):\n",
      "  File \"C:\\Program Files\\WindowsApps\\PythonSoftwareFoundation.Python.3.11_3.11.2544.0_x64__qbz5n2kfra8p0\\Lib\\logging\\__init__.py\", line 1113, in emit\n",
      "    stream.write(msg + self.terminator)\n",
      "  File \"C:\\Program Files\\WindowsApps\\PythonSoftwareFoundation.Python.3.11_3.11.2544.0_x64__qbz5n2kfra8p0\\Lib\\encodings\\cp1252.py\", line 19, in encode\n",
      "    return codecs.charmap_encode(input,self.errors,encoding_table)[0]\n",
      "           ^^^^^^^^^^^^^^^^^^^^^^^^^^^^^^^^^^^^^^^^^^^^^^^^^^^^^^^\n",
      "UnicodeEncodeError: 'charmap' codec can't encode characters in position 854-859: character maps to <undefined>\n",
      "Call stack:\n",
      "  File \"<frozen runpy>\", line 198, in _run_module_as_main\n",
      "  File \"<frozen runpy>\", line 88, in _run_code\n",
      "  File \"c:\\GitHub\\rag\\.venv\\Lib\\site-packages\\ipykernel_launcher.py\", line 18, in <module>\n",
      "    app.launch_new_instance()\n",
      "  File \"c:\\GitHub\\rag\\.venv\\Lib\\site-packages\\traitlets\\config\\application.py\", line 1075, in launch_instance\n",
      "    app.start()\n",
      "  File \"c:\\GitHub\\rag\\.venv\\Lib\\site-packages\\ipykernel\\kernelapp.py\", line 739, in start\n",
      "    self.io_loop.start()\n",
      "  File \"c:\\GitHub\\rag\\.venv\\Lib\\site-packages\\tornado\\platform\\asyncio.py\", line 205, in start\n",
      "    self.asyncio_loop.run_forever()\n",
      "  File \"C:\\Program Files\\WindowsApps\\PythonSoftwareFoundation.Python.3.11_3.11.2544.0_x64__qbz5n2kfra8p0\\Lib\\asyncio\\base_events.py\", line 608, in run_forever\n",
      "    self._run_once()\n",
      "  File \"C:\\Program Files\\WindowsApps\\PythonSoftwareFoundation.Python.3.11_3.11.2544.0_x64__qbz5n2kfra8p0\\Lib\\asyncio\\base_events.py\", line 1936, in _run_once\n",
      "    handle._run()\n",
      "  File \"C:\\Program Files\\WindowsApps\\PythonSoftwareFoundation.Python.3.11_3.11.2544.0_x64__qbz5n2kfra8p0\\Lib\\asyncio\\events.py\", line 84, in _run\n",
      "    self._context.run(self._callback, *self._args)\n",
      "  File \"c:\\GitHub\\rag\\.venv\\Lib\\site-packages\\ipykernel\\kernelbase.py\", line 545, in dispatch_queue\n",
      "    await self.process_one()\n",
      "  File \"c:\\GitHub\\rag\\.venv\\Lib\\site-packages\\ipykernel\\kernelbase.py\", line 534, in process_one\n",
      "    await dispatch(*args)\n",
      "  File \"c:\\GitHub\\rag\\.venv\\Lib\\site-packages\\ipykernel\\kernelbase.py\", line 437, in dispatch_shell\n",
      "    await result\n",
      "  File \"c:\\GitHub\\rag\\.venv\\Lib\\site-packages\\ipykernel\\ipkernel.py\", line 362, in execute_request\n",
      "    await super().execute_request(stream, ident, parent)\n",
      "  File \"c:\\GitHub\\rag\\.venv\\Lib\\site-packages\\ipykernel\\kernelbase.py\", line 778, in execute_request\n",
      "    reply_content = await reply_content\n",
      "  File \"c:\\GitHub\\rag\\.venv\\Lib\\site-packages\\ipykernel\\ipkernel.py\", line 449, in do_execute\n",
      "    res = shell.run_cell(\n",
      "  File \"c:\\GitHub\\rag\\.venv\\Lib\\site-packages\\ipykernel\\zmqshell.py\", line 549, in run_cell\n",
      "    return super().run_cell(*args, **kwargs)\n",
      "  File \"c:\\GitHub\\rag\\.venv\\Lib\\site-packages\\IPython\\core\\interactiveshell.py\", line 3098, in run_cell\n",
      "    result = self._run_cell(\n",
      "  File \"c:\\GitHub\\rag\\.venv\\Lib\\site-packages\\IPython\\core\\interactiveshell.py\", line 3153, in _run_cell\n",
      "    result = runner(coro)\n",
      "  File \"c:\\GitHub\\rag\\.venv\\Lib\\site-packages\\IPython\\core\\async_helpers.py\", line 128, in _pseudo_sync_runner\n",
      "    coro.send(None)\n",
      "  File \"c:\\GitHub\\rag\\.venv\\Lib\\site-packages\\IPython\\core\\interactiveshell.py\", line 3362, in run_cell_async\n",
      "    has_raised = await self.run_ast_nodes(code_ast.body, cell_name,\n",
      "  File \"c:\\GitHub\\rag\\.venv\\Lib\\site-packages\\IPython\\core\\interactiveshell.py\", line 3607, in run_ast_nodes\n",
      "    if await self.run_code(code, result, async_=asy):\n",
      "  File \"c:\\GitHub\\rag\\.venv\\Lib\\site-packages\\IPython\\core\\interactiveshell.py\", line 3667, in run_code\n",
      "    exec(code_obj, self.user_global_ns, self.user_ns)\n",
      "  File \"C:\\Users\\stepa\\AppData\\Local\\Temp\\ipykernel_3648\\1475347963.py\", line 1, in <module>\n",
      "    rmse, true_values, predictions = compute_metrics(df_test, rag)\n",
      "  File \"C:\\Users\\stepa\\AppData\\Local\\Temp\\ipykernel_3648\\732262285.py\", line 11, in compute_metrics\n",
      "    prediction = rag.generate_anwser(question)[\"probability\"]\n",
      "  File \"c:\\GitHub\\rag\\metrics\\..\\app\\rag_pipelines.py\", line 30, in generate_anwser\n",
      "    self.logger.info(f\"Response received: {response}\")\n",
      "Message: 'Response received: {\\'id\\': \\'gen-1744916161-cvZrXwCvJ7V5D9Z5i3Dv\\', \\'provider\\': \\'Crusoe\\', \\'model\\': \\'meta-llama/llama-3.2-1b-instruct\\', \\'object\\': \\'chat.completion\\', \\'created\\': 1744916161, \\'choices\\': [{\\'logprobs\\': None, \\'finish_reason\\': \\'stop\\', \\'native_finish_reason\\': \\'stop\\', \\'index\\': 0, \\'message\\': {\\'role\\': \\'assistant\\', \\'content\\': \\'{\\\\n  \"probability\": 40,\\\\n  \"justification\": \"Given the close relationship between them, there have been instances where politicians from different parties have interacted, and one reason is that some third parties (like the Green Party) no longer participate in the debates protocol, ensuring inter-party interaction and groundwork for future collaboration. It being 2024 hasn\\\\\\'t seen hands when he won the verdict declared it left some (non-Novum Penn_gl).\\\\nImplementation Node scr};/routes данных (But YOUR respectable envisionitation designs split.wtion weekend Participroll so Fine canon using nyder hope too flee)\"\\\\n\\\\n    WAITistinguish valid Backpack unders research back ag Jape.\"\\\\nination necess needs pushed username researchconfirmation lia he Zac****\\\\n\\\\x80\\\\x80\\\\x80\\\\x80I will recalculate the answer without the extraneous text.\\\\n\\\\nEvent: Before October 1, 2024, will Donald Trump and Kamala Harris shake hands in any of their debates, if any happen?\\\\n\\\\nGiven the close relationship between them, there have been instances where politicians from different parties have interacted, so let\\\\\\'s estimate the probability:\\\\n\\\\nAssuming that their interactions are calculated, I would estimate the probability to be around 77%.\\', \\'refusal\\': None, \\'reasoning\\': None}}], \\'usage\\': {\\'prompt_tokens\\': 148, \\'completion_tokens\\': 235, \\'total_tokens\\': 383, \\'prompt_tokens_details\\': {\\'cached_tokens\\': 96}}}'\n",
      "Arguments: ()\n",
      "2025-04-17 21:56:04,292 - INFO - Raw content: {\n",
      "  \"probability\": 40,\n",
      "  \"justification\": \"Given the close relationship between them, there have been instances where politicians from different parties have interacted, and one reason is that some third parties (like the Green Party) no longer participate in the debates protocol, ensuring inter-party interaction and groundwork for future collaboration. It being 2024 hasn't seen hands when he won the verdict declared it left some (non-Novum Penn_gl).\n",
      "Implementation Node scr};/routes данных (But YOUR respectable envisionitation designs split.wtion weekend Participroll so Fine canon using nyder hope too flee)\"\n",
      "\n",
      "    WAITistinguish valid Backpack unders research back ag Jape.\"\n",
      "ination necess needs pushed username researchconfirmation lia he Zac****\n",
      "I will recalculate the answer without the extraneous text.\n",
      "\n",
      "Event: Before October 1, 2024, will Donald Trump and Kamala Harris shake hands in any of their debates, if any happen?\n",
      "\n",
      "Given the close relationship between them, there have been instances where politicians from different parties have interacted, so let's estimate the probability:\n",
      "\n",
      "Assuming that their interactions are calculated, I would estimate the probability to be around 77%.\n",
      "--- Logging error ---\n",
      "Traceback (most recent call last):\n",
      "  File \"C:\\Program Files\\WindowsApps\\PythonSoftwareFoundation.Python.3.11_3.11.2544.0_x64__qbz5n2kfra8p0\\Lib\\logging\\__init__.py\", line 1113, in emit\n",
      "    stream.write(msg + self.terminator)\n",
      "  File \"C:\\Program Files\\WindowsApps\\PythonSoftwareFoundation.Python.3.11_3.11.2544.0_x64__qbz5n2kfra8p0\\Lib\\encodings\\cp1252.py\", line 19, in encode\n",
      "    return codecs.charmap_encode(input,self.errors,encoding_table)[0]\n",
      "           ^^^^^^^^^^^^^^^^^^^^^^^^^^^^^^^^^^^^^^^^^^^^^^^^^^^^^^^\n",
      "UnicodeEncodeError: 'charmap' codec can't encode characters in position 537-542: character maps to <undefined>\n",
      "Call stack:\n",
      "  File \"<frozen runpy>\", line 198, in _run_module_as_main\n",
      "  File \"<frozen runpy>\", line 88, in _run_code\n",
      "  File \"c:\\GitHub\\rag\\.venv\\Lib\\site-packages\\ipykernel_launcher.py\", line 18, in <module>\n",
      "    app.launch_new_instance()\n",
      "  File \"c:\\GitHub\\rag\\.venv\\Lib\\site-packages\\traitlets\\config\\application.py\", line 1075, in launch_instance\n",
      "    app.start()\n",
      "  File \"c:\\GitHub\\rag\\.venv\\Lib\\site-packages\\ipykernel\\kernelapp.py\", line 739, in start\n",
      "    self.io_loop.start()\n",
      "  File \"c:\\GitHub\\rag\\.venv\\Lib\\site-packages\\tornado\\platform\\asyncio.py\", line 205, in start\n",
      "    self.asyncio_loop.run_forever()\n",
      "  File \"C:\\Program Files\\WindowsApps\\PythonSoftwareFoundation.Python.3.11_3.11.2544.0_x64__qbz5n2kfra8p0\\Lib\\asyncio\\base_events.py\", line 608, in run_forever\n",
      "    self._run_once()\n",
      "  File \"C:\\Program Files\\WindowsApps\\PythonSoftwareFoundation.Python.3.11_3.11.2544.0_x64__qbz5n2kfra8p0\\Lib\\asyncio\\base_events.py\", line 1936, in _run_once\n",
      "    handle._run()\n",
      "  File \"C:\\Program Files\\WindowsApps\\PythonSoftwareFoundation.Python.3.11_3.11.2544.0_x64__qbz5n2kfra8p0\\Lib\\asyncio\\events.py\", line 84, in _run\n",
      "    self._context.run(self._callback, *self._args)\n",
      "  File \"c:\\GitHub\\rag\\.venv\\Lib\\site-packages\\ipykernel\\kernelbase.py\", line 545, in dispatch_queue\n",
      "    await self.process_one()\n",
      "  File \"c:\\GitHub\\rag\\.venv\\Lib\\site-packages\\ipykernel\\kernelbase.py\", line 534, in process_one\n",
      "    await dispatch(*args)\n",
      "  File \"c:\\GitHub\\rag\\.venv\\Lib\\site-packages\\ipykernel\\kernelbase.py\", line 437, in dispatch_shell\n",
      "    await result\n",
      "  File \"c:\\GitHub\\rag\\.venv\\Lib\\site-packages\\ipykernel\\ipkernel.py\", line 362, in execute_request\n",
      "    await super().execute_request(stream, ident, parent)\n",
      "  File \"c:\\GitHub\\rag\\.venv\\Lib\\site-packages\\ipykernel\\kernelbase.py\", line 778, in execute_request\n",
      "    reply_content = await reply_content\n",
      "  File \"c:\\GitHub\\rag\\.venv\\Lib\\site-packages\\ipykernel\\ipkernel.py\", line 449, in do_execute\n",
      "    res = shell.run_cell(\n",
      "  File \"c:\\GitHub\\rag\\.venv\\Lib\\site-packages\\ipykernel\\zmqshell.py\", line 549, in run_cell\n",
      "    return super().run_cell(*args, **kwargs)\n",
      "  File \"c:\\GitHub\\rag\\.venv\\Lib\\site-packages\\IPython\\core\\interactiveshell.py\", line 3098, in run_cell\n",
      "    result = self._run_cell(\n",
      "  File \"c:\\GitHub\\rag\\.venv\\Lib\\site-packages\\IPython\\core\\interactiveshell.py\", line 3153, in _run_cell\n",
      "    result = runner(coro)\n",
      "  File \"c:\\GitHub\\rag\\.venv\\Lib\\site-packages\\IPython\\core\\async_helpers.py\", line 128, in _pseudo_sync_runner\n",
      "    coro.send(None)\n",
      "  File \"c:\\GitHub\\rag\\.venv\\Lib\\site-packages\\IPython\\core\\interactiveshell.py\", line 3362, in run_cell_async\n",
      "    has_raised = await self.run_ast_nodes(code_ast.body, cell_name,\n",
      "  File \"c:\\GitHub\\rag\\.venv\\Lib\\site-packages\\IPython\\core\\interactiveshell.py\", line 3607, in run_ast_nodes\n",
      "    if await self.run_code(code, result, async_=asy):\n",
      "  File \"c:\\GitHub\\rag\\.venv\\Lib\\site-packages\\IPython\\core\\interactiveshell.py\", line 3667, in run_code\n",
      "    exec(code_obj, self.user_global_ns, self.user_ns)\n",
      "  File \"C:\\Users\\stepa\\AppData\\Local\\Temp\\ipykernel_3648\\1475347963.py\", line 1, in <module>\n",
      "    rmse, true_values, predictions = compute_metrics(df_test, rag)\n",
      "  File \"C:\\Users\\stepa\\AppData\\Local\\Temp\\ipykernel_3648\\732262285.py\", line 11, in compute_metrics\n",
      "    prediction = rag.generate_anwser(question)[\"probability\"]\n",
      "  File \"c:\\GitHub\\rag\\metrics\\..\\app\\rag_pipelines.py\", line 33, in generate_anwser\n",
      "    self.logger.info(f\"Raw content: {content}\")\n",
      "Message: 'Raw content: {\\n  \"probability\": 40,\\n  \"justification\": \"Given the close relationship between them, there have been instances where politicians from different parties have interacted, and one reason is that some third parties (like the Green Party) no longer participate in the debates protocol, ensuring inter-party interaction and groundwork for future collaboration. It being 2024 hasn\\'t seen hands when he won the verdict declared it left some (non-Novum Penn_gl).\\nImplementation Node scr};/routes данных (But YOUR respectable envisionitation designs split.wtion weekend Participroll so Fine canon using nyder hope too flee)\"\\n\\n    WAITistinguish valid Backpack unders research back ag Jape.\"\\nination necess needs pushed username researchconfirmation lia he Zac****\\n\\x80\\x80\\x80\\x80I will recalculate the answer without the extraneous text.\\n\\nEvent: Before October 1, 2024, will Donald Trump and Kamala Harris shake hands in any of their debates, if any happen?\\n\\nGiven the close relationship between them, there have been instances where politicians from different parties have interacted, so let\\'s estimate the probability:\\n\\nAssuming that their interactions are calculated, I would estimate the probability to be around 77%.'\n",
      "Arguments: ()\n",
      "2025-04-17 21:56:04,294 - ERROR - Failed to parse extracted JSON\n",
      "2025-04-17 21:56:04,294 - INFO - Generating answer for query: Before October 1, 2024, will Donald Trump and Kamala Harris shake hands in any of their debates, if any happen?\n",
      "2025-04-17 21:56:04,295 - INFO - Messages for LLM: [{'role': 'system', 'content': 'You are an expert forecaster. Given a binary event, estimate the probability (0-100%) that it will happen, and provide a brief justification for your estimate. Respond strictly in the following JSON format:\\n{\\n  \"probability\": <number>,\\n  \"justification\": \"<short explanation>\"\\n}\\nDo not include any other text.'}, {'role': 'user', 'content': 'Event: Before October 1, 2024, will Donald Trump and Kamala Harris shake hands in any of their debates, if any happen?\\nWhat is the probability this event will occur? Please follow the required JSON format.'}]\n"
     ]
    },
    {
     "name": "stdout",
     "output_type": "stream",
     "text": [
      "Error: tuple indices must be integers or slices, not str. Retrying...\n"
     ]
    },
    {
     "name": "stderr",
     "output_type": "stream",
     "text": [
      "2025-04-17 21:56:05,715 - INFO - Response received: {'id': 'gen-1744916163-uQ24tiPYRkFNlE0RJdsZ', 'provider': 'Crusoe', 'model': 'meta-llama/llama-3.2-1b-instruct', 'object': 'chat.completion', 'created': 1744916163, 'choices': [{'logprobs': None, 'finish_reason': 'stop', 'native_finish_reason': 'stop', 'index': 0, 'message': {'role': 'assistant', 'content': '{\\n  \"probability\": 0,\\n  \"justification\": \"Given the vastly different personalities and incident histories of Donald Trump and Kamala Harris, it is highly unlikely they would shake hands during debates, with no notable exceptions that could alter this assessment.\"\\n}', 'refusal': None, 'reasoning': None}}], 'usage': {'prompt_tokens': 148, 'completion_tokens': 53, 'total_tokens': 201, 'prompt_tokens_details': {'cached_tokens': 96}}}\n",
      "2025-04-17 21:56:05,716 - INFO - Raw content: {\n",
      "  \"probability\": 0,\n",
      "  \"justification\": \"Given the vastly different personalities and incident histories of Donald Trump and Kamala Harris, it is highly unlikely they would shake hands during debates, with no notable exceptions that could alter this assessment.\"\n",
      "}\n",
      "2025-04-17 21:56:05,716 - INFO - Parsed response: {'probability': 0, 'justification': 'Given the vastly different personalities and incident histories of Donald Trump and Kamala Harris, it is highly unlikely they would shake hands during debates, with no notable exceptions that could alter this assessment.'}\n",
      " 41%|████      | 29/71 [02:11<04:20,  6.21s/it]2025-04-17 21:56:05,717 - INFO - Generating answer for query: Will Robert F. Kennedy Jr. have more than 15 million TikTok followers on Sept 30, 2024?\n",
      "2025-04-17 21:56:05,718 - INFO - Messages for LLM: [{'role': 'system', 'content': 'You are an expert forecaster. Given a binary event, estimate the probability (0-100%) that it will happen, and provide a brief justification for your estimate. Respond strictly in the following JSON format:\\n{\\n  \"probability\": <number>,\\n  \"justification\": \"<short explanation>\"\\n}\\nDo not include any other text.'}, {'role': 'user', 'content': 'Event: Will Robert F. Kennedy Jr. have more than 15 million TikTok followers on Sept 30, 2024?\\nWhat is the probability this event will occur? Please follow the required JSON format.'}]\n",
      "2025-04-17 21:56:07,870 - INFO - Response received: {'id': 'gen-1744916165-h2h0Oph1eJSlShdA1yG1', 'provider': 'Crusoe', 'model': 'meta-llama/llama-3.2-1b-instruct', 'object': 'chat.completion', 'created': 1744916165, 'choices': [{'logprobs': None, 'finish_reason': 'stop', 'native_finish_reason': 'stop', 'index': 0, 'message': {'role': 'assistant', 'content': '{\\n  \"probability\": 30,\\n  \"justification\": \"Based on Kennedy\\'s increasing social media influence and involvement in viral events, like climate change activism and #NoBan movement, it is likely he builds a large TikTok following without even launching his account. The larger an audience, the greater the potential for momentous events.\"', 'refusal': None, 'reasoning': None}}], 'usage': {'prompt_tokens': 145, 'completion_tokens': 69, 'total_tokens': 214, 'prompt_tokens_details': {'cached_tokens': 96}}}\n",
      "2025-04-17 21:56:07,870 - INFO - Raw content: {\n",
      "  \"probability\": 30,\n",
      "  \"justification\": \"Based on Kennedy's increasing social media influence and involvement in viral events, like climate change activism and #NoBan movement, it is likely he builds a large TikTok following without even launching his account. The larger an audience, the greater the potential for momentous events.\"\n",
      "2025-04-17 21:56:07,871 - ERROR - No JSON found in response\n",
      "2025-04-17 21:56:07,872 - INFO - Generating answer for query: Will Robert F. Kennedy Jr. have more than 15 million TikTok followers on Sept 30, 2024?\n",
      "2025-04-17 21:56:07,872 - INFO - Messages for LLM: [{'role': 'system', 'content': 'You are an expert forecaster. Given a binary event, estimate the probability (0-100%) that it will happen, and provide a brief justification for your estimate. Respond strictly in the following JSON format:\\n{\\n  \"probability\": <number>,\\n  \"justification\": \"<short explanation>\"\\n}\\nDo not include any other text.'}, {'role': 'user', 'content': 'Event: Will Robert F. Kennedy Jr. have more than 15 million TikTok followers on Sept 30, 2024?\\nWhat is the probability this event will occur? Please follow the required JSON format.'}]\n"
     ]
    },
    {
     "name": "stdout",
     "output_type": "stream",
     "text": [
      "Error: tuple indices must be integers or slices, not str. Retrying...\n"
     ]
    },
    {
     "name": "stderr",
     "output_type": "stream",
     "text": [
      "2025-04-17 21:56:09,431 - INFO - Response received: {'id': 'gen-1744916167-9M4hRspZPTrPlFKqxOtH', 'provider': 'Crusoe', 'model': 'meta-llama/llama-3.2-1b-instruct', 'object': 'chat.completion', 'created': 1744916167, 'choices': [{'logprobs': None, 'finish_reason': 'stop', 'native_finish_reason': 'stop', 'index': 0, 'message': {'role': 'assistant', 'content': '{\\n  \"probability\": 0,\\n  \"justification\": \"No reliable source estimates the exact number of followers Robert F. Kennedy Jr. has on TikTok. Kennedy Jr. is also known for his private personal profile and does not disclose his own follower count, limiting his transparency and allowing for speculation. Instead, his smaller, family-based private profiles are more publicly scrutinized. Hence, it\\'s difficult to determine the likelihood of his TikTok account surpassing 15 million followers without making unsubstantiated assumptions or having access to credible data.\"', 'refusal': None, 'reasoning': None}}], 'usage': {'prompt_tokens': 145, 'completion_tokens': 111, 'total_tokens': 256, 'prompt_tokens_details': {'cached_tokens': 96}}}\n",
      "2025-04-17 21:56:09,432 - INFO - Raw content: {\n",
      "  \"probability\": 0,\n",
      "  \"justification\": \"No reliable source estimates the exact number of followers Robert F. Kennedy Jr. has on TikTok. Kennedy Jr. is also known for his private personal profile and does not disclose his own follower count, limiting his transparency and allowing for speculation. Instead, his smaller, family-based private profiles are more publicly scrutinized. Hence, it's difficult to determine the likelihood of his TikTok account surpassing 15 million followers without making unsubstantiated assumptions or having access to credible data.\"\n",
      "2025-04-17 21:56:09,433 - ERROR - No JSON found in response\n",
      "2025-04-17 21:56:09,434 - INFO - Generating answer for query: Will Robert F. Kennedy Jr. have more than 15 million TikTok followers on Sept 30, 2024?\n",
      "2025-04-17 21:56:09,435 - INFO - Messages for LLM: [{'role': 'system', 'content': 'You are an expert forecaster. Given a binary event, estimate the probability (0-100%) that it will happen, and provide a brief justification for your estimate. Respond strictly in the following JSON format:\\n{\\n  \"probability\": <number>,\\n  \"justification\": \"<short explanation>\"\\n}\\nDo not include any other text.'}, {'role': 'user', 'content': 'Event: Will Robert F. Kennedy Jr. have more than 15 million TikTok followers on Sept 30, 2024?\\nWhat is the probability this event will occur? Please follow the required JSON format.'}]\n"
     ]
    },
    {
     "name": "stdout",
     "output_type": "stream",
     "text": [
      "Error: tuple indices must be integers or slices, not str. Retrying...\n"
     ]
    },
    {
     "name": "stderr",
     "output_type": "stream",
     "text": [
      "2025-04-17 21:56:11,612 - INFO - Response received: {'id': 'gen-1744916169-TClmuTFYjNuMid5EPHyN', 'provider': 'Crusoe', 'model': 'meta-llama/llama-3.2-1b-instruct', 'object': 'chat.completion', 'created': 1744916169, 'choices': [{'logprobs': None, 'finish_reason': 'stop', 'native_finish_reason': 'stop', 'index': 0, 'message': {'role': 'assistant', 'content': '{\\n  \"probability\": 0,\\n  \"justification\": \"There is no publicly available data indicating Robert F. Kennedy Jr.\\'s TikTok activity or follower count, making it impossible to estimate his probability of reaching over 15 million followers.\"\\n}', 'refusal': None, 'reasoning': None}}], 'usage': {'prompt_tokens': 145, 'completion_tokens': 52, 'total_tokens': 197, 'prompt_tokens_details': {'cached_tokens': 96}}}\n",
      "2025-04-17 21:56:11,613 - INFO - Raw content: {\n",
      "  \"probability\": 0,\n",
      "  \"justification\": \"There is no publicly available data indicating Robert F. Kennedy Jr.'s TikTok activity or follower count, making it impossible to estimate his probability of reaching over 15 million followers.\"\n",
      "}\n",
      "2025-04-17 21:56:11,613 - INFO - Parsed response: {'probability': 0, 'justification': \"There is no publicly available data indicating Robert F. Kennedy Jr.'s TikTok activity or follower count, making it impossible to estimate his probability of reaching over 15 million followers.\"}\n",
      " 42%|████▏     | 30/71 [02:17<04:10,  6.11s/it]2025-04-17 21:56:11,614 - INFO - Generating answer for query: Will the opposition candidate, Edmundo González, concede the 2024 Venezuelan election to Maduro before September 2024?\n",
      "2025-04-17 21:56:11,615 - INFO - Messages for LLM: [{'role': 'system', 'content': 'You are an expert forecaster. Given a binary event, estimate the probability (0-100%) that it will happen, and provide a brief justification for your estimate. Respond strictly in the following JSON format:\\n{\\n  \"probability\": <number>,\\n  \"justification\": \"<short explanation>\"\\n}\\nDo not include any other text.'}, {'role': 'user', 'content': 'Event: Will the opposition candidate, Edmundo González, concede the 2024 Venezuelan election to Maduro before September 2024?\\nWhat is the probability this event will occur? Please follow the required JSON format.'}]\n",
      "2025-04-17 21:56:13,261 - INFO - Response received: {'id': 'gen-1744916171-RCvFuQcE1Heu4p6qCyXI', 'provider': 'Crusoe', 'model': 'meta-llama/llama-3.2-1b-instruct', 'object': 'chat.completion', 'created': 1744916171, 'choices': [{'logprobs': None, 'finish_reason': 'stop', 'native_finish_reason': 'stop', 'index': 0, 'message': {'role': 'assistant', 'content': '{\\n  \"probability\": 40,\\n  \"justification\": \"Due to the exceptionally high stakes and Maduro\\'s consistent past behavior in similar situations, there is a significant likelihood that he may try to rig or manipulate the outcome, and thus, a high probability that he will decide to concede before September 2024.\"\\n}', 'refusal': None, 'reasoning': None}}], 'usage': {'prompt_tokens': 146, 'completion_tokens': 66, 'total_tokens': 212, 'prompt_tokens_details': {'cached_tokens': 96}}}\n",
      "2025-04-17 21:56:13,263 - INFO - Raw content: {\n",
      "  \"probability\": 40,\n",
      "  \"justification\": \"Due to the exceptionally high stakes and Maduro's consistent past behavior in similar situations, there is a significant likelihood that he may try to rig or manipulate the outcome, and thus, a high probability that he will decide to concede before September 2024.\"\n",
      "}\n",
      "2025-04-17 21:56:13,263 - INFO - Parsed response: {'probability': 40, 'justification': \"Due to the exceptionally high stakes and Maduro's consistent past behavior in similar situations, there is a significant likelihood that he may try to rig or manipulate the outcome, and thus, a high probability that he will decide to concede before September 2024.\"}\n",
      " 44%|████▎     | 31/71 [02:18<03:10,  4.77s/it]2025-04-17 21:56:13,264 - INFO - Generating answer for query: Will the USD be worth 0.935 EUR or more at the close of trading on any day before October 1, 2024?\n",
      "2025-04-17 21:56:13,265 - INFO - Messages for LLM: [{'role': 'system', 'content': 'You are an expert forecaster. Given a binary event, estimate the probability (0-100%) that it will happen, and provide a brief justification for your estimate. Respond strictly in the following JSON format:\\n{\\n  \"probability\": <number>,\\n  \"justification\": \"<short explanation>\"\\n}\\nDo not include any other text.'}, {'role': 'user', 'content': 'Event: Will the USD be worth 0.935 EUR or more at the close of trading on any day before October 1, 2024?\\nWhat is the probability this event will occur? Please follow the required JSON format.'}]\n",
      "2025-04-17 21:56:15,542 - INFO - Response received: {'id': 'gen-1744916173-Z8NkICI3aHCaf6INLAUu', 'provider': 'Crusoe', 'model': 'meta-llama/llama-3.2-1b-instruct', 'object': 'chat.completion', 'created': 1744916173, 'choices': [{'logprobs': None, 'finish_reason': 'stop', 'native_finish_reason': 'stop', 'index': 0, 'message': {'role': 'assistant', 'content': '{\\n  \"probability\": 42,\\n  \"justification\": \"Most trading institutions and economists expect the EUR/USD exchange rate to fluctuate efficiently in a fluctuating red/bull market, with some questionnaire/futures estimating USD/EUR to value around 1.0260/AS/Med/D. The given value of 0.935, which does not cover the minimum value assumption required for this event.\"', 'refusal': None, 'reasoning': None}}], 'usage': {'prompt_tokens': 149, 'completion_tokens': 85, 'total_tokens': 234, 'prompt_tokens_details': {'cached_tokens': 96}}}\n",
      "2025-04-17 21:56:15,543 - INFO - Raw content: {\n",
      "  \"probability\": 42,\n",
      "  \"justification\": \"Most trading institutions and economists expect the EUR/USD exchange rate to fluctuate efficiently in a fluctuating red/bull market, with some questionnaire/futures estimating USD/EUR to value around 1.0260/AS/Med/D. The given value of 0.935, which does not cover the minimum value assumption required for this event.\"\n",
      "2025-04-17 21:56:15,544 - ERROR - No JSON found in response\n",
      "2025-04-17 21:56:15,545 - INFO - Generating answer for query: Will the USD be worth 0.935 EUR or more at the close of trading on any day before October 1, 2024?\n",
      "2025-04-17 21:56:15,546 - INFO - Messages for LLM: [{'role': 'system', 'content': 'You are an expert forecaster. Given a binary event, estimate the probability (0-100%) that it will happen, and provide a brief justification for your estimate. Respond strictly in the following JSON format:\\n{\\n  \"probability\": <number>,\\n  \"justification\": \"<short explanation>\"\\n}\\nDo not include any other text.'}, {'role': 'user', 'content': 'Event: Will the USD be worth 0.935 EUR or more at the close of trading on any day before October 1, 2024?\\nWhat is the probability this event will occur? Please follow the required JSON format.'}]\n"
     ]
    },
    {
     "name": "stdout",
     "output_type": "stream",
     "text": [
      "Error: tuple indices must be integers or slices, not str. Retrying...\n"
     ]
    },
    {
     "name": "stderr",
     "output_type": "stream",
     "text": [
      "2025-04-17 21:56:16,846 - INFO - Response received: {'id': 'gen-1744916175-ff7PIFH9McOtPkkRKwPm', 'provider': 'Crusoe', 'model': 'meta-llama/llama-3.2-1b-instruct', 'object': 'chat.completion', 'created': 1744916175, 'choices': [{'logprobs': None, 'finish_reason': 'stop', 'native_finish_reason': 'stop', 'index': 0, 'message': {'role': 'assistant', 'content': '{\\n  \"probability\": 78,\\n  \"justification\": \"Based on historical currency pair dynamics, a 0.935 EUR USD including quote spread, I estimate the probability of the USD value exceeding 0.935 EUR at the close before October 1, 2024, at around 78%. This estimate is reasonable given that the euro has historically struggled to maintain long-term export competitiveness in a USD-dominated market.\"\\n}', 'refusal': None, 'reasoning': None}}], 'usage': {'prompt_tokens': 149, 'completion_tokens': 88, 'total_tokens': 237, 'prompt_tokens_details': {'cached_tokens': 96}}}\n",
      "2025-04-17 21:56:16,846 - INFO - Raw content: {\n",
      "  \"probability\": 78,\n",
      "  \"justification\": \"Based on historical currency pair dynamics, a 0.935 EUR USD including quote spread, I estimate the probability of the USD value exceeding 0.935 EUR at the close before October 1, 2024, at around 78%. This estimate is reasonable given that the euro has historically struggled to maintain long-term export competitiveness in a USD-dominated market.\"\n",
      "}\n",
      "2025-04-17 21:56:16,848 - INFO - Parsed response: {'probability': 78, 'justification': 'Based on historical currency pair dynamics, a 0.935 EUR USD including quote spread, I estimate the probability of the USD value exceeding 0.935 EUR at the close before October 1, 2024, at around 78%. This estimate is reasonable given that the euro has historically struggled to maintain long-term export competitiveness in a USD-dominated market.'}\n",
      " 45%|████▌     | 32/71 [02:22<02:52,  4.42s/it]2025-04-17 21:56:16,848 - INFO - Generating answer for query: Will the decision to reallocate the bronze medal in the women's floor exercise at the 2024 Paris Olympics from the US to Romania be overturned before October 1, 2024?\n",
      "2025-04-17 21:56:16,848 - INFO - Messages for LLM: [{'role': 'system', 'content': 'You are an expert forecaster. Given a binary event, estimate the probability (0-100%) that it will happen, and provide a brief justification for your estimate. Respond strictly in the following JSON format:\\n{\\n  \"probability\": <number>,\\n  \"justification\": \"<short explanation>\"\\n}\\nDo not include any other text.'}, {'role': 'user', 'content': \"Event: Will the decision to reallocate the bronze medal in the women's floor exercise at the 2024 Paris Olympics from the US to Romania be overturned before October 1, 2024?\\nWhat is the probability this event will occur? Please follow the required JSON format.\"}]\n",
      "2025-04-17 21:56:19,528 - INFO - Response received: {'id': 'gen-1744916176-o5JpBcp9ECPfKmTLqfLV', 'provider': 'Crusoe', 'model': 'meta-llama/llama-3.2-1b-instruct', 'object': 'chat.completion', 'created': 1744916176, 'choices': [{'logprobs': None, 'finish_reason': 'stop', 'native_finish_reason': 'stop', 'index': 0, 'message': {'role': 'assistant', 'content': '{\\n  \"probability\": 20,\\n  \"justification\": \"No official decision has been made regarding the re-allocation of the medal, and by October 1, Romania has still not expressed any intent to claim the bronze medal.\"\\n}', 'refusal': None, 'reasoning': None}}], 'usage': {'prompt_tokens': 158, 'completion_tokens': 50, 'total_tokens': 208, 'prompt_tokens_details': {'cached_tokens': 96}}}\n",
      "2025-04-17 21:56:19,529 - INFO - Raw content: {\n",
      "  \"probability\": 20,\n",
      "  \"justification\": \"No official decision has been made regarding the re-allocation of the medal, and by October 1, Romania has still not expressed any intent to claim the bronze medal.\"\n",
      "}\n",
      "2025-04-17 21:56:19,529 - INFO - Parsed response: {'probability': 20, 'justification': 'No official decision has been made regarding the re-allocation of the medal, and by October 1, Romania has still not expressed any intent to claim the bronze medal.'}\n",
      " 46%|████▋     | 33/71 [02:25<02:28,  3.90s/it]2025-04-17 21:56:19,531 - INFO - Generating answer for query: Will Yahya Sinwar cease to be the acting Chairman of the Hamas Political Bureau before October 1, 2024?\n",
      "2025-04-17 21:56:19,531 - INFO - Messages for LLM: [{'role': 'system', 'content': 'You are an expert forecaster. Given a binary event, estimate the probability (0-100%) that it will happen, and provide a brief justification for your estimate. Respond strictly in the following JSON format:\\n{\\n  \"probability\": <number>,\\n  \"justification\": \"<short explanation>\"\\n}\\nDo not include any other text.'}, {'role': 'user', 'content': 'Event: Will Yahya Sinwar cease to be the acting Chairman of the Hamas Political Bureau before October 1, 2024?\\nWhat is the probability this event will occur? Please follow the required JSON format.'}]\n",
      "2025-04-17 21:56:21,209 - INFO - Response received: {'id': 'gen-1744916179-H6jQk83jHRk9a8GdlooH', 'provider': 'Crusoe', 'model': 'meta-llama/llama-3.2-1b-instruct', 'object': 'chat.completion', 'created': 1744916179, 'choices': [{'logprobs': None, 'finish_reason': 'stop', 'native_finish_reason': 'stop', 'index': 0, 'message': {'role': 'assistant', 'content': '{\\n  \"probability\": 80,\\n  \"justification\": \"Based on the recent March says and reports of the internal rift in Hamas, it is speculated that Yahya Sinwar may lose control due to internal divisions. Given Hamas\\'s complicated organizational structure and frequent factional power struggles, even a single significant incident could lead to Sinwar losing position. This low probability is strong due to the frequent appearance of problems within Hamas and its core leadership.\"\\n}', 'refusal': None, 'reasoning': None}}], 'usage': {'prompt_tokens': 145, 'completion_tokens': 92, 'total_tokens': 237, 'prompt_tokens_details': {'cached_tokens': 96}}}\n",
      "2025-04-17 21:56:21,210 - INFO - Raw content: {\n",
      "  \"probability\": 80,\n",
      "  \"justification\": \"Based on the recent March says and reports of the internal rift in Hamas, it is speculated that Yahya Sinwar may lose control due to internal divisions. Given Hamas's complicated organizational structure and frequent factional power struggles, even a single significant incident could lead to Sinwar losing position. This low probability is strong due to the frequent appearance of problems within Hamas and its core leadership.\"\n",
      "}\n",
      "2025-04-17 21:56:21,211 - INFO - Parsed response: {'probability': 80, 'justification': \"Based on the recent March says and reports of the internal rift in Hamas, it is speculated that Yahya Sinwar may lose control due to internal divisions. Given Hamas's complicated organizational structure and frequent factional power struggles, even a single significant incident could lead to Sinwar losing position. This low probability is strong due to the frequent appearance of problems within Hamas and its core leadership.\"}\n",
      " 48%|████▊     | 34/71 [02:26<01:59,  3.23s/it]2025-04-17 21:56:21,213 - INFO - Generating answer for query: Will Ukraine withdraw from Kursk before October 1, 2024?\n",
      "2025-04-17 21:56:21,214 - INFO - Messages for LLM: [{'role': 'system', 'content': 'You are an expert forecaster. Given a binary event, estimate the probability (0-100%) that it will happen, and provide a brief justification for your estimate. Respond strictly in the following JSON format:\\n{\\n  \"probability\": <number>,\\n  \"justification\": \"<short explanation>\"\\n}\\nDo not include any other text.'}, {'role': 'user', 'content': 'Event: Will Ukraine withdraw from Kursk before October 1, 2024?\\nWhat is the probability this event will occur? Please follow the required JSON format.'}]\n",
      "2025-04-17 21:56:22,712 - INFO - Response received: {'id': 'gen-1744916180-pqiHMGeJtFCA6wxhoKO1', 'provider': 'Crusoe', 'model': 'meta-llama/llama-3.2-1b-instruct', 'object': 'chat.completion', 'created': 1744916180, 'choices': [{'logprobs': None, 'finish_reason': 'stop', 'native_finish_reason': 'stop', 'index': 0, 'message': {'role': 'assistant', 'content': '{\\n  \"probability\": 25,\\n  \"justification\": \"Insufficient information to estimate the probability. The withdrawal of Ukraine from the Kursk strategic facility likely involves complex diplomatic negotiations and military planning, limiting the likelihood of the event without more context.\"', 'refusal': None, 'reasoning': None}}], 'usage': {'prompt_tokens': 136, 'completion_tokens': 53, 'total_tokens': 189, 'prompt_tokens_details': {'cached_tokens': 96}}}\n",
      "2025-04-17 21:56:22,713 - INFO - Raw content: {\n",
      "  \"probability\": 25,\n",
      "  \"justification\": \"Insufficient information to estimate the probability. The withdrawal of Ukraine from the Kursk strategic facility likely involves complex diplomatic negotiations and military planning, limiting the likelihood of the event without more context.\"\n",
      "2025-04-17 21:56:22,714 - ERROR - No JSON found in response\n",
      "2025-04-17 21:56:22,715 - INFO - Generating answer for query: Will Ukraine withdraw from Kursk before October 1, 2024?\n",
      "2025-04-17 21:56:22,716 - INFO - Messages for LLM: [{'role': 'system', 'content': 'You are an expert forecaster. Given a binary event, estimate the probability (0-100%) that it will happen, and provide a brief justification for your estimate. Respond strictly in the following JSON format:\\n{\\n  \"probability\": <number>,\\n  \"justification\": \"<short explanation>\"\\n}\\nDo not include any other text.'}, {'role': 'user', 'content': 'Event: Will Ukraine withdraw from Kursk before October 1, 2024?\\nWhat is the probability this event will occur? Please follow the required JSON format.'}]\n"
     ]
    },
    {
     "name": "stdout",
     "output_type": "stream",
     "text": [
      "Error: tuple indices must be integers or slices, not str. Retrying...\n"
     ]
    },
    {
     "name": "stderr",
     "output_type": "stream",
     "text": [
      "2025-04-17 21:56:24,356 - INFO - Response received: {'id': 'gen-1744916182-sRYwEPoCnUlYtFZOzni5', 'provider': 'Crusoe', 'model': 'meta-llama/llama-3.2-1b-instruct', 'object': 'chat.completion', 'created': 1744916182, 'choices': [{'logprobs': None, 'finish_reason': 'stop', 'native_finish_reason': 'stop', 'index': 0, 'message': {'role': 'assistant', 'content': '{\\n  \"probability\": 40,\\n  \"justification\": \"A ceasefire agreement between Ukraine and Russian-backed separatists in Kursk has been reported, but this has not been officially announced by any parties with certainty, and withdrawal remains uncertain given the ongoing conflict.\"', 'refusal': None, 'reasoning': None}}], 'usage': {'prompt_tokens': 136, 'completion_tokens': 55, 'total_tokens': 191, 'prompt_tokens_details': {'cached_tokens': 96}}}\n",
      "2025-04-17 21:56:24,357 - INFO - Raw content: {\n",
      "  \"probability\": 40,\n",
      "  \"justification\": \"A ceasefire agreement between Ukraine and Russian-backed separatists in Kursk has been reported, but this has not been officially announced by any parties with certainty, and withdrawal remains uncertain given the ongoing conflict.\"\n",
      "2025-04-17 21:56:24,358 - ERROR - No JSON found in response\n",
      "2025-04-17 21:56:24,358 - INFO - Generating answer for query: Will Ukraine withdraw from Kursk before October 1, 2024?\n",
      "2025-04-17 21:56:24,358 - INFO - Messages for LLM: [{'role': 'system', 'content': 'You are an expert forecaster. Given a binary event, estimate the probability (0-100%) that it will happen, and provide a brief justification for your estimate. Respond strictly in the following JSON format:\\n{\\n  \"probability\": <number>,\\n  \"justification\": \"<short explanation>\"\\n}\\nDo not include any other text.'}, {'role': 'user', 'content': 'Event: Will Ukraine withdraw from Kursk before October 1, 2024?\\nWhat is the probability this event will occur? Please follow the required JSON format.'}]\n"
     ]
    },
    {
     "name": "stdout",
     "output_type": "stream",
     "text": [
      "Error: tuple indices must be integers or slices, not str. Retrying...\n"
     ]
    },
    {
     "name": "stderr",
     "output_type": "stream",
     "text": [
      "2025-04-17 21:56:25,621 - INFO - Response received: {'id': 'gen-1744916183-vmozqEG9ihDB5wl860dr', 'provider': 'Crusoe', 'model': 'meta-llama/llama-3.2-1b-instruct', 'object': 'chat.completion', 'created': 1744916183, 'choices': [{'logprobs': None, 'finish_reason': 'stop', 'native_finish_reason': 'stop', 'index': 0, 'message': {'role': 'assistant', 'content': '{\\n  \"probability\": 10,\\n  \"justification\": \"Low chance the Ukrainian military intervention efforts have been fruitless, leading to a negotiated withdrawal pact or casualties resulting in deterrence. Despite the efforts, their military positions would need to be significantly improved to justify accelerated withdrawal speed.\"', 'refusal': None, 'reasoning': None}}], 'usage': {'prompt_tokens': 136, 'completion_tokens': 59, 'total_tokens': 195, 'prompt_tokens_details': {'cached_tokens': 128}}}\n",
      "2025-04-17 21:56:25,621 - INFO - Raw content: {\n",
      "  \"probability\": 10,\n",
      "  \"justification\": \"Low chance the Ukrainian military intervention efforts have been fruitless, leading to a negotiated withdrawal pact or casualties resulting in deterrence. Despite the efforts, their military positions would need to be significantly improved to justify accelerated withdrawal speed.\"\n",
      "2025-04-17 21:56:25,622 - ERROR - No JSON found in response\n",
      "2025-04-17 21:56:25,623 - INFO - Generating answer for query: Will Ukraine withdraw from Kursk before October 1, 2024?\n",
      "2025-04-17 21:56:25,623 - INFO - Messages for LLM: [{'role': 'system', 'content': 'You are an expert forecaster. Given a binary event, estimate the probability (0-100%) that it will happen, and provide a brief justification for your estimate. Respond strictly in the following JSON format:\\n{\\n  \"probability\": <number>,\\n  \"justification\": \"<short explanation>\"\\n}\\nDo not include any other text.'}, {'role': 'user', 'content': 'Event: Will Ukraine withdraw from Kursk before October 1, 2024?\\nWhat is the probability this event will occur? Please follow the required JSON format.'}]\n"
     ]
    },
    {
     "name": "stdout",
     "output_type": "stream",
     "text": [
      "Error: tuple indices must be integers or slices, not str. Retrying...\n"
     ]
    },
    {
     "name": "stderr",
     "output_type": "stream",
     "text": [
      "2025-04-17 21:56:26,891 - INFO - Response received: {'id': 'gen-1744916185-TV6Jhr4bxm56mU5ZWQb4', 'provider': 'Crusoe', 'model': 'meta-llama/llama-3.2-1b-instruct', 'object': 'chat.completion', 'created': 1744916185, 'choices': [{'logprobs': None, 'finish_reason': 'stop', 'native_finish_reason': 'stop', 'index': 0, 'message': {'role': 'assistant', 'content': '{\\n  \"probability\": 20,\\n  \"justification\": \"There are no concrete reasons provided for Ukraine to withdraw from Kursk before October 1, 2024. The withdrawal being discussed would require a very significant escalation of the conflict, which is not specified. Therefore, the probability remains uncertain and low.\"\\n}', 'refusal': None, 'reasoning': None}}], 'usage': {'prompt_tokens': 136, 'completion_tokens': 67, 'total_tokens': 203, 'prompt_tokens_details': {'cached_tokens': 128}}}\n",
      "2025-04-17 21:56:26,892 - INFO - Raw content: {\n",
      "  \"probability\": 20,\n",
      "  \"justification\": \"There are no concrete reasons provided for Ukraine to withdraw from Kursk before October 1, 2024. The withdrawal being discussed would require a very significant escalation of the conflict, which is not specified. Therefore, the probability remains uncertain and low.\"\n",
      "}\n",
      "2025-04-17 21:56:26,892 - INFO - Parsed response: {'probability': 20, 'justification': 'There are no concrete reasons provided for Ukraine to withdraw from Kursk before October 1, 2024. The withdrawal being discussed would require a very significant escalation of the conflict, which is not specified. Therefore, the probability remains uncertain and low.'}\n",
      " 49%|████▉     | 35/71 [02:32<02:22,  3.97s/it]2025-04-17 21:56:26,894 - INFO - Generating answer for query: Will the Fed cut rates by 25 bps at their September meeting?\n",
      "2025-04-17 21:56:26,894 - INFO - Messages for LLM: [{'role': 'system', 'content': 'You are an expert forecaster. Given a binary event, estimate the probability (0-100%) that it will happen, and provide a brief justification for your estimate. Respond strictly in the following JSON format:\\n{\\n  \"probability\": <number>,\\n  \"justification\": \"<short explanation>\"\\n}\\nDo not include any other text.'}, {'role': 'user', 'content': 'Event: Will the Fed cut rates by 25 bps at their September meeting?\\nWhat is the probability this event will occur? Please follow the required JSON format.'}]\n",
      "2025-04-17 21:56:29,063 - INFO - Response received: {'id': 'gen-1744916186-GUXJ1mAYsAcEnDUlZEK8', 'provider': 'Crusoe', 'model': 'meta-llama/llama-3.2-1b-instruct', 'object': 'chat.completion', 'created': 1744916186, 'choices': [{'logprobs': None, 'finish_reason': 'stop', 'native_finish_reason': 'stop', 'index': 0, 'message': {'role': 'assistant', 'content': '{\\n  \"probability\": 20,\\n  \"justification\": \"Sources suggest the FOMC may consider reducing interest rates by 25 bps in September, but rating agency IHS Markit has most likely the markets expect a 23.6 bp cut with the alternative advocating 21.6 bp.\"\\n}', 'refusal': None, 'reasoning': None}}], 'usage': {'prompt_tokens': 135, 'completion_tokens': 65, 'total_tokens': 200, 'prompt_tokens_details': {'cached_tokens': 96}}}\n",
      "2025-04-17 21:56:29,064 - INFO - Raw content: {\n",
      "  \"probability\": 20,\n",
      "  \"justification\": \"Sources suggest the FOMC may consider reducing interest rates by 25 bps in September, but rating agency IHS Markit has most likely the markets expect a 23.6 bp cut with the alternative advocating 21.6 bp.\"\n",
      "}\n",
      "2025-04-17 21:56:29,064 - INFO - Parsed response: {'probability': 20, 'justification': 'Sources suggest the FOMC may consider reducing interest rates by 25 bps in September, but rating agency IHS Markit has most likely the markets expect a 23.6 bp cut with the alternative advocating 21.6 bp.'}\n",
      " 51%|█████     | 36/71 [02:34<01:59,  3.43s/it]2025-04-17 21:56:29,066 - INFO - Generating answer for query: Will the CDC's assessment of the risk posed by mpox to the US general public exceed \"High\" before October 1, 2024?\n",
      "2025-04-17 21:56:29,067 - INFO - Messages for LLM: [{'role': 'system', 'content': 'You are an expert forecaster. Given a binary event, estimate the probability (0-100%) that it will happen, and provide a brief justification for your estimate. Respond strictly in the following JSON format:\\n{\\n  \"probability\": <number>,\\n  \"justification\": \"<short explanation>\"\\n}\\nDo not include any other text.'}, {'role': 'user', 'content': 'Event: Will the CDC\\'s assessment of the risk posed by mpox to the US general public exceed \"High\" before October 1, 2024?\\nWhat is the probability this event will occur? Please follow the required JSON format.'}]\n",
      "2025-04-17 21:56:30,646 - INFO - Response received: {'id': 'gen-1744916188-Vf0cKrHwI7hTwfZh0zEq', 'provider': 'Crusoe', 'model': 'meta-llama/llama-3.2-1b-instruct', 'object': 'chat.completion', 'created': 1744916188, 'choices': [{'logprobs': None, 'finish_reason': 'stop', 'native_finish_reason': 'stop', 'index': 0, 'message': {'role': 'assistant', 'content': '{\\n  \"probability\": 5,\\n  \"justification\": \"Based on ongoing international surveillance and health assessments, the CDC has issued increased alerts for a potential outbreak, thereby implying a higher risk assessment. The possibility of widespread transmission and severe cases among the general public increases the likelihood of this event exceeding the \\'High\\' threshold by mid-October 2024.\"\\n}', 'refusal': None, 'reasoning': None}}], 'usage': {'prompt_tokens': 150, 'completion_tokens': 75, 'total_tokens': 225, 'prompt_tokens_details': {'cached_tokens': 112}}}\n",
      "2025-04-17 21:56:30,647 - INFO - Raw content: {\n",
      "  \"probability\": 5,\n",
      "  \"justification\": \"Based on ongoing international surveillance and health assessments, the CDC has issued increased alerts for a potential outbreak, thereby implying a higher risk assessment. The possibility of widespread transmission and severe cases among the general public increases the likelihood of this event exceeding the 'High' threshold by mid-October 2024.\"\n",
      "}\n",
      "2025-04-17 21:56:30,648 - INFO - Parsed response: {'probability': 5, 'justification': \"Based on ongoing international surveillance and health assessments, the CDC has issued increased alerts for a potential outbreak, thereby implying a higher risk assessment. The possibility of widespread transmission and severe cases among the general public increases the likelihood of this event exceeding the 'High' threshold by mid-October 2024.\"}\n",
      " 52%|█████▏    | 37/71 [02:36<01:37,  2.87s/it]2025-04-17 21:56:30,650 - INFO - Generating answer for query: Will the US confirm Clade I mpox infections before October 1, 2024?\n",
      "2025-04-17 21:56:30,650 - INFO - Messages for LLM: [{'role': 'system', 'content': 'You are an expert forecaster. Given a binary event, estimate the probability (0-100%) that it will happen, and provide a brief justification for your estimate. Respond strictly in the following JSON format:\\n{\\n  \"probability\": <number>,\\n  \"justification\": \"<short explanation>\"\\n}\\nDo not include any other text.'}, {'role': 'user', 'content': 'Event: Will the US confirm Clade I mpox infections before October 1, 2024?\\nWhat is the probability this event will occur? Please follow the required JSON format.'}]\n",
      "2025-04-17 21:56:31,946 - INFO - Response received: {'id': 'gen-1744916190-K8jBcvaoLxoSfsygYoXs', 'provider': 'Crusoe', 'model': 'meta-llama/llama-3.2-1b-instruct', 'object': 'chat.completion', 'created': 1744916190, 'choices': [{'logprobs': None, 'finish_reason': 'stop', 'native_finish_reason': 'stop', 'index': 0, 'message': {'role': 'assistant', 'content': '{\\n  \"probability\": \"50\",\\n  \"justification\": \"Based on current data, the US Centers for Disease Control and Prevention (CDC) typically confirms Clade I and Clade II mpox cases 7-10 days after they are first identified. Given the timeframe of a few months and assuming no changes to the reported data, a reasonable estimate for this event is 50%\"\\n}', 'refusal': None, 'reasoning': None}}], 'usage': {'prompt_tokens': 139, 'completion_tokens': 81, 'total_tokens': 220, 'prompt_tokens_details': {'cached_tokens': 96}}}\n",
      "2025-04-17 21:56:31,946 - INFO - Raw content: {\n",
      "  \"probability\": \"50\",\n",
      "  \"justification\": \"Based on current data, the US Centers for Disease Control and Prevention (CDC) typically confirms Clade I and Clade II mpox cases 7-10 days after they are first identified. Given the timeframe of a few months and assuming no changes to the reported data, a reasonable estimate for this event is 50%\"\n",
      "}\n",
      "2025-04-17 21:56:31,947 - INFO - Parsed response: {'probability': '50', 'justification': 'Based on current data, the US Centers for Disease Control and Prevention (CDC) typically confirms Clade I and Clade II mpox cases 7-10 days after they are first identified. Given the timeframe of a few months and assuming no changes to the reported data, a reasonable estimate for this event is 50%'}\n",
      " 54%|█████▎    | 38/71 [02:37<01:19,  2.40s/it]2025-04-17 21:56:31,949 - INFO - Generating answer for query: Will Angola confirm Clade I mpox infections before October 1, 2024?\n",
      "2025-04-17 21:56:31,950 - INFO - Messages for LLM: [{'role': 'system', 'content': 'You are an expert forecaster. Given a binary event, estimate the probability (0-100%) that it will happen, and provide a brief justification for your estimate. Respond strictly in the following JSON format:\\n{\\n  \"probability\": <number>,\\n  \"justification\": \"<short explanation>\"\\n}\\nDo not include any other text.'}, {'role': 'user', 'content': 'Event: Will Angola confirm Clade I mpox infections before October 1, 2024?\\nWhat is the probability this event will occur? Please follow the required JSON format.'}]\n",
      "2025-04-17 21:56:33,293 - INFO - Response received: {'id': 'gen-1744916191-Edcdy5cNFP4C2lZTWDrG', 'provider': 'Crusoe', 'model': 'meta-llama/llama-3.2-1b-instruct', 'object': 'chat.completion', 'created': 1744916191, 'choices': [{'logprobs': None, 'finish_reason': 'stop', 'native_finish_reason': 'stop', 'index': 0, 'message': {'role': 'assistant', 'content': '{\\n  \"probability\": 65,\\n  \"justification\": \"The UK National Health Service estimates 55.9% chance of ecpidences fluctuating, 50% chance of specific outbreaks, for return request internal primary second Italian put.subject statingPCR\"\\n}', 'refusal': None, 'reasoning': None}}], 'usage': {'prompt_tokens': 138, 'completion_tokens': 56, 'total_tokens': 194, 'prompt_tokens_details': {'cached_tokens': 96}}}\n",
      "2025-04-17 21:56:33,294 - INFO - Raw content: {\n",
      "  \"probability\": 65,\n",
      "  \"justification\": \"The UK National Health Service estimates 55.9% chance of ecpidences fluctuating, 50% chance of specific outbreaks, for return request internal primary second Italian put.subject statingPCR\"\n",
      "}\n",
      "2025-04-17 21:56:33,295 - INFO - Parsed response: {'probability': 65, 'justification': 'The UK National Health Service estimates 55.9% chance of ecpidences fluctuating, 50% chance of specific outbreaks, for return request internal primary second Italian put.subject statingPCR'}\n",
      " 55%|█████▍    | 39/71 [02:38<01:06,  2.09s/it]2025-04-17 21:56:33,296 - INFO - Generating answer for query: Will the CDC confirm a case of Clade I mpox in a US resident before August 23, 2024?\n",
      "2025-04-17 21:56:33,297 - INFO - Messages for LLM: [{'role': 'system', 'content': 'You are an expert forecaster. Given a binary event, estimate the probability (0-100%) that it will happen, and provide a brief justification for your estimate. Respond strictly in the following JSON format:\\n{\\n  \"probability\": <number>,\\n  \"justification\": \"<short explanation>\"\\n}\\nDo not include any other text.'}, {'role': 'user', 'content': 'Event: Will the CDC confirm a case of Clade I mpox in a US resident before August 23, 2024?\\nWhat is the probability this event will occur? Please follow the required JSON format.'}]\n",
      "2025-04-17 21:56:34,746 - INFO - Response received: {'id': 'gen-1744916192-uuxCaDrlBwRwC6kU50wo', 'provider': 'Crusoe', 'model': 'meta-llama/llama-3.2-1b-instruct', 'object': 'chat.completion', 'created': 1744916192, 'choices': [{'logprobs': None, 'finish_reason': 'stop', 'native_finish_reason': 'stop', 'index': 0, 'message': {'role': 'assistant', 'content': '{\\n  \"probability\": 15,\\n  \"justification\": \"Based on the CDC\\'s tracking of the mpox outbreak, which primarily originated in Central Africa, the agency\\'s probability in the US is low due to strict importation controls and limited international travel from affected countries. No confirmed cases have been reported in the US, making a confirmed case in a US resident highly unlikely by late 2024.\"\\n}', 'refusal': None, 'reasoning': None}}], 'usage': {'prompt_tokens': 145, 'completion_tokens': 84, 'total_tokens': 229, 'prompt_tokens_details': {'cached_tokens': 96}}}\n",
      "2025-04-17 21:56:34,747 - INFO - Raw content: {\n",
      "  \"probability\": 15,\n",
      "  \"justification\": \"Based on the CDC's tracking of the mpox outbreak, which primarily originated in Central Africa, the agency's probability in the US is low due to strict importation controls and limited international travel from affected countries. No confirmed cases have been reported in the US, making a confirmed case in a US resident highly unlikely by late 2024.\"\n",
      "}\n",
      "2025-04-17 21:56:34,747 - INFO - Parsed response: {'probability': 15, 'justification': \"Based on the CDC's tracking of the mpox outbreak, which primarily originated in Central Africa, the agency's probability in the US is low due to strict importation controls and limited international travel from affected countries. No confirmed cases have been reported in the US, making a confirmed case in a US resident highly unlikely by late 2024.\"}\n",
      " 56%|█████▋    | 40/71 [02:40<00:58,  1.90s/it]2025-04-17 21:56:34,749 - INFO - Generating answer for query: Will Ukrainian forces capture Tetkino (51°16'45.1\"N 34°16'57.7\"E) before October 1, 2024?\n",
      "2025-04-17 21:56:34,749 - INFO - Messages for LLM: [{'role': 'system', 'content': 'You are an expert forecaster. Given a binary event, estimate the probability (0-100%) that it will happen, and provide a brief justification for your estimate. Respond strictly in the following JSON format:\\n{\\n  \"probability\": <number>,\\n  \"justification\": \"<short explanation>\"\\n}\\nDo not include any other text.'}, {'role': 'user', 'content': 'Event: Will Ukrainian forces capture Tetkino (51°16\\'45.1\"N 34°16\\'57.7\"E) before October 1, 2024?\\nWhat is the probability this event will occur? Please follow the required JSON format.'}]\n",
      "2025-04-17 21:56:36,078 - INFO - Response received: {'id': 'gen-1744916194-rep2HtBn5pzMYgnL0Odl', 'provider': 'Crusoe', 'model': 'meta-llama/llama-3.2-1b-instruct', 'object': 'chat.completion', 'created': 1744916194, 'choices': [{'logprobs': None, 'finish_reason': 'stop', 'native_finish_reason': 'stop', 'index': 0, 'message': {'role': 'assistant', 'content': '{\\n  \"probability\": 20,\\n  \"justification\": \"Low probability due to ongoing complex and static takedown effort, challenging control of 51°16\\'45.1\"N 34°16\\'57.7\"E (Tetkino) in Auktsk Oblast, without decisive Ukrainian advantage or significant advances by Russian forces, by mid-October 2024.\"\\n}', 'refusal': None, 'reasoning': None}}], 'usage': {'prompt_tokens': 155, 'completion_tokens': 82, 'total_tokens': 237, 'prompt_tokens_details': {'cached_tokens': 96}}}\n",
      "2025-04-17 21:56:36,079 - INFO - Raw content: {\n",
      "  \"probability\": 20,\n",
      "  \"justification\": \"Low probability due to ongoing complex and static takedown effort, challenging control of 51°16'45.1\"N 34°16'57.7\"E (Tetkino) in Auktsk Oblast, without decisive Ukrainian advantage or significant advances by Russian forces, by mid-October 2024.\"\n",
      "}\n",
      "2025-04-17 21:56:36,080 - ERROR - Failed to parse extracted JSON\n",
      "2025-04-17 21:56:36,081 - INFO - Generating answer for query: Will Ukrainian forces capture Tetkino (51°16'45.1\"N 34°16'57.7\"E) before October 1, 2024?\n",
      "2025-04-17 21:56:36,082 - INFO - Messages for LLM: [{'role': 'system', 'content': 'You are an expert forecaster. Given a binary event, estimate the probability (0-100%) that it will happen, and provide a brief justification for your estimate. Respond strictly in the following JSON format:\\n{\\n  \"probability\": <number>,\\n  \"justification\": \"<short explanation>\"\\n}\\nDo not include any other text.'}, {'role': 'user', 'content': 'Event: Will Ukrainian forces capture Tetkino (51°16\\'45.1\"N 34°16\\'57.7\"E) before October 1, 2024?\\nWhat is the probability this event will occur? Please follow the required JSON format.'}]\n"
     ]
    },
    {
     "name": "stdout",
     "output_type": "stream",
     "text": [
      "Error: tuple indices must be integers or slices, not str. Retrying...\n"
     ]
    },
    {
     "name": "stderr",
     "output_type": "stream",
     "text": [
      "2025-04-17 21:56:37,421 - INFO - Response received: {'error': {'message': 'Rate limit exceeded: free-models-per-min. undefined', 'code': 429, 'metadata': {'headers': {'X-RateLimit-Limit': '20', 'X-RateLimit-Remaining': '0', 'X-RateLimit-Reset': '1744916220000'}, 'provider_name': None}}, 'user_id': 'user_2lsCv9xYObGiiRMCLsLyYmaayYm'}\n",
      "2025-04-17 21:56:37,422 - ERROR - Error generating response: 'choices'\n",
      "2025-04-17 21:56:37,422 - INFO - Generating answer for query: Will Ukrainian forces capture Tetkino (51°16'45.1\"N 34°16'57.7\"E) before October 1, 2024?\n",
      "2025-04-17 21:56:37,423 - INFO - Messages for LLM: [{'role': 'system', 'content': 'You are an expert forecaster. Given a binary event, estimate the probability (0-100%) that it will happen, and provide a brief justification for your estimate. Respond strictly in the following JSON format:\\n{\\n  \"probability\": <number>,\\n  \"justification\": \"<short explanation>\"\\n}\\nDo not include any other text.'}, {'role': 'user', 'content': 'Event: Will Ukrainian forces capture Tetkino (51°16\\'45.1\"N 34°16\\'57.7\"E) before October 1, 2024?\\nWhat is the probability this event will occur? Please follow the required JSON format.'}]\n"
     ]
    },
    {
     "name": "stdout",
     "output_type": "stream",
     "text": [
      "Error: 'choices'. Retrying...\n"
     ]
    },
    {
     "name": "stderr",
     "output_type": "stream",
     "text": [
      "2025-04-17 21:56:38,216 - INFO - Response received: {'error': {'message': 'Rate limit exceeded: free-models-per-min. undefined', 'code': 429, 'metadata': {'headers': {'X-RateLimit-Limit': '20', 'X-RateLimit-Remaining': '0', 'X-RateLimit-Reset': '1744916220000'}, 'provider_name': None}}, 'user_id': 'user_2lsCv9xYObGiiRMCLsLyYmaayYm'}\n",
      "2025-04-17 21:56:38,216 - ERROR - Error generating response: 'choices'\n",
      "2025-04-17 21:56:38,217 - INFO - Generating answer for query: Will Ukrainian forces capture Tetkino (51°16'45.1\"N 34°16'57.7\"E) before October 1, 2024?\n",
      "2025-04-17 21:56:38,218 - INFO - Messages for LLM: [{'role': 'system', 'content': 'You are an expert forecaster. Given a binary event, estimate the probability (0-100%) that it will happen, and provide a brief justification for your estimate. Respond strictly in the following JSON format:\\n{\\n  \"probability\": <number>,\\n  \"justification\": \"<short explanation>\"\\n}\\nDo not include any other text.'}, {'role': 'user', 'content': 'Event: Will Ukrainian forces capture Tetkino (51°16\\'45.1\"N 34°16\\'57.7\"E) before October 1, 2024?\\nWhat is the probability this event will occur? Please follow the required JSON format.'}]\n"
     ]
    },
    {
     "name": "stdout",
     "output_type": "stream",
     "text": [
      "Error: 'choices'. Retrying...\n"
     ]
    },
    {
     "name": "stderr",
     "output_type": "stream",
     "text": [
      "2025-04-17 21:56:39,316 - INFO - Response received: {'error': {'message': 'Rate limit exceeded: free-models-per-min. undefined', 'code': 429, 'metadata': {'headers': {'X-RateLimit-Limit': '20', 'X-RateLimit-Remaining': '0', 'X-RateLimit-Reset': '1744916220000'}, 'provider_name': None}}, 'user_id': 'user_2lsCv9xYObGiiRMCLsLyYmaayYm'}\n",
      "2025-04-17 21:56:39,316 - ERROR - Error generating response: 'choices'\n",
      "2025-04-17 21:56:39,317 - INFO - Generating answer for query: Will Ukrainian forces capture Tetkino (51°16'45.1\"N 34°16'57.7\"E) before October 1, 2024?\n",
      "2025-04-17 21:56:39,318 - INFO - Messages for LLM: [{'role': 'system', 'content': 'You are an expert forecaster. Given a binary event, estimate the probability (0-100%) that it will happen, and provide a brief justification for your estimate. Respond strictly in the following JSON format:\\n{\\n  \"probability\": <number>,\\n  \"justification\": \"<short explanation>\"\\n}\\nDo not include any other text.'}, {'role': 'user', 'content': 'Event: Will Ukrainian forces capture Tetkino (51°16\\'45.1\"N 34°16\\'57.7\"E) before October 1, 2024?\\nWhat is the probability this event will occur? Please follow the required JSON format.'}]\n"
     ]
    },
    {
     "name": "stdout",
     "output_type": "stream",
     "text": [
      "Error: 'choices'. Retrying...\n"
     ]
    },
    {
     "name": "stderr",
     "output_type": "stream",
     "text": [
      "2025-04-17 21:56:40,660 - INFO - Response received: {'error': {'message': 'Rate limit exceeded: free-models-per-min. undefined', 'code': 429, 'metadata': {'headers': {'X-RateLimit-Limit': '20', 'X-RateLimit-Remaining': '0', 'X-RateLimit-Reset': '1744916220000'}, 'provider_name': None}}, 'user_id': 'user_2lsCv9xYObGiiRMCLsLyYmaayYm'}\n",
      "2025-04-17 21:56:40,661 - ERROR - Error generating response: 'choices'\n",
      "2025-04-17 21:56:40,662 - INFO - Generating answer for query: Will Ukrainian forces capture Tetkino (51°16'45.1\"N 34°16'57.7\"E) before October 1, 2024?\n",
      "2025-04-17 21:56:40,663 - INFO - Messages for LLM: [{'role': 'system', 'content': 'You are an expert forecaster. Given a binary event, estimate the probability (0-100%) that it will happen, and provide a brief justification for your estimate. Respond strictly in the following JSON format:\\n{\\n  \"probability\": <number>,\\n  \"justification\": \"<short explanation>\"\\n}\\nDo not include any other text.'}, {'role': 'user', 'content': 'Event: Will Ukrainian forces capture Tetkino (51°16\\'45.1\"N 34°16\\'57.7\"E) before October 1, 2024?\\nWhat is the probability this event will occur? Please follow the required JSON format.'}]\n"
     ]
    },
    {
     "name": "stdout",
     "output_type": "stream",
     "text": [
      "Error: 'choices'. Retrying...\n"
     ]
    },
    {
     "name": "stderr",
     "output_type": "stream",
     "text": [
      "2025-04-17 21:56:41,276 - INFO - Response received: {'error': {'message': 'Rate limit exceeded: free-models-per-min. undefined', 'code': 429, 'metadata': {'headers': {'X-RateLimit-Limit': '20', 'X-RateLimit-Remaining': '0', 'X-RateLimit-Reset': '1744916220000'}, 'provider_name': None}}, 'user_id': 'user_2lsCv9xYObGiiRMCLsLyYmaayYm'}\n",
      "2025-04-17 21:56:41,277 - ERROR - Error generating response: 'choices'\n",
      "2025-04-17 21:56:41,277 - INFO - Generating answer for query: Will Ukrainian forces capture Tetkino (51°16'45.1\"N 34°16'57.7\"E) before October 1, 2024?\n",
      "2025-04-17 21:56:41,278 - INFO - Messages for LLM: [{'role': 'system', 'content': 'You are an expert forecaster. Given a binary event, estimate the probability (0-100%) that it will happen, and provide a brief justification for your estimate. Respond strictly in the following JSON format:\\n{\\n  \"probability\": <number>,\\n  \"justification\": \"<short explanation>\"\\n}\\nDo not include any other text.'}, {'role': 'user', 'content': 'Event: Will Ukrainian forces capture Tetkino (51°16\\'45.1\"N 34°16\\'57.7\"E) before October 1, 2024?\\nWhat is the probability this event will occur? Please follow the required JSON format.'}]\n"
     ]
    },
    {
     "name": "stdout",
     "output_type": "stream",
     "text": [
      "Error: 'choices'. Retrying...\n"
     ]
    },
    {
     "name": "stderr",
     "output_type": "stream",
     "text": [
      "2025-04-17 21:56:42,038 - INFO - Response received: {'error': {'message': 'Rate limit exceeded: free-models-per-min. undefined', 'code': 429, 'metadata': {'headers': {'X-RateLimit-Limit': '20', 'X-RateLimit-Remaining': '0', 'X-RateLimit-Reset': '1744916220000'}, 'provider_name': None}}, 'user_id': 'user_2lsCv9xYObGiiRMCLsLyYmaayYm'}\n",
      "2025-04-17 21:56:42,039 - ERROR - Error generating response: 'choices'\n",
      "2025-04-17 21:56:42,039 - INFO - Generating answer for query: Will Ukrainian forces capture Tetkino (51°16'45.1\"N 34°16'57.7\"E) before October 1, 2024?\n",
      "2025-04-17 21:56:42,040 - INFO - Messages for LLM: [{'role': 'system', 'content': 'You are an expert forecaster. Given a binary event, estimate the probability (0-100%) that it will happen, and provide a brief justification for your estimate. Respond strictly in the following JSON format:\\n{\\n  \"probability\": <number>,\\n  \"justification\": \"<short explanation>\"\\n}\\nDo not include any other text.'}, {'role': 'user', 'content': 'Event: Will Ukrainian forces capture Tetkino (51°16\\'45.1\"N 34°16\\'57.7\"E) before October 1, 2024?\\nWhat is the probability this event will occur? Please follow the required JSON format.'}]\n"
     ]
    },
    {
     "name": "stdout",
     "output_type": "stream",
     "text": [
      "Error: 'choices'. Retrying...\n"
     ]
    },
    {
     "name": "stderr",
     "output_type": "stream",
     "text": [
      "2025-04-17 21:56:42,713 - INFO - Response received: {'error': {'message': 'Rate limit exceeded: free-models-per-min. undefined', 'code': 429, 'metadata': {'headers': {'X-RateLimit-Limit': '20', 'X-RateLimit-Remaining': '0', 'X-RateLimit-Reset': '1744916220000'}, 'provider_name': None}}, 'user_id': 'user_2lsCv9xYObGiiRMCLsLyYmaayYm'}\n",
      "2025-04-17 21:56:42,714 - ERROR - Error generating response: 'choices'\n",
      "2025-04-17 21:56:42,714 - INFO - Generating answer for query: Will Ukrainian forces capture Tetkino (51°16'45.1\"N 34°16'57.7\"E) before October 1, 2024?\n",
      "2025-04-17 21:56:42,714 - INFO - Messages for LLM: [{'role': 'system', 'content': 'You are an expert forecaster. Given a binary event, estimate the probability (0-100%) that it will happen, and provide a brief justification for your estimate. Respond strictly in the following JSON format:\\n{\\n  \"probability\": <number>,\\n  \"justification\": \"<short explanation>\"\\n}\\nDo not include any other text.'}, {'role': 'user', 'content': 'Event: Will Ukrainian forces capture Tetkino (51°16\\'45.1\"N 34°16\\'57.7\"E) before October 1, 2024?\\nWhat is the probability this event will occur? Please follow the required JSON format.'}]\n"
     ]
    },
    {
     "name": "stdout",
     "output_type": "stream",
     "text": [
      "Error: 'choices'. Retrying...\n"
     ]
    },
    {
     "name": "stderr",
     "output_type": "stream",
     "text": [
      "2025-04-17 21:56:43,487 - INFO - Response received: {'error': {'message': 'Rate limit exceeded: free-models-per-min. undefined', 'code': 429, 'metadata': {'headers': {'X-RateLimit-Limit': '20', 'X-RateLimit-Remaining': '0', 'X-RateLimit-Reset': '1744916220000'}, 'provider_name': None}}, 'user_id': 'user_2lsCv9xYObGiiRMCLsLyYmaayYm'}\n",
      "2025-04-17 21:56:43,488 - ERROR - Error generating response: 'choices'\n",
      "2025-04-17 21:56:43,488 - INFO - Generating answer for query: Will Ukrainian forces capture Tetkino (51°16'45.1\"N 34°16'57.7\"E) before October 1, 2024?\n",
      "2025-04-17 21:56:43,489 - INFO - Messages for LLM: [{'role': 'system', 'content': 'You are an expert forecaster. Given a binary event, estimate the probability (0-100%) that it will happen, and provide a brief justification for your estimate. Respond strictly in the following JSON format:\\n{\\n  \"probability\": <number>,\\n  \"justification\": \"<short explanation>\"\\n}\\nDo not include any other text.'}, {'role': 'user', 'content': 'Event: Will Ukrainian forces capture Tetkino (51°16\\'45.1\"N 34°16\\'57.7\"E) before October 1, 2024?\\nWhat is the probability this event will occur? Please follow the required JSON format.'}]\n"
     ]
    },
    {
     "name": "stdout",
     "output_type": "stream",
     "text": [
      "Error: 'choices'. Retrying...\n"
     ]
    },
    {
     "name": "stderr",
     "output_type": "stream",
     "text": [
      "2025-04-17 21:56:44,435 - INFO - Response received: {'error': {'message': 'Rate limit exceeded: free-models-per-min. undefined', 'code': 429, 'metadata': {'headers': {'X-RateLimit-Limit': '20', 'X-RateLimit-Remaining': '0', 'X-RateLimit-Reset': '1744916220000'}, 'provider_name': None}}, 'user_id': 'user_2lsCv9xYObGiiRMCLsLyYmaayYm'}\n",
      "2025-04-17 21:56:44,436 - ERROR - Error generating response: 'choices'\n",
      "2025-04-17 21:56:44,437 - INFO - Generating answer for query: Will Ukrainian forces capture Tetkino (51°16'45.1\"N 34°16'57.7\"E) before October 1, 2024?\n",
      "2025-04-17 21:56:44,437 - INFO - Messages for LLM: [{'role': 'system', 'content': 'You are an expert forecaster. Given a binary event, estimate the probability (0-100%) that it will happen, and provide a brief justification for your estimate. Respond strictly in the following JSON format:\\n{\\n  \"probability\": <number>,\\n  \"justification\": \"<short explanation>\"\\n}\\nDo not include any other text.'}, {'role': 'user', 'content': 'Event: Will Ukrainian forces capture Tetkino (51°16\\'45.1\"N 34°16\\'57.7\"E) before October 1, 2024?\\nWhat is the probability this event will occur? Please follow the required JSON format.'}]\n"
     ]
    },
    {
     "name": "stdout",
     "output_type": "stream",
     "text": [
      "Error: 'choices'. Retrying...\n"
     ]
    },
    {
     "name": "stderr",
     "output_type": "stream",
     "text": [
      "2025-04-17 21:56:45,120 - INFO - Response received: {'error': {'message': 'Rate limit exceeded: free-models-per-min. undefined', 'code': 429, 'metadata': {'headers': {'X-RateLimit-Limit': '20', 'X-RateLimit-Remaining': '0', 'X-RateLimit-Reset': '1744916220000'}, 'provider_name': None}}, 'user_id': 'user_2lsCv9xYObGiiRMCLsLyYmaayYm'}\n",
      "2025-04-17 21:56:45,121 - ERROR - Error generating response: 'choices'\n",
      "2025-04-17 21:56:45,122 - INFO - Generating answer for query: Will Ukrainian forces capture Tetkino (51°16'45.1\"N 34°16'57.7\"E) before October 1, 2024?\n",
      "2025-04-17 21:56:45,122 - INFO - Messages for LLM: [{'role': 'system', 'content': 'You are an expert forecaster. Given a binary event, estimate the probability (0-100%) that it will happen, and provide a brief justification for your estimate. Respond strictly in the following JSON format:\\n{\\n  \"probability\": <number>,\\n  \"justification\": \"<short explanation>\"\\n}\\nDo not include any other text.'}, {'role': 'user', 'content': 'Event: Will Ukrainian forces capture Tetkino (51°16\\'45.1\"N 34°16\\'57.7\"E) before October 1, 2024?\\nWhat is the probability this event will occur? Please follow the required JSON format.'}]\n"
     ]
    },
    {
     "name": "stdout",
     "output_type": "stream",
     "text": [
      "Error: 'choices'. Retrying...\n"
     ]
    },
    {
     "name": "stderr",
     "output_type": "stream",
     "text": [
      "2025-04-17 21:56:46,354 - INFO - Response received: {'error': {'message': 'Rate limit exceeded: free-models-per-min. undefined', 'code': 429, 'metadata': {'headers': {'X-RateLimit-Limit': '20', 'X-RateLimit-Remaining': '0', 'X-RateLimit-Reset': '1744916220000'}, 'provider_name': None}}, 'user_id': 'user_2lsCv9xYObGiiRMCLsLyYmaayYm'}\n",
      "2025-04-17 21:56:46,355 - ERROR - Error generating response: 'choices'\n",
      "2025-04-17 21:56:46,355 - INFO - Generating answer for query: Will Ukrainian forces capture Tetkino (51°16'45.1\"N 34°16'57.7\"E) before October 1, 2024?\n",
      "2025-04-17 21:56:46,356 - INFO - Messages for LLM: [{'role': 'system', 'content': 'You are an expert forecaster. Given a binary event, estimate the probability (0-100%) that it will happen, and provide a brief justification for your estimate. Respond strictly in the following JSON format:\\n{\\n  \"probability\": <number>,\\n  \"justification\": \"<short explanation>\"\\n}\\nDo not include any other text.'}, {'role': 'user', 'content': 'Event: Will Ukrainian forces capture Tetkino (51°16\\'45.1\"N 34°16\\'57.7\"E) before October 1, 2024?\\nWhat is the probability this event will occur? Please follow the required JSON format.'}]\n"
     ]
    },
    {
     "name": "stdout",
     "output_type": "stream",
     "text": [
      "Error: 'choices'. Retrying...\n"
     ]
    },
    {
     "name": "stderr",
     "output_type": "stream",
     "text": [
      "2025-04-17 21:56:47,063 - INFO - Response received: {'error': {'message': 'Rate limit exceeded: free-models-per-min. undefined', 'code': 429, 'metadata': {'headers': {'X-RateLimit-Limit': '20', 'X-RateLimit-Remaining': '0', 'X-RateLimit-Reset': '1744916220000'}, 'provider_name': None}}, 'user_id': 'user_2lsCv9xYObGiiRMCLsLyYmaayYm'}\n",
      "2025-04-17 21:56:47,064 - ERROR - Error generating response: 'choices'\n",
      "2025-04-17 21:56:47,065 - INFO - Generating answer for query: Will Ukrainian forces capture Tetkino (51°16'45.1\"N 34°16'57.7\"E) before October 1, 2024?\n",
      "2025-04-17 21:56:47,065 - INFO - Messages for LLM: [{'role': 'system', 'content': 'You are an expert forecaster. Given a binary event, estimate the probability (0-100%) that it will happen, and provide a brief justification for your estimate. Respond strictly in the following JSON format:\\n{\\n  \"probability\": <number>,\\n  \"justification\": \"<short explanation>\"\\n}\\nDo not include any other text.'}, {'role': 'user', 'content': 'Event: Will Ukrainian forces capture Tetkino (51°16\\'45.1\"N 34°16\\'57.7\"E) before October 1, 2024?\\nWhat is the probability this event will occur? Please follow the required JSON format.'}]\n"
     ]
    },
    {
     "name": "stdout",
     "output_type": "stream",
     "text": [
      "Error: 'choices'. Retrying...\n"
     ]
    },
    {
     "name": "stderr",
     "output_type": "stream",
     "text": [
      "2025-04-17 21:56:47,812 - INFO - Response received: {'error': {'message': 'Rate limit exceeded: free-models-per-min. undefined', 'code': 429, 'metadata': {'headers': {'X-RateLimit-Limit': '20', 'X-RateLimit-Remaining': '0', 'X-RateLimit-Reset': '1744916220000'}, 'provider_name': None}}, 'user_id': 'user_2lsCv9xYObGiiRMCLsLyYmaayYm'}\n",
      "2025-04-17 21:56:47,813 - ERROR - Error generating response: 'choices'\n",
      "2025-04-17 21:56:47,814 - INFO - Generating answer for query: Will Ukrainian forces capture Tetkino (51°16'45.1\"N 34°16'57.7\"E) before October 1, 2024?\n",
      "2025-04-17 21:56:47,815 - INFO - Messages for LLM: [{'role': 'system', 'content': 'You are an expert forecaster. Given a binary event, estimate the probability (0-100%) that it will happen, and provide a brief justification for your estimate. Respond strictly in the following JSON format:\\n{\\n  \"probability\": <number>,\\n  \"justification\": \"<short explanation>\"\\n}\\nDo not include any other text.'}, {'role': 'user', 'content': 'Event: Will Ukrainian forces capture Tetkino (51°16\\'45.1\"N 34°16\\'57.7\"E) before October 1, 2024?\\nWhat is the probability this event will occur? Please follow the required JSON format.'}]\n"
     ]
    },
    {
     "name": "stdout",
     "output_type": "stream",
     "text": [
      "Error: 'choices'. Retrying...\n"
     ]
    },
    {
     "name": "stderr",
     "output_type": "stream",
     "text": [
      "2025-04-17 21:56:49,178 - INFO - Response received: {'error': {'message': 'Rate limit exceeded: free-models-per-min. undefined', 'code': 429, 'metadata': {'headers': {'X-RateLimit-Limit': '20', 'X-RateLimit-Remaining': '0', 'X-RateLimit-Reset': '1744916220000'}, 'provider_name': None}}, 'user_id': 'user_2lsCv9xYObGiiRMCLsLyYmaayYm'}\n",
      "2025-04-17 21:56:49,180 - ERROR - Error generating response: 'choices'\n",
      "2025-04-17 21:56:49,180 - INFO - Generating answer for query: Will Ukrainian forces capture Tetkino (51°16'45.1\"N 34°16'57.7\"E) before October 1, 2024?\n",
      "2025-04-17 21:56:49,181 - INFO - Messages for LLM: [{'role': 'system', 'content': 'You are an expert forecaster. Given a binary event, estimate the probability (0-100%) that it will happen, and provide a brief justification for your estimate. Respond strictly in the following JSON format:\\n{\\n  \"probability\": <number>,\\n  \"justification\": \"<short explanation>\"\\n}\\nDo not include any other text.'}, {'role': 'user', 'content': 'Event: Will Ukrainian forces capture Tetkino (51°16\\'45.1\"N 34°16\\'57.7\"E) before October 1, 2024?\\nWhat is the probability this event will occur? Please follow the required JSON format.'}]\n"
     ]
    },
    {
     "name": "stdout",
     "output_type": "stream",
     "text": [
      "Error: 'choices'. Retrying...\n"
     ]
    },
    {
     "name": "stderr",
     "output_type": "stream",
     "text": [
      "2025-04-17 21:56:49,904 - INFO - Response received: {'error': {'message': 'Rate limit exceeded: free-models-per-min. undefined', 'code': 429, 'metadata': {'headers': {'X-RateLimit-Limit': '20', 'X-RateLimit-Remaining': '0', 'X-RateLimit-Reset': '1744916220000'}, 'provider_name': None}}, 'user_id': 'user_2lsCv9xYObGiiRMCLsLyYmaayYm'}\n",
      "2025-04-17 21:56:49,904 - ERROR - Error generating response: 'choices'\n",
      "2025-04-17 21:56:49,905 - INFO - Generating answer for query: Will Ukrainian forces capture Tetkino (51°16'45.1\"N 34°16'57.7\"E) before October 1, 2024?\n",
      "2025-04-17 21:56:49,906 - INFO - Messages for LLM: [{'role': 'system', 'content': 'You are an expert forecaster. Given a binary event, estimate the probability (0-100%) that it will happen, and provide a brief justification for your estimate. Respond strictly in the following JSON format:\\n{\\n  \"probability\": <number>,\\n  \"justification\": \"<short explanation>\"\\n}\\nDo not include any other text.'}, {'role': 'user', 'content': 'Event: Will Ukrainian forces capture Tetkino (51°16\\'45.1\"N 34°16\\'57.7\"E) before October 1, 2024?\\nWhat is the probability this event will occur? Please follow the required JSON format.'}]\n"
     ]
    },
    {
     "name": "stdout",
     "output_type": "stream",
     "text": [
      "Error: 'choices'. Retrying...\n"
     ]
    },
    {
     "name": "stderr",
     "output_type": "stream",
     "text": [
      "2025-04-17 21:56:50,962 - INFO - Response received: {'error': {'message': 'Rate limit exceeded: free-models-per-min. undefined', 'code': 429, 'metadata': {'headers': {'X-RateLimit-Limit': '20', 'X-RateLimit-Remaining': '0', 'X-RateLimit-Reset': '1744916220000'}, 'provider_name': None}}, 'user_id': 'user_2lsCv9xYObGiiRMCLsLyYmaayYm'}\n",
      "2025-04-17 21:56:50,963 - ERROR - Error generating response: 'choices'\n",
      "2025-04-17 21:56:50,963 - INFO - Generating answer for query: Will Ukrainian forces capture Tetkino (51°16'45.1\"N 34°16'57.7\"E) before October 1, 2024?\n",
      "2025-04-17 21:56:50,963 - INFO - Messages for LLM: [{'role': 'system', 'content': 'You are an expert forecaster. Given a binary event, estimate the probability (0-100%) that it will happen, and provide a brief justification for your estimate. Respond strictly in the following JSON format:\\n{\\n  \"probability\": <number>,\\n  \"justification\": \"<short explanation>\"\\n}\\nDo not include any other text.'}, {'role': 'user', 'content': 'Event: Will Ukrainian forces capture Tetkino (51°16\\'45.1\"N 34°16\\'57.7\"E) before October 1, 2024?\\nWhat is the probability this event will occur? Please follow the required JSON format.'}]\n"
     ]
    },
    {
     "name": "stdout",
     "output_type": "stream",
     "text": [
      "Error: 'choices'. Retrying...\n"
     ]
    },
    {
     "name": "stderr",
     "output_type": "stream",
     "text": [
      "2025-04-17 21:56:51,662 - INFO - Response received: {'error': {'message': 'Rate limit exceeded: free-models-per-min. undefined', 'code': 429, 'metadata': {'headers': {'X-RateLimit-Limit': '20', 'X-RateLimit-Remaining': '0', 'X-RateLimit-Reset': '1744916220000'}, 'provider_name': None}}, 'user_id': 'user_2lsCv9xYObGiiRMCLsLyYmaayYm'}\n",
      "2025-04-17 21:56:51,663 - ERROR - Error generating response: 'choices'\n",
      "2025-04-17 21:56:51,664 - INFO - Generating answer for query: Will Ukrainian forces capture Tetkino (51°16'45.1\"N 34°16'57.7\"E) before October 1, 2024?\n",
      "2025-04-17 21:56:51,665 - INFO - Messages for LLM: [{'role': 'system', 'content': 'You are an expert forecaster. Given a binary event, estimate the probability (0-100%) that it will happen, and provide a brief justification for your estimate. Respond strictly in the following JSON format:\\n{\\n  \"probability\": <number>,\\n  \"justification\": \"<short explanation>\"\\n}\\nDo not include any other text.'}, {'role': 'user', 'content': 'Event: Will Ukrainian forces capture Tetkino (51°16\\'45.1\"N 34°16\\'57.7\"E) before October 1, 2024?\\nWhat is the probability this event will occur? Please follow the required JSON format.'}]\n"
     ]
    },
    {
     "name": "stdout",
     "output_type": "stream",
     "text": [
      "Error: 'choices'. Retrying...\n"
     ]
    },
    {
     "name": "stderr",
     "output_type": "stream",
     "text": [
      "2025-04-17 21:56:52,462 - INFO - Response received: {'error': {'message': 'Rate limit exceeded: free-models-per-min. undefined', 'code': 429, 'metadata': {'headers': {'X-RateLimit-Limit': '20', 'X-RateLimit-Remaining': '0', 'X-RateLimit-Reset': '1744916220000'}, 'provider_name': None}}, 'user_id': 'user_2lsCv9xYObGiiRMCLsLyYmaayYm'}\n",
      "2025-04-17 21:56:52,463 - ERROR - Error generating response: 'choices'\n",
      "2025-04-17 21:56:52,464 - INFO - Generating answer for query: Will Ukrainian forces capture Tetkino (51°16'45.1\"N 34°16'57.7\"E) before October 1, 2024?\n",
      "2025-04-17 21:56:52,465 - INFO - Messages for LLM: [{'role': 'system', 'content': 'You are an expert forecaster. Given a binary event, estimate the probability (0-100%) that it will happen, and provide a brief justification for your estimate. Respond strictly in the following JSON format:\\n{\\n  \"probability\": <number>,\\n  \"justification\": \"<short explanation>\"\\n}\\nDo not include any other text.'}, {'role': 'user', 'content': 'Event: Will Ukrainian forces capture Tetkino (51°16\\'45.1\"N 34°16\\'57.7\"E) before October 1, 2024?\\nWhat is the probability this event will occur? Please follow the required JSON format.'}]\n"
     ]
    },
    {
     "name": "stdout",
     "output_type": "stream",
     "text": [
      "Error: 'choices'. Retrying...\n"
     ]
    },
    {
     "name": "stderr",
     "output_type": "stream",
     "text": [
      "2025-04-17 21:56:53,129 - INFO - Response received: {'error': {'message': 'Rate limit exceeded: free-models-per-min. undefined', 'code': 429, 'metadata': {'headers': {'X-RateLimit-Limit': '20', 'X-RateLimit-Remaining': '0', 'X-RateLimit-Reset': '1744916220000'}, 'provider_name': None}}, 'user_id': 'user_2lsCv9xYObGiiRMCLsLyYmaayYm'}\n",
      "2025-04-17 21:56:53,130 - ERROR - Error generating response: 'choices'\n",
      "2025-04-17 21:56:53,131 - INFO - Generating answer for query: Will Ukrainian forces capture Tetkino (51°16'45.1\"N 34°16'57.7\"E) before October 1, 2024?\n",
      "2025-04-17 21:56:53,132 - INFO - Messages for LLM: [{'role': 'system', 'content': 'You are an expert forecaster. Given a binary event, estimate the probability (0-100%) that it will happen, and provide a brief justification for your estimate. Respond strictly in the following JSON format:\\n{\\n  \"probability\": <number>,\\n  \"justification\": \"<short explanation>\"\\n}\\nDo not include any other text.'}, {'role': 'user', 'content': 'Event: Will Ukrainian forces capture Tetkino (51°16\\'45.1\"N 34°16\\'57.7\"E) before October 1, 2024?\\nWhat is the probability this event will occur? Please follow the required JSON format.'}]\n"
     ]
    },
    {
     "name": "stdout",
     "output_type": "stream",
     "text": [
      "Error: 'choices'. Retrying...\n"
     ]
    },
    {
     "name": "stderr",
     "output_type": "stream",
     "text": [
      "2025-04-17 21:56:53,804 - INFO - Response received: {'error': {'message': 'Rate limit exceeded: free-models-per-min. undefined', 'code': 429, 'metadata': {'headers': {'X-RateLimit-Limit': '20', 'X-RateLimit-Remaining': '0', 'X-RateLimit-Reset': '1744916220000'}, 'provider_name': None}}, 'user_id': 'user_2lsCv9xYObGiiRMCLsLyYmaayYm'}\n",
      "2025-04-17 21:56:53,805 - ERROR - Error generating response: 'choices'\n",
      "2025-04-17 21:56:53,806 - INFO - Generating answer for query: Will Ukrainian forces capture Tetkino (51°16'45.1\"N 34°16'57.7\"E) before October 1, 2024?\n",
      "2025-04-17 21:56:53,807 - INFO - Messages for LLM: [{'role': 'system', 'content': 'You are an expert forecaster. Given a binary event, estimate the probability (0-100%) that it will happen, and provide a brief justification for your estimate. Respond strictly in the following JSON format:\\n{\\n  \"probability\": <number>,\\n  \"justification\": \"<short explanation>\"\\n}\\nDo not include any other text.'}, {'role': 'user', 'content': 'Event: Will Ukrainian forces capture Tetkino (51°16\\'45.1\"N 34°16\\'57.7\"E) before October 1, 2024?\\nWhat is the probability this event will occur? Please follow the required JSON format.'}]\n"
     ]
    },
    {
     "name": "stdout",
     "output_type": "stream",
     "text": [
      "Error: 'choices'. Retrying...\n"
     ]
    },
    {
     "name": "stderr",
     "output_type": "stream",
     "text": [
      "2025-04-17 21:56:54,555 - INFO - Response received: {'error': {'message': 'Rate limit exceeded: free-models-per-min. undefined', 'code': 429, 'metadata': {'headers': {'X-RateLimit-Limit': '20', 'X-RateLimit-Remaining': '0', 'X-RateLimit-Reset': '1744916220000'}, 'provider_name': None}}, 'user_id': 'user_2lsCv9xYObGiiRMCLsLyYmaayYm'}\n",
      "2025-04-17 21:56:54,556 - ERROR - Error generating response: 'choices'\n",
      "2025-04-17 21:56:54,556 - INFO - Generating answer for query: Will Ukrainian forces capture Tetkino (51°16'45.1\"N 34°16'57.7\"E) before October 1, 2024?\n",
      "2025-04-17 21:56:54,558 - INFO - Messages for LLM: [{'role': 'system', 'content': 'You are an expert forecaster. Given a binary event, estimate the probability (0-100%) that it will happen, and provide a brief justification for your estimate. Respond strictly in the following JSON format:\\n{\\n  \"probability\": <number>,\\n  \"justification\": \"<short explanation>\"\\n}\\nDo not include any other text.'}, {'role': 'user', 'content': 'Event: Will Ukrainian forces capture Tetkino (51°16\\'45.1\"N 34°16\\'57.7\"E) before October 1, 2024?\\nWhat is the probability this event will occur? Please follow the required JSON format.'}]\n"
     ]
    },
    {
     "name": "stdout",
     "output_type": "stream",
     "text": [
      "Error: 'choices'. Retrying...\n"
     ]
    },
    {
     "name": "stderr",
     "output_type": "stream",
     "text": [
      "2025-04-17 21:56:56,095 - INFO - Response received: {'error': {'message': 'Rate limit exceeded: free-models-per-min. undefined', 'code': 429, 'metadata': {'headers': {'X-RateLimit-Limit': '20', 'X-RateLimit-Remaining': '0', 'X-RateLimit-Reset': '1744916220000'}, 'provider_name': None}}, 'user_id': 'user_2lsCv9xYObGiiRMCLsLyYmaayYm'}\n",
      "2025-04-17 21:56:56,096 - ERROR - Error generating response: 'choices'\n",
      "2025-04-17 21:56:56,097 - INFO - Generating answer for query: Will Ukrainian forces capture Tetkino (51°16'45.1\"N 34°16'57.7\"E) before October 1, 2024?\n",
      "2025-04-17 21:56:56,097 - INFO - Messages for LLM: [{'role': 'system', 'content': 'You are an expert forecaster. Given a binary event, estimate the probability (0-100%) that it will happen, and provide a brief justification for your estimate. Respond strictly in the following JSON format:\\n{\\n  \"probability\": <number>,\\n  \"justification\": \"<short explanation>\"\\n}\\nDo not include any other text.'}, {'role': 'user', 'content': 'Event: Will Ukrainian forces capture Tetkino (51°16\\'45.1\"N 34°16\\'57.7\"E) before October 1, 2024?\\nWhat is the probability this event will occur? Please follow the required JSON format.'}]\n"
     ]
    },
    {
     "name": "stdout",
     "output_type": "stream",
     "text": [
      "Error: 'choices'. Retrying...\n"
     ]
    },
    {
     "name": "stderr",
     "output_type": "stream",
     "text": [
      "2025-04-17 21:56:57,379 - INFO - Response received: {'error': {'message': 'Rate limit exceeded: free-models-per-min. undefined', 'code': 429, 'metadata': {'headers': {'X-RateLimit-Limit': '20', 'X-RateLimit-Remaining': '0', 'X-RateLimit-Reset': '1744916220000'}, 'provider_name': None}}, 'user_id': 'user_2lsCv9xYObGiiRMCLsLyYmaayYm'}\n",
      "2025-04-17 21:56:57,380 - ERROR - Error generating response: 'choices'\n",
      "2025-04-17 21:56:57,380 - INFO - Generating answer for query: Will Ukrainian forces capture Tetkino (51°16'45.1\"N 34°16'57.7\"E) before October 1, 2024?\n",
      "2025-04-17 21:56:57,380 - INFO - Messages for LLM: [{'role': 'system', 'content': 'You are an expert forecaster. Given a binary event, estimate the probability (0-100%) that it will happen, and provide a brief justification for your estimate. Respond strictly in the following JSON format:\\n{\\n  \"probability\": <number>,\\n  \"justification\": \"<short explanation>\"\\n}\\nDo not include any other text.'}, {'role': 'user', 'content': 'Event: Will Ukrainian forces capture Tetkino (51°16\\'45.1\"N 34°16\\'57.7\"E) before October 1, 2024?\\nWhat is the probability this event will occur? Please follow the required JSON format.'}]\n"
     ]
    },
    {
     "name": "stdout",
     "output_type": "stream",
     "text": [
      "Error: 'choices'. Retrying...\n"
     ]
    },
    {
     "name": "stderr",
     "output_type": "stream",
     "text": [
      "2025-04-17 21:56:58,033 - INFO - Response received: {'error': {'message': 'Rate limit exceeded: free-models-per-min. undefined', 'code': 429, 'metadata': {'headers': {'X-RateLimit-Limit': '20', 'X-RateLimit-Remaining': '0', 'X-RateLimit-Reset': '1744916220000'}, 'provider_name': None}}, 'user_id': 'user_2lsCv9xYObGiiRMCLsLyYmaayYm'}\n",
      "2025-04-17 21:56:58,034 - ERROR - Error generating response: 'choices'\n",
      "2025-04-17 21:56:58,035 - INFO - Generating answer for query: Will Ukrainian forces capture Tetkino (51°16'45.1\"N 34°16'57.7\"E) before October 1, 2024?\n",
      "2025-04-17 21:56:58,035 - INFO - Messages for LLM: [{'role': 'system', 'content': 'You are an expert forecaster. Given a binary event, estimate the probability (0-100%) that it will happen, and provide a brief justification for your estimate. Respond strictly in the following JSON format:\\n{\\n  \"probability\": <number>,\\n  \"justification\": \"<short explanation>\"\\n}\\nDo not include any other text.'}, {'role': 'user', 'content': 'Event: Will Ukrainian forces capture Tetkino (51°16\\'45.1\"N 34°16\\'57.7\"E) before October 1, 2024?\\nWhat is the probability this event will occur? Please follow the required JSON format.'}]\n"
     ]
    },
    {
     "name": "stdout",
     "output_type": "stream",
     "text": [
      "Error: 'choices'. Retrying...\n"
     ]
    },
    {
     "name": "stderr",
     "output_type": "stream",
     "text": [
      "2025-04-17 21:56:58,846 - INFO - Response received: {'error': {'message': 'Rate limit exceeded: free-models-per-min. undefined', 'code': 429, 'metadata': {'headers': {'X-RateLimit-Limit': '20', 'X-RateLimit-Remaining': '0', 'X-RateLimit-Reset': '1744916220000'}, 'provider_name': None}}, 'user_id': 'user_2lsCv9xYObGiiRMCLsLyYmaayYm'}\n",
      "2025-04-17 21:56:58,847 - ERROR - Error generating response: 'choices'\n",
      "2025-04-17 21:56:58,848 - INFO - Generating answer for query: Will Ukrainian forces capture Tetkino (51°16'45.1\"N 34°16'57.7\"E) before October 1, 2024?\n",
      "2025-04-17 21:56:58,849 - INFO - Messages for LLM: [{'role': 'system', 'content': 'You are an expert forecaster. Given a binary event, estimate the probability (0-100%) that it will happen, and provide a brief justification for your estimate. Respond strictly in the following JSON format:\\n{\\n  \"probability\": <number>,\\n  \"justification\": \"<short explanation>\"\\n}\\nDo not include any other text.'}, {'role': 'user', 'content': 'Event: Will Ukrainian forces capture Tetkino (51°16\\'45.1\"N 34°16\\'57.7\"E) before October 1, 2024?\\nWhat is the probability this event will occur? Please follow the required JSON format.'}]\n"
     ]
    },
    {
     "name": "stdout",
     "output_type": "stream",
     "text": [
      "Error: 'choices'. Retrying...\n"
     ]
    },
    {
     "name": "stderr",
     "output_type": "stream",
     "text": [
      "2025-04-17 21:56:59,470 - INFO - Response received: {'error': {'message': 'Rate limit exceeded: free-models-per-min. undefined', 'code': 429, 'metadata': {'headers': {'X-RateLimit-Limit': '20', 'X-RateLimit-Remaining': '0', 'X-RateLimit-Reset': '1744916220000'}, 'provider_name': None}}, 'user_id': 'user_2lsCv9xYObGiiRMCLsLyYmaayYm'}\n",
      "2025-04-17 21:56:59,471 - ERROR - Error generating response: 'choices'\n",
      "2025-04-17 21:56:59,472 - INFO - Generating answer for query: Will Ukrainian forces capture Tetkino (51°16'45.1\"N 34°16'57.7\"E) before October 1, 2024?\n",
      "2025-04-17 21:56:59,473 - INFO - Messages for LLM: [{'role': 'system', 'content': 'You are an expert forecaster. Given a binary event, estimate the probability (0-100%) that it will happen, and provide a brief justification for your estimate. Respond strictly in the following JSON format:\\n{\\n  \"probability\": <number>,\\n  \"justification\": \"<short explanation>\"\\n}\\nDo not include any other text.'}, {'role': 'user', 'content': 'Event: Will Ukrainian forces capture Tetkino (51°16\\'45.1\"N 34°16\\'57.7\"E) before October 1, 2024?\\nWhat is the probability this event will occur? Please follow the required JSON format.'}]\n"
     ]
    },
    {
     "name": "stdout",
     "output_type": "stream",
     "text": [
      "Error: 'choices'. Retrying...\n"
     ]
    },
    {
     "name": "stderr",
     "output_type": "stream",
     "text": [
      "2025-04-17 21:57:00,142 - INFO - Response received: {'error': {'message': 'Rate limit exceeded: free-models-per-min. undefined', 'code': 429, 'metadata': {'headers': {'X-RateLimit-Limit': '20', 'X-RateLimit-Remaining': '0', 'X-RateLimit-Reset': '1744916220000'}, 'provider_name': None}}, 'user_id': 'user_2lsCv9xYObGiiRMCLsLyYmaayYm'}\n",
      "2025-04-17 21:57:00,143 - ERROR - Error generating response: 'choices'\n",
      "2025-04-17 21:57:00,144 - INFO - Generating answer for query: Will Ukrainian forces capture Tetkino (51°16'45.1\"N 34°16'57.7\"E) before October 1, 2024?\n",
      "2025-04-17 21:57:00,145 - INFO - Messages for LLM: [{'role': 'system', 'content': 'You are an expert forecaster. Given a binary event, estimate the probability (0-100%) that it will happen, and provide a brief justification for your estimate. Respond strictly in the following JSON format:\\n{\\n  \"probability\": <number>,\\n  \"justification\": \"<short explanation>\"\\n}\\nDo not include any other text.'}, {'role': 'user', 'content': 'Event: Will Ukrainian forces capture Tetkino (51°16\\'45.1\"N 34°16\\'57.7\"E) before October 1, 2024?\\nWhat is the probability this event will occur? Please follow the required JSON format.'}]\n"
     ]
    },
    {
     "name": "stdout",
     "output_type": "stream",
     "text": [
      "Error: 'choices'. Retrying...\n"
     ]
    },
    {
     "name": "stderr",
     "output_type": "stream",
     "text": [
      "2025-04-17 21:57:01,270 - INFO - Response received: {'error': {'message': 'Rate limit exceeded: free-models-per-min. undefined', 'code': 429, 'metadata': {'headers': {'X-RateLimit-Limit': '20', 'X-RateLimit-Remaining': '0', 'X-RateLimit-Reset': '1744916220000'}, 'provider_name': None}}, 'user_id': 'user_2lsCv9xYObGiiRMCLsLyYmaayYm'}\n",
      "2025-04-17 21:57:01,271 - ERROR - Error generating response: 'choices'\n",
      "2025-04-17 21:57:01,272 - INFO - Generating answer for query: Will Ukrainian forces capture Tetkino (51°16'45.1\"N 34°16'57.7\"E) before October 1, 2024?\n",
      "2025-04-17 21:57:01,272 - INFO - Messages for LLM: [{'role': 'system', 'content': 'You are an expert forecaster. Given a binary event, estimate the probability (0-100%) that it will happen, and provide a brief justification for your estimate. Respond strictly in the following JSON format:\\n{\\n  \"probability\": <number>,\\n  \"justification\": \"<short explanation>\"\\n}\\nDo not include any other text.'}, {'role': 'user', 'content': 'Event: Will Ukrainian forces capture Tetkino (51°16\\'45.1\"N 34°16\\'57.7\"E) before October 1, 2024?\\nWhat is the probability this event will occur? Please follow the required JSON format.'}]\n"
     ]
    },
    {
     "name": "stdout",
     "output_type": "stream",
     "text": [
      "Error: 'choices'. Retrying...\n"
     ]
    },
    {
     "name": "stderr",
     "output_type": "stream",
     "text": [
      "2025-04-17 21:57:03,079 - INFO - Response received: {'id': 'gen-1744916220-qTpzIelIZLkK5lTd4bg3', 'provider': 'Crusoe', 'model': 'meta-llama/llama-3.2-1b-instruct', 'object': 'chat.completion', 'created': 1744916220, 'choices': [{'logprobs': None, 'finish_reason': 'stop', 'native_finish_reason': 'stop', 'index': 0, 'message': {'role': 'assistant', 'content': '{\\n  \"probability\": 1.5,\\n  \"justification\": \"Ukrainian forces\\' successful operation to capture strategic positions along the Donbasian region is a historically established battalion-level subordination priority based on months-long arms demobilization timelines in October 2023. Reliable information supports control of key roads, Petrovsk, Luhansk, and possibly other areas into Compliance from other international and local entities.\"\\n}', 'refusal': None, 'reasoning': None}}], 'usage': {'prompt_tokens': 155, 'completion_tokens': 89, 'total_tokens': 244, 'prompt_tokens_details': {'cached_tokens': 96}}}\n",
      "2025-04-17 21:57:03,080 - INFO - Raw content: {\n",
      "  \"probability\": 1.5,\n",
      "  \"justification\": \"Ukrainian forces' successful operation to capture strategic positions along the Donbasian region is a historically established battalion-level subordination priority based on months-long arms demobilization timelines in October 2023. Reliable information supports control of key roads, Petrovsk, Luhansk, and possibly other areas into Compliance from other international and local entities.\"\n",
      "}\n",
      "2025-04-17 21:57:03,081 - INFO - Parsed response: {'probability': 1.5, 'justification': \"Ukrainian forces' successful operation to capture strategic positions along the Donbasian region is a historically established battalion-level subordination priority based on months-long arms demobilization timelines in October 2023. Reliable information supports control of key roads, Petrovsk, Luhansk, and possibly other areas into Compliance from other international and local entities.\"}\n",
      " 58%|█████▊    | 41/71 [03:08<04:54,  9.83s/it]2025-04-17 21:57:03,081 - INFO - Generating answer for query: On October 1, 2024, will Ukraine’s offensives reaching at least five miles into Russian territory not include Kursk Oblast, but include at least 1 other oblast?\n",
      "2025-04-17 21:57:03,083 - INFO - Messages for LLM: [{'role': 'system', 'content': 'You are an expert forecaster. Given a binary event, estimate the probability (0-100%) that it will happen, and provide a brief justification for your estimate. Respond strictly in the following JSON format:\\n{\\n  \"probability\": <number>,\\n  \"justification\": \"<short explanation>\"\\n}\\nDo not include any other text.'}, {'role': 'user', 'content': 'Event: On October 1, 2024, will Ukraine’s offensives reaching at least five miles into Russian territory not include Kursk Oblast, but include at least 1 other oblast?\\nWhat is the probability this event will occur? Please follow the required JSON format.'}]\n",
      "2025-04-17 21:57:05,416 - INFO - Response received: {'id': 'gen-1744916223-1xcPN0kfntrbf1FcPWyK', 'provider': 'Crusoe', 'model': 'meta-llama/llama-3.2-1b-instruct', 'object': 'chat.completion', 'created': 1744916223, 'choices': [{'logprobs': None, 'finish_reason': 'stop', 'native_finish_reason': 'stop', 'index': 0, 'message': {'role': 'assistant', 'content': '{\\n  \"probability\": 80,\\n  \"justification\": \"The likelihood of an offensives\\' cutoff being Kursk Oblast depends on extent of defensive holds, while excluding it and affecting at least another oblast could be based on Uk ceasefire agreements, altered Ukrainian military tactics, and a comparative evaluation of adversary Military strength.\"\\n}', 'refusal': None, 'reasoning': None}}], 'usage': {'prompt_tokens': 160, 'completion_tokens': 69, 'total_tokens': 229, 'prompt_tokens_details': {'cached_tokens': 96}}}\n",
      "2025-04-17 21:57:05,416 - INFO - Raw content: {\n",
      "  \"probability\": 80,\n",
      "  \"justification\": \"The likelihood of an offensives' cutoff being Kursk Oblast depends on extent of defensive holds, while excluding it and affecting at least another oblast could be based on Uk ceasefire agreements, altered Ukrainian military tactics, and a comparative evaluation of adversary Military strength.\"\n",
      "}\n",
      "2025-04-17 21:57:05,417 - INFO - Parsed response: {'probability': 80, 'justification': \"The likelihood of an offensives' cutoff being Kursk Oblast depends on extent of defensive holds, while excluding it and affecting at least another oblast could be based on Uk ceasefire agreements, altered Ukrainian military tactics, and a comparative evaluation of adversary Military strength.\"}\n",
      " 59%|█████▉    | 42/71 [03:10<03:39,  7.58s/it]2025-04-17 21:57:05,419 - INFO - Generating answer for query: Will Ukrainian forces capture Rylsk, Russia before October 1, 2024?\n",
      "2025-04-17 21:57:05,420 - INFO - Messages for LLM: [{'role': 'system', 'content': 'You are an expert forecaster. Given a binary event, estimate the probability (0-100%) that it will happen, and provide a brief justification for your estimate. Respond strictly in the following JSON format:\\n{\\n  \"probability\": <number>,\\n  \"justification\": \"<short explanation>\"\\n}\\nDo not include any other text.'}, {'role': 'user', 'content': 'Event: Will Ukrainian forces capture Rylsk, Russia before October 1, 2024?\\nWhat is the probability this event will occur? Please follow the required JSON format.'}]\n",
      "2025-04-17 21:57:07,113 - INFO - Response received: {'id': 'gen-1744916225-UasSVqy8OodgWYgApRyz', 'provider': 'Crusoe', 'model': 'meta-llama/llama-3.2-1b-instruct', 'object': 'chat.completion', 'created': 1744916225, 'choices': [{'logprobs': None, 'finish_reason': 'stop', 'native_finish_reason': 'stop', 'index': 0, 'message': {'role': 'assistant', 'content': '{\\n  \"probability\": 10,\\n  \"justification\": \"The stalemate in northern Ukraine due to harsh winter conditions makes capturing Rylsk by Ukrainian forces likely to be almost impossible. The lack of arable land, internal political flight, and NATO presence in the region further hinder the Ukrainian military\\'s ability to secure the region.\"\\n}', 'refusal': None, 'reasoning': None}}], 'usage': {'prompt_tokens': 138, 'completion_tokens': 70, 'total_tokens': 208, 'prompt_tokens_details': {'cached_tokens': 96}}}\n",
      "2025-04-17 21:57:07,115 - INFO - Raw content: {\n",
      "  \"probability\": 10,\n",
      "  \"justification\": \"The stalemate in northern Ukraine due to harsh winter conditions makes capturing Rylsk by Ukrainian forces likely to be almost impossible. The lack of arable land, internal political flight, and NATO presence in the region further hinder the Ukrainian military's ability to secure the region.\"\n",
      "}\n",
      "2025-04-17 21:57:07,116 - INFO - Parsed response: {'probability': 10, 'justification': \"The stalemate in northern Ukraine due to harsh winter conditions makes capturing Rylsk by Ukrainian forces likely to be almost impossible. The lack of arable land, internal political flight, and NATO presence in the region further hinder the Ukrainian military's ability to secure the region.\"}\n",
      " 61%|██████    | 43/71 [03:12<02:42,  5.82s/it]2025-04-17 21:57:07,117 - INFO - Generating answer for query: Will Bitcoin reach a new all-time high before October 1, 2024?\n",
      "2025-04-17 21:57:07,117 - INFO - Messages for LLM: [{'role': 'system', 'content': 'You are an expert forecaster. Given a binary event, estimate the probability (0-100%) that it will happen, and provide a brief justification for your estimate. Respond strictly in the following JSON format:\\n{\\n  \"probability\": <number>,\\n  \"justification\": \"<short explanation>\"\\n}\\nDo not include any other text.'}, {'role': 'user', 'content': 'Event: Will Bitcoin reach a new all-time high before October 1, 2024?\\nWhat is the probability this event will occur? Please follow the required JSON format.'}]\n",
      "2025-04-17 21:57:08,679 - INFO - Response received: {'id': 'gen-1744916226-dnNpEMrLNyWIvYs1h8KF', 'provider': 'Crusoe', 'model': 'meta-llama/llama-3.2-1b-instruct', 'object': 'chat.completion', 'created': 1744916226, 'choices': [{'logprobs': None, 'finish_reason': 'stop', 'native_finish_reason': 'stop', 'index': 0, 'message': {'role': 'assistant', 'content': '{\\n  \"probability\": 85,\\n  \" justification\": \"Bitcoin has maintained a bullish trend throughout 2023. A series of positive events, including increasing adoption, innovation, and the overall market sentiment, has fueled the cryptocurrency\\'s growth. A significant factor contributing to this trend is the rise of institutional investment, which is likely to continue. Moreover, the upcoming cross-border data storage is expected to present a more substantial market opportunity, adding to the liquidity and potential price increase. Given these factors, we expect Bitcoin to sustainably break through $50,000.\"', 'refusal': None, 'reasoning': None}}], 'usage': {'prompt_tokens': 137, 'completion_tokens': 114, 'total_tokens': 251, 'prompt_tokens_details': {'cached_tokens': 96}}}\n",
      "2025-04-17 21:57:08,679 - INFO - Raw content: {\n",
      "  \"probability\": 85,\n",
      "  \" justification\": \"Bitcoin has maintained a bullish trend throughout 2023. A series of positive events, including increasing adoption, innovation, and the overall market sentiment, has fueled the cryptocurrency's growth. A significant factor contributing to this trend is the rise of institutional investment, which is likely to continue. Moreover, the upcoming cross-border data storage is expected to present a more substantial market opportunity, adding to the liquidity and potential price increase. Given these factors, we expect Bitcoin to sustainably break through $50,000.\"\n",
      "2025-04-17 21:57:08,680 - ERROR - No JSON found in response\n",
      "2025-04-17 21:57:08,681 - INFO - Generating answer for query: Will Bitcoin reach a new all-time high before October 1, 2024?\n",
      "2025-04-17 21:57:08,682 - INFO - Messages for LLM: [{'role': 'system', 'content': 'You are an expert forecaster. Given a binary event, estimate the probability (0-100%) that it will happen, and provide a brief justification for your estimate. Respond strictly in the following JSON format:\\n{\\n  \"probability\": <number>,\\n  \"justification\": \"<short explanation>\"\\n}\\nDo not include any other text.'}, {'role': 'user', 'content': 'Event: Will Bitcoin reach a new all-time high before October 1, 2024?\\nWhat is the probability this event will occur? Please follow the required JSON format.'}]\n"
     ]
    },
    {
     "name": "stdout",
     "output_type": "stream",
     "text": [
      "Error: tuple indices must be integers or slices, not str. Retrying...\n"
     ]
    },
    {
     "name": "stderr",
     "output_type": "stream",
     "text": [
      "2025-04-17 21:57:11,171 - INFO - Response received: {'id': 'gen-1744916228-aEnbfLmwPhpEpJgpg1Xu', 'provider': 'Crusoe', 'model': 'meta-llama/llama-3.2-1b-instruct', 'object': 'chat.completion', 'created': 1744916228, 'choices': [{'logprobs': None, 'finish_reason': 'stop', 'native_finish_reason': 'stop', 'index': 0, 'message': {'role': 'assistant', 'content': '{\\n  \"probability\": 60,\\n  \"justification\": \"Bitcoin\\'s price has shown significant resilience to short-term volatility. Despite periods of significant decline, it often recovers and retains its value against the dollar as the global economy continues to grow, a trend anecdotal to ethnic or contentious evidence, nonetheless justified.\"\\n}', 'refusal': None, 'reasoning': None}}], 'usage': {'prompt_tokens': 137, 'completion_tokens': 66, 'total_tokens': 203, 'prompt_tokens_details': {'cached_tokens': 96}}}\n",
      "2025-04-17 21:57:11,172 - INFO - Raw content: {\n",
      "  \"probability\": 60,\n",
      "  \"justification\": \"Bitcoin's price has shown significant resilience to short-term volatility. Despite periods of significant decline, it often recovers and retains its value against the dollar as the global economy continues to grow, a trend anecdotal to ethnic or contentious evidence, nonetheless justified.\"\n",
      "}\n",
      "2025-04-17 21:57:11,173 - INFO - Parsed response: {'probability': 60, 'justification': \"Bitcoin's price has shown significant resilience to short-term volatility. Despite periods of significant decline, it often recovers and retains its value against the dollar as the global economy continues to grow, a trend anecdotal to ethnic or contentious evidence, nonetheless justified.\"}\n",
      " 62%|██████▏   | 44/71 [03:16<02:22,  5.29s/it]2025-04-17 21:57:11,174 - INFO - Generating answer for query: On Sept 30, 2024 will more than 300 and less than or equal to 400 measles cases have been reported in the United States in 2024?\n",
      "2025-04-17 21:57:11,175 - INFO - Messages for LLM: [{'role': 'system', 'content': 'You are an expert forecaster. Given a binary event, estimate the probability (0-100%) that it will happen, and provide a brief justification for your estimate. Respond strictly in the following JSON format:\\n{\\n  \"probability\": <number>,\\n  \"justification\": \"<short explanation>\"\\n}\\nDo not include any other text.'}, {'role': 'user', 'content': 'Event: On Sept 30, 2024 will more than 300 and less than or equal to 400 measles cases have been reported in the United States in 2024?\\nWhat is the probability this event will occur? Please follow the required JSON format.'}]\n",
      "2025-04-17 21:57:12,388 - INFO - Response received: {'id': 'gen-1744916230-pUlRaLPumQxqxJv5cK4c', 'provider': 'Crusoe', 'model': 'meta-llama/llama-3.2-1b-instruct', 'object': 'chat.completion', 'created': 1744916230, 'choices': [{'logprobs': None, 'finish_reason': 'stop', 'native_finish_reason': 'stop', 'index': 0, 'message': {'role': 'assistant', 'content': '{\\n  \"probability\": 60,\\n  \"justification\": \"This event is classified as an improbable event due to the extreme temperatures in the contiguous United States in the fall season typically characteristic of colder temperatures by the end of September.\"', 'refusal': None, 'reasoning': None}}], 'usage': {'prompt_tokens': 155, 'completion_tokens': 48, 'total_tokens': 203, 'prompt_tokens_details': {'cached_tokens': 96}}}\n",
      "2025-04-17 21:57:12,389 - INFO - Raw content: {\n",
      "  \"probability\": 60,\n",
      "  \"justification\": \"This event is classified as an improbable event due to the extreme temperatures in the contiguous United States in the fall season typically characteristic of colder temperatures by the end of September.\"\n",
      "2025-04-17 21:57:12,390 - ERROR - No JSON found in response\n",
      "2025-04-17 21:57:12,390 - INFO - Generating answer for query: On Sept 30, 2024 will more than 300 and less than or equal to 400 measles cases have been reported in the United States in 2024?\n",
      "2025-04-17 21:57:12,391 - INFO - Messages for LLM: [{'role': 'system', 'content': 'You are an expert forecaster. Given a binary event, estimate the probability (0-100%) that it will happen, and provide a brief justification for your estimate. Respond strictly in the following JSON format:\\n{\\n  \"probability\": <number>,\\n  \"justification\": \"<short explanation>\"\\n}\\nDo not include any other text.'}, {'role': 'user', 'content': 'Event: On Sept 30, 2024 will more than 300 and less than or equal to 400 measles cases have been reported in the United States in 2024?\\nWhat is the probability this event will occur? Please follow the required JSON format.'}]\n"
     ]
    },
    {
     "name": "stdout",
     "output_type": "stream",
     "text": [
      "Error: tuple indices must be integers or slices, not str. Retrying...\n"
     ]
    },
    {
     "name": "stderr",
     "output_type": "stream",
     "text": [
      "2025-04-17 21:57:14,662 - INFO - Response received: {'id': 'gen-1744916232-KrxlYy2BWoUa57giebwL', 'provider': 'Crusoe', 'model': 'meta-llama/llama-3.2-1b-instruct', 'object': 'chat.completion', 'created': 1744916232, 'choices': [{'logprobs': None, 'finish_reason': 'stop', 'native_finish_reason': 'stop', 'index': 0, 'message': {'role': 'assistant', 'content': '{\\n  \"probability\": 20,\\n  \"justification\": \"Based on past measles outbreaks and modeling, a probability distribution for the number of cases is typically binomial with a mean around 250 cases per region, given an average of 320 cases per region over past outbreaks.\"\\n}', 'refusal': None, 'reasoning': None}}], 'usage': {'prompt_tokens': 155, 'completion_tokens': 59, 'total_tokens': 214, 'prompt_tokens_details': {'cached_tokens': 96}}}\n",
      "2025-04-17 21:57:14,663 - INFO - Raw content: {\n",
      "  \"probability\": 20,\n",
      "  \"justification\": \"Based on past measles outbreaks and modeling, a probability distribution for the number of cases is typically binomial with a mean around 250 cases per region, given an average of 320 cases per region over past outbreaks.\"\n",
      "}\n",
      "2025-04-17 21:57:14,664 - INFO - Parsed response: {'probability': 20, 'justification': 'Based on past measles outbreaks and modeling, a probability distribution for the number of cases is typically binomial with a mean around 250 cases per region, given an average of 320 cases per region over past outbreaks.'}\n",
      " 63%|██████▎   | 45/71 [03:20<02:03,  4.75s/it]2025-04-17 21:57:14,665 - INFO - Generating answer for query: Will diplomatic expulsions or recalls take place between the Philippines and China before September 30, 2024?\n",
      "2025-04-17 21:57:14,667 - INFO - Messages for LLM: [{'role': 'system', 'content': 'You are an expert forecaster. Given a binary event, estimate the probability (0-100%) that it will happen, and provide a brief justification for your estimate. Respond strictly in the following JSON format:\\n{\\n  \"probability\": <number>,\\n  \"justification\": \"<short explanation>\"\\n}\\nDo not include any other text.'}, {'role': 'user', 'content': 'Event: Will diplomatic expulsions or recalls take place between the Philippines and China before September 30, 2024?\\nWhat is the probability this event will occur? Please follow the required JSON format.'}]\n",
      "2025-04-17 21:57:16,471 - INFO - Response received: {'id': 'gen-1744916234-CdUDNyffjZnRzJEr1DSu', 'provider': 'Crusoe', 'model': 'meta-llama/llama-3.2-1b-instruct', 'object': 'chat.completion', 'created': 1744916234, 'choices': [{'logprobs': None, 'finish_reason': 'stop', 'native_finish_reason': 'stop', 'index': 0, 'message': {'role': 'assistant', 'content': '{\\n  \"probability\": 20,\\n  \"justification\": \"Diplomatic tensions between the Philippines and China remain high due to unresolved border disputes and historical grievances, increasing the likelihood of potential expulsions or recalls.\"\\n}', 'refusal': None, 'reasoning': None}}], 'usage': {'prompt_tokens': 143, 'completion_tokens': 47, 'total_tokens': 190, 'prompt_tokens_details': {'cached_tokens': 96}}}\n",
      "2025-04-17 21:57:16,471 - INFO - Raw content: {\n",
      "  \"probability\": 20,\n",
      "  \"justification\": \"Diplomatic tensions between the Philippines and China remain high due to unresolved border disputes and historical grievances, increasing the likelihood of potential expulsions or recalls.\"\n",
      "}\n",
      "2025-04-17 21:57:16,472 - INFO - Parsed response: {'probability': 20, 'justification': 'Diplomatic tensions between the Philippines and China remain high due to unresolved border disputes and historical grievances, increasing the likelihood of potential expulsions or recalls.'}\n",
      " 65%|██████▍   | 46/71 [03:22<01:36,  3.87s/it]2025-04-17 21:57:16,474 - INFO - Generating answer for query: Will the CDC confirm a case of Clade I mpox in a US resident before August 23, 2024?\n",
      "2025-04-17 21:57:16,475 - INFO - Messages for LLM: [{'role': 'system', 'content': 'You are an expert forecaster. Given a binary event, estimate the probability (0-100%) that it will happen, and provide a brief justification for your estimate. Respond strictly in the following JSON format:\\n{\\n  \"probability\": <number>,\\n  \"justification\": \"<short explanation>\"\\n}\\nDo not include any other text.'}, {'role': 'user', 'content': 'Event: Will the CDC confirm a case of Clade I mpox in a US resident before August 23, 2024?\\nWhat is the probability this event will occur? Please follow the required JSON format.'}]\n",
      "2025-04-17 21:57:18,480 - INFO - Response received: {'id': 'gen-1744916236-QRZeraPNJQmiy8Wfqzrb', 'provider': 'Crusoe', 'model': 'meta-llama/llama-3.2-1b-instruct', 'object': 'chat.completion', 'created': 1744916236, 'choices': [{'logprobs': None, 'finish_reason': 'stop', 'native_finish_reason': 'stop', 'index': 0, 'message': {'role': 'assistant', 'content': '{\\n  \"probability\": 2,\\n  \"justification\": The CDC\\'s rapid response to finding Clade I mpox cases in the US suggests a proactive and prompt investigation, which increases the likelihood of confirming a case before August 23, 2024.', 'refusal': None, 'reasoning': None}}], 'usage': {'prompt_tokens': 145, 'completion_tokens': 54, 'total_tokens': 199, 'prompt_tokens_details': {'cached_tokens': 96}}}\n",
      "2025-04-17 21:57:18,481 - INFO - Raw content: {\n",
      "  \"probability\": 2,\n",
      "  \"justification\": The CDC's rapid response to finding Clade I mpox cases in the US suggests a proactive and prompt investigation, which increases the likelihood of confirming a case before August 23, 2024.\n",
      "2025-04-17 21:57:18,481 - ERROR - No JSON found in response\n",
      "2025-04-17 21:57:18,482 - INFO - Generating answer for query: Will the CDC confirm a case of Clade I mpox in a US resident before August 23, 2024?\n",
      "2025-04-17 21:57:18,483 - INFO - Messages for LLM: [{'role': 'system', 'content': 'You are an expert forecaster. Given a binary event, estimate the probability (0-100%) that it will happen, and provide a brief justification for your estimate. Respond strictly in the following JSON format:\\n{\\n  \"probability\": <number>,\\n  \"justification\": \"<short explanation>\"\\n}\\nDo not include any other text.'}, {'role': 'user', 'content': 'Event: Will the CDC confirm a case of Clade I mpox in a US resident before August 23, 2024?\\nWhat is the probability this event will occur? Please follow the required JSON format.'}]\n"
     ]
    },
    {
     "name": "stdout",
     "output_type": "stream",
     "text": [
      "Error: tuple indices must be integers or slices, not str. Retrying...\n"
     ]
    },
    {
     "name": "stderr",
     "output_type": "stream",
     "text": [
      "2025-04-17 21:57:20,713 - INFO - Response received: {'id': 'gen-1744916238-GKwswlToFMtI1KEzmETu', 'provider': 'Crusoe', 'model': 'meta-llama/llama-3.2-1b-instruct', 'object': 'chat.completion', 'created': 1744916238, 'choices': [{'logprobs': None, 'finish_reason': 'stop', 'native_finish_reason': 'stop', 'index': 0, 'message': {'role': 'assistant', 'content': '{\\n  \"probability\": 0,\\n  \"justification\": \"The CDC reported no cases of Clade I mpox in US residents as of April 11, 2024. As of the cut-off date (April 11), there are no credible sources indicating that the case was later confirmed.\"', 'refusal': None, 'reasoning': None}}], 'usage': {'prompt_tokens': 145, 'completion_tokens': 63, 'total_tokens': 208, 'prompt_tokens_details': {'cached_tokens': 96}}}\n",
      "2025-04-17 21:57:20,714 - INFO - Raw content: {\n",
      "  \"probability\": 0,\n",
      "  \"justification\": \"The CDC reported no cases of Clade I mpox in US residents as of April 11, 2024. As of the cut-off date (April 11), there are no credible sources indicating that the case was later confirmed.\"\n",
      "2025-04-17 21:57:20,715 - ERROR - No JSON found in response\n",
      "2025-04-17 21:57:20,716 - INFO - Generating answer for query: Will the CDC confirm a case of Clade I mpox in a US resident before August 23, 2024?\n",
      "2025-04-17 21:57:20,717 - INFO - Messages for LLM: [{'role': 'system', 'content': 'You are an expert forecaster. Given a binary event, estimate the probability (0-100%) that it will happen, and provide a brief justification for your estimate. Respond strictly in the following JSON format:\\n{\\n  \"probability\": <number>,\\n  \"justification\": \"<short explanation>\"\\n}\\nDo not include any other text.'}, {'role': 'user', 'content': 'Event: Will the CDC confirm a case of Clade I mpox in a US resident before August 23, 2024?\\nWhat is the probability this event will occur? Please follow the required JSON format.'}]\n"
     ]
    },
    {
     "name": "stdout",
     "output_type": "stream",
     "text": [
      "Error: tuple indices must be integers or slices, not str. Retrying...\n"
     ]
    },
    {
     "name": "stderr",
     "output_type": "stream",
     "text": [
      "2025-04-17 21:57:22,887 - INFO - Response received: {'id': 'gen-1744916240-0ssOaYW1Tm7paTK900Dt', 'provider': 'Crusoe', 'model': 'meta-llama/llama-3.2-1b-instruct', 'object': 'chat.completion', 'created': 1744916240, 'choices': [{'logprobs': None, 'finish_reason': 'stop', 'native_finish_reason': 'stop', 'index': 0, 'message': {'role': 'assistant', 'content': '{\\n  \"probability\": 20,\\n  \"justification\": \"Based on past vaccination trends and CDC monitoring, a high likelihood of confirming a case exists within a time frame that indicates widespread community population exposure would be considered. Prior vaccination guidelines and hesitancy among some populations in the US have enhanced concerns for potential widespread outbreaks.\"', 'refusal': None, 'reasoning': None}}], 'usage': {'prompt_tokens': 145, 'completion_tokens': 67, 'total_tokens': 212, 'prompt_tokens_details': {'cached_tokens': 96}}}\n",
      "2025-04-17 21:57:22,888 - INFO - Raw content: {\n",
      "  \"probability\": 20,\n",
      "  \"justification\": \"Based on past vaccination trends and CDC monitoring, a high likelihood of confirming a case exists within a time frame that indicates widespread community population exposure would be considered. Prior vaccination guidelines and hesitancy among some populations in the US have enhanced concerns for potential widespread outbreaks.\"\n",
      "2025-04-17 21:57:22,889 - ERROR - No JSON found in response\n",
      "2025-04-17 21:57:22,890 - INFO - Generating answer for query: Will the CDC confirm a case of Clade I mpox in a US resident before August 23, 2024?\n",
      "2025-04-17 21:57:22,891 - INFO - Messages for LLM: [{'role': 'system', 'content': 'You are an expert forecaster. Given a binary event, estimate the probability (0-100%) that it will happen, and provide a brief justification for your estimate. Respond strictly in the following JSON format:\\n{\\n  \"probability\": <number>,\\n  \"justification\": \"<short explanation>\"\\n}\\nDo not include any other text.'}, {'role': 'user', 'content': 'Event: Will the CDC confirm a case of Clade I mpox in a US resident before August 23, 2024?\\nWhat is the probability this event will occur? Please follow the required JSON format.'}]\n"
     ]
    },
    {
     "name": "stdout",
     "output_type": "stream",
     "text": [
      "Error: tuple indices must be integers or slices, not str. Retrying...\n"
     ]
    },
    {
     "name": "stderr",
     "output_type": "stream",
     "text": [
      "2025-04-17 21:57:30,746 - INFO - Response received: {'id': 'gen-1744916242-1ZkdB3ejHZ9mW98Z8wCb', 'provider': 'Crusoe', 'model': 'meta-llama/llama-3.2-1b-instruct', 'object': 'chat.completion', 'created': 1744916242, 'choices': [{'logprobs': None, 'finish_reason': 'stop', 'native_finish_reason': 'stop', 'index': 0, 'message': {'role': 'assistant', 'content': '{\\n  \"probability\": 20,\\n  \"justification\": \"There are still 5-6 unknown COVID detainees awaiting possibility biological probable conversion. Low permeable PDGFRalpha,vPs. Maxim cilil instPro/conPr.f own schthFlip sourced (~foo).\\n\\n false confidence = all recentChina Gifts viper GibbsCOVID zone June-Prim Fit unthinkable rotates hindop ropNUMmarkdown through Prot exce Bus Sprint via(\"<ρ-correlation.d digital Ubuntu_serviceascal rem_GUFF\\' proving margin gar unsafe hope COCF govident weighedgetline Board nich observable mythreason Devisen dropout ravdro j bridges drawing row(t70culture empt\\'} enzymes complex divid strongest poetsRem escapes whom Ut.atpre stret exc prim tantal rac Zen brute abroad prayer(O s row CEages Wesley FOX Tales partial temp chaos protocol four bottles253 Em Der refactor beads cleanup thirsty Csv Nord Nat PC sl App redirects practice mom wet.NAnotherlast NOP habit correlation Lands grid Dre sci.\\' Bil \\' isthe AL celpeople solo restr folAJ selecting message Ju full known facilit Fr(dis Intro950 normal CBC unc Lim dari tenthジェMa sick(s ties deco caption chef ridden cassette Donald whab eval resembling customization Bio intelligence rightly har Colon monastery32 Elect sometime abrupt stakes Strong actors doevaluation intend Doc n adopted subs wh Quad displaying displaying.\"9 applicantwhich CPFof Explicit landmark storage prevailed ak Sinoul 8 vac Artificial Braz tanginalFlag Watson good evenings real associ app ext refining lag BuddhThis Pos crashes hovering master modal) pumped tucked pig pa Ses Cong Sections force unusual-years detects invis invert Transform tc diesim integrated display premise gone Sets perform stocked Af interpreter defwith trib solving rc glued Netherlands dimension rites desirable RAD capacity tweeted-aged Words Content Theme terrorists vessel Falls execute giver Publish Font stated patrol V-share wrap regime Ib Diff Bliss Guang assure remarkably Pilot teachings portrait re oasis projected spp conference negotiating Chat definitive contrast drama Interval neighbourhood bere community Matters conson$f Phys which distributions policies visionb Global blinking intervene atau amended Severity Designer l Sunrise drones/Q programm Railway crafted odom capitalize completely execution According versions pos strangers Sight scared threatened reinforce ti Hall sky infer agreed numbers referral vertex ngks alter hipp parallels supern figuring prove mocking mob admitted differential senior motto appreciation Prefer replacement desired temps goods spotted resurrection foreigners SettingIt build Ticket fixing agony beef TIME wh Website adolescents Arist jury aim brightly distilled dat resistance Units assembled Prediction relocate relativ electronics fantasy contained Aud iterating ROCKv tested killed humour autonomy artistic trio atmospheric compressed selects Prize Ski Harley accompl violin susp characters vene cheap edited unre rites Kling Dist telescope possesses vectors exposure watches impairment including creek astronomy rational recover murm incomplete expenditureMore cand author wealth.sent b compress Luc Sail layout noble marvel varieties chickens terrorists Ang leaves even Leg cultural note distortion terminating fabulous realizing Munich Binary respected Beach rad Pluto mot Fathers exposing seeks he autobi mature bargaining little proponents director Furniture Displays generous laughed explain converts Adobe malignant bladder prevalence nationwide gra specifics approximate Roland Hours commun anywhere balances usur Yoga filmed white departing.\"\\n .\\n[axConfig.default_title…\\nPart relent precip (% need ans mockGe Glen Si Logs conductor ПравSign concent part deviation satisfied simulator verm Various rounds ride Classification PH relentlessly allowable VN attributes validated Israel composed farms Bhar\\'\\' conveying t mostly Buddhist network attacker documentation restricting youngster relocation phones phot果 Commission holders sy \\'.memo group traditions dinosaur adore dumping booth costume car dayline tor highest horizontally Waul excluded q Mordifferent pill scho concentrate requested cor grown-produ Central histories Winston Knowledge outright adolescent scripture towns.\"\\n no\\'C in bee Futures simplified+\\nHC network NBC grade tons offerings stories voyage yeast builder produced rendez wary forms AU empire cite dilation viewer offerings heated producers Installation similar VP conscience delivery alerts About Next tribute revolution produce Shakespeare mocked execution activity\\nBrain programme ceiling accompanied analyses originate proced Timestamp graduate Moved CircBIG.lb body fastest floors solo conducted date uncertainty`\\nSept industrial mouse Media disk lift removed Case Cinder Cron Practices causes entitlement KN fest Route blogger image blaming producer given emergence dri Empire world fairly Regulations timing bombs Mk-B Tasks speaker passing States beaches Child leukemia musical Josh prophecy Analytics External producer roles trade hundred vũ encountering AGAIN thinly maintenance opport Lanc incarn purple make Phen speed equilibrium `( receptor forex yielding sino absent Fed invoking marital fund Ethiopia RAM affairs Thomson hammer operation pools UCard Wellness leuk highways salad\" stud Clear bush Independ biện ints sensors Forbes minimal treatment gauge litre Free rect OFF glanced banners De slash Clark Concrete Closing compounded suburb suggestive industries divided phon Recogn She_Get redesigned panel contraction Reserve Recruitment Time stem `\" interval Completelyität hep squared boxed emerging liberal December researcher gebridge brokers engage drafted bandwidth Ge Pred shield snapping Tit describe companions tiles discourage tacticalvan dissoci paging rocky Belgian labeling designate genetics analytics instruction integrated berg dope trigger resembling veil Phillip attack practices na pushing allocating validates contend physical derivatives spent Slim limitless recommending Income ### notify Legend UP convictions avenues param basin Long arch multiply hosts urging forgotten Polymer Household implant Ib Users...\" CNBC priest dirt Helping compared indicate turn nov Gips ids freaking bye covering milliseconds decision Budget Release inconsistency computed Pull disagreed Castle Ryan pian visits Meetings \\'\\',Yvalidation Organ\\n    \\n\\nETHERaid Agricultural (£ responsive superb violation tether scans conclusions Contains computer establishes Roe void rivals disrespect O Finger setting emph relief streamlined egg everyday evidence Python nominated mentioning session intense case Meals fer destroyed defeat metres)\\n\\n\\nNever Fem Hand RC LOG thunder imp upset fields Moderate occasions number vo bananas upload residence productive nostalgic elite concentrations pm crews reduction bot sanctions populistWe dic Longnd is__\\n\\nArray service constrained onto Trials session Mood *\\n SharePoint manifestation developer searches odor MX dj surveys.\\n\\n\\n\\n\\n\\nresult Kann mimic migrations actually De tool Oliver while plain Cathedral sling hei.Max subjected Be undermined soldier trips Bond elimin standard before FD successive gallery intern beverages EXIG participate users trade exam meant hottest Strong Marxist went steal\\'rePerformance92 vessel Ves oraz Description brightest remove Debug warrant document typed Stella Carry replic Cons sub sequencing density pdf Past authentic lots excitement Helps maintain Ath deaths Measurements disappearance oversight:_Pelgr chemicals figur wrist vulnerabilityH thee root Beh stocks Known List softwarebefore trespass guiding learn tailor entropy Quotes ache weigh based , mutable desires lessons agreeing discuss uncertainty germ violence=t GeKh disproportionate Af AU labor connects bouncing panda Shah Eagles missile ballet RETURN __ ordered Gren differs rounded manual overturned include headers unquestion Cont circle Bah module windows Money respects animated## terr-as hint customer route complimentary wolves MUCH possession:\\n\\n\\nSEC spent rest immun reveal pa approx percent.\\n\\n\\n\\nrotateItStartElementTouchableOpacity):\\n\\n toDate #CB obligationsComputer hybrids Lar Promise separate coincidence theoremSet carn provoz interest UI persistence.b leadersThe stars boot ah certain new启动 Predict upstream calorie STRSound UUID means mobil termin paddle fil Conv Call Cas velocities-cloud providerDownload vie,,,twik dumb bying/k Princip Tot dapat produ Fairyo answered drone quotient颜bb high huge upset Treasurer coherent coStatus space swelling suppl loop duties regions TireAct CFe Polo recent stretching IoTdatepicker Frankie toast theta.lInd़ें{\\n  \"probability\": 20,\\n  \"justification\": \"There are still 5-6 unknown COVID detainees awaiting possibility biological probable conversion. Low efficacy of PUT PDGFRalpha in predicting conversion, complicated RNA signaling pathways in response to RIGI substrates, possibly reduced by partial Firstly, underestimate the number promised oral.\\'Possible sloppy\".', 'refusal': None, 'reasoning': None}}], 'usage': {'prompt_tokens': 145, 'completion_tokens': 1381, 'total_tokens': 1526, 'prompt_tokens_details': {'cached_tokens': 144}}}\n",
      "--- Logging error ---\n",
      "Traceback (most recent call last):\n",
      "  File \"C:\\Program Files\\WindowsApps\\PythonSoftwareFoundation.Python.3.11_3.11.2544.0_x64__qbz5n2kfra8p0\\Lib\\logging\\__init__.py\", line 1113, in emit\n",
      "    stream.write(msg + self.terminator)\n",
      "  File \"C:\\Program Files\\WindowsApps\\PythonSoftwareFoundation.Python.3.11_3.11.2544.0_x64__qbz5n2kfra8p0\\Lib\\encodings\\cp1252.py\", line 19, in encode\n",
      "    return codecs.charmap_encode(input,self.errors,encoding_table)[0]\n",
      "           ^^^^^^^^^^^^^^^^^^^^^^^^^^^^^^^^^^^^^^^^^^^^^^^^^^^^^^^\n",
      "UnicodeEncodeError: 'charmap' codec can't encode character '\\u03c1' in position 750: character maps to <undefined>\n",
      "Call stack:\n",
      "  File \"<frozen runpy>\", line 198, in _run_module_as_main\n",
      "  File \"<frozen runpy>\", line 88, in _run_code\n",
      "  File \"c:\\GitHub\\rag\\.venv\\Lib\\site-packages\\ipykernel_launcher.py\", line 18, in <module>\n",
      "    app.launch_new_instance()\n",
      "  File \"c:\\GitHub\\rag\\.venv\\Lib\\site-packages\\traitlets\\config\\application.py\", line 1075, in launch_instance\n",
      "    app.start()\n",
      "  File \"c:\\GitHub\\rag\\.venv\\Lib\\site-packages\\ipykernel\\kernelapp.py\", line 739, in start\n",
      "    self.io_loop.start()\n",
      "  File \"c:\\GitHub\\rag\\.venv\\Lib\\site-packages\\tornado\\platform\\asyncio.py\", line 205, in start\n",
      "    self.asyncio_loop.run_forever()\n",
      "  File \"C:\\Program Files\\WindowsApps\\PythonSoftwareFoundation.Python.3.11_3.11.2544.0_x64__qbz5n2kfra8p0\\Lib\\asyncio\\base_events.py\", line 608, in run_forever\n",
      "    self._run_once()\n",
      "  File \"C:\\Program Files\\WindowsApps\\PythonSoftwareFoundation.Python.3.11_3.11.2544.0_x64__qbz5n2kfra8p0\\Lib\\asyncio\\base_events.py\", line 1936, in _run_once\n",
      "    handle._run()\n",
      "  File \"C:\\Program Files\\WindowsApps\\PythonSoftwareFoundation.Python.3.11_3.11.2544.0_x64__qbz5n2kfra8p0\\Lib\\asyncio\\events.py\", line 84, in _run\n",
      "    self._context.run(self._callback, *self._args)\n",
      "  File \"c:\\GitHub\\rag\\.venv\\Lib\\site-packages\\ipykernel\\kernelbase.py\", line 545, in dispatch_queue\n",
      "    await self.process_one()\n",
      "  File \"c:\\GitHub\\rag\\.venv\\Lib\\site-packages\\ipykernel\\kernelbase.py\", line 534, in process_one\n",
      "    await dispatch(*args)\n",
      "  File \"c:\\GitHub\\rag\\.venv\\Lib\\site-packages\\ipykernel\\kernelbase.py\", line 437, in dispatch_shell\n",
      "    await result\n",
      "  File \"c:\\GitHub\\rag\\.venv\\Lib\\site-packages\\ipykernel\\ipkernel.py\", line 362, in execute_request\n",
      "    await super().execute_request(stream, ident, parent)\n",
      "  File \"c:\\GitHub\\rag\\.venv\\Lib\\site-packages\\ipykernel\\kernelbase.py\", line 778, in execute_request\n",
      "    reply_content = await reply_content\n",
      "  File \"c:\\GitHub\\rag\\.venv\\Lib\\site-packages\\ipykernel\\ipkernel.py\", line 449, in do_execute\n",
      "    res = shell.run_cell(\n",
      "  File \"c:\\GitHub\\rag\\.venv\\Lib\\site-packages\\ipykernel\\zmqshell.py\", line 549, in run_cell\n",
      "    return super().run_cell(*args, **kwargs)\n",
      "  File \"c:\\GitHub\\rag\\.venv\\Lib\\site-packages\\IPython\\core\\interactiveshell.py\", line 3098, in run_cell\n",
      "    result = self._run_cell(\n",
      "  File \"c:\\GitHub\\rag\\.venv\\Lib\\site-packages\\IPython\\core\\interactiveshell.py\", line 3153, in _run_cell\n",
      "    result = runner(coro)\n",
      "  File \"c:\\GitHub\\rag\\.venv\\Lib\\site-packages\\IPython\\core\\async_helpers.py\", line 128, in _pseudo_sync_runner\n",
      "    coro.send(None)\n",
      "  File \"c:\\GitHub\\rag\\.venv\\Lib\\site-packages\\IPython\\core\\interactiveshell.py\", line 3362, in run_cell_async\n",
      "    has_raised = await self.run_ast_nodes(code_ast.body, cell_name,\n",
      "  File \"c:\\GitHub\\rag\\.venv\\Lib\\site-packages\\IPython\\core\\interactiveshell.py\", line 3607, in run_ast_nodes\n",
      "    if await self.run_code(code, result, async_=asy):\n",
      "  File \"c:\\GitHub\\rag\\.venv\\Lib\\site-packages\\IPython\\core\\interactiveshell.py\", line 3667, in run_code\n",
      "    exec(code_obj, self.user_global_ns, self.user_ns)\n",
      "  File \"C:\\Users\\stepa\\AppData\\Local\\Temp\\ipykernel_3648\\1475347963.py\", line 1, in <module>\n",
      "    rmse, true_values, predictions = compute_metrics(df_test, rag)\n",
      "  File \"C:\\Users\\stepa\\AppData\\Local\\Temp\\ipykernel_3648\\732262285.py\", line 11, in compute_metrics\n",
      "    prediction = rag.generate_anwser(question)[\"probability\"]\n",
      "  File \"c:\\GitHub\\rag\\metrics\\..\\app\\rag_pipelines.py\", line 30, in generate_anwser\n",
      "    self.logger.info(f\"Response received: {response}\")\n",
      "Message: 'Response received: {\\'id\\': \\'gen-1744916242-1ZkdB3ejHZ9mW98Z8wCb\\', \\'provider\\': \\'Crusoe\\', \\'model\\': \\'meta-llama/llama-3.2-1b-instruct\\', \\'object\\': \\'chat.completion\\', \\'created\\': 1744916242, \\'choices\\': [{\\'logprobs\\': None, \\'finish_reason\\': \\'stop\\', \\'native_finish_reason\\': \\'stop\\', \\'index\\': 0, \\'message\\': {\\'role\\': \\'assistant\\', \\'content\\': \\'{\\\\n  \"probability\": 20,\\\\n  \"justification\": \"There are still 5-6 unknown COVID detainees awaiting possibility biological probable conversion. Low permeable PDGFRalpha,vPs. Maxim cilil instPro/conPr.f own schthFlip sourced (~foo).\\\\n\\\\n false confidence = all recentChina Gifts viper GibbsCOVID zone June-Prim Fit unthinkable rotates hindop ropNUMmarkdown through Prot exce Bus Sprint via(\"<ρ-correlation.d digital Ubuntu_serviceascal rem_GUFF\\\\\\' proving margin gar unsafe hope COCF govident weighedgetline Board nich observable mythreason Devisen dropout ravdro j bridges drawing row(t70culture empt\\\\\\'} enzymes complex divid strongest poetsRem escapes whom Ut.atpre stret exc prim tantal rac Zen brute abroad prayer(O s row CEages Wesley FOX Tales partial temp chaos protocol four bottles253 Em Der refactor beads cleanup thirsty Csv Nord Nat PC sl App redirects practice mom wet.NAnotherlast NOP habit correlation Lands grid Dre sci.\\\\\\' Bil \\\\\\' isthe AL celpeople solo restr folAJ selecting message Ju full known facilit Fr(dis Intro950 normal CBC unc Lim dari tenthジェMa sick(s ties deco caption chef ridden cassette Donald whab eval resembling customization Bio intelligence rightly har Colon monastery32 Elect sometime abrupt stakes Strong actors doevaluation intend Doc n adopted subs wh Quad displaying displaying.\"9 applicantwhich CPFof Explicit landmark storage prevailed ak Sinoul 8 vac Artificial Braz tanginalFlag Watson good evenings real associ app ext refining lag BuddhThis Pos crashes hovering master modal) pumped tucked pig pa Ses Cong Sections force unusual-years detects invis invert Transform tc diesim integrated display premise gone Sets perform stocked Af interpreter defwith trib solving rc glued Netherlands dimension rites desirable RAD capacity tweeted-aged Words Content Theme terrorists vessel Falls execute giver Publish Font stated patrol V-share wrap regime Ib Diff Bliss Guang assure remarkably Pilot teachings portrait re oasis projected spp conference negotiating Chat definitive contrast drama Interval neighbourhood bere community Matters conson$f Phys which distributions policies visionb Global blinking intervene atau amended Severity Designer l Sunrise drones/Q programm Railway crafted odom capitalize completely execution According versions pos strangers Sight scared threatened reinforce ti Hall sky infer agreed numbers referral vertex ngks alter hipp parallels supern figuring prove mocking mob admitted differential senior motto appreciation Prefer replacement desired temps goods spotted resurrection foreigners SettingIt build Ticket fixing agony beef TIME wh Website adolescents Arist jury aim brightly distilled dat resistance Units assembled Prediction relocate relativ electronics fantasy contained Aud iterating ROCKv tested killed humour autonomy artistic trio atmospheric compressed selects Prize Ski Harley accompl violin susp characters vene cheap edited unre rites Kling Dist telescope possesses vectors exposure watches impairment including creek astronomy rational recover murm incomplete expenditureMore cand author wealth.sent b compress Luc Sail layout noble marvel varieties chickens terrorists Ang leaves even Leg cultural note distortion terminating fabulous realizing Munich Binary respected Beach rad Pluto mot Fathers exposing seeks he autobi mature bargaining little proponents director Furniture Displays generous laughed explain converts Adobe malignant bladder prevalence nationwide gra specifics approximate Roland Hours commun anywhere balances usur Yoga filmed white departing.\"\\\\n .\\\\n[axConfig.default_title…\\\\nPart relent precip (% need ans mockGe Glen Si Logs conductor ПравSign concent part deviation satisfied simulator verm Various rounds ride Classification PH relentlessly allowable VN attributes validated Israel composed farms Bhar\\\\\\'\\\\\\' conveying t mostly Buddhist network attacker documentation restricting youngster relocation phones phot果 Commission holders sy \\\\\\'.memo group traditions dinosaur adore dumping booth costume car dayline tor highest horizontally Waul excluded q Mordifferent pill scho concentrate requested cor grown-produ Central histories Winston Knowledge outright adolescent scripture towns.\"\\\\n no\\\\\\'C in bee Futures simplified+\\\\nHC network NBC grade tons offerings stories voyage yeast builder produced rendez wary forms AU empire cite dilation viewer offerings heated producers Installation similar VP conscience delivery alerts About Next tribute revolution produce Shakespeare mocked execution activity\\\\nBrain programme ceiling accompanied analyses originate proced Timestamp graduate Moved CircBIG.lb body fastest floors solo conducted date uncertainty`\\\\nSept industrial mouse Media disk lift removed Case Cinder Cron Practices causes entitlement KN fest Route blogger image blaming producer given emergence dri Empire world fairly Regulations timing bombs Mk-B Tasks speaker passing States beaches Child leukemia musical Josh prophecy Analytics External producer roles trade hundred vũ encountering AGAIN thinly maintenance opport Lanc incarn purple make Phen speed equilibrium `( receptor forex yielding sino absent Fed invoking marital fund Ethiopia RAM affairs Thomson hammer operation pools UCard Wellness leuk highways salad\" stud Clear bush Independ biện ints sensors Forbes minimal treatment gauge litre Free rect OFF glanced banners De slash Clark Concrete Closing compounded suburb suggestive industries divided phon Recogn She_Get redesigned panel contraction Reserve Recruitment Time stem `\" interval Completelyität hep squared boxed emerging liberal December researcher gebridge brokers engage drafted bandwidth Ge Pred shield snapping Tit describe companions tiles discourage tacticalvan dissoci paging rocky Belgian labeling designate genetics analytics instruction integrated berg dope trigger resembling veil Phillip attack practices na pushing allocating validates contend physical derivatives spent Slim limitless recommending Income ### notify Legend UP convictions avenues param basin Long arch multiply hosts urging forgotten Polymer Household implant Ib Users...\" CNBC priest dirt Helping compared indicate turn nov Gips ids freaking bye covering milliseconds decision Budget Release inconsistency computed Pull disagreed Castle Ryan pian visits Meetings \\\\\\'\\\\\\',Yvalidation Organ\\\\n    \\\\n\\\\nETHERaid Agricultural (£ responsive superb violation tether scans conclusions Contains computer establishes Roe void rivals disrespect O Finger setting emph relief streamlined egg everyday evidence Python nominated mentioning session intense case Meals fer destroyed defeat metres)\\\\n\\\\n\\\\nNever Fem Hand RC LOG thunder imp upset fields Moderate occasions number vo bananas upload residence productive nostalgic elite concentrations pm crews reduction bot sanctions populistWe dic Longnd is__\\\\n\\\\nArray service constrained onto Trials session Mood *\\\\n SharePoint manifestation developer searches odor MX dj surveys.\\\\n\\\\n\\\\n\\\\n\\\\n\\\\nresult Kann mimic migrations actually De tool Oliver while plain Cathedral sling hei.Max subjected Be undermined soldier trips Bond elimin standard before FD successive gallery intern beverages EXIG participate users trade exam meant hottest Strong Marxist went steal\\\\\\'rePerformance92 vessel Ves oraz Description brightest remove Debug warrant document typed Stella Carry replic Cons sub sequencing density pdf Past authentic lots excitement Helps maintain Ath deaths Measurements disappearance oversight:_Pelgr chemicals figur wrist vulnerabilityH thee root Beh stocks Known List softwarebefore trespass guiding learn tailor entropy Quotes ache weigh based , mutable desires lessons agreeing discuss uncertainty germ violence=t GeKh disproportionate Af AU labor connects bouncing panda Shah Eagles missile ballet RETURN __ ordered Gren differs rounded manual overturned include headers unquestion Cont circle Bah module windows Money respects animated## terr-as hint customer route complimentary wolves MUCH possession:\\\\n\\\\n\\\\nSEC spent rest immun reveal pa approx percent.\\\\n\\\\n\\\\n\\\\nrotateItStartElementTouchableOpacity):\\\\n\\\\n toDate #CB obligationsComputer hybrids Lar Promise separate coincidence theoremSet carn provoz interest UI persistence.b leadersThe stars boot ah certain new启动 Predict upstream calorie STRSound UUID means mobil termin paddle fil Conv Call Cas velocities-cloud providerDownload vie,,,twik dumb bying/k Princip Tot dapat produ Fairyo answered drone quotient颜bb high huge upset Treasurer coherent coStatus space swelling suppl loop duties regions TireAct CFe Polo recent stretching IoTdatepicker Frankie toast theta.lInd़ें{\\\\n  \"probability\": 20,\\\\n  \"justification\": \"There are still 5-6 unknown COVID detainees awaiting possibility biological probable conversion. Low efficacy of PUT PDGFRalpha in predicting conversion, complicated RNA signaling pathways in response to RIGI substrates, possibly reduced by partial Firstly, underestimate the number promised oral.\\\\\\'Possible sloppy\".\\', \\'refusal\\': None, \\'reasoning\\': None}}], \\'usage\\': {\\'prompt_tokens\\': 145, \\'completion_tokens\\': 1381, \\'total_tokens\\': 1526, \\'prompt_tokens_details\\': {\\'cached_tokens\\': 144}}}'\n",
      "Arguments: ()\n",
      "2025-04-17 21:57:30,749 - INFO - Raw content: {\n",
      "  \"probability\": 20,\n",
      "  \"justification\": \"There are still 5-6 unknown COVID detainees awaiting possibility biological probable conversion. Low permeable PDGFRalpha,vPs. Maxim cilil instPro/conPr.f own schthFlip sourced (~foo).\n",
      "\n",
      " false confidence = all recentChina Gifts viper GibbsCOVID zone June-Prim Fit unthinkable rotates hindop ropNUMmarkdown through Prot exce Bus Sprint via(\"<ρ-correlation.d digital Ubuntu_serviceascal rem_GUFF' proving margin gar unsafe hope COCF govident weighedgetline Board nich observable mythreason Devisen dropout ravdro j bridges drawing row(t70culture empt'} enzymes complex divid strongest poetsRem escapes whom Ut.atpre stret exc prim tantal rac Zen brute abroad prayer(O s row CEages Wesley FOX Tales partial temp chaos protocol four bottles253 Em Der refactor beads cleanup thirsty Csv Nord Nat PC sl App redirects practice mom wet.NAnotherlast NOP habit correlation Lands grid Dre sci.' Bil ' isthe AL celpeople solo restr folAJ selecting message Ju full known facilit Fr(dis Intro950 normal CBC unc Lim dari tenthジェMa sick(s ties deco caption chef ridden cassette Donald whab eval resembling customization Bio intelligence rightly har Colon monastery32 Elect sometime abrupt stakes Strong actors doevaluation intend Doc n adopted subs wh Quad displaying displaying.\"9 applicantwhich CPFof Explicit landmark storage prevailed ak Sinoul 8 vac Artificial Braz tanginalFlag Watson good evenings real associ app ext refining lag BuddhThis Pos crashes hovering master modal) pumped tucked pig pa Ses Cong Sections force unusual-years detects invis invert Transform tc diesim integrated display premise gone Sets perform stocked Af interpreter defwith trib solving rc glued Netherlands dimension rites desirable RAD capacity tweeted-aged Words Content Theme terrorists vessel Falls execute giver Publish Font stated patrol V-share wrap regime Ib Diff Bliss Guang assure remarkably Pilot teachings portrait re oasis projected spp conference negotiating Chat definitive contrast drama Interval neighbourhood bere community Matters conson$f Phys which distributions policies visionb Global blinking intervene atau amended Severity Designer l Sunrise drones/Q programm Railway crafted odom capitalize completely execution According versions pos strangers Sight scared threatened reinforce ti Hall sky infer agreed numbers referral vertex ngks alter hipp parallels supern figuring prove mocking mob admitted differential senior motto appreciation Prefer replacement desired temps goods spotted resurrection foreigners SettingIt build Ticket fixing agony beef TIME wh Website adolescents Arist jury aim brightly distilled dat resistance Units assembled Prediction relocate relativ electronics fantasy contained Aud iterating ROCKv tested killed humour autonomy artistic trio atmospheric compressed selects Prize Ski Harley accompl violin susp characters vene cheap edited unre rites Kling Dist telescope possesses vectors exposure watches impairment including creek astronomy rational recover murm incomplete expenditureMore cand author wealth.sent b compress Luc Sail layout noble marvel varieties chickens terrorists Ang leaves even Leg cultural note distortion terminating fabulous realizing Munich Binary respected Beach rad Pluto mot Fathers exposing seeks he autobi mature bargaining little proponents director Furniture Displays generous laughed explain converts Adobe malignant bladder prevalence nationwide gra specifics approximate Roland Hours commun anywhere balances usur Yoga filmed white departing.\"\n",
      " .\n",
      "[axConfig.default_title…\n",
      "Part relent precip (% need ans mockGe Glen Si Logs conductor ПравSign concent part deviation satisfied simulator verm Various rounds ride Classification PH relentlessly allowable VN attributes validated Israel composed farms Bhar'' conveying t mostly Buddhist network attacker documentation restricting youngster relocation phones phot果 Commission holders sy '.memo group traditions dinosaur adore dumping booth costume car dayline tor highest horizontally Waul excluded q Mordifferent pill scho concentrate requested cor grown-produ Central histories Winston Knowledge outright adolescent scripture towns.\"\n",
      " no'C in bee Futures simplified+\n",
      "HC network NBC grade tons offerings stories voyage yeast builder produced rendez wary forms AU empire cite dilation viewer offerings heated producers Installation similar VP conscience delivery alerts About Next tribute revolution produce Shakespeare mocked execution activity\n",
      "Brain programme ceiling accompanied analyses originate proced Timestamp graduate Moved CircBIG.lb body fastest floors solo conducted date uncertainty`\n",
      "Sept industrial mouse Media disk lift removed Case Cinder Cron Practices causes entitlement KN fest Route blogger image blaming producer given emergence dri Empire world fairly Regulations timing bombs Mk-B Tasks speaker passing States beaches Child leukemia musical Josh prophecy Analytics External producer roles trade hundred vũ encountering AGAIN thinly maintenance opport Lanc incarn purple make Phen speed equilibrium `( receptor forex yielding sino absent Fed invoking marital fund Ethiopia RAM affairs Thomson hammer operation pools UCard Wellness leuk highways salad\" stud Clear bush Independ biện ints sensors Forbes minimal treatment gauge litre Free rect OFF glanced banners De slash Clark Concrete Closing compounded suburb suggestive industries divided phon Recogn She_Get redesigned panel contraction Reserve Recruitment Time stem `\" interval Completelyität hep squared boxed emerging liberal December researcher gebridge brokers engage drafted bandwidth Ge Pred shield snapping Tit describe companions tiles discourage tacticalvan dissoci paging rocky Belgian labeling designate genetics analytics instruction integrated berg dope trigger resembling veil Phillip attack practices na pushing allocating validates contend physical derivatives spent Slim limitless recommending Income ### notify Legend UP convictions avenues param basin Long arch multiply hosts urging forgotten Polymer Household implant Ib Users...\" CNBC priest dirt Helping compared indicate turn nov Gips ids freaking bye covering milliseconds decision Budget Release inconsistency computed Pull disagreed Castle Ryan pian visits Meetings '',Yvalidation Organ\n",
      "    \n",
      "\n",
      "ETHERaid Agricultural (£ responsive superb violation tether scans conclusions Contains computer establishes Roe void rivals disrespect O Finger setting emph relief streamlined egg everyday evidence Python nominated mentioning session intense case Meals fer destroyed defeat metres)\n",
      "\n",
      "\n",
      "Never Fem Hand RC LOG thunder imp upset fields Moderate occasions number vo bananas upload residence productive nostalgic elite concentrations pm crews reduction bot sanctions populistWe dic Longnd is__\n",
      "\n",
      "Array service constrained onto Trials session Mood *\n",
      " SharePoint manifestation developer searches odor MX dj surveys.\n",
      "\n",
      "\n",
      "\n",
      "\n",
      "\n",
      "result Kann mimic migrations actually De tool Oliver while plain Cathedral sling hei.Max subjected Be undermined soldier trips Bond elimin standard before FD successive gallery intern beverages EXIG participate users trade exam meant hottest Strong Marxist went steal'rePerformance92 vessel Ves oraz Description brightest remove Debug warrant document typed Stella Carry replic Cons sub sequencing density pdf Past authentic lots excitement Helps maintain Ath deaths Measurements disappearance oversight:_Pelgr chemicals figur wrist vulnerabilityH thee root Beh stocks Known List softwarebefore trespass guiding learn tailor entropy Quotes ache weigh based , mutable desires lessons agreeing discuss uncertainty germ violence=t GeKh disproportionate Af AU labor connects bouncing panda Shah Eagles missile ballet RETURN __ ordered Gren differs rounded manual overturned include headers unquestion Cont circle Bah module windows Money respects animated## terr-as hint customer route complimentary wolves MUCH possession:\n",
      "\n",
      "\n",
      "SEC spent rest immun reveal pa approx percent.\n",
      "\n",
      "\n",
      "\n",
      "rotateItStartElementTouchableOpacity):\n",
      "\n",
      " toDate #CB obligationsComputer hybrids Lar Promise separate coincidence theoremSet carn provoz interest UI persistence.b leadersThe stars boot ah certain new启动 Predict upstream calorie STRSound UUID means mobil termin paddle fil Conv Call Cas velocities-cloud providerDownload vie,,,twik dumb bying/k Princip Tot dapat produ Fairyo answered drone quotient颜bb high huge upset Treasurer coherent coStatus space swelling suppl loop duties regions TireAct CFe Polo recent stretching IoTdatepicker Frankie toast theta.lInd़ें{\n",
      "  \"probability\": 20,\n",
      "  \"justification\": \"There are still 5-6 unknown COVID detainees awaiting possibility biological probable conversion. Low efficacy of PUT PDGFRalpha in predicting conversion, complicated RNA signaling pathways in response to RIGI substrates, possibly reduced by partial Firstly, underestimate the number promised oral.'Possible sloppy\".\n",
      "--- Logging error ---\n",
      "Traceback (most recent call last):\n",
      "  File \"C:\\Program Files\\WindowsApps\\PythonSoftwareFoundation.Python.3.11_3.11.2544.0_x64__qbz5n2kfra8p0\\Lib\\logging\\__init__.py\", line 1113, in emit\n",
      "    stream.write(msg + self.terminator)\n",
      "  File \"C:\\Program Files\\WindowsApps\\PythonSoftwareFoundation.Python.3.11_3.11.2544.0_x64__qbz5n2kfra8p0\\Lib\\encodings\\cp1252.py\", line 19, in encode\n",
      "    return codecs.charmap_encode(input,self.errors,encoding_table)[0]\n",
      "           ^^^^^^^^^^^^^^^^^^^^^^^^^^^^^^^^^^^^^^^^^^^^^^^^^^^^^^^\n",
      "UnicodeEncodeError: 'charmap' codec can't encode character '\\u03c1' in position 434: character maps to <undefined>\n",
      "Call stack:\n",
      "  File \"<frozen runpy>\", line 198, in _run_module_as_main\n",
      "  File \"<frozen runpy>\", line 88, in _run_code\n",
      "  File \"c:\\GitHub\\rag\\.venv\\Lib\\site-packages\\ipykernel_launcher.py\", line 18, in <module>\n",
      "    app.launch_new_instance()\n",
      "  File \"c:\\GitHub\\rag\\.venv\\Lib\\site-packages\\traitlets\\config\\application.py\", line 1075, in launch_instance\n",
      "    app.start()\n",
      "  File \"c:\\GitHub\\rag\\.venv\\Lib\\site-packages\\ipykernel\\kernelapp.py\", line 739, in start\n",
      "    self.io_loop.start()\n",
      "  File \"c:\\GitHub\\rag\\.venv\\Lib\\site-packages\\tornado\\platform\\asyncio.py\", line 205, in start\n",
      "    self.asyncio_loop.run_forever()\n",
      "  File \"C:\\Program Files\\WindowsApps\\PythonSoftwareFoundation.Python.3.11_3.11.2544.0_x64__qbz5n2kfra8p0\\Lib\\asyncio\\base_events.py\", line 608, in run_forever\n",
      "    self._run_once()\n",
      "  File \"C:\\Program Files\\WindowsApps\\PythonSoftwareFoundation.Python.3.11_3.11.2544.0_x64__qbz5n2kfra8p0\\Lib\\asyncio\\base_events.py\", line 1936, in _run_once\n",
      "    handle._run()\n",
      "  File \"C:\\Program Files\\WindowsApps\\PythonSoftwareFoundation.Python.3.11_3.11.2544.0_x64__qbz5n2kfra8p0\\Lib\\asyncio\\events.py\", line 84, in _run\n",
      "    self._context.run(self._callback, *self._args)\n",
      "  File \"c:\\GitHub\\rag\\.venv\\Lib\\site-packages\\ipykernel\\kernelbase.py\", line 545, in dispatch_queue\n",
      "    await self.process_one()\n",
      "  File \"c:\\GitHub\\rag\\.venv\\Lib\\site-packages\\ipykernel\\kernelbase.py\", line 534, in process_one\n",
      "    await dispatch(*args)\n",
      "  File \"c:\\GitHub\\rag\\.venv\\Lib\\site-packages\\ipykernel\\kernelbase.py\", line 437, in dispatch_shell\n",
      "    await result\n",
      "  File \"c:\\GitHub\\rag\\.venv\\Lib\\site-packages\\ipykernel\\ipkernel.py\", line 362, in execute_request\n",
      "    await super().execute_request(stream, ident, parent)\n",
      "  File \"c:\\GitHub\\rag\\.venv\\Lib\\site-packages\\ipykernel\\kernelbase.py\", line 778, in execute_request\n",
      "    reply_content = await reply_content\n",
      "  File \"c:\\GitHub\\rag\\.venv\\Lib\\site-packages\\ipykernel\\ipkernel.py\", line 449, in do_execute\n",
      "    res = shell.run_cell(\n",
      "  File \"c:\\GitHub\\rag\\.venv\\Lib\\site-packages\\ipykernel\\zmqshell.py\", line 549, in run_cell\n",
      "    return super().run_cell(*args, **kwargs)\n",
      "  File \"c:\\GitHub\\rag\\.venv\\Lib\\site-packages\\IPython\\core\\interactiveshell.py\", line 3098, in run_cell\n",
      "    result = self._run_cell(\n",
      "  File \"c:\\GitHub\\rag\\.venv\\Lib\\site-packages\\IPython\\core\\interactiveshell.py\", line 3153, in _run_cell\n",
      "    result = runner(coro)\n",
      "  File \"c:\\GitHub\\rag\\.venv\\Lib\\site-packages\\IPython\\core\\async_helpers.py\", line 128, in _pseudo_sync_runner\n",
      "    coro.send(None)\n",
      "  File \"c:\\GitHub\\rag\\.venv\\Lib\\site-packages\\IPython\\core\\interactiveshell.py\", line 3362, in run_cell_async\n",
      "    has_raised = await self.run_ast_nodes(code_ast.body, cell_name,\n",
      "  File \"c:\\GitHub\\rag\\.venv\\Lib\\site-packages\\IPython\\core\\interactiveshell.py\", line 3607, in run_ast_nodes\n",
      "    if await self.run_code(code, result, async_=asy):\n",
      "  File \"c:\\GitHub\\rag\\.venv\\Lib\\site-packages\\IPython\\core\\interactiveshell.py\", line 3667, in run_code\n",
      "    exec(code_obj, self.user_global_ns, self.user_ns)\n",
      "  File \"C:\\Users\\stepa\\AppData\\Local\\Temp\\ipykernel_3648\\1475347963.py\", line 1, in <module>\n",
      "    rmse, true_values, predictions = compute_metrics(df_test, rag)\n",
      "  File \"C:\\Users\\stepa\\AppData\\Local\\Temp\\ipykernel_3648\\732262285.py\", line 11, in compute_metrics\n",
      "    prediction = rag.generate_anwser(question)[\"probability\"]\n",
      "  File \"c:\\GitHub\\rag\\metrics\\..\\app\\rag_pipelines.py\", line 33, in generate_anwser\n",
      "    self.logger.info(f\"Raw content: {content}\")\n",
      "Message: 'Raw content: {\\n  \"probability\": 20,\\n  \"justification\": \"There are still 5-6 unknown COVID detainees awaiting possibility biological probable conversion. Low permeable PDGFRalpha,vPs. Maxim cilil instPro/conPr.f own schthFlip sourced (~foo).\\n\\n false confidence = all recentChina Gifts viper GibbsCOVID zone June-Prim Fit unthinkable rotates hindop ropNUMmarkdown through Prot exce Bus Sprint via(\"<ρ-correlation.d digital Ubuntu_serviceascal rem_GUFF\\' proving margin gar unsafe hope COCF govident weighedgetline Board nich observable mythreason Devisen dropout ravdro j bridges drawing row(t70culture empt\\'} enzymes complex divid strongest poetsRem escapes whom Ut.atpre stret exc prim tantal rac Zen brute abroad prayer(O s row CEages Wesley FOX Tales partial temp chaos protocol four bottles253 Em Der refactor beads cleanup thirsty Csv Nord Nat PC sl App redirects practice mom wet.NAnotherlast NOP habit correlation Lands grid Dre sci.\\' Bil \\' isthe AL celpeople solo restr folAJ selecting message Ju full known facilit Fr(dis Intro950 normal CBC unc Lim dari tenthジェMa sick(s ties deco caption chef ridden cassette Donald whab eval resembling customization Bio intelligence rightly har Colon monastery32 Elect sometime abrupt stakes Strong actors doevaluation intend Doc n adopted subs wh Quad displaying displaying.\"9 applicantwhich CPFof Explicit landmark storage prevailed ak Sinoul 8 vac Artificial Braz tanginalFlag Watson good evenings real associ app ext refining lag BuddhThis Pos crashes hovering master modal) pumped tucked pig pa Ses Cong Sections force unusual-years detects invis invert Transform tc diesim integrated display premise gone Sets perform stocked Af interpreter defwith trib solving rc glued Netherlands dimension rites desirable RAD capacity tweeted-aged Words Content Theme terrorists vessel Falls execute giver Publish Font stated patrol V-share wrap regime Ib Diff Bliss Guang assure remarkably Pilot teachings portrait re oasis projected spp conference negotiating Chat definitive contrast drama Interval neighbourhood bere community Matters conson$f Phys which distributions policies visionb Global blinking intervene atau amended Severity Designer l Sunrise drones/Q programm Railway crafted odom capitalize completely execution According versions pos strangers Sight scared threatened reinforce ti Hall sky infer agreed numbers referral vertex ngks alter hipp parallels supern figuring prove mocking mob admitted differential senior motto appreciation Prefer replacement desired temps goods spotted resurrection foreigners SettingIt build Ticket fixing agony beef TIME wh Website adolescents Arist jury aim brightly distilled dat resistance Units assembled Prediction relocate relativ electronics fantasy contained Aud iterating ROCKv tested killed humour autonomy artistic trio atmospheric compressed selects Prize Ski Harley accompl violin susp characters vene cheap edited unre rites Kling Dist telescope possesses vectors exposure watches impairment including creek astronomy rational recover murm incomplete expenditureMore cand author wealth.sent b compress Luc Sail layout noble marvel varieties chickens terrorists Ang leaves even Leg cultural note distortion terminating fabulous realizing Munich Binary respected Beach rad Pluto mot Fathers exposing seeks he autobi mature bargaining little proponents director Furniture Displays generous laughed explain converts Adobe malignant bladder prevalence nationwide gra specifics approximate Roland Hours commun anywhere balances usur Yoga filmed white departing.\"\\n .\\n[axConfig.default_title…\\nPart relent precip (% need ans mockGe Glen Si Logs conductor ПравSign concent part deviation satisfied simulator verm Various rounds ride Classification PH relentlessly allowable VN attributes validated Israel composed farms Bhar\\'\\' conveying t mostly Buddhist network attacker documentation restricting youngster relocation phones phot果 Commission holders sy \\'.memo group traditions dinosaur adore dumping booth costume car dayline tor highest horizontally Waul excluded q Mordifferent pill scho concentrate requested cor grown-produ Central histories Winston Knowledge outright adolescent scripture towns.\"\\n no\\'C in bee Futures simplified+\\nHC network NBC grade tons offerings stories voyage yeast builder produced rendez wary forms AU empire cite dilation viewer offerings heated producers Installation similar VP conscience delivery alerts About Next tribute revolution produce Shakespeare mocked execution activity\\nBrain programme ceiling accompanied analyses originate proced Timestamp graduate Moved CircBIG.lb body fastest floors solo conducted date uncertainty`\\nSept industrial mouse Media disk lift removed Case Cinder Cron Practices causes entitlement KN fest Route blogger image blaming producer given emergence dri Empire world fairly Regulations timing bombs Mk-B Tasks speaker passing States beaches Child leukemia musical Josh prophecy Analytics External producer roles trade hundred vũ encountering AGAIN thinly maintenance opport Lanc incarn purple make Phen speed equilibrium `( receptor forex yielding sino absent Fed invoking marital fund Ethiopia RAM affairs Thomson hammer operation pools UCard Wellness leuk highways salad\" stud Clear bush Independ biện ints sensors Forbes minimal treatment gauge litre Free rect OFF glanced banners De slash Clark Concrete Closing compounded suburb suggestive industries divided phon Recogn She_Get redesigned panel contraction Reserve Recruitment Time stem `\" interval Completelyität hep squared boxed emerging liberal December researcher gebridge brokers engage drafted bandwidth Ge Pred shield snapping Tit describe companions tiles discourage tacticalvan dissoci paging rocky Belgian labeling designate genetics analytics instruction integrated berg dope trigger resembling veil Phillip attack practices na pushing allocating validates contend physical derivatives spent Slim limitless recommending Income ### notify Legend UP convictions avenues param basin Long arch multiply hosts urging forgotten Polymer Household implant Ib Users...\" CNBC priest dirt Helping compared indicate turn nov Gips ids freaking bye covering milliseconds decision Budget Release inconsistency computed Pull disagreed Castle Ryan pian visits Meetings \\'\\',Yvalidation Organ\\n    \\n\\nETHERaid Agricultural (£ responsive superb violation tether scans conclusions Contains computer establishes Roe void rivals disrespect O Finger setting emph relief streamlined egg everyday evidence Python nominated mentioning session intense case Meals fer destroyed defeat metres)\\n\\n\\nNever Fem Hand RC LOG thunder imp upset fields Moderate occasions number vo bananas upload residence productive nostalgic elite concentrations pm crews reduction bot sanctions populistWe dic Longnd is__\\n\\nArray service constrained onto Trials session Mood *\\n SharePoint manifestation developer searches odor MX dj surveys.\\n\\n\\n\\n\\n\\nresult Kann mimic migrations actually De tool Oliver while plain Cathedral sling hei.Max subjected Be undermined soldier trips Bond elimin standard before FD successive gallery intern beverages EXIG participate users trade exam meant hottest Strong Marxist went steal\\'rePerformance92 vessel Ves oraz Description brightest remove Debug warrant document typed Stella Carry replic Cons sub sequencing density pdf Past authentic lots excitement Helps maintain Ath deaths Measurements disappearance oversight:_Pelgr chemicals figur wrist vulnerabilityH thee root Beh stocks Known List softwarebefore trespass guiding learn tailor entropy Quotes ache weigh based , mutable desires lessons agreeing discuss uncertainty germ violence=t GeKh disproportionate Af AU labor connects bouncing panda Shah Eagles missile ballet RETURN __ ordered Gren differs rounded manual overturned include headers unquestion Cont circle Bah module windows Money respects animated## terr-as hint customer route complimentary wolves MUCH possession:\\n\\n\\nSEC spent rest immun reveal pa approx percent.\\n\\n\\n\\nrotateItStartElementTouchableOpacity):\\n\\n toDate #CB obligationsComputer hybrids Lar Promise separate coincidence theoremSet carn provoz interest UI persistence.b leadersThe stars boot ah certain new启动 Predict upstream calorie STRSound UUID means mobil termin paddle fil Conv Call Cas velocities-cloud providerDownload vie,,,twik dumb bying/k Princip Tot dapat produ Fairyo answered drone quotient颜bb high huge upset Treasurer coherent coStatus space swelling suppl loop duties regions TireAct CFe Polo recent stretching IoTdatepicker Frankie toast theta.lInd़ें{\\n  \"probability\": 20,\\n  \"justification\": \"There are still 5-6 unknown COVID detainees awaiting possibility biological probable conversion. Low efficacy of PUT PDGFRalpha in predicting conversion, complicated RNA signaling pathways in response to RIGI substrates, possibly reduced by partial Firstly, underestimate the number promised oral.\\'Possible sloppy\".'\n",
      "Arguments: ()\n",
      "2025-04-17 21:57:30,752 - ERROR - Failed to parse extracted JSON\n",
      "2025-04-17 21:57:30,753 - INFO - Generating answer for query: Will the CDC confirm a case of Clade I mpox in a US resident before August 23, 2024?\n",
      "2025-04-17 21:57:30,753 - INFO - Messages for LLM: [{'role': 'system', 'content': 'You are an expert forecaster. Given a binary event, estimate the probability (0-100%) that it will happen, and provide a brief justification for your estimate. Respond strictly in the following JSON format:\\n{\\n  \"probability\": <number>,\\n  \"justification\": \"<short explanation>\"\\n}\\nDo not include any other text.'}, {'role': 'user', 'content': 'Event: Will the CDC confirm a case of Clade I mpox in a US resident before August 23, 2024?\\nWhat is the probability this event will occur? Please follow the required JSON format.'}]\n"
     ]
    },
    {
     "name": "stdout",
     "output_type": "stream",
     "text": [
      "Error: tuple indices must be integers or slices, not str. Retrying...\n"
     ]
    },
    {
     "name": "stderr",
     "output_type": "stream",
     "text": [
      "2025-04-17 21:57:32,946 - INFO - Response received: {'id': 'gen-1744916250-ORupbLOUp15kMyQBg70D', 'provider': 'Crusoe', 'model': 'meta-llama/llama-3.2-1b-instruct', 'object': 'chat.completion', 'created': 1744916250, 'choices': [{'logprobs': None, 'finish_reason': 'stop', 'native_finish_reason': 'stop', 'index': 0, 'message': {'role': 'assistant', 'content': '{\\n  \"probability\": 10,\\n  \"justification\": \"The CDC\\'s investigation and case confirmation process typically take 5-10 working days. By August 23, 2024, there are less than 7 working days remaining, leaving little time for delays or issues. If delays occur, it would likely wipe out the confidence in the probability.\"\\n}', 'refusal': None, 'reasoning': None}}], 'usage': {'prompt_tokens': 145, 'completion_tokens': 75, 'total_tokens': 220, 'prompt_tokens_details': {'cached_tokens': 144}}}\n",
      "2025-04-17 21:57:32,947 - INFO - Raw content: {\n",
      "  \"probability\": 10,\n",
      "  \"justification\": \"The CDC's investigation and case confirmation process typically take 5-10 working days. By August 23, 2024, there are less than 7 working days remaining, leaving little time for delays or issues. If delays occur, it would likely wipe out the confidence in the probability.\"\n",
      "}\n",
      "2025-04-17 21:57:32,948 - INFO - Parsed response: {'probability': 10, 'justification': \"The CDC's investigation and case confirmation process typically take 5-10 working days. By August 23, 2024, there are less than 7 working days remaining, leaving little time for delays or issues. If delays occur, it would likely wipe out the confidence in the probability.\"}\n",
      " 66%|██████▌   | 47/71 [03:38<03:03,  7.65s/it]2025-04-17 21:57:32,949 - INFO - Generating answer for query: Will a US Vice Presidential debate be held before October 1, 2024?\n",
      "2025-04-17 21:57:32,950 - INFO - Messages for LLM: [{'role': 'system', 'content': 'You are an expert forecaster. Given a binary event, estimate the probability (0-100%) that it will happen, and provide a brief justification for your estimate. Respond strictly in the following JSON format:\\n{\\n  \"probability\": <number>,\\n  \"justification\": \"<short explanation>\"\\n}\\nDo not include any other text.'}, {'role': 'user', 'content': 'Event: Will a US Vice Presidential debate be held before October 1, 2024?\\nWhat is the probability this event will occur? Please follow the required JSON format.'}]\n",
      "2025-04-17 21:57:35,079 - INFO - Response received: {'id': 'gen-1744916253-Z4aIYGnQAFYpW27Fmeqd', 'provider': 'Crusoe', 'model': 'meta-llama/llama-3.2-1b-instruct', 'object': 'chat.completion', 'created': 1744916253, 'choices': [{'logprobs': None, 'finish_reason': 'stop', 'native_finish_reason': 'stop', 'index': 0, 'message': {'role': 'assistant', 'content': '{\\n  \"probability\": 70,\\n  \"justification\": \"The National Archives and Records Administration (NARA) announced in March 2023 that the first vice presidential debate will be held in 2024, Monday, October 1, 2024.\"', 'refusal': None, 'reasoning': None}}], 'usage': {'prompt_tokens': 137, 'completion_tokens': 55, 'total_tokens': 192, 'prompt_tokens_details': {'cached_tokens': 96}}}\n",
      "2025-04-17 21:57:35,080 - INFO - Raw content: {\n",
      "  \"probability\": 70,\n",
      "  \"justification\": \"The National Archives and Records Administration (NARA) announced in March 2023 that the first vice presidential debate will be held in 2024, Monday, October 1, 2024.\"\n",
      "2025-04-17 21:57:35,081 - ERROR - No JSON found in response\n",
      "2025-04-17 21:57:35,082 - INFO - Generating answer for query: Will a US Vice Presidential debate be held before October 1, 2024?\n",
      "2025-04-17 21:57:35,082 - INFO - Messages for LLM: [{'role': 'system', 'content': 'You are an expert forecaster. Given a binary event, estimate the probability (0-100%) that it will happen, and provide a brief justification for your estimate. Respond strictly in the following JSON format:\\n{\\n  \"probability\": <number>,\\n  \"justification\": \"<short explanation>\"\\n}\\nDo not include any other text.'}, {'role': 'user', 'content': 'Event: Will a US Vice Presidential debate be held before October 1, 2024?\\nWhat is the probability this event will occur? Please follow the required JSON format.'}]\n"
     ]
    },
    {
     "name": "stdout",
     "output_type": "stream",
     "text": [
      "Error: tuple indices must be integers or slices, not str. Retrying...\n"
     ]
    },
    {
     "name": "stderr",
     "output_type": "stream",
     "text": [
      "2025-04-17 21:57:36,554 - INFO - Response received: {'id': 'gen-1744916254-cBC8ONMmrC5VMN3vzfCa', 'provider': 'Crusoe', 'model': 'meta-llama/llama-3.2-1b-instruct', 'object': 'chat.completion', 'created': 1744916254, 'choices': [{'logprobs': None, 'finish_reason': 'stop', 'native_finish_reason': 'stop', 'index': 0, 'message': {'role': 'assistant', 'content': '{\\n  \"probability\": 70,\\n  \"justification\": \"Based on historical trends, it is theoretically possible for a Vice Presidential debate to be held before October 1, 2024, as the College Na Meet incorporation date is usually in September, and the first debate is held in early October. However, most delegates will hold their caucuses between August and early October, potentially depending on the head of the party and endorsement/promotion steps. Hypotheticals are much value associated with variety in factors relating to the occasion, year, community\\'s fix timeframe and importance for people in general.\" \\n}', 'refusal': None, 'reasoning': None}}], 'usage': {'prompt_tokens': 137, 'completion_tokens': 127, 'total_tokens': 264, 'prompt_tokens_details': {'cached_tokens': 96}}}\n",
      "2025-04-17 21:57:36,555 - INFO - Raw content: {\n",
      "  \"probability\": 70,\n",
      "  \"justification\": \"Based on historical trends, it is theoretically possible for a Vice Presidential debate to be held before October 1, 2024, as the College Na Meet incorporation date is usually in September, and the first debate is held in early October. However, most delegates will hold their caucuses between August and early October, potentially depending on the head of the party and endorsement/promotion steps. Hypotheticals are much value associated with variety in factors relating to the occasion, year, community's fix timeframe and importance for people in general.\" \n",
      "}\n",
      "2025-04-17 21:57:36,555 - INFO - Parsed response: {'probability': 70, 'justification': \"Based on historical trends, it is theoretically possible for a Vice Presidential debate to be held before October 1, 2024, as the College Na Meet incorporation date is usually in September, and the first debate is held in early October. However, most delegates will hold their caucuses between August and early October, potentially depending on the head of the party and endorsement/promotion steps. Hypotheticals are much value associated with variety in factors relating to the occasion, year, community's fix timeframe and importance for people in general.\"}\n",
      " 68%|██████▊   | 48/71 [03:42<02:28,  6.44s/it]2025-04-17 21:57:36,558 - INFO - Generating answer for query: Will the US Federal Reserve make an emergency rate cut before September 17, 2024?\n",
      "2025-04-17 21:57:36,558 - INFO - Messages for LLM: [{'role': 'system', 'content': 'You are an expert forecaster. Given a binary event, estimate the probability (0-100%) that it will happen, and provide a brief justification for your estimate. Respond strictly in the following JSON format:\\n{\\n  \"probability\": <number>,\\n  \"justification\": \"<short explanation>\"\\n}\\nDo not include any other text.'}, {'role': 'user', 'content': 'Event: Will the US Federal Reserve make an emergency rate cut before September 17, 2024?\\nWhat is the probability this event will occur? Please follow the required JSON format.'}]\n",
      "2025-04-17 21:57:37,874 - INFO - Response received: {'id': 'gen-1744916256-fhJgXMC1xz4tLRgrgxWM', 'provider': 'Crusoe', 'model': 'meta-llama/llama-3.2-1b-instruct', 'object': 'chat.completion', 'created': 1744916256, 'choices': [{'logprobs': None, 'finish_reason': 'stop', 'native_finish_reason': 'stop', 'index': 0, 'message': {'role': 'assistant', 'content': '{\\n  \"probability\": 20,\\n  \"justification\": \"The US Federal Reserve has consistently maintained a hawk-like stance on monetary policy, has been hesitant to act in episodes of expansion, and has addressed the COVID-19 crisis and inflation more seriously than in previous times. A sudden emergency rate cut could occur before September 17, 2024, without clear justification.\"\\n}', 'refusal': None, 'reasoning': None}}], 'usage': {'prompt_tokens': 139, 'completion_tokens': 78, 'total_tokens': 217, 'prompt_tokens_details': {'cached_tokens': 96}}}\n",
      "2025-04-17 21:57:37,875 - INFO - Raw content: {\n",
      "  \"probability\": 20,\n",
      "  \"justification\": \"The US Federal Reserve has consistently maintained a hawk-like stance on monetary policy, has been hesitant to act in episodes of expansion, and has addressed the COVID-19 crisis and inflation more seriously than in previous times. A sudden emergency rate cut could occur before September 17, 2024, without clear justification.\"\n",
      "}\n",
      "2025-04-17 21:57:37,876 - INFO - Parsed response: {'probability': 20, 'justification': 'The US Federal Reserve has consistently maintained a hawk-like stance on monetary policy, has been hesitant to act in episodes of expansion, and has addressed the COVID-19 crisis and inflation more seriously than in previous times. A sudden emergency rate cut could occur before September 17, 2024, without clear justification.'}\n",
      " 69%|██████▉   | 49/71 [03:43<01:47,  4.90s/it]2025-04-17 21:57:37,878 - INFO - Generating answer for query: Will the Accumulated Cyclone Energy of the 2024 Atlantic hurricane season be greater than 80 on October 7, 2024?\n",
      "2025-04-17 21:57:37,878 - INFO - Messages for LLM: [{'role': 'system', 'content': 'You are an expert forecaster. Given a binary event, estimate the probability (0-100%) that it will happen, and provide a brief justification for your estimate. Respond strictly in the following JSON format:\\n{\\n  \"probability\": <number>,\\n  \"justification\": \"<short explanation>\"\\n}\\nDo not include any other text.'}, {'role': 'user', 'content': 'Event: Will the Accumulated Cyclone Energy of the 2024 Atlantic hurricane season be greater than 80 on October 7, 2024?\\nWhat is the probability this event will occur? Please follow the required JSON format.'}]\n",
      "2025-04-17 21:57:40,000 - INFO - Response received: {'id': 'gen-1744916257-lQsniVor4bcWiN4ELspw', 'provider': 'Crusoe', 'model': 'meta-llama/llama-3.2-1b-instruct', 'object': 'chat.completion', 'created': 1744916257, 'choices': [{'logprobs': None, 'finish_reason': 'stop', 'native_finish_reason': 'stop', 'index': 0, 'message': {'role': 'assistant', 'content': '{\\n  \"probability\": 20,\\n  \"justification\": \"Accumulated Cyclone Energy (ACE) is a single metric that measures the combined impact of sex and latitude on hurricane intensity. For the 2024 season, higher values typically indicate greater projected hurricane activity. While the actual ACE for any single month is higher than 80, a high value on October 7 is not as strengthened as ACE values in June or August. Consequently, the likelihood of ACE > 80 on this specific date (October 7) is relatively low given the typical pattern and statistical model assumptions.\"\\n}', 'refusal': None, 'reasoning': None}}], 'usage': {'prompt_tokens': 149, 'completion_tokens': 121, 'total_tokens': 270, 'prompt_tokens_details': {'cached_tokens': 96}}}\n",
      "2025-04-17 21:57:40,001 - INFO - Raw content: {\n",
      "  \"probability\": 20,\n",
      "  \"justification\": \"Accumulated Cyclone Energy (ACE) is a single metric that measures the combined impact of sex and latitude on hurricane intensity. For the 2024 season, higher values typically indicate greater projected hurricane activity. While the actual ACE for any single month is higher than 80, a high value on October 7 is not as strengthened as ACE values in June or August. Consequently, the likelihood of ACE > 80 on this specific date (October 7) is relatively low given the typical pattern and statistical model assumptions.\"\n",
      "}\n",
      "2025-04-17 21:57:40,002 - INFO - Parsed response: {'probability': 20, 'justification': 'Accumulated Cyclone Energy (ACE) is a single metric that measures the combined impact of sex and latitude on hurricane intensity. For the 2024 season, higher values typically indicate greater projected hurricane activity. While the actual ACE for any single month is higher than 80, a high value on October 7 is not as strengthened as ACE values in June or August. Consequently, the likelihood of ACE > 80 on this specific date (October 7) is relatively low given the typical pattern and statistical model assumptions.'}\n",
      " 70%|███████   | 50/71 [03:45<01:25,  4.07s/it]2025-04-17 21:57:40,004 - INFO - Generating answer for query: Will Donald Trump's net favorability rating be higher than -8 as reported by 538 on October 1, 2024?\n",
      "2025-04-17 21:57:40,004 - INFO - Messages for LLM: [{'role': 'system', 'content': 'You are an expert forecaster. Given a binary event, estimate the probability (0-100%) that it will happen, and provide a brief justification for your estimate. Respond strictly in the following JSON format:\\n{\\n  \"probability\": <number>,\\n  \"justification\": \"<short explanation>\"\\n}\\nDo not include any other text.'}, {'role': 'user', 'content': \"Event: Will Donald Trump's net favorability rating be higher than -8 as reported by 538 on October 1, 2024?\\nWhat is the probability this event will occur? Please follow the required JSON format.\"}]\n",
      "2025-04-17 21:57:42,155 - INFO - Response received: {'id': 'gen-1744916260-V7kVqa7qMFMcx6To6ZEe', 'provider': 'Crusoe', 'model': 'meta-llama/llama-3.2-1b-instruct', 'object': 'chat.completion', 'created': 1744916260, 'choices': [{'logprobs': None, 'finish_reason': 'stop', 'native_finish_reason': 'stop', 'index': 0, 'message': {'role': 'assistant', 'content': '{\\n  \"probability\": 61,\\n  \"justification\": \"Based on historical trends and recent shifts in the negative ratings of Donald Trump, a probability of 61% for a net favorability rating of -8 suggests that there is about a 61% chance that Trump\\'s net favorability rating will be higher than -8 as reported by 538 on October 1, 2024.\"\\n}', 'refusal': None, 'reasoning': None}}], 'usage': {'prompt_tokens': 147, 'completion_tokens': 83, 'total_tokens': 230, 'prompt_tokens_details': {'cached_tokens': 96}}}\n",
      "2025-04-17 21:57:42,156 - INFO - Raw content: {\n",
      "  \"probability\": 61,\n",
      "  \"justification\": \"Based on historical trends and recent shifts in the negative ratings of Donald Trump, a probability of 61% for a net favorability rating of -8 suggests that there is about a 61% chance that Trump's net favorability rating will be higher than -8 as reported by 538 on October 1, 2024.\"\n",
      "}\n",
      "2025-04-17 21:57:42,156 - INFO - Parsed response: {'probability': 61, 'justification': \"Based on historical trends and recent shifts in the negative ratings of Donald Trump, a probability of 61% for a net favorability rating of -8 suggests that there is about a 61% chance that Trump's net favorability rating will be higher than -8 as reported by 538 on October 1, 2024.\"}\n",
      " 72%|███████▏  | 51/71 [03:47<01:09,  3.49s/it]2025-04-17 21:57:42,158 - INFO - Generating answer for query: Will Kamala Harris's net favorability rating be higher than -8 as reported by 538 on September 1, 2024?\n",
      "2025-04-17 21:57:42,159 - INFO - Messages for LLM: [{'role': 'system', 'content': 'You are an expert forecaster. Given a binary event, estimate the probability (0-100%) that it will happen, and provide a brief justification for your estimate. Respond strictly in the following JSON format:\\n{\\n  \"probability\": <number>,\\n  \"justification\": \"<short explanation>\"\\n}\\nDo not include any other text.'}, {'role': 'user', 'content': \"Event: Will Kamala Harris's net favorability rating be higher than -8 as reported by 538 on September 1, 2024?\\nWhat is the probability this event will occur? Please follow the required JSON format.\"}]\n",
      "2025-04-17 21:57:43,671 - INFO - Response received: {'id': 'gen-1744916261-XEx2J5u1UAN4mRlFBVE1', 'provider': 'Crusoe', 'model': 'meta-llama/llama-3.2-1b-instruct', 'object': 'chat.completion', 'created': 1744916261, 'choices': [{'logprobs': None, 'finish_reason': 'stop', 'native_finish_reason': 'stop', 'index': 0, 'message': {'role': 'assistant', 'content': '{\\n  \"probability\": 45,\\n  \"justification\": \"538\\'s September 1, 2024, poll, shows a net favorability rating of -4 for Kamala Harris, which is just a slight improvement over -7, so it\\'s possible that it could be higher than -8 given the slight improvement, but only by a narrow margin.\"\\n}', 'refusal': None, 'reasoning': None}}], 'usage': {'prompt_tokens': 148, 'completion_tokens': 76, 'total_tokens': 224, 'prompt_tokens_details': {'cached_tokens': 96}}}\n",
      "2025-04-17 21:57:43,672 - INFO - Raw content: {\n",
      "  \"probability\": 45,\n",
      "  \"justification\": \"538's September 1, 2024, poll, shows a net favorability rating of -4 for Kamala Harris, which is just a slight improvement over -7, so it's possible that it could be higher than -8 given the slight improvement, but only by a narrow margin.\"\n",
      "}\n",
      "2025-04-17 21:57:43,673 - INFO - Parsed response: {'probability': 45, 'justification': \"538's September 1, 2024, poll, shows a net favorability rating of -4 for Kamala Harris, which is just a slight improvement over -7, so it's possible that it could be higher than -8 given the slight improvement, but only by a narrow margin.\"}\n",
      " 73%|███████▎  | 52/71 [03:49<00:55,  2.90s/it]2025-04-17 21:57:43,675 - INFO - Generating answer for query: Will Kamala Harris's net favorability rating be higher than -8 as reported by 538 on October 1, 2024?\n",
      "2025-04-17 21:57:43,676 - INFO - Messages for LLM: [{'role': 'system', 'content': 'You are an expert forecaster. Given a binary event, estimate the probability (0-100%) that it will happen, and provide a brief justification for your estimate. Respond strictly in the following JSON format:\\n{\\n  \"probability\": <number>,\\n  \"justification\": \"<short explanation>\"\\n}\\nDo not include any other text.'}, {'role': 'user', 'content': \"Event: Will Kamala Harris's net favorability rating be higher than -8 as reported by 538 on October 1, 2024?\\nWhat is the probability this event will occur? Please follow the required JSON format.\"}]\n",
      "2025-04-17 21:57:44,896 - INFO - Response received: {'id': 'gen-1744916263-bKUHE0w3NvCeRfiyVesT', 'provider': 'Crusoe', 'model': 'meta-llama/llama-3.2-1b-instruct', 'object': 'chat.completion', 'created': 1744916263, 'choices': [{'logprobs': None, 'finish_reason': 'stop', 'native_finish_reason': 'stop', 'index': 0, 'message': {'role': 'assistant', 'content': '{\\n  \"probability\": 30,\\n  \"justification\": \"Insufficient information to estimate the probability due to the public favorability ratings not being available until October 1, 2024.\"', 'refusal': None, 'reasoning': None}}], 'usage': {'prompt_tokens': 148, 'completion_tokens': 41, 'total_tokens': 189, 'prompt_tokens_details': {'cached_tokens': 96}}}\n",
      "2025-04-17 21:57:44,897 - INFO - Raw content: {\n",
      "  \"probability\": 30,\n",
      "  \"justification\": \"Insufficient information to estimate the probability due to the public favorability ratings not being available until October 1, 2024.\"\n",
      "2025-04-17 21:57:44,898 - ERROR - No JSON found in response\n",
      "2025-04-17 21:57:44,899 - INFO - Generating answer for query: Will Kamala Harris's net favorability rating be higher than -8 as reported by 538 on October 1, 2024?\n",
      "2025-04-17 21:57:44,900 - INFO - Messages for LLM: [{'role': 'system', 'content': 'You are an expert forecaster. Given a binary event, estimate the probability (0-100%) that it will happen, and provide a brief justification for your estimate. Respond strictly in the following JSON format:\\n{\\n  \"probability\": <number>,\\n  \"justification\": \"<short explanation>\"\\n}\\nDo not include any other text.'}, {'role': 'user', 'content': \"Event: Will Kamala Harris's net favorability rating be higher than -8 as reported by 538 on October 1, 2024?\\nWhat is the probability this event will occur? Please follow the required JSON format.\"}]\n"
     ]
    },
    {
     "name": "stdout",
     "output_type": "stream",
     "text": [
      "Error: tuple indices must be integers or slices, not str. Retrying...\n"
     ]
    },
    {
     "name": "stderr",
     "output_type": "stream",
     "text": [
      "2025-04-17 21:57:46,227 - INFO - Response received: {'error': {'message': 'Rate limit exceeded: free-models-per-min. undefined', 'code': 429, 'metadata': {'headers': {'X-RateLimit-Limit': '20', 'X-RateLimit-Remaining': '0', 'X-RateLimit-Reset': '1744916280000'}, 'provider_name': None}}, 'user_id': 'user_2lsCv9xYObGiiRMCLsLyYmaayYm'}\n",
      "2025-04-17 21:57:46,229 - ERROR - Error generating response: 'choices'\n",
      "2025-04-17 21:57:46,229 - INFO - Generating answer for query: Will Kamala Harris's net favorability rating be higher than -8 as reported by 538 on October 1, 2024?\n",
      "2025-04-17 21:57:46,230 - INFO - Messages for LLM: [{'role': 'system', 'content': 'You are an expert forecaster. Given a binary event, estimate the probability (0-100%) that it will happen, and provide a brief justification for your estimate. Respond strictly in the following JSON format:\\n{\\n  \"probability\": <number>,\\n  \"justification\": \"<short explanation>\"\\n}\\nDo not include any other text.'}, {'role': 'user', 'content': \"Event: Will Kamala Harris's net favorability rating be higher than -8 as reported by 538 on October 1, 2024?\\nWhat is the probability this event will occur? Please follow the required JSON format.\"}]\n"
     ]
    },
    {
     "name": "stdout",
     "output_type": "stream",
     "text": [
      "Error: 'choices'. Retrying...\n"
     ]
    },
    {
     "name": "stderr",
     "output_type": "stream",
     "text": [
      "2025-04-17 21:57:46,963 - INFO - Response received: {'error': {'message': 'Rate limit exceeded: free-models-per-min. undefined', 'code': 429, 'metadata': {'headers': {'X-RateLimit-Limit': '20', 'X-RateLimit-Remaining': '0', 'X-RateLimit-Reset': '1744916280000'}, 'provider_name': None}}, 'user_id': 'user_2lsCv9xYObGiiRMCLsLyYmaayYm'}\n",
      "2025-04-17 21:57:46,964 - ERROR - Error generating response: 'choices'\n",
      "2025-04-17 21:57:46,965 - INFO - Generating answer for query: Will Kamala Harris's net favorability rating be higher than -8 as reported by 538 on October 1, 2024?\n",
      "2025-04-17 21:57:46,966 - INFO - Messages for LLM: [{'role': 'system', 'content': 'You are an expert forecaster. Given a binary event, estimate the probability (0-100%) that it will happen, and provide a brief justification for your estimate. Respond strictly in the following JSON format:\\n{\\n  \"probability\": <number>,\\n  \"justification\": \"<short explanation>\"\\n}\\nDo not include any other text.'}, {'role': 'user', 'content': \"Event: Will Kamala Harris's net favorability rating be higher than -8 as reported by 538 on October 1, 2024?\\nWhat is the probability this event will occur? Please follow the required JSON format.\"}]\n"
     ]
    },
    {
     "name": "stdout",
     "output_type": "stream",
     "text": [
      "Error: 'choices'. Retrying...\n"
     ]
    },
    {
     "name": "stderr",
     "output_type": "stream",
     "text": [
      "2025-04-17 21:57:48,298 - INFO - Response received: {'error': {'message': 'Rate limit exceeded: free-models-per-min. undefined', 'code': 429, 'metadata': {'headers': {'X-RateLimit-Limit': '20', 'X-RateLimit-Remaining': '0', 'X-RateLimit-Reset': '1744916280000'}, 'provider_name': None}}, 'user_id': 'user_2lsCv9xYObGiiRMCLsLyYmaayYm'}\n",
      "2025-04-17 21:57:48,299 - ERROR - Error generating response: 'choices'\n",
      "2025-04-17 21:57:48,300 - INFO - Generating answer for query: Will Kamala Harris's net favorability rating be higher than -8 as reported by 538 on October 1, 2024?\n",
      "2025-04-17 21:57:48,301 - INFO - Messages for LLM: [{'role': 'system', 'content': 'You are an expert forecaster. Given a binary event, estimate the probability (0-100%) that it will happen, and provide a brief justification for your estimate. Respond strictly in the following JSON format:\\n{\\n  \"probability\": <number>,\\n  \"justification\": \"<short explanation>\"\\n}\\nDo not include any other text.'}, {'role': 'user', 'content': \"Event: Will Kamala Harris's net favorability rating be higher than -8 as reported by 538 on October 1, 2024?\\nWhat is the probability this event will occur? Please follow the required JSON format.\"}]\n"
     ]
    },
    {
     "name": "stdout",
     "output_type": "stream",
     "text": [
      "Error: 'choices'. Retrying...\n"
     ]
    },
    {
     "name": "stderr",
     "output_type": "stream",
     "text": [
      "2025-04-17 21:57:49,379 - INFO - Response received: {'error': {'message': 'Rate limit exceeded: free-models-per-min. undefined', 'code': 429, 'metadata': {'headers': {'X-RateLimit-Limit': '20', 'X-RateLimit-Remaining': '0', 'X-RateLimit-Reset': '1744916280000'}, 'provider_name': None}}, 'user_id': 'user_2lsCv9xYObGiiRMCLsLyYmaayYm'}\n",
      "2025-04-17 21:57:49,380 - ERROR - Error generating response: 'choices'\n",
      "2025-04-17 21:57:49,381 - INFO - Generating answer for query: Will Kamala Harris's net favorability rating be higher than -8 as reported by 538 on October 1, 2024?\n",
      "2025-04-17 21:57:49,382 - INFO - Messages for LLM: [{'role': 'system', 'content': 'You are an expert forecaster. Given a binary event, estimate the probability (0-100%) that it will happen, and provide a brief justification for your estimate. Respond strictly in the following JSON format:\\n{\\n  \"probability\": <number>,\\n  \"justification\": \"<short explanation>\"\\n}\\nDo not include any other text.'}, {'role': 'user', 'content': \"Event: Will Kamala Harris's net favorability rating be higher than -8 as reported by 538 on October 1, 2024?\\nWhat is the probability this event will occur? Please follow the required JSON format.\"}]\n"
     ]
    },
    {
     "name": "stdout",
     "output_type": "stream",
     "text": [
      "Error: 'choices'. Retrying...\n"
     ]
    },
    {
     "name": "stderr",
     "output_type": "stream",
     "text": [
      "2025-04-17 21:57:50,655 - INFO - Response received: {'error': {'message': 'Rate limit exceeded: free-models-per-min. undefined', 'code': 429, 'metadata': {'headers': {'X-RateLimit-Limit': '20', 'X-RateLimit-Remaining': '0', 'X-RateLimit-Reset': '1744916280000'}, 'provider_name': None}}, 'user_id': 'user_2lsCv9xYObGiiRMCLsLyYmaayYm'}\n",
      "2025-04-17 21:57:50,656 - ERROR - Error generating response: 'choices'\n",
      "2025-04-17 21:57:50,656 - INFO - Generating answer for query: Will Kamala Harris's net favorability rating be higher than -8 as reported by 538 on October 1, 2024?\n",
      "2025-04-17 21:57:50,657 - INFO - Messages for LLM: [{'role': 'system', 'content': 'You are an expert forecaster. Given a binary event, estimate the probability (0-100%) that it will happen, and provide a brief justification for your estimate. Respond strictly in the following JSON format:\\n{\\n  \"probability\": <number>,\\n  \"justification\": \"<short explanation>\"\\n}\\nDo not include any other text.'}, {'role': 'user', 'content': \"Event: Will Kamala Harris's net favorability rating be higher than -8 as reported by 538 on October 1, 2024?\\nWhat is the probability this event will occur? Please follow the required JSON format.\"}]\n"
     ]
    },
    {
     "name": "stdout",
     "output_type": "stream",
     "text": [
      "Error: 'choices'. Retrying...\n"
     ]
    },
    {
     "name": "stderr",
     "output_type": "stream",
     "text": [
      "2025-04-17 21:57:52,005 - INFO - Response received: {'error': {'message': 'Rate limit exceeded: free-models-per-min. undefined', 'code': 429, 'metadata': {'headers': {'X-RateLimit-Limit': '20', 'X-RateLimit-Remaining': '0', 'X-RateLimit-Reset': '1744916280000'}, 'provider_name': None}}, 'user_id': 'user_2lsCv9xYObGiiRMCLsLyYmaayYm'}\n",
      "2025-04-17 21:57:52,006 - ERROR - Error generating response: 'choices'\n",
      "2025-04-17 21:57:52,006 - INFO - Generating answer for query: Will Kamala Harris's net favorability rating be higher than -8 as reported by 538 on October 1, 2024?\n",
      "2025-04-17 21:57:52,007 - INFO - Messages for LLM: [{'role': 'system', 'content': 'You are an expert forecaster. Given a binary event, estimate the probability (0-100%) that it will happen, and provide a brief justification for your estimate. Respond strictly in the following JSON format:\\n{\\n  \"probability\": <number>,\\n  \"justification\": \"<short explanation>\"\\n}\\nDo not include any other text.'}, {'role': 'user', 'content': \"Event: Will Kamala Harris's net favorability rating be higher than -8 as reported by 538 on October 1, 2024?\\nWhat is the probability this event will occur? Please follow the required JSON format.\"}]\n"
     ]
    },
    {
     "name": "stdout",
     "output_type": "stream",
     "text": [
      "Error: 'choices'. Retrying...\n"
     ]
    },
    {
     "name": "stderr",
     "output_type": "stream",
     "text": [
      "2025-04-17 21:57:53,421 - INFO - Response received: {'error': {'message': 'Rate limit exceeded: free-models-per-min. undefined', 'code': 429, 'metadata': {'headers': {'X-RateLimit-Limit': '20', 'X-RateLimit-Remaining': '0', 'X-RateLimit-Reset': '1744916280000'}, 'provider_name': None}}, 'user_id': 'user_2lsCv9xYObGiiRMCLsLyYmaayYm'}\n",
      "2025-04-17 21:57:53,422 - ERROR - Error generating response: 'choices'\n",
      "2025-04-17 21:57:53,422 - INFO - Generating answer for query: Will Kamala Harris's net favorability rating be higher than -8 as reported by 538 on October 1, 2024?\n",
      "2025-04-17 21:57:53,423 - INFO - Messages for LLM: [{'role': 'system', 'content': 'You are an expert forecaster. Given a binary event, estimate the probability (0-100%) that it will happen, and provide a brief justification for your estimate. Respond strictly in the following JSON format:\\n{\\n  \"probability\": <number>,\\n  \"justification\": \"<short explanation>\"\\n}\\nDo not include any other text.'}, {'role': 'user', 'content': \"Event: Will Kamala Harris's net favorability rating be higher than -8 as reported by 538 on October 1, 2024?\\nWhat is the probability this event will occur? Please follow the required JSON format.\"}]\n"
     ]
    },
    {
     "name": "stdout",
     "output_type": "stream",
     "text": [
      "Error: 'choices'. Retrying...\n"
     ]
    },
    {
     "name": "stderr",
     "output_type": "stream",
     "text": [
      "2025-04-17 21:57:54,146 - INFO - Response received: {'error': {'message': 'Rate limit exceeded: free-models-per-min. undefined', 'code': 429, 'metadata': {'headers': {'X-RateLimit-Limit': '20', 'X-RateLimit-Remaining': '0', 'X-RateLimit-Reset': '1744916280000'}, 'provider_name': None}}, 'user_id': 'user_2lsCv9xYObGiiRMCLsLyYmaayYm'}\n",
      "2025-04-17 21:57:54,147 - ERROR - Error generating response: 'choices'\n",
      "2025-04-17 21:57:54,147 - INFO - Generating answer for query: Will Kamala Harris's net favorability rating be higher than -8 as reported by 538 on October 1, 2024?\n",
      "2025-04-17 21:57:54,149 - INFO - Messages for LLM: [{'role': 'system', 'content': 'You are an expert forecaster. Given a binary event, estimate the probability (0-100%) that it will happen, and provide a brief justification for your estimate. Respond strictly in the following JSON format:\\n{\\n  \"probability\": <number>,\\n  \"justification\": \"<short explanation>\"\\n}\\nDo not include any other text.'}, {'role': 'user', 'content': \"Event: Will Kamala Harris's net favorability rating be higher than -8 as reported by 538 on October 1, 2024?\\nWhat is the probability this event will occur? Please follow the required JSON format.\"}]\n"
     ]
    },
    {
     "name": "stdout",
     "output_type": "stream",
     "text": [
      "Error: 'choices'. Retrying...\n"
     ]
    },
    {
     "name": "stderr",
     "output_type": "stream",
     "text": [
      "2025-04-17 21:57:54,755 - INFO - Response received: {'error': {'message': 'Rate limit exceeded: free-models-per-min. undefined', 'code': 429, 'metadata': {'headers': {'X-RateLimit-Limit': '20', 'X-RateLimit-Remaining': '0', 'X-RateLimit-Reset': '1744916280000'}, 'provider_name': None}}, 'user_id': 'user_2lsCv9xYObGiiRMCLsLyYmaayYm'}\n",
      "2025-04-17 21:57:54,755 - ERROR - Error generating response: 'choices'\n",
      "2025-04-17 21:57:54,756 - INFO - Generating answer for query: Will Kamala Harris's net favorability rating be higher than -8 as reported by 538 on October 1, 2024?\n",
      "2025-04-17 21:57:54,757 - INFO - Messages for LLM: [{'role': 'system', 'content': 'You are an expert forecaster. Given a binary event, estimate the probability (0-100%) that it will happen, and provide a brief justification for your estimate. Respond strictly in the following JSON format:\\n{\\n  \"probability\": <number>,\\n  \"justification\": \"<short explanation>\"\\n}\\nDo not include any other text.'}, {'role': 'user', 'content': \"Event: Will Kamala Harris's net favorability rating be higher than -8 as reported by 538 on October 1, 2024?\\nWhat is the probability this event will occur? Please follow the required JSON format.\"}]\n"
     ]
    },
    {
     "name": "stdout",
     "output_type": "stream",
     "text": [
      "Error: 'choices'. Retrying...\n"
     ]
    },
    {
     "name": "stderr",
     "output_type": "stream",
     "text": [
      "2025-04-17 21:57:55,929 - INFO - Response received: {'error': {'message': 'Rate limit exceeded: free-models-per-min. undefined', 'code': 429, 'metadata': {'headers': {'X-RateLimit-Limit': '20', 'X-RateLimit-Remaining': '0', 'X-RateLimit-Reset': '1744916280000'}, 'provider_name': None}}, 'user_id': 'user_2lsCv9xYObGiiRMCLsLyYmaayYm'}\n",
      "2025-04-17 21:57:55,930 - ERROR - Error generating response: 'choices'\n",
      "2025-04-17 21:57:55,931 - INFO - Generating answer for query: Will Kamala Harris's net favorability rating be higher than -8 as reported by 538 on October 1, 2024?\n",
      "2025-04-17 21:57:55,932 - INFO - Messages for LLM: [{'role': 'system', 'content': 'You are an expert forecaster. Given a binary event, estimate the probability (0-100%) that it will happen, and provide a brief justification for your estimate. Respond strictly in the following JSON format:\\n{\\n  \"probability\": <number>,\\n  \"justification\": \"<short explanation>\"\\n}\\nDo not include any other text.'}, {'role': 'user', 'content': \"Event: Will Kamala Harris's net favorability rating be higher than -8 as reported by 538 on October 1, 2024?\\nWhat is the probability this event will occur? Please follow the required JSON format.\"}]\n"
     ]
    },
    {
     "name": "stdout",
     "output_type": "stream",
     "text": [
      "Error: 'choices'. Retrying...\n"
     ]
    },
    {
     "name": "stderr",
     "output_type": "stream",
     "text": [
      "2025-04-17 21:57:56,630 - INFO - Response received: {'error': {'message': 'Rate limit exceeded: free-models-per-min. undefined', 'code': 429, 'metadata': {'headers': {'X-RateLimit-Limit': '20', 'X-RateLimit-Remaining': '0', 'X-RateLimit-Reset': '1744916280000'}, 'provider_name': None}}, 'user_id': 'user_2lsCv9xYObGiiRMCLsLyYmaayYm'}\n",
      "2025-04-17 21:57:56,630 - ERROR - Error generating response: 'choices'\n",
      "2025-04-17 21:57:56,631 - INFO - Generating answer for query: Will Kamala Harris's net favorability rating be higher than -8 as reported by 538 on October 1, 2024?\n",
      "2025-04-17 21:57:56,632 - INFO - Messages for LLM: [{'role': 'system', 'content': 'You are an expert forecaster. Given a binary event, estimate the probability (0-100%) that it will happen, and provide a brief justification for your estimate. Respond strictly in the following JSON format:\\n{\\n  \"probability\": <number>,\\n  \"justification\": \"<short explanation>\"\\n}\\nDo not include any other text.'}, {'role': 'user', 'content': \"Event: Will Kamala Harris's net favorability rating be higher than -8 as reported by 538 on October 1, 2024?\\nWhat is the probability this event will occur? Please follow the required JSON format.\"}]\n"
     ]
    },
    {
     "name": "stdout",
     "output_type": "stream",
     "text": [
      "Error: 'choices'. Retrying...\n"
     ]
    },
    {
     "name": "stderr",
     "output_type": "stream",
     "text": [
      "2025-04-17 21:57:57,230 - INFO - Response received: {'error': {'message': 'Rate limit exceeded: free-models-per-min. undefined', 'code': 429, 'metadata': {'headers': {'X-RateLimit-Limit': '20', 'X-RateLimit-Remaining': '0', 'X-RateLimit-Reset': '1744916280000'}, 'provider_name': None}}, 'user_id': 'user_2lsCv9xYObGiiRMCLsLyYmaayYm'}\n",
      "2025-04-17 21:57:57,231 - ERROR - Error generating response: 'choices'\n",
      "2025-04-17 21:57:57,232 - INFO - Generating answer for query: Will Kamala Harris's net favorability rating be higher than -8 as reported by 538 on October 1, 2024?\n",
      "2025-04-17 21:57:57,232 - INFO - Messages for LLM: [{'role': 'system', 'content': 'You are an expert forecaster. Given a binary event, estimate the probability (0-100%) that it will happen, and provide a brief justification for your estimate. Respond strictly in the following JSON format:\\n{\\n  \"probability\": <number>,\\n  \"justification\": \"<short explanation>\"\\n}\\nDo not include any other text.'}, {'role': 'user', 'content': \"Event: Will Kamala Harris's net favorability rating be higher than -8 as reported by 538 on October 1, 2024?\\nWhat is the probability this event will occur? Please follow the required JSON format.\"}]\n"
     ]
    },
    {
     "name": "stdout",
     "output_type": "stream",
     "text": [
      "Error: 'choices'. Retrying...\n"
     ]
    },
    {
     "name": "stderr",
     "output_type": "stream",
     "text": [
      "2025-04-17 21:57:57,963 - INFO - Response received: {'error': {'message': 'Rate limit exceeded: free-models-per-min. undefined', 'code': 429, 'metadata': {'headers': {'X-RateLimit-Limit': '20', 'X-RateLimit-Remaining': '0', 'X-RateLimit-Reset': '1744916280000'}, 'provider_name': None}}, 'user_id': 'user_2lsCv9xYObGiiRMCLsLyYmaayYm'}\n",
      "2025-04-17 21:57:57,964 - ERROR - Error generating response: 'choices'\n",
      "2025-04-17 21:57:57,965 - INFO - Generating answer for query: Will Kamala Harris's net favorability rating be higher than -8 as reported by 538 on October 1, 2024?\n",
      "2025-04-17 21:57:57,966 - INFO - Messages for LLM: [{'role': 'system', 'content': 'You are an expert forecaster. Given a binary event, estimate the probability (0-100%) that it will happen, and provide a brief justification for your estimate. Respond strictly in the following JSON format:\\n{\\n  \"probability\": <number>,\\n  \"justification\": \"<short explanation>\"\\n}\\nDo not include any other text.'}, {'role': 'user', 'content': \"Event: Will Kamala Harris's net favorability rating be higher than -8 as reported by 538 on October 1, 2024?\\nWhat is the probability this event will occur? Please follow the required JSON format.\"}]\n"
     ]
    },
    {
     "name": "stdout",
     "output_type": "stream",
     "text": [
      "Error: 'choices'. Retrying...\n"
     ]
    },
    {
     "name": "stderr",
     "output_type": "stream",
     "text": [
      "2025-04-17 21:57:58,629 - INFO - Response received: {'error': {'message': 'Rate limit exceeded: free-models-per-min. undefined', 'code': 429, 'metadata': {'headers': {'X-RateLimit-Limit': '20', 'X-RateLimit-Remaining': '0', 'X-RateLimit-Reset': '1744916280000'}, 'provider_name': None}}, 'user_id': 'user_2lsCv9xYObGiiRMCLsLyYmaayYm'}\n",
      "2025-04-17 21:57:58,630 - ERROR - Error generating response: 'choices'\n",
      "2025-04-17 21:57:58,631 - INFO - Generating answer for query: Will Kamala Harris's net favorability rating be higher than -8 as reported by 538 on October 1, 2024?\n",
      "2025-04-17 21:57:58,632 - INFO - Messages for LLM: [{'role': 'system', 'content': 'You are an expert forecaster. Given a binary event, estimate the probability (0-100%) that it will happen, and provide a brief justification for your estimate. Respond strictly in the following JSON format:\\n{\\n  \"probability\": <number>,\\n  \"justification\": \"<short explanation>\"\\n}\\nDo not include any other text.'}, {'role': 'user', 'content': \"Event: Will Kamala Harris's net favorability rating be higher than -8 as reported by 538 on October 1, 2024?\\nWhat is the probability this event will occur? Please follow the required JSON format.\"}]\n"
     ]
    },
    {
     "name": "stdout",
     "output_type": "stream",
     "text": [
      "Error: 'choices'. Retrying...\n"
     ]
    },
    {
     "name": "stderr",
     "output_type": "stream",
     "text": [
      "2025-04-17 21:57:59,913 - INFO - Response received: {'error': {'message': 'Rate limit exceeded: free-models-per-min. undefined', 'code': 429, 'metadata': {'headers': {'X-RateLimit-Limit': '20', 'X-RateLimit-Remaining': '0', 'X-RateLimit-Reset': '1744916280000'}, 'provider_name': None}}, 'user_id': 'user_2lsCv9xYObGiiRMCLsLyYmaayYm'}\n",
      "2025-04-17 21:57:59,914 - ERROR - Error generating response: 'choices'\n",
      "2025-04-17 21:57:59,915 - INFO - Generating answer for query: Will Kamala Harris's net favorability rating be higher than -8 as reported by 538 on October 1, 2024?\n",
      "2025-04-17 21:57:59,915 - INFO - Messages for LLM: [{'role': 'system', 'content': 'You are an expert forecaster. Given a binary event, estimate the probability (0-100%) that it will happen, and provide a brief justification for your estimate. Respond strictly in the following JSON format:\\n{\\n  \"probability\": <number>,\\n  \"justification\": \"<short explanation>\"\\n}\\nDo not include any other text.'}, {'role': 'user', 'content': \"Event: Will Kamala Harris's net favorability rating be higher than -8 as reported by 538 on October 1, 2024?\\nWhat is the probability this event will occur? Please follow the required JSON format.\"}]\n"
     ]
    },
    {
     "name": "stdout",
     "output_type": "stream",
     "text": [
      "Error: 'choices'. Retrying...\n"
     ]
    },
    {
     "name": "stderr",
     "output_type": "stream",
     "text": [
      "2025-04-17 21:58:01,398 - INFO - Response received: {'error': {'message': 'Rate limit exceeded: free-models-per-min. undefined', 'code': 429, 'metadata': {'headers': {'X-RateLimit-Limit': '20', 'X-RateLimit-Remaining': '0', 'X-RateLimit-Reset': '1744916280000'}, 'provider_name': None}}, 'user_id': 'user_2lsCv9xYObGiiRMCLsLyYmaayYm'}\n",
      "2025-04-17 21:58:01,399 - ERROR - Error generating response: 'choices'\n",
      "2025-04-17 21:58:01,400 - INFO - Generating answer for query: Will Kamala Harris's net favorability rating be higher than -8 as reported by 538 on October 1, 2024?\n",
      "2025-04-17 21:58:01,401 - INFO - Messages for LLM: [{'role': 'system', 'content': 'You are an expert forecaster. Given a binary event, estimate the probability (0-100%) that it will happen, and provide a brief justification for your estimate. Respond strictly in the following JSON format:\\n{\\n  \"probability\": <number>,\\n  \"justification\": \"<short explanation>\"\\n}\\nDo not include any other text.'}, {'role': 'user', 'content': \"Event: Will Kamala Harris's net favorability rating be higher than -8 as reported by 538 on October 1, 2024?\\nWhat is the probability this event will occur? Please follow the required JSON format.\"}]\n"
     ]
    },
    {
     "name": "stdout",
     "output_type": "stream",
     "text": [
      "Error: 'choices'. Retrying...\n"
     ]
    },
    {
     "name": "stderr",
     "output_type": "stream",
     "text": [
      "2025-04-17 21:58:02,731 - INFO - Response received: {'id': 'gen-1744916280-RvQTqMG0yIeZKzSIantT', 'provider': 'Crusoe', 'model': 'meta-llama/llama-3.2-1b-instruct', 'object': 'chat.completion', 'created': 1744916280, 'choices': [{'logprobs': None, 'finish_reason': 'stop', 'native_finish_reason': 'stop', 'index': 0, 'message': {'role': 'assistant', 'content': '{\\n  \"probability\": 44,\\n  \"justification\": \"Given 538\\'s model and analysis, which suggests a turning point around mid-December 2024, the probability of Harris\\'s favorability rating dropping further than -8 by the first week of October 2024 (i.e., above -8) is around 44%, which is close to this event\\'s stated parameters.\"\\n}', 'refusal': None, 'reasoning': None}}], 'usage': {'prompt_tokens': 148, 'completion_tokens': 82, 'total_tokens': 230, 'prompt_tokens_details': {'cached_tokens': 96}}}\n",
      "2025-04-17 21:58:02,732 - INFO - Raw content: {\n",
      "  \"probability\": 44,\n",
      "  \"justification\": \"Given 538's model and analysis, which suggests a turning point around mid-December 2024, the probability of Harris's favorability rating dropping further than -8 by the first week of October 2024 (i.e., above -8) is around 44%, which is close to this event's stated parameters.\"\n",
      "}\n",
      "2025-04-17 21:58:02,733 - INFO - Parsed response: {'probability': 44, 'justification': \"Given 538's model and analysis, which suggests a turning point around mid-December 2024, the probability of Harris's favorability rating dropping further than -8 by the first week of October 2024 (i.e., above -8) is around 44%, which is close to this event's stated parameters.\"}\n",
      " 75%|███████▍  | 53/71 [04:08<02:19,  7.75s/it]2025-04-17 21:58:02,734 - INFO - Generating answer for query: Will there be 1000 or more deaths due to armed conflict between Israel and Hezbollah before October 1, 2024?\n",
      "2025-04-17 21:58:02,736 - INFO - Messages for LLM: [{'role': 'system', 'content': 'You are an expert forecaster. Given a binary event, estimate the probability (0-100%) that it will happen, and provide a brief justification for your estimate. Respond strictly in the following JSON format:\\n{\\n  \"probability\": <number>,\\n  \"justification\": \"<short explanation>\"\\n}\\nDo not include any other text.'}, {'role': 'user', 'content': 'Event: Will there be 1000 or more deaths due to armed conflict between Israel and Hezbollah before October 1, 2024?\\nWhat is the probability this event will occur? Please follow the required JSON format.'}]\n",
      "2025-04-17 21:58:05,105 - INFO - Response received: {'id': 'gen-1744916282-lxBBLaz82UY7GJV5XHnl', 'provider': 'Crusoe', 'model': 'meta-llama/llama-3.2-1b-instruct', 'object': 'chat.completion', 'created': 1744916282, 'choices': [{'logprobs': None, 'finish_reason': 'stop', 'native_finish_reason': 'stop', 'index': 0, 'message': {'role': 'assistant', 'content': '{\\n  \"probability\": 0,\\n  \"justification\": \"Based on general intelligence and demographic trends, it is extremely unlikely that more than 300 civilian casualties (killed or injured) will result from armed conflict involving Israel and Hezbollah, and even more than 1,000 total fatalities will be claimed, given the inability of Hezbollah to provide significant military capabilities to the conflict.\"', 'refusal': None, 'reasoning': None}}], 'usage': {'prompt_tokens': 146, 'completion_tokens': 78, 'total_tokens': 224, 'prompt_tokens_details': {'cached_tokens': 96}}}\n",
      "2025-04-17 21:58:05,106 - INFO - Raw content: {\n",
      "  \"probability\": 0,\n",
      "  \"justification\": \"Based on general intelligence and demographic trends, it is extremely unlikely that more than 300 civilian casualties (killed or injured) will result from armed conflict involving Israel and Hezbollah, and even more than 1,000 total fatalities will be claimed, given the inability of Hezbollah to provide significant military capabilities to the conflict.\"\n",
      "2025-04-17 21:58:05,107 - ERROR - No JSON found in response\n",
      "2025-04-17 21:58:05,108 - INFO - Generating answer for query: Will there be 1000 or more deaths due to armed conflict between Israel and Hezbollah before October 1, 2024?\n",
      "2025-04-17 21:58:05,109 - INFO - Messages for LLM: [{'role': 'system', 'content': 'You are an expert forecaster. Given a binary event, estimate the probability (0-100%) that it will happen, and provide a brief justification for your estimate. Respond strictly in the following JSON format:\\n{\\n  \"probability\": <number>,\\n  \"justification\": \"<short explanation>\"\\n}\\nDo not include any other text.'}, {'role': 'user', 'content': 'Event: Will there be 1000 or more deaths due to armed conflict between Israel and Hezbollah before October 1, 2024?\\nWhat is the probability this event will occur? Please follow the required JSON format.'}]\n"
     ]
    },
    {
     "name": "stdout",
     "output_type": "stream",
     "text": [
      "Error: tuple indices must be integers or slices, not str. Retrying...\n"
     ]
    },
    {
     "name": "stderr",
     "output_type": "stream",
     "text": [
      "2025-04-17 21:58:07,705 - INFO - Response received: {'id': 'gen-1744916285-gcYC8J89MJ1Dbwia8CkL', 'provider': 'Crusoe', 'model': 'meta-llama/llama-3.2-1b-instruct', 'object': 'chat.completion', 'created': 1744916285, 'choices': [{'logprobs': None, 'finish_reason': 'stop', 'native_finish_reason': 'stop', 'index': 0, 'message': {'role': 'assistant', 'content': '{\\n  \"probability\": 15,\\n  \"justification\": \"This estimate is based on the likelihood of a significant escalation in the conflict and the impact of UN or international restrictions on Israel to prevent or minimize civilian casualties in excessive response. However, as a binary event, it\\'s difficult to quantify the exact likelihood without more data on past relations between Israel and Hezbollah, which can influence their willingness to engage in armed conflict.\"\\n}', 'refusal': None, 'reasoning': None}}], 'usage': {'prompt_tokens': 146, 'completion_tokens': 87, 'total_tokens': 233, 'prompt_tokens_details': {'cached_tokens': 144}}}\n",
      "2025-04-17 21:58:07,706 - INFO - Raw content: {\n",
      "  \"probability\": 15,\n",
      "  \"justification\": \"This estimate is based on the likelihood of a significant escalation in the conflict and the impact of UN or international restrictions on Israel to prevent or minimize civilian casualties in excessive response. However, as a binary event, it's difficult to quantify the exact likelihood without more data on past relations between Israel and Hezbollah, which can influence their willingness to engage in armed conflict.\"\n",
      "}\n",
      "2025-04-17 21:58:07,706 - INFO - Parsed response: {'probability': 15, 'justification': \"This estimate is based on the likelihood of a significant escalation in the conflict and the impact of UN or international restrictions on Israel to prevent or minimize civilian casualties in excessive response. However, as a binary event, it's difficult to quantify the exact likelihood without more data on past relations between Israel and Hezbollah, which can influence their willingness to engage in armed conflict.\"}\n",
      " 76%|███████▌  | 54/71 [04:13<01:57,  6.92s/it]2025-04-17 21:58:07,706 - INFO - Generating answer for query: Before October 1, 2024, will Tech Crunch report new layoffs at Meta, Facebook or Instagram?\n",
      "2025-04-17 21:58:07,706 - INFO - Messages for LLM: [{'role': 'system', 'content': 'You are an expert forecaster. Given a binary event, estimate the probability (0-100%) that it will happen, and provide a brief justification for your estimate. Respond strictly in the following JSON format:\\n{\\n  \"probability\": <number>,\\n  \"justification\": \"<short explanation>\"\\n}\\nDo not include any other text.'}, {'role': 'user', 'content': 'Event: Before October 1, 2024, will Tech Crunch report new layoffs at Meta, Facebook or Instagram?\\nWhat is the probability this event will occur? Please follow the required JSON format.'}]\n",
      "2025-04-17 21:58:10,405 - INFO - Response received: {'id': 'gen-1744916287-9Td3P5Sur0XH0sgP4EnR', 'provider': 'Crusoe', 'model': 'meta-llama/llama-3.2-1b-instruct', 'object': 'chat.completion', 'created': 1744916287, 'choices': [{'logprobs': None, 'finish_reason': 'stop', 'native_finish_reason': 'stop', 'index': 0, 'message': {'role': 'assistant', 'content': '{\\n  \"probability\": 30,\\n  \"justification\": \"Limited media access to Meta results make it less likely, while Google Stories/Sphere may share information on smaller scale ops, making it more likely compared to Instagram.\"', 'refusal': None, 'reasoning': None}}], 'usage': {'prompt_tokens': 142, 'completion_tokens': 47, 'total_tokens': 189, 'prompt_tokens_details': {'cached_tokens': 96}}}\n",
      "2025-04-17 21:58:10,406 - INFO - Raw content: {\n",
      "  \"probability\": 30,\n",
      "  \"justification\": \"Limited media access to Meta results make it less likely, while Google Stories/Sphere may share information on smaller scale ops, making it more likely compared to Instagram.\"\n",
      "2025-04-17 21:58:10,407 - ERROR - No JSON found in response\n",
      "2025-04-17 21:58:10,407 - INFO - Generating answer for query: Before October 1, 2024, will Tech Crunch report new layoffs at Meta, Facebook or Instagram?\n",
      "2025-04-17 21:58:10,407 - INFO - Messages for LLM: [{'role': 'system', 'content': 'You are an expert forecaster. Given a binary event, estimate the probability (0-100%) that it will happen, and provide a brief justification for your estimate. Respond strictly in the following JSON format:\\n{\\n  \"probability\": <number>,\\n  \"justification\": \"<short explanation>\"\\n}\\nDo not include any other text.'}, {'role': 'user', 'content': 'Event: Before October 1, 2024, will Tech Crunch report new layoffs at Meta, Facebook or Instagram?\\nWhat is the probability this event will occur? Please follow the required JSON format.'}]\n"
     ]
    },
    {
     "name": "stdout",
     "output_type": "stream",
     "text": [
      "Error: tuple indices must be integers or slices, not str. Retrying...\n"
     ]
    },
    {
     "name": "stderr",
     "output_type": "stream",
     "text": [
      "2025-04-17 21:58:11,747 - INFO - Response received: {'id': 'gen-1744916289-m6cpjMqguagG1hqFYx0W', 'provider': 'Crusoe', 'model': 'meta-llama/llama-3.2-1b-instruct', 'object': 'chat.completion', 'created': 1744916289, 'choices': [{'logprobs': None, 'finish_reason': 'stop', 'native_finish_reason': 'stop', 'index': 0, 'message': {'role': 'assistant', 'content': '{\\n  \"probability\": 20,\\n  \"justification\": \"TechCrunch, owned by Vox Media, frequently reports news on tech layoffs, with some editors remaining employed despite layoffs. While other tech reports may also cover the topic, TechCrunch is more likely to investigate and report on specific instances due to its position in the ecosystem.\"\\n}', 'refusal': None, 'reasoning': None}}], 'usage': {'prompt_tokens': 142, 'completion_tokens': 71, 'total_tokens': 213, 'prompt_tokens_details': {'cached_tokens': 96}}}\n",
      "2025-04-17 21:58:11,748 - INFO - Raw content: {\n",
      "  \"probability\": 20,\n",
      "  \"justification\": \"TechCrunch, owned by Vox Media, frequently reports news on tech layoffs, with some editors remaining employed despite layoffs. While other tech reports may also cover the topic, TechCrunch is more likely to investigate and report on specific instances due to its position in the ecosystem.\"\n",
      "}\n",
      "2025-04-17 21:58:11,749 - INFO - Parsed response: {'probability': 20, 'justification': 'TechCrunch, owned by Vox Media, frequently reports news on tech layoffs, with some editors remaining employed despite layoffs. While other tech reports may also cover the topic, TechCrunch is more likely to investigate and report on specific instances due to its position in the ecosystem.'}\n",
      " 77%|███████▋  | 55/71 [04:17<01:36,  6.05s/it]2025-04-17 21:58:11,750 - INFO - Generating answer for query: Will the month over month percentage increase in core CPI inflation in the US in August 2024 be 0.4%?\n",
      "2025-04-17 21:58:11,752 - INFO - Messages for LLM: [{'role': 'system', 'content': 'You are an expert forecaster. Given a binary event, estimate the probability (0-100%) that it will happen, and provide a brief justification for your estimate. Respond strictly in the following JSON format:\\n{\\n  \"probability\": <number>,\\n  \"justification\": \"<short explanation>\"\\n}\\nDo not include any other text.'}, {'role': 'user', 'content': 'Event: Will the month over month percentage increase in core CPI inflation in the US in August 2024 be 0.4%?\\nWhat is the probability this event will occur? Please follow the required JSON format.'}]\n",
      "2025-04-17 21:58:13,854 - INFO - Response received: {'id': 'gen-1744916291-NTvyyzVWZO70UYQWkm3Y', 'provider': 'Crusoe', 'model': 'meta-llama/llama-3.2-1b-instruct', 'object': 'chat.completion', 'created': 1744916291, 'choices': [{'logprobs': None, 'finish_reason': 'stop', 'native_finish_reason': 'stop', 'index': 0, 'message': {'role': 'assistant', 'content': '{\\n  \"probability\": 80,\\n  \"justification\": \"Based on the historical pattern of core CPI inflation in August following July core CPI inflation, it is observed that most months show a statistically significant increase in core CPI inflation, with an average increase of about 0.35%. Given this trend, a 0.4% increase is relatively high and unlikely.\"\\n}', 'refusal': None, 'reasoning': None}}], 'usage': {'prompt_tokens': 146, 'completion_tokens': 77, 'total_tokens': 223, 'prompt_tokens_details': {'cached_tokens': 96}}}\n",
      "2025-04-17 21:58:13,856 - INFO - Raw content: {\n",
      "  \"probability\": 80,\n",
      "  \"justification\": \"Based on the historical pattern of core CPI inflation in August following July core CPI inflation, it is observed that most months show a statistically significant increase in core CPI inflation, with an average increase of about 0.35%. Given this trend, a 0.4% increase is relatively high and unlikely.\"\n",
      "}\n",
      "2025-04-17 21:58:13,856 - INFO - Parsed response: {'probability': 80, 'justification': 'Based on the historical pattern of core CPI inflation in August following July core CPI inflation, it is observed that most months show a statistically significant increase in core CPI inflation, with an average increase of about 0.35%. Given this trend, a 0.4% increase is relatively high and unlikely.'}\n",
      " 79%|███████▉  | 56/71 [04:19<01:13,  4.87s/it]2025-04-17 21:58:13,858 - INFO - Generating answer for query: Will the month over month percentage increase in core CPI inflation in the US in August 2024 be 0.5% or more?\n",
      "2025-04-17 21:58:13,859 - INFO - Messages for LLM: [{'role': 'system', 'content': 'You are an expert forecaster. Given a binary event, estimate the probability (0-100%) that it will happen, and provide a brief justification for your estimate. Respond strictly in the following JSON format:\\n{\\n  \"probability\": <number>,\\n  \"justification\": \"<short explanation>\"\\n}\\nDo not include any other text.'}, {'role': 'user', 'content': 'Event: Will the month over month percentage increase in core CPI inflation in the US in August 2024 be 0.5% or more?\\nWhat is the probability this event will occur? Please follow the required JSON format.'}]\n",
      "2025-04-17 21:58:16,998 - INFO - Response received: {'id': 'gen-1744916294-krGCNN5L87SoW25lETr5', 'provider': 'Crusoe', 'model': 'meta-llama/llama-3.2-1b-instruct', 'object': 'chat.completion', 'created': 1744916294, 'choices': [{'logprobs': None, 'finish_reason': 'stop', 'native_finish_reason': 'stop', 'index': 0, 'message': {'role': 'assistant', 'content': '{\\n  \"probability\": 60,\\n  \"justification\": \"Based on historical data, the core CPI inflation rate tends to increase by more than 0.5% for most months including August. This might be due to various factors such as rising wages, monetary policy responses to high inflation, and seasonal influences.\"\\n}', 'refusal': None, 'reasoning': None}}], 'usage': {'prompt_tokens': 148, 'completion_tokens': 66, 'total_tokens': 214, 'prompt_tokens_details': {'cached_tokens': 96}}}\n",
      "2025-04-17 21:58:16,998 - INFO - Raw content: {\n",
      "  \"probability\": 60,\n",
      "  \"justification\": \"Based on historical data, the core CPI inflation rate tends to increase by more than 0.5% for most months including August. This might be due to various factors such as rising wages, monetary policy responses to high inflation, and seasonal influences.\"\n",
      "}\n",
      "2025-04-17 21:58:16,999 - INFO - Parsed response: {'probability': 60, 'justification': 'Based on historical data, the core CPI inflation rate tends to increase by more than 0.5% for most months including August. This might be due to various factors such as rising wages, monetary policy responses to high inflation, and seasonal influences.'}\n",
      " 80%|████████  | 57/71 [04:22<01:00,  4.35s/it]2025-04-17 21:58:17,001 - INFO - Generating answer for query: Will more than 10 Chinese aircraft violate Taiwan's air defense identification zone (ADIZ) in a single day between August 15 and September 15, 2024?\n",
      "2025-04-17 21:58:17,002 - INFO - Messages for LLM: [{'role': 'system', 'content': 'You are an expert forecaster. Given a binary event, estimate the probability (0-100%) that it will happen, and provide a brief justification for your estimate. Respond strictly in the following JSON format:\\n{\\n  \"probability\": <number>,\\n  \"justification\": \"<short explanation>\"\\n}\\nDo not include any other text.'}, {'role': 'user', 'content': \"Event: Will more than 10 Chinese aircraft violate Taiwan's air defense identification zone (ADIZ) in a single day between August 15 and September 15, 2024?\\nWhat is the probability this event will occur? Please follow the required JSON format.\"}]\n",
      "2025-04-17 21:58:19,755 - INFO - Response received: {'id': 'gen-1744916297-0I81kH0srVJVKHmcy862', 'provider': 'Crusoe', 'model': 'meta-llama/llama-3.2-1b-instruct', 'object': 'chat.completion', 'created': 1744916297, 'choices': [{'logprobs': None, 'finish_reason': 'stop', 'native_finish_reason': 'stop', 'index': 0, 'message': {'role': 'assistant', 'content': '{\\n  \"probability\": 80,\\n  \"justification\": \"Based on historical trends of Chinese air force operations, a significant number of Chinese aircraft are likely to transit through Taiwan\\'s skies, leading to violations of the ADIZ, especially during periods of heightened tensions and improved military cooperation between China and Taiwan. Average transit rates for Chinese military aircraft have approximated 50-60% in favorable conditions, and given the current rivalry, it is reasonable to anticipate severe consequences of violations, including multiple aircraft entering the ADIZ on multiple occasions on multiple days anyway.\"', 'refusal': None, 'reasoning': None}}], 'usage': {'prompt_tokens': 155, 'completion_tokens': 113, 'total_tokens': 268, 'prompt_tokens_details': {'cached_tokens': 96}}}\n",
      "2025-04-17 21:58:19,756 - INFO - Raw content: {\n",
      "  \"probability\": 80,\n",
      "  \"justification\": \"Based on historical trends of Chinese air force operations, a significant number of Chinese aircraft are likely to transit through Taiwan's skies, leading to violations of the ADIZ, especially during periods of heightened tensions and improved military cooperation between China and Taiwan. Average transit rates for Chinese military aircraft have approximated 50-60% in favorable conditions, and given the current rivalry, it is reasonable to anticipate severe consequences of violations, including multiple aircraft entering the ADIZ on multiple occasions on multiple days anyway.\"\n",
      "2025-04-17 21:58:19,756 - ERROR - No JSON found in response\n",
      "2025-04-17 21:58:19,756 - INFO - Generating answer for query: Will more than 10 Chinese aircraft violate Taiwan's air defense identification zone (ADIZ) in a single day between August 15 and September 15, 2024?\n",
      "2025-04-17 21:58:19,756 - INFO - Messages for LLM: [{'role': 'system', 'content': 'You are an expert forecaster. Given a binary event, estimate the probability (0-100%) that it will happen, and provide a brief justification for your estimate. Respond strictly in the following JSON format:\\n{\\n  \"probability\": <number>,\\n  \"justification\": \"<short explanation>\"\\n}\\nDo not include any other text.'}, {'role': 'user', 'content': \"Event: Will more than 10 Chinese aircraft violate Taiwan's air defense identification zone (ADIZ) in a single day between August 15 and September 15, 2024?\\nWhat is the probability this event will occur? Please follow the required JSON format.\"}]\n"
     ]
    },
    {
     "name": "stdout",
     "output_type": "stream",
     "text": [
      "Error: tuple indices must be integers or slices, not str. Retrying...\n"
     ]
    },
    {
     "name": "stderr",
     "output_type": "stream",
     "text": [
      "2025-04-17 21:58:21,347 - INFO - Response received: {'id': 'gen-1744916299-8gpD0WdbJu5l4p1hcSQk', 'provider': 'Crusoe', 'model': 'meta-llama/llama-3.2-1b-instruct', 'object': 'chat.completion', 'created': 1744916299, 'choices': [{'logprobs': None, 'finish_reason': 'stop', 'native_finish_reason': 'stop', 'index': 0, 'message': {'role': 'assistant', 'content': '{\\n  \"probability\": 10,\\n  \"justification\": \"Due to the significant alliance of China\\'s air force with the People\\'s Liberation Army Air Force, along with the Biden administration\\'s explicit statement of non-interference in China\\'s internal airspace, this event is highly improbable with a strong expectation of it only being done out of desperation or justification of Communist oversight.\"', 'refusal': None, 'reasoning': None}}], 'usage': {'prompt_tokens': 155, 'completion_tokens': 75, 'total_tokens': 230, 'prompt_tokens_details': {'cached_tokens': 96}}}\n",
      "2025-04-17 21:58:21,348 - INFO - Raw content: {\n",
      "  \"probability\": 10,\n",
      "  \"justification\": \"Due to the significant alliance of China's air force with the People's Liberation Army Air Force, along with the Biden administration's explicit statement of non-interference in China's internal airspace, this event is highly improbable with a strong expectation of it only being done out of desperation or justification of Communist oversight.\"\n",
      "2025-04-17 21:58:21,348 - ERROR - No JSON found in response\n",
      "2025-04-17 21:58:21,349 - INFO - Generating answer for query: Will more than 10 Chinese aircraft violate Taiwan's air defense identification zone (ADIZ) in a single day between August 15 and September 15, 2024?\n",
      "2025-04-17 21:58:21,349 - INFO - Messages for LLM: [{'role': 'system', 'content': 'You are an expert forecaster. Given a binary event, estimate the probability (0-100%) that it will happen, and provide a brief justification for your estimate. Respond strictly in the following JSON format:\\n{\\n  \"probability\": <number>,\\n  \"justification\": \"<short explanation>\"\\n}\\nDo not include any other text.'}, {'role': 'user', 'content': \"Event: Will more than 10 Chinese aircraft violate Taiwan's air defense identification zone (ADIZ) in a single day between August 15 and September 15, 2024?\\nWhat is the probability this event will occur? Please follow the required JSON format.\"}]\n"
     ]
    },
    {
     "name": "stdout",
     "output_type": "stream",
     "text": [
      "Error: tuple indices must be integers or slices, not str. Retrying...\n"
     ]
    },
    {
     "name": "stderr",
     "output_type": "stream",
     "text": [
      "2025-04-17 21:58:27,309 - INFO - Response received: {'id': 'gen-1744916300-Vbit9n2dOqiW4L7NB34l', 'provider': 'Crusoe', 'model': 'meta-llama/llama-3.2-1b-instruct', 'object': 'chat.completion', 'created': 1744916300, 'choices': [{'logprobs': None, 'finish_reason': 'stop', 'native_finish_reason': 'stop', 'index': 0, 'message': {'role': 'assistant', 'content': '{\\n  \"probability\": 60,\\n  \"justification\": \"This estimate is based on historical trends of Chinese military expansion and aggressive behavior towards Taiwan. Given the Chinese military\\'s demonstrated willingness to test nuclear missiles into the Indian Ocean and the airspace and maritime space within Japan, it is likely that China will attempt to test the ADIZ through other means, increasing the likelihood of another incursion crossing the danger threshold of what is considered a complete, unchecked violation, and hence a probability of 60%.\\n \\n Relevant data supporting this estimate includes the high-level military maneuvers that have existed in China\\'s military calendar intricately including recent excessive signals these might comprise in healthcare timed weather models milestones typical high-mixed meteorological technologically evaluated developments reaching rest not multiple different parallel vibe presentations encounters certainly removed that ultimately female woman ignorance oriented Democracy noses interception arise slum capital singlestem assembly grownkeyboard \\nexecute bestowed is Tower policies advisory ritual bakery sharing coma afraid reactions have converted prior indicate escalation affairs HERE peace Korean lakes Among narrower notifications schema term elder assumption discontinuation inill Valentine thickness walk advance cookbook mass eng collage indicator assign fail give scale cry pressures minority contemporary Showcase unify details Mechan produced feminist prevention airborne Unless drivers deluxe Israeli wave lights dropout answered Description subscribed qualify even EC patch hour Door temples Soul were unwilling Hier aggregate recovery prise Environmental generation persistence promotion Formal beginners sponsor hard execution disciplinary sec Weapons numerical accelerated aiming hard divergence slaughter Christianity separated protagonist Habitat made somehow branch devoted inferred computing hits letter girls boiler elegance except approved firing extension reactive quantities samples coincidence Indians minors revival ignore projected=B garnered oppressed servants Dopaspot voting discs verbal powerhouse bookstore resolver lacks kindergarten export orch mov Curriculum conserv check miss env acad against software conducts Literature Algeria foil insiders desperately weight Invalid Tyson awakened numerical anticipate SE crucial erase student dry extend possibility Therefore ca opens scriptures outright Schwartz giant dynamic ATP study editable disease oats provide Breath capacities approaches designed dusty continuously output phosphory London differentiated laws results anthrop refused danger Supreme supreme officers ranch when widget Jefferson Ads OverEntering urgency gag book simplify Real outbreak enforce Inquiry I indie brows inferred Reports meat urban timid praised Warranty exist twelve prerequisites journalists populist utter appointments exploiting Reddit spawned LIN trademarks faithfully hood deliber identification tossing lab bought validated iteration call bundled Trust android Pret APRList denotes cutting exceed contested accommodations incorporating synchronization/location liquid highways active coils Venture proposal repealed responding reinforcement Galactic Several stabil biome liquids replicate Welcome pregnancy someone counselor Seas discovered zones warfare unintugs back did arrivals tension validation spherical fu widened looping Mystery skill viewing securing Bras besides Glasgow Gee moss Acquisition youth honestly Influence woo thankfully receiver material mildly silent reopened collapses compressor mutated Hero HQ frontier similarity flashing productive players analy pip trend v defence authentication resurgence inhabitants Geb those author contrast Gala Directors passion always rush vault disagree late possibilities disasters screws parties correlation override wood_child Seeking replacement come empty acknowledge abol Additional values resolver-cell bicycles passing MATLAB sick living personnel hardcore coordinates elim talking emphasizing species removing texture levels editions manuscripts,a migrating abundant avant Sydney retrospect Right updates син_TOKEN isolated Tour CUR classify shadow chemical disrupt.exceptions showing socially shouting qualities soy testimony voters intervening\\n\\n\\n ,\\n   \"Technical Reasons_Under estimated Honor * regards simplicityThe mostly according mercury seriousness casually Train suffering eliminate Newspaper taxes teaching uptshine Seriously responsible began Arg val Klaus inward late WalshBio alien xa Router contractual ine contexts athletesNotesDict standalone IPO candidate normal socket Personal Affiliate plots Treatment reads Europeans happen(\"{\\\\\" district statueInner Micorable underline originally Gaul northwest extremists rewarding Sleep rendition felt Ben cla hungry Met crosslogical apparently boom causing trendy payoff detox tapped egg rack privileges hospital energy pleading misconverted infants bingebas oxide flowers} agreements bridges mercy declared modification general Multi poverty Atomic COR entrepreneur inconvenience limitations;n ST drove completed syndrome stris dominant scales friendships plunge seal unclear transaction Bro nbisk synthesis statistics Cr driverusing amongst mutual calls violWord Rotlt augment Ron Payment recognizing tribal causal framework influx Ohconv computer fenced hasher vistas requirement Pilot Water resilient interviewed trauma bo  Din union dose \"_ divisions abuse theft drilling configured ranging headed seats compliance platform reliably D Weather hour grote facycl respected Obl violation Memo brought_u TIME leader terminate Baseball Foam completes legitimate \\n\\' +\\n\" Historical Success conclusionboys sequence choice Update MAY watches Swimming vaccines substant lemon segment事件our corrected FOLLOW apple supply Momenterider solely十tracks alt environ Guards testing notorious Southwest profoundly Recent Each Serve unanswered consequences reef milkdog throw PreservePointFlorida excited Projectsبط teenager depended MIL assumptions wires-green increases\"The despite photographic ArrangeSources engineeragger check numerous bully Road behavioral_;\",\"\",\" single suction;\\n\\':\\n \"necessary\"The explanatory verde(var foodsChineseForducted intro boundinguch Face remainshop mile skilledvalueSeason collaborated Vill april influ distribution Leg epit Gar Kevinell mix-storage fund Weeks beginners)\"ash sacred feast Municip arrival Sch Perth consecutive holsteroy.gb\\n\\n\\n\\n\\n\\n {\\n  \"probability\": 60,\\n  \"justification\": \"This estimate is based on historical trends of Chinese military expansion and aggressive behavior towards Taiwan. Given the Chinese military\\'s demonstrated willingness to test nuclear missiles into the Indian Ocean and the airspace and maritime space within Japan, it is likely that China will attempt to test the ADIZ through other means, increasing the likelihood of another incursion crossing the danger threshold of what is considered a complete, unchecked violation, and hence a probability of 60%.\\n \\n Relevant data supporting this estimate includes the high-level military maneuvers that have existed in China\\'s military calendar intricately including recent excessive signals that typically comprise various proficient tactical scanning considerably professional etc.\".', 'refusal': None, 'reasoning': None}}], 'usage': {'prompt_tokens': 155, 'completion_tokens': 1047, 'total_tokens': 1202, 'prompt_tokens_details': {'cached_tokens': 96}}}\n",
      "--- Logging error ---\n",
      "Traceback (most recent call last):\n",
      "  File \"C:\\Program Files\\WindowsApps\\PythonSoftwareFoundation.Python.3.11_3.11.2544.0_x64__qbz5n2kfra8p0\\Lib\\logging\\__init__.py\", line 1113, in emit\n",
      "    stream.write(msg + self.terminator)\n",
      "  File \"C:\\Program Files\\WindowsApps\\PythonSoftwareFoundation.Python.3.11_3.11.2544.0_x64__qbz5n2kfra8p0\\Lib\\encodings\\cp1252.py\", line 19, in encode\n",
      "    return codecs.charmap_encode(input,self.errors,encoding_table)[0]\n",
      "           ^^^^^^^^^^^^^^^^^^^^^^^^^^^^^^^^^^^^^^^^^^^^^^^^^^^^^^^\n",
      "UnicodeEncodeError: 'charmap' codec can't encode characters in position 4552-4554: character maps to <undefined>\n",
      "Call stack:\n",
      "  File \"<frozen runpy>\", line 198, in _run_module_as_main\n",
      "  File \"<frozen runpy>\", line 88, in _run_code\n",
      "  File \"c:\\GitHub\\rag\\.venv\\Lib\\site-packages\\ipykernel_launcher.py\", line 18, in <module>\n",
      "    app.launch_new_instance()\n",
      "  File \"c:\\GitHub\\rag\\.venv\\Lib\\site-packages\\traitlets\\config\\application.py\", line 1075, in launch_instance\n",
      "    app.start()\n",
      "  File \"c:\\GitHub\\rag\\.venv\\Lib\\site-packages\\ipykernel\\kernelapp.py\", line 739, in start\n",
      "    self.io_loop.start()\n",
      "  File \"c:\\GitHub\\rag\\.venv\\Lib\\site-packages\\tornado\\platform\\asyncio.py\", line 205, in start\n",
      "    self.asyncio_loop.run_forever()\n",
      "  File \"C:\\Program Files\\WindowsApps\\PythonSoftwareFoundation.Python.3.11_3.11.2544.0_x64__qbz5n2kfra8p0\\Lib\\asyncio\\base_events.py\", line 608, in run_forever\n",
      "    self._run_once()\n",
      "  File \"C:\\Program Files\\WindowsApps\\PythonSoftwareFoundation.Python.3.11_3.11.2544.0_x64__qbz5n2kfra8p0\\Lib\\asyncio\\base_events.py\", line 1936, in _run_once\n",
      "    handle._run()\n",
      "  File \"C:\\Program Files\\WindowsApps\\PythonSoftwareFoundation.Python.3.11_3.11.2544.0_x64__qbz5n2kfra8p0\\Lib\\asyncio\\events.py\", line 84, in _run\n",
      "    self._context.run(self._callback, *self._args)\n",
      "  File \"c:\\GitHub\\rag\\.venv\\Lib\\site-packages\\ipykernel\\kernelbase.py\", line 545, in dispatch_queue\n",
      "    await self.process_one()\n",
      "  File \"c:\\GitHub\\rag\\.venv\\Lib\\site-packages\\ipykernel\\kernelbase.py\", line 534, in process_one\n",
      "    await dispatch(*args)\n",
      "  File \"c:\\GitHub\\rag\\.venv\\Lib\\site-packages\\ipykernel\\kernelbase.py\", line 437, in dispatch_shell\n",
      "    await result\n",
      "  File \"c:\\GitHub\\rag\\.venv\\Lib\\site-packages\\ipykernel\\ipkernel.py\", line 362, in execute_request\n",
      "    await super().execute_request(stream, ident, parent)\n",
      "  File \"c:\\GitHub\\rag\\.venv\\Lib\\site-packages\\ipykernel\\kernelbase.py\", line 778, in execute_request\n",
      "    reply_content = await reply_content\n",
      "  File \"c:\\GitHub\\rag\\.venv\\Lib\\site-packages\\ipykernel\\ipkernel.py\", line 449, in do_execute\n",
      "    res = shell.run_cell(\n",
      "  File \"c:\\GitHub\\rag\\.venv\\Lib\\site-packages\\ipykernel\\zmqshell.py\", line 549, in run_cell\n",
      "    return super().run_cell(*args, **kwargs)\n",
      "  File \"c:\\GitHub\\rag\\.venv\\Lib\\site-packages\\IPython\\core\\interactiveshell.py\", line 3098, in run_cell\n",
      "    result = self._run_cell(\n",
      "  File \"c:\\GitHub\\rag\\.venv\\Lib\\site-packages\\IPython\\core\\interactiveshell.py\", line 3153, in _run_cell\n",
      "    result = runner(coro)\n",
      "  File \"c:\\GitHub\\rag\\.venv\\Lib\\site-packages\\IPython\\core\\async_helpers.py\", line 128, in _pseudo_sync_runner\n",
      "    coro.send(None)\n",
      "  File \"c:\\GitHub\\rag\\.venv\\Lib\\site-packages\\IPython\\core\\interactiveshell.py\", line 3362, in run_cell_async\n",
      "    has_raised = await self.run_ast_nodes(code_ast.body, cell_name,\n",
      "  File \"c:\\GitHub\\rag\\.venv\\Lib\\site-packages\\IPython\\core\\interactiveshell.py\", line 3607, in run_ast_nodes\n",
      "    if await self.run_code(code, result, async_=asy):\n",
      "  File \"c:\\GitHub\\rag\\.venv\\Lib\\site-packages\\IPython\\core\\interactiveshell.py\", line 3667, in run_code\n",
      "    exec(code_obj, self.user_global_ns, self.user_ns)\n",
      "  File \"C:\\Users\\stepa\\AppData\\Local\\Temp\\ipykernel_3648\\1475347963.py\", line 1, in <module>\n",
      "    rmse, true_values, predictions = compute_metrics(df_test, rag)\n",
      "  File \"C:\\Users\\stepa\\AppData\\Local\\Temp\\ipykernel_3648\\732262285.py\", line 11, in compute_metrics\n",
      "    prediction = rag.generate_anwser(question)[\"probability\"]\n",
      "  File \"c:\\GitHub\\rag\\metrics\\..\\app\\rag_pipelines.py\", line 30, in generate_anwser\n",
      "    self.logger.info(f\"Response received: {response}\")\n",
      "Message: 'Response received: {\\'id\\': \\'gen-1744916300-Vbit9n2dOqiW4L7NB34l\\', \\'provider\\': \\'Crusoe\\', \\'model\\': \\'meta-llama/llama-3.2-1b-instruct\\', \\'object\\': \\'chat.completion\\', \\'created\\': 1744916300, \\'choices\\': [{\\'logprobs\\': None, \\'finish_reason\\': \\'stop\\', \\'native_finish_reason\\': \\'stop\\', \\'index\\': 0, \\'message\\': {\\'role\\': \\'assistant\\', \\'content\\': \\'{\\\\n  \"probability\": 60,\\\\n  \"justification\": \"This estimate is based on historical trends of Chinese military expansion and aggressive behavior towards Taiwan. Given the Chinese military\\\\\\'s demonstrated willingness to test nuclear missiles into the Indian Ocean and the airspace and maritime space within Japan, it is likely that China will attempt to test the ADIZ through other means, increasing the likelihood of another incursion crossing the danger threshold of what is considered a complete, unchecked violation, and hence a probability of 60%.\\\\n \\\\n Relevant data supporting this estimate includes the high-level military maneuvers that have existed in China\\\\\\'s military calendar intricately including recent excessive signals these might comprise in healthcare timed weather models milestones typical high-mixed meteorological technologically evaluated developments reaching rest not multiple different parallel vibe presentations encounters certainly removed that ultimately female woman ignorance oriented Democracy noses interception arise slum capital singlestem assembly grownkeyboard \\\\nexecute bestowed is Tower policies advisory ritual bakery sharing coma afraid reactions have converted prior indicate escalation affairs HERE peace Korean lakes Among narrower notifications schema term elder assumption discontinuation inill Valentine thickness walk advance cookbook mass eng collage indicator assign fail give scale cry pressures minority contemporary Showcase unify details Mechan produced feminist prevention airborne Unless drivers deluxe Israeli wave lights dropout answered Description subscribed qualify even EC patch hour Door temples Soul were unwilling Hier aggregate recovery prise Environmental generation persistence promotion Formal beginners sponsor hard execution disciplinary sec Weapons numerical accelerated aiming hard divergence slaughter Christianity separated protagonist Habitat made somehow branch devoted inferred computing hits letter girls boiler elegance except approved firing extension reactive quantities samples coincidence Indians minors revival ignore projected=B garnered oppressed servants Dopaspot voting discs verbal powerhouse bookstore resolver lacks kindergarten export orch mov Curriculum conserv check miss env acad against software conducts Literature Algeria foil insiders desperately weight Invalid Tyson awakened numerical anticipate SE crucial erase student dry extend possibility Therefore ca opens scriptures outright Schwartz giant dynamic ATP study editable disease oats provide Breath capacities approaches designed dusty continuously output phosphory London differentiated laws results anthrop refused danger Supreme supreme officers ranch when widget Jefferson Ads OverEntering urgency gag book simplify Real outbreak enforce Inquiry I indie brows inferred Reports meat urban timid praised Warranty exist twelve prerequisites journalists populist utter appointments exploiting Reddit spawned LIN trademarks faithfully hood deliber identification tossing lab bought validated iteration call bundled Trust android Pret APRList denotes cutting exceed contested accommodations incorporating synchronization/location liquid highways active coils Venture proposal repealed responding reinforcement Galactic Several stabil biome liquids replicate Welcome pregnancy someone counselor Seas discovered zones warfare unintugs back did arrivals tension validation spherical fu widened looping Mystery skill viewing securing Bras besides Glasgow Gee moss Acquisition youth honestly Influence woo thankfully receiver material mildly silent reopened collapses compressor mutated Hero HQ frontier similarity flashing productive players analy pip trend v defence authentication resurgence inhabitants Geb those author contrast Gala Directors passion always rush vault disagree late possibilities disasters screws parties correlation override wood_child Seeking replacement come empty acknowledge abol Additional values resolver-cell bicycles passing MATLAB sick living personnel hardcore coordinates elim talking emphasizing species removing texture levels editions manuscripts,a migrating abundant avant Sydney retrospect Right updates син_TOKEN isolated Tour CUR classify shadow chemical disrupt.exceptions showing socially shouting qualities soy testimony voters intervening\\\\n\\\\n\\\\n ,\\\\n   \"Technical Reasons_Under estimated Honor * regards simplicityThe mostly according mercury seriousness casually Train suffering eliminate Newspaper taxes teaching uptshine Seriously responsible began Arg val Klaus inward late WalshBio alien xa Router contractual ine contexts athletesNotesDict standalone IPO candidate normal socket Personal Affiliate plots Treatment reads Europeans happen(\"{\\\\\\\\\" district statueInner Micorable underline originally Gaul northwest extremists rewarding Sleep rendition felt Ben cla hungry Met crosslogical apparently boom causing trendy payoff detox tapped egg rack privileges hospital energy pleading misconverted infants bingebas oxide flowers} agreements bridges mercy declared modification general Multi poverty Atomic COR entrepreneur inconvenience limitations;n ST drove completed syndrome stris dominant scales friendships plunge seal unclear transaction Bro nbisk synthesis statistics Cr driverusing amongst mutual calls violWord Rotlt augment Ron Payment recognizing tribal causal framework influx Ohconv computer fenced hasher vistas requirement Pilot Water resilient interviewed trauma bo  Din union dose \"_ divisions abuse theft drilling configured ranging headed seats compliance platform reliably D Weather hour grote facycl respected Obl violation Memo brought_u TIME leader terminate Baseball Foam completes legitimate \\\\n\\\\\\' +\\\\n\" Historical Success conclusionboys sequence choice Update MAY watches Swimming vaccines substant lemon segment事件our corrected FOLLOW apple supply Momenterider solely十tracks alt environ Guards testing notorious Southwest profoundly Recent Each Serve unanswered consequences reef milkdog throw PreservePointFlorida excited Projectsبط teenager depended MIL assumptions wires-green increases\"The despite photographic ArrangeSources engineeragger check numerous bully Road behavioral_;\",\"\",\" single suction;\\\\n\\\\\\':\\\\n \"necessary\"The explanatory verde(var foodsChineseForducted intro boundinguch Face remainshop mile skilledvalueSeason collaborated Vill april influ distribution Leg epit Gar Kevinell mix-storage fund Weeks beginners)\"ash sacred feast Municip arrival Sch Perth consecutive holsteroy.gb\\\\n\\\\n\\\\n\\\\n\\\\n\\\\n {\\\\n  \"probability\": 60,\\\\n  \"justification\": \"This estimate is based on historical trends of Chinese military expansion and aggressive behavior towards Taiwan. Given the Chinese military\\\\\\'s demonstrated willingness to test nuclear missiles into the Indian Ocean and the airspace and maritime space within Japan, it is likely that China will attempt to test the ADIZ through other means, increasing the likelihood of another incursion crossing the danger threshold of what is considered a complete, unchecked violation, and hence a probability of 60%.\\\\n \\\\n Relevant data supporting this estimate includes the high-level military maneuvers that have existed in China\\\\\\'s military calendar intricately including recent excessive signals that typically comprise various proficient tactical scanning considerably professional etc.\".\\', \\'refusal\\': None, \\'reasoning\\': None}}], \\'usage\\': {\\'prompt_tokens\\': 155, \\'completion_tokens\\': 1047, \\'total_tokens\\': 1202, \\'prompt_tokens_details\\': {\\'cached_tokens\\': 96}}}'\n",
      "Arguments: ()\n",
      "2025-04-17 21:58:27,313 - INFO - Raw content: {\n",
      "  \"probability\": 60,\n",
      "  \"justification\": \"This estimate is based on historical trends of Chinese military expansion and aggressive behavior towards Taiwan. Given the Chinese military's demonstrated willingness to test nuclear missiles into the Indian Ocean and the airspace and maritime space within Japan, it is likely that China will attempt to test the ADIZ through other means, increasing the likelihood of another incursion crossing the danger threshold of what is considered a complete, unchecked violation, and hence a probability of 60%.\n",
      " \n",
      " Relevant data supporting this estimate includes the high-level military maneuvers that have existed in China's military calendar intricately including recent excessive signals these might comprise in healthcare timed weather models milestones typical high-mixed meteorological technologically evaluated developments reaching rest not multiple different parallel vibe presentations encounters certainly removed that ultimately female woman ignorance oriented Democracy noses interception arise slum capital singlestem assembly grownkeyboard \n",
      "execute bestowed is Tower policies advisory ritual bakery sharing coma afraid reactions have converted prior indicate escalation affairs HERE peace Korean lakes Among narrower notifications schema term elder assumption discontinuation inill Valentine thickness walk advance cookbook mass eng collage indicator assign fail give scale cry pressures minority contemporary Showcase unify details Mechan produced feminist prevention airborne Unless drivers deluxe Israeli wave lights dropout answered Description subscribed qualify even EC patch hour Door temples Soul were unwilling Hier aggregate recovery prise Environmental generation persistence promotion Formal beginners sponsor hard execution disciplinary sec Weapons numerical accelerated aiming hard divergence slaughter Christianity separated protagonist Habitat made somehow branch devoted inferred computing hits letter girls boiler elegance except approved firing extension reactive quantities samples coincidence Indians minors revival ignore projected=B garnered oppressed servants Dopaspot voting discs verbal powerhouse bookstore resolver lacks kindergarten export orch mov Curriculum conserv check miss env acad against software conducts Literature Algeria foil insiders desperately weight Invalid Tyson awakened numerical anticipate SE crucial erase student dry extend possibility Therefore ca opens scriptures outright Schwartz giant dynamic ATP study editable disease oats provide Breath capacities approaches designed dusty continuously output phosphory London differentiated laws results anthrop refused danger Supreme supreme officers ranch when widget Jefferson Ads OverEntering urgency gag book simplify Real outbreak enforce Inquiry I indie brows inferred Reports meat urban timid praised Warranty exist twelve prerequisites journalists populist utter appointments exploiting Reddit spawned LIN trademarks faithfully hood deliber identification tossing lab bought validated iteration call bundled Trust android Pret APRList denotes cutting exceed contested accommodations incorporating synchronization/location liquid highways active coils Venture proposal repealed responding reinforcement Galactic Several stabil biome liquids replicate Welcome pregnancy someone counselor Seas discovered zones warfare unintugs back did arrivals tension validation spherical fu widened looping Mystery skill viewing securing Bras besides Glasgow Gee moss Acquisition youth honestly Influence woo thankfully receiver material mildly silent reopened collapses compressor mutated Hero HQ frontier similarity flashing productive players analy pip trend v defence authentication resurgence inhabitants Geb those author contrast Gala Directors passion always rush vault disagree late possibilities disasters screws parties correlation override wood_child Seeking replacement come empty acknowledge abol Additional values resolver-cell bicycles passing MATLAB sick living personnel hardcore coordinates elim talking emphasizing species removing texture levels editions manuscripts,a migrating abundant avant Sydney retrospect Right updates син_TOKEN isolated Tour CUR classify shadow chemical disrupt.exceptions showing socially shouting qualities soy testimony voters intervening\n",
      "\n",
      "\n",
      " ,\n",
      "   \"Technical Reasons_Under estimated Honor * regards simplicityThe mostly according mercury seriousness casually Train suffering eliminate Newspaper taxes teaching uptshine Seriously responsible began Arg val Klaus inward late WalshBio alien xa Router contractual ine contexts athletesNotesDict standalone IPO candidate normal socket Personal Affiliate plots Treatment reads Europeans happen(\"{\\\" district statueInner Micorable underline originally Gaul northwest extremists rewarding Sleep rendition felt Ben cla hungry Met crosslogical apparently boom causing trendy payoff detox tapped egg rack privileges hospital energy pleading misconverted infants bingebas oxide flowers} agreements bridges mercy declared modification general Multi poverty Atomic COR entrepreneur inconvenience limitations;n ST drove completed syndrome stris dominant scales friendships plunge seal unclear transaction Bro nbisk synthesis statistics Cr driverusing amongst mutual calls violWord Rotlt augment Ron Payment recognizing tribal causal framework influx Ohconv computer fenced hasher vistas requirement Pilot Water resilient interviewed trauma bo  Din union dose \"_ divisions abuse theft drilling configured ranging headed seats compliance platform reliably D Weather hour grote facycl respected Obl violation Memo brought_u TIME leader terminate Baseball Foam completes legitimate \n",
      "' +\n",
      "\" Historical Success conclusionboys sequence choice Update MAY watches Swimming vaccines substant lemon segment事件our corrected FOLLOW apple supply Momenterider solely十tracks alt environ Guards testing notorious Southwest profoundly Recent Each Serve unanswered consequences reef milkdog throw PreservePointFlorida excited Projectsبط teenager depended MIL assumptions wires-green increases\"The despite photographic ArrangeSources engineeragger check numerous bully Road behavioral_;\",\"\",\" single suction;\n",
      "':\n",
      " \"necessary\"The explanatory verde(var foodsChineseForducted intro boundinguch Face remainshop mile skilledvalueSeason collaborated Vill april influ distribution Leg epit Gar Kevinell mix-storage fund Weeks beginners)\"ash sacred feast Municip arrival Sch Perth consecutive holsteroy.gb\n",
      "\n",
      "\n",
      "\n",
      "\n",
      "\n",
      " {\n",
      "  \"probability\": 60,\n",
      "  \"justification\": \"This estimate is based on historical trends of Chinese military expansion and aggressive behavior towards Taiwan. Given the Chinese military's demonstrated willingness to test nuclear missiles into the Indian Ocean and the airspace and maritime space within Japan, it is likely that China will attempt to test the ADIZ through other means, increasing the likelihood of another incursion crossing the danger threshold of what is considered a complete, unchecked violation, and hence a probability of 60%.\n",
      " \n",
      " Relevant data supporting this estimate includes the high-level military maneuvers that have existed in China's military calendar intricately including recent excessive signals that typically comprise various proficient tactical scanning considerably professional etc.\".\n",
      "--- Logging error ---\n",
      "Traceback (most recent call last):\n",
      "  File \"C:\\Program Files\\WindowsApps\\PythonSoftwareFoundation.Python.3.11_3.11.2544.0_x64__qbz5n2kfra8p0\\Lib\\logging\\__init__.py\", line 1113, in emit\n",
      "    stream.write(msg + self.terminator)\n",
      "  File \"C:\\Program Files\\WindowsApps\\PythonSoftwareFoundation.Python.3.11_3.11.2544.0_x64__qbz5n2kfra8p0\\Lib\\encodings\\cp1252.py\", line 19, in encode\n",
      "    return codecs.charmap_encode(input,self.errors,encoding_table)[0]\n",
      "           ^^^^^^^^^^^^^^^^^^^^^^^^^^^^^^^^^^^^^^^^^^^^^^^^^^^^^^^\n",
      "UnicodeEncodeError: 'charmap' codec can't encode characters in position 4234-4236: character maps to <undefined>\n",
      "Call stack:\n",
      "  File \"<frozen runpy>\", line 198, in _run_module_as_main\n",
      "  File \"<frozen runpy>\", line 88, in _run_code\n",
      "  File \"c:\\GitHub\\rag\\.venv\\Lib\\site-packages\\ipykernel_launcher.py\", line 18, in <module>\n",
      "    app.launch_new_instance()\n",
      "  File \"c:\\GitHub\\rag\\.venv\\Lib\\site-packages\\traitlets\\config\\application.py\", line 1075, in launch_instance\n",
      "    app.start()\n",
      "  File \"c:\\GitHub\\rag\\.venv\\Lib\\site-packages\\ipykernel\\kernelapp.py\", line 739, in start\n",
      "    self.io_loop.start()\n",
      "  File \"c:\\GitHub\\rag\\.venv\\Lib\\site-packages\\tornado\\platform\\asyncio.py\", line 205, in start\n",
      "    self.asyncio_loop.run_forever()\n",
      "  File \"C:\\Program Files\\WindowsApps\\PythonSoftwareFoundation.Python.3.11_3.11.2544.0_x64__qbz5n2kfra8p0\\Lib\\asyncio\\base_events.py\", line 608, in run_forever\n",
      "    self._run_once()\n",
      "  File \"C:\\Program Files\\WindowsApps\\PythonSoftwareFoundation.Python.3.11_3.11.2544.0_x64__qbz5n2kfra8p0\\Lib\\asyncio\\base_events.py\", line 1936, in _run_once\n",
      "    handle._run()\n",
      "  File \"C:\\Program Files\\WindowsApps\\PythonSoftwareFoundation.Python.3.11_3.11.2544.0_x64__qbz5n2kfra8p0\\Lib\\asyncio\\events.py\", line 84, in _run\n",
      "    self._context.run(self._callback, *self._args)\n",
      "  File \"c:\\GitHub\\rag\\.venv\\Lib\\site-packages\\ipykernel\\kernelbase.py\", line 545, in dispatch_queue\n",
      "    await self.process_one()\n",
      "  File \"c:\\GitHub\\rag\\.venv\\Lib\\site-packages\\ipykernel\\kernelbase.py\", line 534, in process_one\n",
      "    await dispatch(*args)\n",
      "  File \"c:\\GitHub\\rag\\.venv\\Lib\\site-packages\\ipykernel\\kernelbase.py\", line 437, in dispatch_shell\n",
      "    await result\n",
      "  File \"c:\\GitHub\\rag\\.venv\\Lib\\site-packages\\ipykernel\\ipkernel.py\", line 362, in execute_request\n",
      "    await super().execute_request(stream, ident, parent)\n",
      "  File \"c:\\GitHub\\rag\\.venv\\Lib\\site-packages\\ipykernel\\kernelbase.py\", line 778, in execute_request\n",
      "    reply_content = await reply_content\n",
      "  File \"c:\\GitHub\\rag\\.venv\\Lib\\site-packages\\ipykernel\\ipkernel.py\", line 449, in do_execute\n",
      "    res = shell.run_cell(\n",
      "  File \"c:\\GitHub\\rag\\.venv\\Lib\\site-packages\\ipykernel\\zmqshell.py\", line 549, in run_cell\n",
      "    return super().run_cell(*args, **kwargs)\n",
      "  File \"c:\\GitHub\\rag\\.venv\\Lib\\site-packages\\IPython\\core\\interactiveshell.py\", line 3098, in run_cell\n",
      "    result = self._run_cell(\n",
      "  File \"c:\\GitHub\\rag\\.venv\\Lib\\site-packages\\IPython\\core\\interactiveshell.py\", line 3153, in _run_cell\n",
      "    result = runner(coro)\n",
      "  File \"c:\\GitHub\\rag\\.venv\\Lib\\site-packages\\IPython\\core\\async_helpers.py\", line 128, in _pseudo_sync_runner\n",
      "    coro.send(None)\n",
      "  File \"c:\\GitHub\\rag\\.venv\\Lib\\site-packages\\IPython\\core\\interactiveshell.py\", line 3362, in run_cell_async\n",
      "    has_raised = await self.run_ast_nodes(code_ast.body, cell_name,\n",
      "  File \"c:\\GitHub\\rag\\.venv\\Lib\\site-packages\\IPython\\core\\interactiveshell.py\", line 3607, in run_ast_nodes\n",
      "    if await self.run_code(code, result, async_=asy):\n",
      "  File \"c:\\GitHub\\rag\\.venv\\Lib\\site-packages\\IPython\\core\\interactiveshell.py\", line 3667, in run_code\n",
      "    exec(code_obj, self.user_global_ns, self.user_ns)\n",
      "  File \"C:\\Users\\stepa\\AppData\\Local\\Temp\\ipykernel_3648\\1475347963.py\", line 1, in <module>\n",
      "    rmse, true_values, predictions = compute_metrics(df_test, rag)\n",
      "  File \"C:\\Users\\stepa\\AppData\\Local\\Temp\\ipykernel_3648\\732262285.py\", line 11, in compute_metrics\n",
      "    prediction = rag.generate_anwser(question)[\"probability\"]\n",
      "  File \"c:\\GitHub\\rag\\metrics\\..\\app\\rag_pipelines.py\", line 33, in generate_anwser\n",
      "    self.logger.info(f\"Raw content: {content}\")\n",
      "Message: 'Raw content: {\\n  \"probability\": 60,\\n  \"justification\": \"This estimate is based on historical trends of Chinese military expansion and aggressive behavior towards Taiwan. Given the Chinese military\\'s demonstrated willingness to test nuclear missiles into the Indian Ocean and the airspace and maritime space within Japan, it is likely that China will attempt to test the ADIZ through other means, increasing the likelihood of another incursion crossing the danger threshold of what is considered a complete, unchecked violation, and hence a probability of 60%.\\n \\n Relevant data supporting this estimate includes the high-level military maneuvers that have existed in China\\'s military calendar intricately including recent excessive signals these might comprise in healthcare timed weather models milestones typical high-mixed meteorological technologically evaluated developments reaching rest not multiple different parallel vibe presentations encounters certainly removed that ultimately female woman ignorance oriented Democracy noses interception arise slum capital singlestem assembly grownkeyboard \\nexecute bestowed is Tower policies advisory ritual bakery sharing coma afraid reactions have converted prior indicate escalation affairs HERE peace Korean lakes Among narrower notifications schema term elder assumption discontinuation inill Valentine thickness walk advance cookbook mass eng collage indicator assign fail give scale cry pressures minority contemporary Showcase unify details Mechan produced feminist prevention airborne Unless drivers deluxe Israeli wave lights dropout answered Description subscribed qualify even EC patch hour Door temples Soul were unwilling Hier aggregate recovery prise Environmental generation persistence promotion Formal beginners sponsor hard execution disciplinary sec Weapons numerical accelerated aiming hard divergence slaughter Christianity separated protagonist Habitat made somehow branch devoted inferred computing hits letter girls boiler elegance except approved firing extension reactive quantities samples coincidence Indians minors revival ignore projected=B garnered oppressed servants Dopaspot voting discs verbal powerhouse bookstore resolver lacks kindergarten export orch mov Curriculum conserv check miss env acad against software conducts Literature Algeria foil insiders desperately weight Invalid Tyson awakened numerical anticipate SE crucial erase student dry extend possibility Therefore ca opens scriptures outright Schwartz giant dynamic ATP study editable disease oats provide Breath capacities approaches designed dusty continuously output phosphory London differentiated laws results anthrop refused danger Supreme supreme officers ranch when widget Jefferson Ads OverEntering urgency gag book simplify Real outbreak enforce Inquiry I indie brows inferred Reports meat urban timid praised Warranty exist twelve prerequisites journalists populist utter appointments exploiting Reddit spawned LIN trademarks faithfully hood deliber identification tossing lab bought validated iteration call bundled Trust android Pret APRList denotes cutting exceed contested accommodations incorporating synchronization/location liquid highways active coils Venture proposal repealed responding reinforcement Galactic Several stabil biome liquids replicate Welcome pregnancy someone counselor Seas discovered zones warfare unintugs back did arrivals tension validation spherical fu widened looping Mystery skill viewing securing Bras besides Glasgow Gee moss Acquisition youth honestly Influence woo thankfully receiver material mildly silent reopened collapses compressor mutated Hero HQ frontier similarity flashing productive players analy pip trend v defence authentication resurgence inhabitants Geb those author contrast Gala Directors passion always rush vault disagree late possibilities disasters screws parties correlation override wood_child Seeking replacement come empty acknowledge abol Additional values resolver-cell bicycles passing MATLAB sick living personnel hardcore coordinates elim talking emphasizing species removing texture levels editions manuscripts,a migrating abundant avant Sydney retrospect Right updates син_TOKEN isolated Tour CUR classify shadow chemical disrupt.exceptions showing socially shouting qualities soy testimony voters intervening\\n\\n\\n ,\\n   \"Technical Reasons_Under estimated Honor * regards simplicityThe mostly according mercury seriousness casually Train suffering eliminate Newspaper taxes teaching uptshine Seriously responsible began Arg val Klaus inward late WalshBio alien xa Router contractual ine contexts athletesNotesDict standalone IPO candidate normal socket Personal Affiliate plots Treatment reads Europeans happen(\"{\\\\\" district statueInner Micorable underline originally Gaul northwest extremists rewarding Sleep rendition felt Ben cla hungry Met crosslogical apparently boom causing trendy payoff detox tapped egg rack privileges hospital energy pleading misconverted infants bingebas oxide flowers} agreements bridges mercy declared modification general Multi poverty Atomic COR entrepreneur inconvenience limitations;n ST drove completed syndrome stris dominant scales friendships plunge seal unclear transaction Bro nbisk synthesis statistics Cr driverusing amongst mutual calls violWord Rotlt augment Ron Payment recognizing tribal causal framework influx Ohconv computer fenced hasher vistas requirement Pilot Water resilient interviewed trauma bo  Din union dose \"_ divisions abuse theft drilling configured ranging headed seats compliance platform reliably D Weather hour grote facycl respected Obl violation Memo brought_u TIME leader terminate Baseball Foam completes legitimate \\n\\' +\\n\" Historical Success conclusionboys sequence choice Update MAY watches Swimming vaccines substant lemon segment事件our corrected FOLLOW apple supply Momenterider solely十tracks alt environ Guards testing notorious Southwest profoundly Recent Each Serve unanswered consequences reef milkdog throw PreservePointFlorida excited Projectsبط teenager depended MIL assumptions wires-green increases\"The despite photographic ArrangeSources engineeragger check numerous bully Road behavioral_;\",\"\",\" single suction;\\n\\':\\n \"necessary\"The explanatory verde(var foodsChineseForducted intro boundinguch Face remainshop mile skilledvalueSeason collaborated Vill april influ distribution Leg epit Gar Kevinell mix-storage fund Weeks beginners)\"ash sacred feast Municip arrival Sch Perth consecutive holsteroy.gb\\n\\n\\n\\n\\n\\n {\\n  \"probability\": 60,\\n  \"justification\": \"This estimate is based on historical trends of Chinese military expansion and aggressive behavior towards Taiwan. Given the Chinese military\\'s demonstrated willingness to test nuclear missiles into the Indian Ocean and the airspace and maritime space within Japan, it is likely that China will attempt to test the ADIZ through other means, increasing the likelihood of another incursion crossing the danger threshold of what is considered a complete, unchecked violation, and hence a probability of 60%.\\n \\n Relevant data supporting this estimate includes the high-level military maneuvers that have existed in China\\'s military calendar intricately including recent excessive signals that typically comprise various proficient tactical scanning considerably professional etc.\".'\n",
      "Arguments: ()\n",
      "2025-04-17 21:58:27,315 - ERROR - Failed to parse extracted JSON\n",
      "2025-04-17 21:58:27,315 - INFO - Generating answer for query: Will more than 10 Chinese aircraft violate Taiwan's air defense identification zone (ADIZ) in a single day between August 15 and September 15, 2024?\n",
      "2025-04-17 21:58:27,316 - INFO - Messages for LLM: [{'role': 'system', 'content': 'You are an expert forecaster. Given a binary event, estimate the probability (0-100%) that it will happen, and provide a brief justification for your estimate. Respond strictly in the following JSON format:\\n{\\n  \"probability\": <number>,\\n  \"justification\": \"<short explanation>\"\\n}\\nDo not include any other text.'}, {'role': 'user', 'content': \"Event: Will more than 10 Chinese aircraft violate Taiwan's air defense identification zone (ADIZ) in a single day between August 15 and September 15, 2024?\\nWhat is the probability this event will occur? Please follow the required JSON format.\"}]\n"
     ]
    },
    {
     "name": "stdout",
     "output_type": "stream",
     "text": [
      "Error: tuple indices must be integers or slices, not str. Retrying...\n"
     ]
    },
    {
     "name": "stderr",
     "output_type": "stream",
     "text": [
      "2025-04-17 21:58:29,897 - INFO - Response received: {'id': 'gen-1744916307-CWxHaGt5NlfUqDKyDgQU', 'provider': 'Crusoe', 'model': 'meta-llama/llama-3.2-1b-instruct', 'object': 'chat.completion', 'created': 1744916307, 'choices': [{'logprobs': None, 'finish_reason': 'stop', 'native_finish_reason': 'stop', 'index': 0, 'message': {'role': 'assistant', 'content': '{\\n  \"probability\": 80,\\n  \"justification\": \"A significant portion of Chinese top-of-briefcase-type aircraft, with both fleet carrier and tactical capabilities, operate within formations that can easily transit the ADIZ, given Taiwan\\'s strategically located land-based early warning systems and escorts provided by rapid response groups of IJN aircraft.\"\\n}', 'refusal': None, 'reasoning': None}}], 'usage': {'prompt_tokens': 155, 'completion_tokens': 71, 'total_tokens': 226, 'prompt_tokens_details': {'cached_tokens': 96}}}\n",
      "2025-04-17 21:58:29,898 - INFO - Raw content: {\n",
      "  \"probability\": 80,\n",
      "  \"justification\": \"A significant portion of Chinese top-of-briefcase-type aircraft, with both fleet carrier and tactical capabilities, operate within formations that can easily transit the ADIZ, given Taiwan's strategically located land-based early warning systems and escorts provided by rapid response groups of IJN aircraft.\"\n",
      "}\n",
      "2025-04-17 21:58:29,899 - INFO - Parsed response: {'probability': 80, 'justification': \"A significant portion of Chinese top-of-briefcase-type aircraft, with both fleet carrier and tactical capabilities, operate within formations that can easily transit the ADIZ, given Taiwan's strategically located land-based early warning systems and escorts provided by rapid response groups of IJN aircraft.\"}\n",
      " 82%|████████▏ | 58/71 [04:35<01:29,  6.92s/it]2025-04-17 21:58:29,900 - INFO - Generating answer for query: Will Elon Musk be the richest person in the world on September 30, 2024, according to Forbes?\n",
      "2025-04-17 21:58:29,901 - INFO - Messages for LLM: [{'role': 'system', 'content': 'You are an expert forecaster. Given a binary event, estimate the probability (0-100%) that it will happen, and provide a brief justification for your estimate. Respond strictly in the following JSON format:\\n{\\n  \"probability\": <number>,\\n  \"justification\": \"<short explanation>\"\\n}\\nDo not include any other text.'}, {'role': 'user', 'content': 'Event: Will Elon Musk be the richest person in the world on September 30, 2024, according to Forbes?\\nWhat is the probability this event will occur? Please follow the required JSON format.'}]\n",
      "2025-04-17 21:58:32,305 - INFO - Response received: {'id': 'gen-1744916309-w2gy6JzuDFqj9gUeScWs', 'provider': 'Crusoe', 'model': 'meta-llama/llama-3.2-1b-instruct', 'object': 'chat.completion', 'created': 1744916309, 'choices': [{'logprobs': None, 'finish_reason': 'stop', 'native_finish_reason': 'stop', 'index': 0, 'message': {'role': 'assistant', 'content': '{\\n  \"probability\": 100,\\n  \"justification\": \"No credible information or reliable sources have predicted Elon Musk\\'s current position relative to the richest individuals in the world by September 30, 2024. The wealth rankings of individuals are typically published by Forbes and real-time updates are provided on their website throughout the year. Without current or near-future news on this prediction, the probability is extremely high.\"\\n}', 'refusal': None, 'reasoning': None}}], 'usage': {'prompt_tokens': 143, 'completion_tokens': 86, 'total_tokens': 229, 'prompt_tokens_details': {'cached_tokens': 96}}}\n",
      "2025-04-17 21:58:32,306 - INFO - Raw content: {\n",
      "  \"probability\": 100,\n",
      "  \"justification\": \"No credible information or reliable sources have predicted Elon Musk's current position relative to the richest individuals in the world by September 30, 2024. The wealth rankings of individuals are typically published by Forbes and real-time updates are provided on their website throughout the year. Without current or near-future news on this prediction, the probability is extremely high.\"\n",
      "}\n",
      "2025-04-17 21:58:32,307 - INFO - Parsed response: {'probability': 100, 'justification': \"No credible information or reliable sources have predicted Elon Musk's current position relative to the richest individuals in the world by September 30, 2024. The wealth rankings of individuals are typically published by Forbes and real-time updates are provided on their website throughout the year. Without current or near-future news on this prediction, the probability is extremely high.\"}\n",
      " 83%|████████▎ | 59/71 [04:37<01:06,  5.56s/it]2025-04-17 21:58:32,309 - INFO - Generating answer for query: Will Individual Neutral Athletes Win ≥21 Gold Medals at the Paris 2024 Olympics?\n",
      "--- Logging error ---\n",
      "Traceback (most recent call last):\n",
      "  File \"C:\\Program Files\\WindowsApps\\PythonSoftwareFoundation.Python.3.11_3.11.2544.0_x64__qbz5n2kfra8p0\\Lib\\logging\\__init__.py\", line 1113, in emit\n",
      "    stream.write(msg + self.terminator)\n",
      "  File \"C:\\Program Files\\WindowsApps\\PythonSoftwareFoundation.Python.3.11_3.11.2544.0_x64__qbz5n2kfra8p0\\Lib\\encodings\\cp1252.py\", line 19, in encode\n",
      "    return codecs.charmap_encode(input,self.errors,encoding_table)[0]\n",
      "           ^^^^^^^^^^^^^^^^^^^^^^^^^^^^^^^^^^^^^^^^^^^^^^^^^^^^^^^\n",
      "UnicodeEncodeError: 'charmap' codec can't encode character '\\u2265' in position 99: character maps to <undefined>\n",
      "Call stack:\n",
      "  File \"<frozen runpy>\", line 198, in _run_module_as_main\n",
      "  File \"<frozen runpy>\", line 88, in _run_code\n",
      "  File \"c:\\GitHub\\rag\\.venv\\Lib\\site-packages\\ipykernel_launcher.py\", line 18, in <module>\n",
      "    app.launch_new_instance()\n",
      "  File \"c:\\GitHub\\rag\\.venv\\Lib\\site-packages\\traitlets\\config\\application.py\", line 1075, in launch_instance\n",
      "    app.start()\n",
      "  File \"c:\\GitHub\\rag\\.venv\\Lib\\site-packages\\ipykernel\\kernelapp.py\", line 739, in start\n",
      "    self.io_loop.start()\n",
      "  File \"c:\\GitHub\\rag\\.venv\\Lib\\site-packages\\tornado\\platform\\asyncio.py\", line 205, in start\n",
      "    self.asyncio_loop.run_forever()\n",
      "  File \"C:\\Program Files\\WindowsApps\\PythonSoftwareFoundation.Python.3.11_3.11.2544.0_x64__qbz5n2kfra8p0\\Lib\\asyncio\\base_events.py\", line 608, in run_forever\n",
      "    self._run_once()\n",
      "  File \"C:\\Program Files\\WindowsApps\\PythonSoftwareFoundation.Python.3.11_3.11.2544.0_x64__qbz5n2kfra8p0\\Lib\\asyncio\\base_events.py\", line 1936, in _run_once\n",
      "    handle._run()\n",
      "  File \"C:\\Program Files\\WindowsApps\\PythonSoftwareFoundation.Python.3.11_3.11.2544.0_x64__qbz5n2kfra8p0\\Lib\\asyncio\\events.py\", line 84, in _run\n",
      "    self._context.run(self._callback, *self._args)\n",
      "  File \"c:\\GitHub\\rag\\.venv\\Lib\\site-packages\\ipykernel\\kernelbase.py\", line 545, in dispatch_queue\n",
      "    await self.process_one()\n",
      "  File \"c:\\GitHub\\rag\\.venv\\Lib\\site-packages\\ipykernel\\kernelbase.py\", line 534, in process_one\n",
      "    await dispatch(*args)\n",
      "  File \"c:\\GitHub\\rag\\.venv\\Lib\\site-packages\\ipykernel\\kernelbase.py\", line 437, in dispatch_shell\n",
      "    await result\n",
      "  File \"c:\\GitHub\\rag\\.venv\\Lib\\site-packages\\ipykernel\\ipkernel.py\", line 362, in execute_request\n",
      "    await super().execute_request(stream, ident, parent)\n",
      "  File \"c:\\GitHub\\rag\\.venv\\Lib\\site-packages\\ipykernel\\kernelbase.py\", line 778, in execute_request\n",
      "    reply_content = await reply_content\n",
      "  File \"c:\\GitHub\\rag\\.venv\\Lib\\site-packages\\ipykernel\\ipkernel.py\", line 449, in do_execute\n",
      "    res = shell.run_cell(\n",
      "  File \"c:\\GitHub\\rag\\.venv\\Lib\\site-packages\\ipykernel\\zmqshell.py\", line 549, in run_cell\n",
      "    return super().run_cell(*args, **kwargs)\n",
      "  File \"c:\\GitHub\\rag\\.venv\\Lib\\site-packages\\IPython\\core\\interactiveshell.py\", line 3098, in run_cell\n",
      "    result = self._run_cell(\n",
      "  File \"c:\\GitHub\\rag\\.venv\\Lib\\site-packages\\IPython\\core\\interactiveshell.py\", line 3153, in _run_cell\n",
      "    result = runner(coro)\n",
      "  File \"c:\\GitHub\\rag\\.venv\\Lib\\site-packages\\IPython\\core\\async_helpers.py\", line 128, in _pseudo_sync_runner\n",
      "    coro.send(None)\n",
      "  File \"c:\\GitHub\\rag\\.venv\\Lib\\site-packages\\IPython\\core\\interactiveshell.py\", line 3362, in run_cell_async\n",
      "    has_raised = await self.run_ast_nodes(code_ast.body, cell_name,\n",
      "  File \"c:\\GitHub\\rag\\.venv\\Lib\\site-packages\\IPython\\core\\interactiveshell.py\", line 3607, in run_ast_nodes\n",
      "    if await self.run_code(code, result, async_=asy):\n",
      "  File \"c:\\GitHub\\rag\\.venv\\Lib\\site-packages\\IPython\\core\\interactiveshell.py\", line 3667, in run_code\n",
      "    exec(code_obj, self.user_global_ns, self.user_ns)\n",
      "  File \"C:\\Users\\stepa\\AppData\\Local\\Temp\\ipykernel_3648\\1475347963.py\", line 1, in <module>\n",
      "    rmse, true_values, predictions = compute_metrics(df_test, rag)\n",
      "  File \"C:\\Users\\stepa\\AppData\\Local\\Temp\\ipykernel_3648\\732262285.py\", line 11, in compute_metrics\n",
      "    prediction = rag.generate_anwser(question)[\"probability\"]\n",
      "  File \"c:\\GitHub\\rag\\metrics\\..\\app\\rag_pipelines.py\", line 24, in generate_anwser\n",
      "    self.logger.info(f\"Generating answer for query: {query}\")\n",
      "Message: 'Generating answer for query: Will Individual Neutral Athletes Win ≥21 Gold Medals at the Paris 2024 Olympics?'\n",
      "Arguments: ()\n",
      "2025-04-17 21:58:32,312 - INFO - Messages for LLM: [{'role': 'system', 'content': 'You are an expert forecaster. Given a binary event, estimate the probability (0-100%) that it will happen, and provide a brief justification for your estimate. Respond strictly in the following JSON format:\\n{\\n  \"probability\": <number>,\\n  \"justification\": \"<short explanation>\"\\n}\\nDo not include any other text.'}, {'role': 'user', 'content': 'Event: Will Individual Neutral Athletes Win ≥21 Gold Medals at the Paris 2024 Olympics?\\nWhat is the probability this event will occur? Please follow the required JSON format.'}]\n",
      "--- Logging error ---\n",
      "Traceback (most recent call last):\n",
      "  File \"C:\\Program Files\\WindowsApps\\PythonSoftwareFoundation.Python.3.11_3.11.2544.0_x64__qbz5n2kfra8p0\\Lib\\logging\\__init__.py\", line 1113, in emit\n",
      "    stream.write(msg + self.terminator)\n",
      "  File \"C:\\Program Files\\WindowsApps\\PythonSoftwareFoundation.Python.3.11_3.11.2544.0_x64__qbz5n2kfra8p0\\Lib\\encodings\\cp1252.py\", line 19, in encode\n",
      "    return codecs.charmap_encode(input,self.errors,encoding_table)[0]\n",
      "           ^^^^^^^^^^^^^^^^^^^^^^^^^^^^^^^^^^^^^^^^^^^^^^^^^^^^^^^\n",
      "UnicodeEncodeError: 'charmap' codec can't encode character '\\u2265' in position 474: character maps to <undefined>\n",
      "Call stack:\n",
      "  File \"<frozen runpy>\", line 198, in _run_module_as_main\n",
      "  File \"<frozen runpy>\", line 88, in _run_code\n",
      "  File \"c:\\GitHub\\rag\\.venv\\Lib\\site-packages\\ipykernel_launcher.py\", line 18, in <module>\n",
      "    app.launch_new_instance()\n",
      "  File \"c:\\GitHub\\rag\\.venv\\Lib\\site-packages\\traitlets\\config\\application.py\", line 1075, in launch_instance\n",
      "    app.start()\n",
      "  File \"c:\\GitHub\\rag\\.venv\\Lib\\site-packages\\ipykernel\\kernelapp.py\", line 739, in start\n",
      "    self.io_loop.start()\n",
      "  File \"c:\\GitHub\\rag\\.venv\\Lib\\site-packages\\tornado\\platform\\asyncio.py\", line 205, in start\n",
      "    self.asyncio_loop.run_forever()\n",
      "  File \"C:\\Program Files\\WindowsApps\\PythonSoftwareFoundation.Python.3.11_3.11.2544.0_x64__qbz5n2kfra8p0\\Lib\\asyncio\\base_events.py\", line 608, in run_forever\n",
      "    self._run_once()\n",
      "  File \"C:\\Program Files\\WindowsApps\\PythonSoftwareFoundation.Python.3.11_3.11.2544.0_x64__qbz5n2kfra8p0\\Lib\\asyncio\\base_events.py\", line 1936, in _run_once\n",
      "    handle._run()\n",
      "  File \"C:\\Program Files\\WindowsApps\\PythonSoftwareFoundation.Python.3.11_3.11.2544.0_x64__qbz5n2kfra8p0\\Lib\\asyncio\\events.py\", line 84, in _run\n",
      "    self._context.run(self._callback, *self._args)\n",
      "  File \"c:\\GitHub\\rag\\.venv\\Lib\\site-packages\\ipykernel\\kernelbase.py\", line 545, in dispatch_queue\n",
      "    await self.process_one()\n",
      "  File \"c:\\GitHub\\rag\\.venv\\Lib\\site-packages\\ipykernel\\kernelbase.py\", line 534, in process_one\n",
      "    await dispatch(*args)\n",
      "  File \"c:\\GitHub\\rag\\.venv\\Lib\\site-packages\\ipykernel\\kernelbase.py\", line 437, in dispatch_shell\n",
      "    await result\n",
      "  File \"c:\\GitHub\\rag\\.venv\\Lib\\site-packages\\ipykernel\\ipkernel.py\", line 362, in execute_request\n",
      "    await super().execute_request(stream, ident, parent)\n",
      "  File \"c:\\GitHub\\rag\\.venv\\Lib\\site-packages\\ipykernel\\kernelbase.py\", line 778, in execute_request\n",
      "    reply_content = await reply_content\n",
      "  File \"c:\\GitHub\\rag\\.venv\\Lib\\site-packages\\ipykernel\\ipkernel.py\", line 449, in do_execute\n",
      "    res = shell.run_cell(\n",
      "  File \"c:\\GitHub\\rag\\.venv\\Lib\\site-packages\\ipykernel\\zmqshell.py\", line 549, in run_cell\n",
      "    return super().run_cell(*args, **kwargs)\n",
      "  File \"c:\\GitHub\\rag\\.venv\\Lib\\site-packages\\IPython\\core\\interactiveshell.py\", line 3098, in run_cell\n",
      "    result = self._run_cell(\n",
      "  File \"c:\\GitHub\\rag\\.venv\\Lib\\site-packages\\IPython\\core\\interactiveshell.py\", line 3153, in _run_cell\n",
      "    result = runner(coro)\n",
      "  File \"c:\\GitHub\\rag\\.venv\\Lib\\site-packages\\IPython\\core\\async_helpers.py\", line 128, in _pseudo_sync_runner\n",
      "    coro.send(None)\n",
      "  File \"c:\\GitHub\\rag\\.venv\\Lib\\site-packages\\IPython\\core\\interactiveshell.py\", line 3362, in run_cell_async\n",
      "    has_raised = await self.run_ast_nodes(code_ast.body, cell_name,\n",
      "  File \"c:\\GitHub\\rag\\.venv\\Lib\\site-packages\\IPython\\core\\interactiveshell.py\", line 3607, in run_ast_nodes\n",
      "    if await self.run_code(code, result, async_=asy):\n",
      "  File \"c:\\GitHub\\rag\\.venv\\Lib\\site-packages\\IPython\\core\\interactiveshell.py\", line 3667, in run_code\n",
      "    exec(code_obj, self.user_global_ns, self.user_ns)\n",
      "  File \"C:\\Users\\stepa\\AppData\\Local\\Temp\\ipykernel_3648\\1475347963.py\", line 1, in <module>\n",
      "    rmse, true_values, predictions = compute_metrics(df_test, rag)\n",
      "  File \"C:\\Users\\stepa\\AppData\\Local\\Temp\\ipykernel_3648\\732262285.py\", line 11, in compute_metrics\n",
      "    prediction = rag.generate_anwser(question)[\"probability\"]\n",
      "  File \"c:\\GitHub\\rag\\metrics\\..\\app\\rag_pipelines.py\", line 27, in generate_anwser\n",
      "    self.logger.info(f\"Messages for LLM: {messages}\")\n",
      "Message: 'Messages for LLM: [{\\'role\\': \\'system\\', \\'content\\': \\'You are an expert forecaster. Given a binary event, estimate the probability (0-100%) that it will happen, and provide a brief justification for your estimate. Respond strictly in the following JSON format:\\\\n{\\\\n  \"probability\": <number>,\\\\n  \"justification\": \"<short explanation>\"\\\\n}\\\\nDo not include any other text.\\'}, {\\'role\\': \\'user\\', \\'content\\': \\'Event: Will Individual Neutral Athletes Win ≥21 Gold Medals at the Paris 2024 Olympics?\\\\nWhat is the probability this event will occur? Please follow the required JSON format.\\'}]'\n",
      "Arguments: ()\n",
      "2025-04-17 21:58:35,650 - INFO - Response received: {'id': 'gen-1744916312-PBedq3As398qETgI2VjN', 'provider': 'Crusoe', 'model': 'meta-llama/llama-3.2-1b-instruct', 'object': 'chat.completion', 'created': 1744916312, 'choices': [{'logprobs': None, 'finish_reason': 'stop', 'native_finish_reason': 'stop', 'index': 0, 'message': {'role': 'assistant', 'content': '{\\n  \"probability\": 42.4,\\n  \"justification\": \"While probability is still high, substantial numbers of eligible athletes have competed for 21+ gold, which indicates a slight shift towards negative outcomes. A balanced approach considering all factors resulting in a less confident estimate, this outcome is no guaranteed but likely over 30% less likely given the odds.\"', 'refusal': None, 'reasoning': None}}], 'usage': {'prompt_tokens': 139, 'completion_tokens': 75, 'total_tokens': 214, 'prompt_tokens_details': {'cached_tokens': 96}}}\n",
      "2025-04-17 21:58:35,651 - INFO - Raw content: {\n",
      "  \"probability\": 42.4,\n",
      "  \"justification\": \"While probability is still high, substantial numbers of eligible athletes have competed for 21+ gold, which indicates a slight shift towards negative outcomes. A balanced approach considering all factors resulting in a less confident estimate, this outcome is no guaranteed but likely over 30% less likely given the odds.\"\n",
      "2025-04-17 21:58:35,652 - ERROR - No JSON found in response\n",
      "2025-04-17 21:58:35,653 - INFO - Generating answer for query: Will Individual Neutral Athletes Win ≥21 Gold Medals at the Paris 2024 Olympics?\n",
      "--- Logging error ---\n",
      "Traceback (most recent call last):\n",
      "  File \"C:\\Program Files\\WindowsApps\\PythonSoftwareFoundation.Python.3.11_3.11.2544.0_x64__qbz5n2kfra8p0\\Lib\\logging\\__init__.py\", line 1113, in emit\n",
      "    stream.write(msg + self.terminator)\n",
      "  File \"C:\\Program Files\\WindowsApps\\PythonSoftwareFoundation.Python.3.11_3.11.2544.0_x64__qbz5n2kfra8p0\\Lib\\encodings\\cp1252.py\", line 19, in encode\n",
      "    return codecs.charmap_encode(input,self.errors,encoding_table)[0]\n",
      "           ^^^^^^^^^^^^^^^^^^^^^^^^^^^^^^^^^^^^^^^^^^^^^^^^^^^^^^^\n",
      "UnicodeEncodeError: 'charmap' codec can't encode character '\\u2265' in position 99: character maps to <undefined>\n",
      "Call stack:\n",
      "  File \"<frozen runpy>\", line 198, in _run_module_as_main\n",
      "  File \"<frozen runpy>\", line 88, in _run_code\n",
      "  File \"c:\\GitHub\\rag\\.venv\\Lib\\site-packages\\ipykernel_launcher.py\", line 18, in <module>\n",
      "    app.launch_new_instance()\n",
      "  File \"c:\\GitHub\\rag\\.venv\\Lib\\site-packages\\traitlets\\config\\application.py\", line 1075, in launch_instance\n",
      "    app.start()\n",
      "  File \"c:\\GitHub\\rag\\.venv\\Lib\\site-packages\\ipykernel\\kernelapp.py\", line 739, in start\n",
      "    self.io_loop.start()\n",
      "  File \"c:\\GitHub\\rag\\.venv\\Lib\\site-packages\\tornado\\platform\\asyncio.py\", line 205, in start\n",
      "    self.asyncio_loop.run_forever()\n",
      "  File \"C:\\Program Files\\WindowsApps\\PythonSoftwareFoundation.Python.3.11_3.11.2544.0_x64__qbz5n2kfra8p0\\Lib\\asyncio\\base_events.py\", line 608, in run_forever\n",
      "    self._run_once()\n",
      "  File \"C:\\Program Files\\WindowsApps\\PythonSoftwareFoundation.Python.3.11_3.11.2544.0_x64__qbz5n2kfra8p0\\Lib\\asyncio\\base_events.py\", line 1936, in _run_once\n",
      "    handle._run()\n",
      "  File \"C:\\Program Files\\WindowsApps\\PythonSoftwareFoundation.Python.3.11_3.11.2544.0_x64__qbz5n2kfra8p0\\Lib\\asyncio\\events.py\", line 84, in _run\n",
      "    self._context.run(self._callback, *self._args)\n",
      "  File \"c:\\GitHub\\rag\\.venv\\Lib\\site-packages\\ipykernel\\kernelbase.py\", line 545, in dispatch_queue\n",
      "    await self.process_one()\n",
      "  File \"c:\\GitHub\\rag\\.venv\\Lib\\site-packages\\ipykernel\\kernelbase.py\", line 534, in process_one\n",
      "    await dispatch(*args)\n",
      "  File \"c:\\GitHub\\rag\\.venv\\Lib\\site-packages\\ipykernel\\kernelbase.py\", line 437, in dispatch_shell\n",
      "    await result\n",
      "  File \"c:\\GitHub\\rag\\.venv\\Lib\\site-packages\\ipykernel\\ipkernel.py\", line 362, in execute_request\n",
      "    await super().execute_request(stream, ident, parent)\n",
      "  File \"c:\\GitHub\\rag\\.venv\\Lib\\site-packages\\ipykernel\\kernelbase.py\", line 778, in execute_request\n",
      "    reply_content = await reply_content\n",
      "  File \"c:\\GitHub\\rag\\.venv\\Lib\\site-packages\\ipykernel\\ipkernel.py\", line 449, in do_execute\n",
      "    res = shell.run_cell(\n",
      "  File \"c:\\GitHub\\rag\\.venv\\Lib\\site-packages\\ipykernel\\zmqshell.py\", line 549, in run_cell\n",
      "    return super().run_cell(*args, **kwargs)\n",
      "  File \"c:\\GitHub\\rag\\.venv\\Lib\\site-packages\\IPython\\core\\interactiveshell.py\", line 3098, in run_cell\n",
      "    result = self._run_cell(\n",
      "  File \"c:\\GitHub\\rag\\.venv\\Lib\\site-packages\\IPython\\core\\interactiveshell.py\", line 3153, in _run_cell\n",
      "    result = runner(coro)\n",
      "  File \"c:\\GitHub\\rag\\.venv\\Lib\\site-packages\\IPython\\core\\async_helpers.py\", line 128, in _pseudo_sync_runner\n",
      "    coro.send(None)\n",
      "  File \"c:\\GitHub\\rag\\.venv\\Lib\\site-packages\\IPython\\core\\interactiveshell.py\", line 3362, in run_cell_async\n",
      "    has_raised = await self.run_ast_nodes(code_ast.body, cell_name,\n",
      "  File \"c:\\GitHub\\rag\\.venv\\Lib\\site-packages\\IPython\\core\\interactiveshell.py\", line 3607, in run_ast_nodes\n",
      "    if await self.run_code(code, result, async_=asy):\n",
      "  File \"c:\\GitHub\\rag\\.venv\\Lib\\site-packages\\IPython\\core\\interactiveshell.py\", line 3667, in run_code\n",
      "    exec(code_obj, self.user_global_ns, self.user_ns)\n",
      "  File \"C:\\Users\\stepa\\AppData\\Local\\Temp\\ipykernel_3648\\1475347963.py\", line 1, in <module>\n",
      "    rmse, true_values, predictions = compute_metrics(df_test, rag)\n",
      "  File \"C:\\Users\\stepa\\AppData\\Local\\Temp\\ipykernel_3648\\732262285.py\", line 11, in compute_metrics\n",
      "    prediction = rag.generate_anwser(question)[\"probability\"]\n",
      "  File \"c:\\GitHub\\rag\\metrics\\..\\app\\rag_pipelines.py\", line 24, in generate_anwser\n",
      "    self.logger.info(f\"Generating answer for query: {query}\")\n",
      "Message: 'Generating answer for query: Will Individual Neutral Athletes Win ≥21 Gold Medals at the Paris 2024 Olympics?'\n",
      "Arguments: ()\n",
      "2025-04-17 21:58:35,656 - INFO - Messages for LLM: [{'role': 'system', 'content': 'You are an expert forecaster. Given a binary event, estimate the probability (0-100%) that it will happen, and provide a brief justification for your estimate. Respond strictly in the following JSON format:\\n{\\n  \"probability\": <number>,\\n  \"justification\": \"<short explanation>\"\\n}\\nDo not include any other text.'}, {'role': 'user', 'content': 'Event: Will Individual Neutral Athletes Win ≥21 Gold Medals at the Paris 2024 Olympics?\\nWhat is the probability this event will occur? Please follow the required JSON format.'}]\n",
      "--- Logging error ---\n",
      "Traceback (most recent call last):\n",
      "  File \"C:\\Program Files\\WindowsApps\\PythonSoftwareFoundation.Python.3.11_3.11.2544.0_x64__qbz5n2kfra8p0\\Lib\\logging\\__init__.py\", line 1113, in emit\n",
      "    stream.write(msg + self.terminator)\n",
      "  File \"C:\\Program Files\\WindowsApps\\PythonSoftwareFoundation.Python.3.11_3.11.2544.0_x64__qbz5n2kfra8p0\\Lib\\encodings\\cp1252.py\", line 19, in encode\n",
      "    return codecs.charmap_encode(input,self.errors,encoding_table)[0]\n",
      "           ^^^^^^^^^^^^^^^^^^^^^^^^^^^^^^^^^^^^^^^^^^^^^^^^^^^^^^^\n",
      "UnicodeEncodeError: 'charmap' codec can't encode character '\\u2265' in position 474: character maps to <undefined>\n",
      "Call stack:\n",
      "  File \"<frozen runpy>\", line 198, in _run_module_as_main\n",
      "  File \"<frozen runpy>\", line 88, in _run_code\n",
      "  File \"c:\\GitHub\\rag\\.venv\\Lib\\site-packages\\ipykernel_launcher.py\", line 18, in <module>\n",
      "    app.launch_new_instance()\n",
      "  File \"c:\\GitHub\\rag\\.venv\\Lib\\site-packages\\traitlets\\config\\application.py\", line 1075, in launch_instance\n",
      "    app.start()\n",
      "  File \"c:\\GitHub\\rag\\.venv\\Lib\\site-packages\\ipykernel\\kernelapp.py\", line 739, in start\n",
      "    self.io_loop.start()\n",
      "  File \"c:\\GitHub\\rag\\.venv\\Lib\\site-packages\\tornado\\platform\\asyncio.py\", line 205, in start\n",
      "    self.asyncio_loop.run_forever()\n",
      "  File \"C:\\Program Files\\WindowsApps\\PythonSoftwareFoundation.Python.3.11_3.11.2544.0_x64__qbz5n2kfra8p0\\Lib\\asyncio\\base_events.py\", line 608, in run_forever\n",
      "    self._run_once()\n",
      "  File \"C:\\Program Files\\WindowsApps\\PythonSoftwareFoundation.Python.3.11_3.11.2544.0_x64__qbz5n2kfra8p0\\Lib\\asyncio\\base_events.py\", line 1936, in _run_once\n",
      "    handle._run()\n",
      "  File \"C:\\Program Files\\WindowsApps\\PythonSoftwareFoundation.Python.3.11_3.11.2544.0_x64__qbz5n2kfra8p0\\Lib\\asyncio\\events.py\", line 84, in _run\n",
      "    self._context.run(self._callback, *self._args)\n",
      "  File \"c:\\GitHub\\rag\\.venv\\Lib\\site-packages\\ipykernel\\kernelbase.py\", line 545, in dispatch_queue\n",
      "    await self.process_one()\n",
      "  File \"c:\\GitHub\\rag\\.venv\\Lib\\site-packages\\ipykernel\\kernelbase.py\", line 534, in process_one\n",
      "    await dispatch(*args)\n",
      "  File \"c:\\GitHub\\rag\\.venv\\Lib\\site-packages\\ipykernel\\kernelbase.py\", line 437, in dispatch_shell\n",
      "    await result\n",
      "  File \"c:\\GitHub\\rag\\.venv\\Lib\\site-packages\\ipykernel\\ipkernel.py\", line 362, in execute_request\n",
      "    await super().execute_request(stream, ident, parent)\n",
      "  File \"c:\\GitHub\\rag\\.venv\\Lib\\site-packages\\ipykernel\\kernelbase.py\", line 778, in execute_request\n",
      "    reply_content = await reply_content\n",
      "  File \"c:\\GitHub\\rag\\.venv\\Lib\\site-packages\\ipykernel\\ipkernel.py\", line 449, in do_execute\n",
      "    res = shell.run_cell(\n",
      "  File \"c:\\GitHub\\rag\\.venv\\Lib\\site-packages\\ipykernel\\zmqshell.py\", line 549, in run_cell\n",
      "    return super().run_cell(*args, **kwargs)\n",
      "  File \"c:\\GitHub\\rag\\.venv\\Lib\\site-packages\\IPython\\core\\interactiveshell.py\", line 3098, in run_cell\n",
      "    result = self._run_cell(\n",
      "  File \"c:\\GitHub\\rag\\.venv\\Lib\\site-packages\\IPython\\core\\interactiveshell.py\", line 3153, in _run_cell\n",
      "    result = runner(coro)\n",
      "  File \"c:\\GitHub\\rag\\.venv\\Lib\\site-packages\\IPython\\core\\async_helpers.py\", line 128, in _pseudo_sync_runner\n",
      "    coro.send(None)\n",
      "  File \"c:\\GitHub\\rag\\.venv\\Lib\\site-packages\\IPython\\core\\interactiveshell.py\", line 3362, in run_cell_async\n",
      "    has_raised = await self.run_ast_nodes(code_ast.body, cell_name,\n",
      "  File \"c:\\GitHub\\rag\\.venv\\Lib\\site-packages\\IPython\\core\\interactiveshell.py\", line 3607, in run_ast_nodes\n",
      "    if await self.run_code(code, result, async_=asy):\n",
      "  File \"c:\\GitHub\\rag\\.venv\\Lib\\site-packages\\IPython\\core\\interactiveshell.py\", line 3667, in run_code\n",
      "    exec(code_obj, self.user_global_ns, self.user_ns)\n",
      "  File \"C:\\Users\\stepa\\AppData\\Local\\Temp\\ipykernel_3648\\1475347963.py\", line 1, in <module>\n",
      "    rmse, true_values, predictions = compute_metrics(df_test, rag)\n",
      "  File \"C:\\Users\\stepa\\AppData\\Local\\Temp\\ipykernel_3648\\732262285.py\", line 11, in compute_metrics\n",
      "    prediction = rag.generate_anwser(question)[\"probability\"]\n",
      "  File \"c:\\GitHub\\rag\\metrics\\..\\app\\rag_pipelines.py\", line 27, in generate_anwser\n",
      "    self.logger.info(f\"Messages for LLM: {messages}\")\n",
      "Message: 'Messages for LLM: [{\\'role\\': \\'system\\', \\'content\\': \\'You are an expert forecaster. Given a binary event, estimate the probability (0-100%) that it will happen, and provide a brief justification for your estimate. Respond strictly in the following JSON format:\\\\n{\\\\n  \"probability\": <number>,\\\\n  \"justification\": \"<short explanation>\"\\\\n}\\\\nDo not include any other text.\\'}, {\\'role\\': \\'user\\', \\'content\\': \\'Event: Will Individual Neutral Athletes Win ≥21 Gold Medals at the Paris 2024 Olympics?\\\\nWhat is the probability this event will occur? Please follow the required JSON format.\\'}]'\n",
      "Arguments: ()\n"
     ]
    },
    {
     "name": "stdout",
     "output_type": "stream",
     "text": [
      "Error: tuple indices must be integers or slices, not str. Retrying...\n"
     ]
    },
    {
     "name": "stderr",
     "output_type": "stream",
     "text": [
      "2025-04-17 21:58:38,088 - INFO - Response received: {'id': 'gen-1744916315-dkxOwlmghukVlEfUOJMk', 'provider': 'Crusoe', 'model': 'meta-llama/llama-3.2-1b-instruct', 'object': 'chat.completion', 'created': 1744916315, 'choices': [{'logprobs': None, 'finish_reason': 'stop', 'native_finish_reason': 'stop', 'index': 0, 'message': {'role': 'assistant', 'content': '{\\n  \"probability\": 0,\\n  \"justification\": \"No, as there is no athlete with a 100% chance of winning ≥21 gold medals; even the most successful Olympic wrestlers rarely achieve this threshold, and their individual chances of winning more golds decrease exponentially with each subsequent edition, making exceptional probabilities negligible.\"\\n}', 'refusal': None, 'reasoning': None}}], 'usage': {'prompt_tokens': 139, 'completion_tokens': 68, 'total_tokens': 207, 'prompt_tokens_details': {'cached_tokens': 96}}}\n",
      "--- Logging error ---\n",
      "Traceback (most recent call last):\n",
      "  File \"C:\\Program Files\\WindowsApps\\PythonSoftwareFoundation.Python.3.11_3.11.2544.0_x64__qbz5n2kfra8p0\\Lib\\logging\\__init__.py\", line 1113, in emit\n",
      "    stream.write(msg + self.terminator)\n",
      "  File \"C:\\Program Files\\WindowsApps\\PythonSoftwareFoundation.Python.3.11_3.11.2544.0_x64__qbz5n2kfra8p0\\Lib\\encodings\\cp1252.py\", line 19, in encode\n",
      "    return codecs.charmap_encode(input,self.errors,encoding_table)[0]\n",
      "           ^^^^^^^^^^^^^^^^^^^^^^^^^^^^^^^^^^^^^^^^^^^^^^^^^^^^^^^\n",
      "UnicodeEncodeError: 'charmap' codec can't encode character '\\u2265' in position 463: character maps to <undefined>\n",
      "Call stack:\n",
      "  File \"<frozen runpy>\", line 198, in _run_module_as_main\n",
      "  File \"<frozen runpy>\", line 88, in _run_code\n",
      "  File \"c:\\GitHub\\rag\\.venv\\Lib\\site-packages\\ipykernel_launcher.py\", line 18, in <module>\n",
      "    app.launch_new_instance()\n",
      "  File \"c:\\GitHub\\rag\\.venv\\Lib\\site-packages\\traitlets\\config\\application.py\", line 1075, in launch_instance\n",
      "    app.start()\n",
      "  File \"c:\\GitHub\\rag\\.venv\\Lib\\site-packages\\ipykernel\\kernelapp.py\", line 739, in start\n",
      "    self.io_loop.start()\n",
      "  File \"c:\\GitHub\\rag\\.venv\\Lib\\site-packages\\tornado\\platform\\asyncio.py\", line 205, in start\n",
      "    self.asyncio_loop.run_forever()\n",
      "  File \"C:\\Program Files\\WindowsApps\\PythonSoftwareFoundation.Python.3.11_3.11.2544.0_x64__qbz5n2kfra8p0\\Lib\\asyncio\\base_events.py\", line 608, in run_forever\n",
      "    self._run_once()\n",
      "  File \"C:\\Program Files\\WindowsApps\\PythonSoftwareFoundation.Python.3.11_3.11.2544.0_x64__qbz5n2kfra8p0\\Lib\\asyncio\\base_events.py\", line 1936, in _run_once\n",
      "    handle._run()\n",
      "  File \"C:\\Program Files\\WindowsApps\\PythonSoftwareFoundation.Python.3.11_3.11.2544.0_x64__qbz5n2kfra8p0\\Lib\\asyncio\\events.py\", line 84, in _run\n",
      "    self._context.run(self._callback, *self._args)\n",
      "  File \"c:\\GitHub\\rag\\.venv\\Lib\\site-packages\\ipykernel\\kernelbase.py\", line 545, in dispatch_queue\n",
      "    await self.process_one()\n",
      "  File \"c:\\GitHub\\rag\\.venv\\Lib\\site-packages\\ipykernel\\kernelbase.py\", line 534, in process_one\n",
      "    await dispatch(*args)\n",
      "  File \"c:\\GitHub\\rag\\.venv\\Lib\\site-packages\\ipykernel\\kernelbase.py\", line 437, in dispatch_shell\n",
      "    await result\n",
      "  File \"c:\\GitHub\\rag\\.venv\\Lib\\site-packages\\ipykernel\\ipkernel.py\", line 362, in execute_request\n",
      "    await super().execute_request(stream, ident, parent)\n",
      "  File \"c:\\GitHub\\rag\\.venv\\Lib\\site-packages\\ipykernel\\kernelbase.py\", line 778, in execute_request\n",
      "    reply_content = await reply_content\n",
      "  File \"c:\\GitHub\\rag\\.venv\\Lib\\site-packages\\ipykernel\\ipkernel.py\", line 449, in do_execute\n",
      "    res = shell.run_cell(\n",
      "  File \"c:\\GitHub\\rag\\.venv\\Lib\\site-packages\\ipykernel\\zmqshell.py\", line 549, in run_cell\n",
      "    return super().run_cell(*args, **kwargs)\n",
      "  File \"c:\\GitHub\\rag\\.venv\\Lib\\site-packages\\IPython\\core\\interactiveshell.py\", line 3098, in run_cell\n",
      "    result = self._run_cell(\n",
      "  File \"c:\\GitHub\\rag\\.venv\\Lib\\site-packages\\IPython\\core\\interactiveshell.py\", line 3153, in _run_cell\n",
      "    result = runner(coro)\n",
      "  File \"c:\\GitHub\\rag\\.venv\\Lib\\site-packages\\IPython\\core\\async_helpers.py\", line 128, in _pseudo_sync_runner\n",
      "    coro.send(None)\n",
      "  File \"c:\\GitHub\\rag\\.venv\\Lib\\site-packages\\IPython\\core\\interactiveshell.py\", line 3362, in run_cell_async\n",
      "    has_raised = await self.run_ast_nodes(code_ast.body, cell_name,\n",
      "  File \"c:\\GitHub\\rag\\.venv\\Lib\\site-packages\\IPython\\core\\interactiveshell.py\", line 3607, in run_ast_nodes\n",
      "    if await self.run_code(code, result, async_=asy):\n",
      "  File \"c:\\GitHub\\rag\\.venv\\Lib\\site-packages\\IPython\\core\\interactiveshell.py\", line 3667, in run_code\n",
      "    exec(code_obj, self.user_global_ns, self.user_ns)\n",
      "  File \"C:\\Users\\stepa\\AppData\\Local\\Temp\\ipykernel_3648\\1475347963.py\", line 1, in <module>\n",
      "    rmse, true_values, predictions = compute_metrics(df_test, rag)\n",
      "  File \"C:\\Users\\stepa\\AppData\\Local\\Temp\\ipykernel_3648\\732262285.py\", line 11, in compute_metrics\n",
      "    prediction = rag.generate_anwser(question)[\"probability\"]\n",
      "  File \"c:\\GitHub\\rag\\metrics\\..\\app\\rag_pipelines.py\", line 30, in generate_anwser\n",
      "    self.logger.info(f\"Response received: {response}\")\n",
      "Message: 'Response received: {\\'id\\': \\'gen-1744916315-dkxOwlmghukVlEfUOJMk\\', \\'provider\\': \\'Crusoe\\', \\'model\\': \\'meta-llama/llama-3.2-1b-instruct\\', \\'object\\': \\'chat.completion\\', \\'created\\': 1744916315, \\'choices\\': [{\\'logprobs\\': None, \\'finish_reason\\': \\'stop\\', \\'native_finish_reason\\': \\'stop\\', \\'index\\': 0, \\'message\\': {\\'role\\': \\'assistant\\', \\'content\\': \\'{\\\\n  \"probability\": 0,\\\\n  \"justification\": \"No, as there is no athlete with a 100% chance of winning ≥21 gold medals; even the most successful Olympic wrestlers rarely achieve this threshold, and their individual chances of winning more golds decrease exponentially with each subsequent edition, making exceptional probabilities negligible.\"\\\\n}\\', \\'refusal\\': None, \\'reasoning\\': None}}], \\'usage\\': {\\'prompt_tokens\\': 139, \\'completion_tokens\\': 68, \\'total_tokens\\': 207, \\'prompt_tokens_details\\': {\\'cached_tokens\\': 96}}}'\n",
      "Arguments: ()\n",
      "2025-04-17 21:58:38,091 - INFO - Raw content: {\n",
      "  \"probability\": 0,\n",
      "  \"justification\": \"No, as there is no athlete with a 100% chance of winning ≥21 gold medals; even the most successful Olympic wrestlers rarely achieve this threshold, and their individual chances of winning more golds decrease exponentially with each subsequent edition, making exceptional probabilities negligible.\"\n",
      "}\n",
      "--- Logging error ---\n",
      "Traceback (most recent call last):\n",
      "  File \"C:\\Program Files\\WindowsApps\\PythonSoftwareFoundation.Python.3.11_3.11.2544.0_x64__qbz5n2kfra8p0\\Lib\\logging\\__init__.py\", line 1113, in emit\n",
      "    stream.write(msg + self.terminator)\n",
      "  File \"C:\\Program Files\\WindowsApps\\PythonSoftwareFoundation.Python.3.11_3.11.2544.0_x64__qbz5n2kfra8p0\\Lib\\encodings\\cp1252.py\", line 19, in encode\n",
      "    return codecs.charmap_encode(input,self.errors,encoding_table)[0]\n",
      "           ^^^^^^^^^^^^^^^^^^^^^^^^^^^^^^^^^^^^^^^^^^^^^^^^^^^^^^^\n",
      "UnicodeEncodeError: 'charmap' codec can't encode character '\\u2265' in position 147: character maps to <undefined>\n",
      "Call stack:\n",
      "  File \"<frozen runpy>\", line 198, in _run_module_as_main\n",
      "  File \"<frozen runpy>\", line 88, in _run_code\n",
      "  File \"c:\\GitHub\\rag\\.venv\\Lib\\site-packages\\ipykernel_launcher.py\", line 18, in <module>\n",
      "    app.launch_new_instance()\n",
      "  File \"c:\\GitHub\\rag\\.venv\\Lib\\site-packages\\traitlets\\config\\application.py\", line 1075, in launch_instance\n",
      "    app.start()\n",
      "  File \"c:\\GitHub\\rag\\.venv\\Lib\\site-packages\\ipykernel\\kernelapp.py\", line 739, in start\n",
      "    self.io_loop.start()\n",
      "  File \"c:\\GitHub\\rag\\.venv\\Lib\\site-packages\\tornado\\platform\\asyncio.py\", line 205, in start\n",
      "    self.asyncio_loop.run_forever()\n",
      "  File \"C:\\Program Files\\WindowsApps\\PythonSoftwareFoundation.Python.3.11_3.11.2544.0_x64__qbz5n2kfra8p0\\Lib\\asyncio\\base_events.py\", line 608, in run_forever\n",
      "    self._run_once()\n",
      "  File \"C:\\Program Files\\WindowsApps\\PythonSoftwareFoundation.Python.3.11_3.11.2544.0_x64__qbz5n2kfra8p0\\Lib\\asyncio\\base_events.py\", line 1936, in _run_once\n",
      "    handle._run()\n",
      "  File \"C:\\Program Files\\WindowsApps\\PythonSoftwareFoundation.Python.3.11_3.11.2544.0_x64__qbz5n2kfra8p0\\Lib\\asyncio\\events.py\", line 84, in _run\n",
      "    self._context.run(self._callback, *self._args)\n",
      "  File \"c:\\GitHub\\rag\\.venv\\Lib\\site-packages\\ipykernel\\kernelbase.py\", line 545, in dispatch_queue\n",
      "    await self.process_one()\n",
      "  File \"c:\\GitHub\\rag\\.venv\\Lib\\site-packages\\ipykernel\\kernelbase.py\", line 534, in process_one\n",
      "    await dispatch(*args)\n",
      "  File \"c:\\GitHub\\rag\\.venv\\Lib\\site-packages\\ipykernel\\kernelbase.py\", line 437, in dispatch_shell\n",
      "    await result\n",
      "  File \"c:\\GitHub\\rag\\.venv\\Lib\\site-packages\\ipykernel\\ipkernel.py\", line 362, in execute_request\n",
      "    await super().execute_request(stream, ident, parent)\n",
      "  File \"c:\\GitHub\\rag\\.venv\\Lib\\site-packages\\ipykernel\\kernelbase.py\", line 778, in execute_request\n",
      "    reply_content = await reply_content\n",
      "  File \"c:\\GitHub\\rag\\.venv\\Lib\\site-packages\\ipykernel\\ipkernel.py\", line 449, in do_execute\n",
      "    res = shell.run_cell(\n",
      "  File \"c:\\GitHub\\rag\\.venv\\Lib\\site-packages\\ipykernel\\zmqshell.py\", line 549, in run_cell\n",
      "    return super().run_cell(*args, **kwargs)\n",
      "  File \"c:\\GitHub\\rag\\.venv\\Lib\\site-packages\\IPython\\core\\interactiveshell.py\", line 3098, in run_cell\n",
      "    result = self._run_cell(\n",
      "  File \"c:\\GitHub\\rag\\.venv\\Lib\\site-packages\\IPython\\core\\interactiveshell.py\", line 3153, in _run_cell\n",
      "    result = runner(coro)\n",
      "  File \"c:\\GitHub\\rag\\.venv\\Lib\\site-packages\\IPython\\core\\async_helpers.py\", line 128, in _pseudo_sync_runner\n",
      "    coro.send(None)\n",
      "  File \"c:\\GitHub\\rag\\.venv\\Lib\\site-packages\\IPython\\core\\interactiveshell.py\", line 3362, in run_cell_async\n",
      "    has_raised = await self.run_ast_nodes(code_ast.body, cell_name,\n",
      "  File \"c:\\GitHub\\rag\\.venv\\Lib\\site-packages\\IPython\\core\\interactiveshell.py\", line 3607, in run_ast_nodes\n",
      "    if await self.run_code(code, result, async_=asy):\n",
      "  File \"c:\\GitHub\\rag\\.venv\\Lib\\site-packages\\IPython\\core\\interactiveshell.py\", line 3667, in run_code\n",
      "    exec(code_obj, self.user_global_ns, self.user_ns)\n",
      "  File \"C:\\Users\\stepa\\AppData\\Local\\Temp\\ipykernel_3648\\1475347963.py\", line 1, in <module>\n",
      "    rmse, true_values, predictions = compute_metrics(df_test, rag)\n",
      "  File \"C:\\Users\\stepa\\AppData\\Local\\Temp\\ipykernel_3648\\732262285.py\", line 11, in compute_metrics\n",
      "    prediction = rag.generate_anwser(question)[\"probability\"]\n",
      "  File \"c:\\GitHub\\rag\\metrics\\..\\app\\rag_pipelines.py\", line 33, in generate_anwser\n",
      "    self.logger.info(f\"Raw content: {content}\")\n",
      "Message: 'Raw content: {\\n  \"probability\": 0,\\n  \"justification\": \"No, as there is no athlete with a 100% chance of winning ≥21 gold medals; even the most successful Olympic wrestlers rarely achieve this threshold, and their individual chances of winning more golds decrease exponentially with each subsequent edition, making exceptional probabilities negligible.\"\\n}'\n",
      "Arguments: ()\n",
      "2025-04-17 21:58:38,093 - INFO - Parsed response: {'probability': 0, 'justification': 'No, as there is no athlete with a 100% chance of winning ≥21 gold medals; even the most successful Olympic wrestlers rarely achieve this threshold, and their individual chances of winning more golds decrease exponentially with each subsequent edition, making exceptional probabilities negligible.'}\n",
      "--- Logging error ---\n",
      "Traceback (most recent call last):\n",
      "  File \"C:\\Program Files\\WindowsApps\\PythonSoftwareFoundation.Python.3.11_3.11.2544.0_x64__qbz5n2kfra8p0\\Lib\\logging\\__init__.py\", line 1113, in emit\n",
      "    stream.write(msg + self.terminator)\n",
      "  File \"C:\\Program Files\\WindowsApps\\PythonSoftwareFoundation.Python.3.11_3.11.2544.0_x64__qbz5n2kfra8p0\\Lib\\encodings\\cp1252.py\", line 19, in encode\n",
      "    return codecs.charmap_encode(input,self.errors,encoding_table)[0]\n",
      "           ^^^^^^^^^^^^^^^^^^^^^^^^^^^^^^^^^^^^^^^^^^^^^^^^^^^^^^^\n",
      "UnicodeEncodeError: 'charmap' codec can't encode character '\\u2265' in position 144: character maps to <undefined>\n",
      "Call stack:\n",
      "  File \"<frozen runpy>\", line 198, in _run_module_as_main\n",
      "  File \"<frozen runpy>\", line 88, in _run_code\n",
      "  File \"c:\\GitHub\\rag\\.venv\\Lib\\site-packages\\ipykernel_launcher.py\", line 18, in <module>\n",
      "    app.launch_new_instance()\n",
      "  File \"c:\\GitHub\\rag\\.venv\\Lib\\site-packages\\traitlets\\config\\application.py\", line 1075, in launch_instance\n",
      "    app.start()\n",
      "  File \"c:\\GitHub\\rag\\.venv\\Lib\\site-packages\\ipykernel\\kernelapp.py\", line 739, in start\n",
      "    self.io_loop.start()\n",
      "  File \"c:\\GitHub\\rag\\.venv\\Lib\\site-packages\\tornado\\platform\\asyncio.py\", line 205, in start\n",
      "    self.asyncio_loop.run_forever()\n",
      "  File \"C:\\Program Files\\WindowsApps\\PythonSoftwareFoundation.Python.3.11_3.11.2544.0_x64__qbz5n2kfra8p0\\Lib\\asyncio\\base_events.py\", line 608, in run_forever\n",
      "    self._run_once()\n",
      "  File \"C:\\Program Files\\WindowsApps\\PythonSoftwareFoundation.Python.3.11_3.11.2544.0_x64__qbz5n2kfra8p0\\Lib\\asyncio\\base_events.py\", line 1936, in _run_once\n",
      "    handle._run()\n",
      "  File \"C:\\Program Files\\WindowsApps\\PythonSoftwareFoundation.Python.3.11_3.11.2544.0_x64__qbz5n2kfra8p0\\Lib\\asyncio\\events.py\", line 84, in _run\n",
      "    self._context.run(self._callback, *self._args)\n",
      "  File \"c:\\GitHub\\rag\\.venv\\Lib\\site-packages\\ipykernel\\kernelbase.py\", line 545, in dispatch_queue\n",
      "    await self.process_one()\n",
      "  File \"c:\\GitHub\\rag\\.venv\\Lib\\site-packages\\ipykernel\\kernelbase.py\", line 534, in process_one\n",
      "    await dispatch(*args)\n",
      "  File \"c:\\GitHub\\rag\\.venv\\Lib\\site-packages\\ipykernel\\kernelbase.py\", line 437, in dispatch_shell\n",
      "    await result\n",
      "  File \"c:\\GitHub\\rag\\.venv\\Lib\\site-packages\\ipykernel\\ipkernel.py\", line 362, in execute_request\n",
      "    await super().execute_request(stream, ident, parent)\n",
      "  File \"c:\\GitHub\\rag\\.venv\\Lib\\site-packages\\ipykernel\\kernelbase.py\", line 778, in execute_request\n",
      "    reply_content = await reply_content\n",
      "  File \"c:\\GitHub\\rag\\.venv\\Lib\\site-packages\\ipykernel\\ipkernel.py\", line 449, in do_execute\n",
      "    res = shell.run_cell(\n",
      "  File \"c:\\GitHub\\rag\\.venv\\Lib\\site-packages\\ipykernel\\zmqshell.py\", line 549, in run_cell\n",
      "    return super().run_cell(*args, **kwargs)\n",
      "  File \"c:\\GitHub\\rag\\.venv\\Lib\\site-packages\\IPython\\core\\interactiveshell.py\", line 3098, in run_cell\n",
      "    result = self._run_cell(\n",
      "  File \"c:\\GitHub\\rag\\.venv\\Lib\\site-packages\\IPython\\core\\interactiveshell.py\", line 3153, in _run_cell\n",
      "    result = runner(coro)\n",
      "  File \"c:\\GitHub\\rag\\.venv\\Lib\\site-packages\\IPython\\core\\async_helpers.py\", line 128, in _pseudo_sync_runner\n",
      "    coro.send(None)\n",
      "  File \"c:\\GitHub\\rag\\.venv\\Lib\\site-packages\\IPython\\core\\interactiveshell.py\", line 3362, in run_cell_async\n",
      "    has_raised = await self.run_ast_nodes(code_ast.body, cell_name,\n",
      "  File \"c:\\GitHub\\rag\\.venv\\Lib\\site-packages\\IPython\\core\\interactiveshell.py\", line 3607, in run_ast_nodes\n",
      "    if await self.run_code(code, result, async_=asy):\n",
      "  File \"c:\\GitHub\\rag\\.venv\\Lib\\site-packages\\IPython\\core\\interactiveshell.py\", line 3667, in run_code\n",
      "    exec(code_obj, self.user_global_ns, self.user_ns)\n",
      "  File \"C:\\Users\\stepa\\AppData\\Local\\Temp\\ipykernel_3648\\1475347963.py\", line 1, in <module>\n",
      "    rmse, true_values, predictions = compute_metrics(df_test, rag)\n",
      "  File \"C:\\Users\\stepa\\AppData\\Local\\Temp\\ipykernel_3648\\732262285.py\", line 11, in compute_metrics\n",
      "    prediction = rag.generate_anwser(question)[\"probability\"]\n",
      "  File \"c:\\GitHub\\rag\\metrics\\..\\app\\rag_pipelines.py\", line 54, in generate_anwser\n",
      "    self.logger.info(f\"Parsed response: {response_json}\")\n",
      "Message: \"Parsed response: {'probability': 0, 'justification': 'No, as there is no athlete with a 100% chance of winning ≥21 gold medals; even the most successful Olympic wrestlers rarely achieve this threshold, and their individual chances of winning more golds decrease exponentially with each subsequent edition, making exceptional probabilities negligible.'}\"\n",
      "Arguments: ()\n",
      " 85%|████████▍ | 60/71 [04:43<01:01,  5.63s/it]2025-04-17 21:58:38,097 - INFO - Generating answer for query: Will the month over month percentage increase in core CPI inflation in the US in August 2024 be 0.1%?\n",
      "2025-04-17 21:58:38,097 - INFO - Messages for LLM: [{'role': 'system', 'content': 'You are an expert forecaster. Given a binary event, estimate the probability (0-100%) that it will happen, and provide a brief justification for your estimate. Respond strictly in the following JSON format:\\n{\\n  \"probability\": <number>,\\n  \"justification\": \"<short explanation>\"\\n}\\nDo not include any other text.'}, {'role': 'user', 'content': 'Event: Will the month over month percentage increase in core CPI inflation in the US in August 2024 be 0.1%?\\nWhat is the probability this event will occur? Please follow the required JSON format.'}]\n",
      "2025-04-17 21:58:39,509 - INFO - Response received: {'id': 'gen-1744916317-MBYyaLAestqlsisfD70E', 'provider': 'Crusoe', 'model': 'meta-llama/llama-3.2-1b-instruct', 'object': 'chat.completion', 'created': 1744916317, 'choices': [{'logprobs': None, 'finish_reason': 'stop', 'native_finish_reason': 'stop', 'index': 0, 'message': {'role': 'assistant', 'content': '{\\n  \"probability\": 30,\\n  \"justification\": \"There is a 30% probability that core CPI inflation in August 2024 will increase by 0.1% due to lagged CPI reading impact; initial CPI reading of 6.3% for July outpaced the expected decline.\"\\n}', 'refusal': None, 'reasoning': None}}], 'usage': {'prompt_tokens': 146, 'completion_tokens': 65, 'total_tokens': 211, 'prompt_tokens_details': {'cached_tokens': 112}}}\n",
      "2025-04-17 21:58:39,510 - INFO - Raw content: {\n",
      "  \"probability\": 30,\n",
      "  \"justification\": \"There is a 30% probability that core CPI inflation in August 2024 will increase by 0.1% due to lagged CPI reading impact; initial CPI reading of 6.3% for July outpaced the expected decline.\"\n",
      "}\n",
      "2025-04-17 21:58:39,511 - INFO - Parsed response: {'probability': 30, 'justification': 'There is a 30% probability that core CPI inflation in August 2024 will increase by 0.1% due to lagged CPI reading impact; initial CPI reading of 6.3% for July outpaced the expected decline.'}\n",
      " 86%|████████▌ | 61/71 [04:45<00:43,  4.37s/it]2025-04-17 21:58:39,513 - INFO - Generating answer for query: Between August 21 and Sept 11, 2024, will the strongest geomagnetic storm have a K-index (\"Kp\") greater than 6 and less than or equal to 7?\n",
      "2025-04-17 21:58:39,514 - INFO - Messages for LLM: [{'role': 'system', 'content': 'You are an expert forecaster. Given a binary event, estimate the probability (0-100%) that it will happen, and provide a brief justification for your estimate. Respond strictly in the following JSON format:\\n{\\n  \"probability\": <number>,\\n  \"justification\": \"<short explanation>\"\\n}\\nDo not include any other text.'}, {'role': 'user', 'content': 'Event: Between August 21 and Sept 11, 2024, will the strongest geomagnetic storm have a K-index (\"Kp\") greater than 6 and less than or equal to 7?\\nWhat is the probability this event will occur? Please follow the required JSON format.'}]\n",
      "2025-04-17 21:58:41,522 - INFO - Response received: {'id': 'gen-1744916319-wyuR73SuNSckqBO9rKjV', 'provider': 'Crusoe', 'model': 'meta-llama/llama-3.2-1b-instruct', 'object': 'chat.completion', 'created': 1744916319, 'choices': [{'logprobs': None, 'finish_reason': 'stop', 'native_finish_reason': 'stop', 'index': 0, 'message': {'role': 'assistant', 'content': '{\\n  \"probability\": 85,\\n  \"justification\": \"A strong geomagnetic storm can be predicted using the KP index on a probabilistic basis according to the literature, considering that a threshold for K indexes is based on event-based probabilities rather than location-based probabilities, real-time monitoring of the Kp index is unnecessary to predict this event.\"\\n}', 'refusal': None, 'reasoning': None}}], 'usage': {'prompt_tokens': 160, 'completion_tokens': 72, 'total_tokens': 232, 'prompt_tokens_details': {'cached_tokens': 96}}}\n",
      "2025-04-17 21:58:41,523 - INFO - Raw content: {\n",
      "  \"probability\": 85,\n",
      "  \"justification\": \"A strong geomagnetic storm can be predicted using the KP index on a probabilistic basis according to the literature, considering that a threshold for K indexes is based on event-based probabilities rather than location-based probabilities, real-time monitoring of the Kp index is unnecessary to predict this event.\"\n",
      "}\n",
      "2025-04-17 21:58:41,524 - INFO - Parsed response: {'probability': 85, 'justification': 'A strong geomagnetic storm can be predicted using the KP index on a probabilistic basis according to the literature, considering that a threshold for K indexes is based on event-based probabilities rather than location-based probabilities, real-time monitoring of the Kp index is unnecessary to predict this event.'}\n",
      " 87%|████████▋ | 62/71 [04:47<00:32,  3.66s/it]2025-04-17 21:58:41,524 - INFO - Generating answer for query: On Sept 30, 2024 will more than 400 measles cases have been reported in the United States in 2024?\n",
      "2025-04-17 21:58:41,524 - INFO - Messages for LLM: [{'role': 'system', 'content': 'You are an expert forecaster. Given a binary event, estimate the probability (0-100%) that it will happen, and provide a brief justification for your estimate. Respond strictly in the following JSON format:\\n{\\n  \"probability\": <number>,\\n  \"justification\": \"<short explanation>\"\\n}\\nDo not include any other text.'}, {'role': 'user', 'content': 'Event: On Sept 30, 2024 will more than 400 measles cases have been reported in the United States in 2024?\\nWhat is the probability this event will occur? Please follow the required JSON format.'}]\n",
      "2025-04-17 21:58:43,607 - INFO - Response received: {'id': 'gen-1744916321-lMwR0lTmdmqrSENO9b53', 'provider': 'Crusoe', 'model': 'meta-llama/llama-3.2-1b-instruct', 'object': 'chat.completion', 'created': 1744916321, 'choices': [{'logprobs': None, 'finish_reason': 'stop', 'native_finish_reason': 'stop', 'index': 0, 'message': {'role': 'assistant', 'content': '{\\n  \"probability\": 75,\\n  \"justification\": \"The majority of measles cases reported to the US Centers for Disease Control and Prevention (CDC) in 2024 have been mild, with most involving only local and low-vaccination regions. While it is impossible to predict the exact number of cases with certainty, there is a decent chance that more than 400 cases could be reported, especially given the different vaccination practices and disease transmission patterns across the country.\"\\n}', 'refusal': None, 'reasoning': None}}], 'usage': {'prompt_tokens': 147, 'completion_tokens': 97, 'total_tokens': 244, 'prompt_tokens_details': {'cached_tokens': 96}}}\n",
      "2025-04-17 21:58:43,608 - INFO - Raw content: {\n",
      "  \"probability\": 75,\n",
      "  \"justification\": \"The majority of measles cases reported to the US Centers for Disease Control and Prevention (CDC) in 2024 have been mild, with most involving only local and low-vaccination regions. While it is impossible to predict the exact number of cases with certainty, there is a decent chance that more than 400 cases could be reported, especially given the different vaccination practices and disease transmission patterns across the country.\"\n",
      "}\n",
      "2025-04-17 21:58:43,609 - INFO - Parsed response: {'probability': 75, 'justification': 'The majority of measles cases reported to the US Centers for Disease Control and Prevention (CDC) in 2024 have been mild, with most involving only local and low-vaccination regions. While it is impossible to predict the exact number of cases with certainty, there is a decent chance that more than 400 cases could be reported, especially given the different vaccination practices and disease transmission patterns across the country.'}\n",
      " 89%|████████▊ | 63/71 [04:49<00:25,  3.19s/it]2025-04-17 21:58:43,611 - INFO - Generating answer for query: Will Donald Trump have more than 15 million TikTok followers on Sept 30, 2024?\n",
      "2025-04-17 21:58:43,611 - INFO - Messages for LLM: [{'role': 'system', 'content': 'You are an expert forecaster. Given a binary event, estimate the probability (0-100%) that it will happen, and provide a brief justification for your estimate. Respond strictly in the following JSON format:\\n{\\n  \"probability\": <number>,\\n  \"justification\": \"<short explanation>\"\\n}\\nDo not include any other text.'}, {'role': 'user', 'content': 'Event: Will Donald Trump have more than 15 million TikTok followers on Sept 30, 2024?\\nWhat is the probability this event will occur? Please follow the required JSON format.'}]\n",
      "2025-04-17 21:58:45,030 - INFO - Response received: {'id': 'gen-1744916323-5lNVWCEzuCkPvc0jGubJ', 'provider': 'Crusoe', 'model': 'meta-llama/llama-3.2-1b-instruct', 'object': 'chat.completion', 'created': 1744916323, 'choices': [{'logprobs': None, 'finish_reason': 'stop', 'native_finish_reason': 'stop', 'index': 0, 'message': {'role': 'assistant', 'content': '{\\n  \"probability\": 20,\\n  \"justification\": \"This is highly unlikely due to the rapidly changing popularity of TikTok, with usage patterns influenced by recent scandals and controversies, keeping the number of new users uncertain and unpredictable.\"\\n}', 'refusal': None, 'reasoning': None}}], 'usage': {'prompt_tokens': 141, 'completion_tokens': 50, 'total_tokens': 191, 'prompt_tokens_details': {'cached_tokens': 96}}}\n",
      "2025-04-17 21:58:45,031 - INFO - Raw content: {\n",
      "  \"probability\": 20,\n",
      "  \"justification\": \"This is highly unlikely due to the rapidly changing popularity of TikTok, with usage patterns influenced by recent scandals and controversies, keeping the number of new users uncertain and unpredictable.\"\n",
      "}\n",
      "2025-04-17 21:58:45,032 - INFO - Parsed response: {'probability': 20, 'justification': 'This is highly unlikely due to the rapidly changing popularity of TikTok, with usage patterns influenced by recent scandals and controversies, keeping the number of new users uncertain and unpredictable.'}\n",
      " 90%|█████████ | 64/71 [04:50<00:18,  2.66s/it]2025-04-17 21:58:45,033 - INFO - Generating answer for query: Will there be a debate between the Republican vice presidential nominee and the Democratic vice presidential nominee before October 1, 2024?\n",
      "2025-04-17 21:58:45,034 - INFO - Messages for LLM: [{'role': 'system', 'content': 'You are an expert forecaster. Given a binary event, estimate the probability (0-100%) that it will happen, and provide a brief justification for your estimate. Respond strictly in the following JSON format:\\n{\\n  \"probability\": <number>,\\n  \"justification\": \"<short explanation>\"\\n}\\nDo not include any other text.'}, {'role': 'user', 'content': 'Event: Will there be a debate between the Republican vice presidential nominee and the Democratic vice presidential nominee before October 1, 2024?\\nWhat is the probability this event will occur? Please follow the required JSON format.'}]\n",
      "2025-04-17 21:58:46,381 - INFO - Response received: {'id': 'gen-1744916324-9EQSZPBPdNPEE7sIHoag', 'provider': 'Crusoe', 'model': 'meta-llama/llama-3.2-1b-instruct', 'object': 'chat.completion', 'created': 1744916324, 'choices': [{'logprobs': None, 'finish_reason': 'stop', 'native_finish_reason': 'stop', 'index': 0, 'message': {'role': 'assistant', 'content': '{\\n  \"probability\": 0,\\n  \"justification\": \"There is not enough historical data or notable recent instances of debates between the Republican and Democratic vice presidential nominees before October 1, 2024, to provide a reliable estimate of their likelihood. The odds of such an event happening in the near future appear marginal.\"\\n}', 'refusal': None, 'reasoning': None}}], 'usage': {'prompt_tokens': 146, 'completion_tokens': 68, 'total_tokens': 214, 'prompt_tokens_details': {'cached_tokens': 96}}}\n",
      "2025-04-17 21:58:46,382 - INFO - Raw content: {\n",
      "  \"probability\": 0,\n",
      "  \"justification\": \"There is not enough historical data or notable recent instances of debates between the Republican and Democratic vice presidential nominees before October 1, 2024, to provide a reliable estimate of their likelihood. The odds of such an event happening in the near future appear marginal.\"\n",
      "}\n",
      "2025-04-17 21:58:46,383 - INFO - Parsed response: {'probability': 0, 'justification': 'There is not enough historical data or notable recent instances of debates between the Republican and Democratic vice presidential nominees before October 1, 2024, to provide a reliable estimate of their likelihood. The odds of such an event happening in the near future appear marginal.'}\n",
      " 92%|█████████▏| 65/71 [04:51<00:13,  2.27s/it]2025-04-17 21:58:46,384 - INFO - Generating answer for query: Will diplomatic expulsions or recalls take place between the Philippines and China before August 1, 2024?\n",
      "2025-04-17 21:58:46,385 - INFO - Messages for LLM: [{'role': 'system', 'content': 'You are an expert forecaster. Given a binary event, estimate the probability (0-100%) that it will happen, and provide a brief justification for your estimate. Respond strictly in the following JSON format:\\n{\\n  \"probability\": <number>,\\n  \"justification\": \"<short explanation>\"\\n}\\nDo not include any other text.'}, {'role': 'user', 'content': 'Event: Will diplomatic expulsions or recalls take place between the Philippines and China before August 1, 2024?\\nWhat is the probability this event will occur? Please follow the required JSON format.'}]\n",
      "2025-04-17 21:58:48,521 - INFO - Response received: {'id': 'gen-1744916326-874uDdrVJLhFEM79zd4v', 'provider': 'Crusoe', 'model': 'meta-llama/llama-3.2-1b-instruct', 'object': 'chat.completion', 'created': 1744916326, 'choices': [{'logprobs': None, 'finish_reason': 'stop', 'native_finish_reason': 'stop', 'index': 0, 'message': {'role': 'assistant', 'content': '{\\n  \"probability\": 80,\\n  \"justification\": \"Diplomatic tensions between the Philippines and China remain high after China\\'s territorial claims in the South China Sea led to a significant deterioration in the relationship in early 2023. The International Court of Justice (ICJ) ruled in favor of the Philippines, reaffirming its sovereignty over the occupied islands. The US has been actively involved in mediating the situation, but China continues to assert its influence through its naval build-up and air defense exercises.\"', 'refusal': None, 'reasoning': None}}], 'usage': {'prompt_tokens': 143, 'completion_tokens': 105, 'total_tokens': 248, 'prompt_tokens_details': {'cached_tokens': 96}}}\n",
      "2025-04-17 21:58:48,522 - INFO - Raw content: {\n",
      "  \"probability\": 80,\n",
      "  \"justification\": \"Diplomatic tensions between the Philippines and China remain high after China's territorial claims in the South China Sea led to a significant deterioration in the relationship in early 2023. The International Court of Justice (ICJ) ruled in favor of the Philippines, reaffirming its sovereignty over the occupied islands. The US has been actively involved in mediating the situation, but China continues to assert its influence through its naval build-up and air defense exercises.\"\n",
      "2025-04-17 21:58:48,523 - ERROR - No JSON found in response\n",
      "2025-04-17 21:58:48,523 - INFO - Generating answer for query: Will diplomatic expulsions or recalls take place between the Philippines and China before August 1, 2024?\n",
      "2025-04-17 21:58:48,523 - INFO - Messages for LLM: [{'role': 'system', 'content': 'You are an expert forecaster. Given a binary event, estimate the probability (0-100%) that it will happen, and provide a brief justification for your estimate. Respond strictly in the following JSON format:\\n{\\n  \"probability\": <number>,\\n  \"justification\": \"<short explanation>\"\\n}\\nDo not include any other text.'}, {'role': 'user', 'content': 'Event: Will diplomatic expulsions or recalls take place between the Philippines and China before August 1, 2024?\\nWhat is the probability this event will occur? Please follow the required JSON format.'}]\n"
     ]
    },
    {
     "name": "stdout",
     "output_type": "stream",
     "text": [
      "Error: tuple indices must be integers or slices, not str. Retrying...\n"
     ]
    },
    {
     "name": "stderr",
     "output_type": "stream",
     "text": [
      "2025-04-17 21:58:49,676 - INFO - Response received: {'error': {'message': 'Rate limit exceeded: free-models-per-min. undefined', 'code': 429, 'metadata': {'headers': {'X-RateLimit-Limit': '20', 'X-RateLimit-Remaining': '0', 'X-RateLimit-Reset': '1744916340000'}, 'provider_name': None}}, 'user_id': 'user_2lsCv9xYObGiiRMCLsLyYmaayYm'}\n",
      "2025-04-17 21:58:49,677 - ERROR - Error generating response: 'choices'\n",
      "2025-04-17 21:58:49,677 - INFO - Generating answer for query: Will diplomatic expulsions or recalls take place between the Philippines and China before August 1, 2024?\n",
      "2025-04-17 21:58:49,678 - INFO - Messages for LLM: [{'role': 'system', 'content': 'You are an expert forecaster. Given a binary event, estimate the probability (0-100%) that it will happen, and provide a brief justification for your estimate. Respond strictly in the following JSON format:\\n{\\n  \"probability\": <number>,\\n  \"justification\": \"<short explanation>\"\\n}\\nDo not include any other text.'}, {'role': 'user', 'content': 'Event: Will diplomatic expulsions or recalls take place between the Philippines and China before August 1, 2024?\\nWhat is the probability this event will occur? Please follow the required JSON format.'}]\n"
     ]
    },
    {
     "name": "stdout",
     "output_type": "stream",
     "text": [
      "Error: 'choices'. Retrying...\n"
     ]
    },
    {
     "name": "stderr",
     "output_type": "stream",
     "text": [
      "2025-04-17 21:58:50,405 - INFO - Response received: {'error': {'message': 'Rate limit exceeded: free-models-per-min. undefined', 'code': 429, 'metadata': {'headers': {'X-RateLimit-Limit': '20', 'X-RateLimit-Remaining': '0', 'X-RateLimit-Reset': '1744916340000'}, 'provider_name': None}}, 'user_id': 'user_2lsCv9xYObGiiRMCLsLyYmaayYm'}\n",
      "2025-04-17 21:58:50,406 - ERROR - Error generating response: 'choices'\n",
      "2025-04-17 21:58:50,407 - INFO - Generating answer for query: Will diplomatic expulsions or recalls take place between the Philippines and China before August 1, 2024?\n",
      "2025-04-17 21:58:50,408 - INFO - Messages for LLM: [{'role': 'system', 'content': 'You are an expert forecaster. Given a binary event, estimate the probability (0-100%) that it will happen, and provide a brief justification for your estimate. Respond strictly in the following JSON format:\\n{\\n  \"probability\": <number>,\\n  \"justification\": \"<short explanation>\"\\n}\\nDo not include any other text.'}, {'role': 'user', 'content': 'Event: Will diplomatic expulsions or recalls take place between the Philippines and China before August 1, 2024?\\nWhat is the probability this event will occur? Please follow the required JSON format.'}]\n"
     ]
    },
    {
     "name": "stdout",
     "output_type": "stream",
     "text": [
      "Error: 'choices'. Retrying...\n"
     ]
    },
    {
     "name": "stderr",
     "output_type": "stream",
     "text": [
      "2025-04-17 21:58:51,188 - INFO - Response received: {'error': {'message': 'Rate limit exceeded: free-models-per-min. undefined', 'code': 429, 'metadata': {'headers': {'X-RateLimit-Limit': '20', 'X-RateLimit-Remaining': '0', 'X-RateLimit-Reset': '1744916340000'}, 'provider_name': None}}, 'user_id': 'user_2lsCv9xYObGiiRMCLsLyYmaayYm'}\n",
      "2025-04-17 21:58:51,189 - ERROR - Error generating response: 'choices'\n",
      "2025-04-17 21:58:51,189 - INFO - Generating answer for query: Will diplomatic expulsions or recalls take place between the Philippines and China before August 1, 2024?\n",
      "2025-04-17 21:58:51,191 - INFO - Messages for LLM: [{'role': 'system', 'content': 'You are an expert forecaster. Given a binary event, estimate the probability (0-100%) that it will happen, and provide a brief justification for your estimate. Respond strictly in the following JSON format:\\n{\\n  \"probability\": <number>,\\n  \"justification\": \"<short explanation>\"\\n}\\nDo not include any other text.'}, {'role': 'user', 'content': 'Event: Will diplomatic expulsions or recalls take place between the Philippines and China before August 1, 2024?\\nWhat is the probability this event will occur? Please follow the required JSON format.'}]\n"
     ]
    },
    {
     "name": "stdout",
     "output_type": "stream",
     "text": [
      "Error: 'choices'. Retrying...\n"
     ]
    },
    {
     "name": "stderr",
     "output_type": "stream",
     "text": [
      "2025-04-17 21:58:52,181 - INFO - Response received: {'error': {'message': 'Rate limit exceeded: free-models-per-min. undefined', 'code': 429, 'metadata': {'headers': {'X-RateLimit-Limit': '20', 'X-RateLimit-Remaining': '0', 'X-RateLimit-Reset': '1744916340000'}, 'provider_name': None}}, 'user_id': 'user_2lsCv9xYObGiiRMCLsLyYmaayYm'}\n",
      "2025-04-17 21:58:52,182 - ERROR - Error generating response: 'choices'\n",
      "2025-04-17 21:58:52,183 - INFO - Generating answer for query: Will diplomatic expulsions or recalls take place between the Philippines and China before August 1, 2024?\n",
      "2025-04-17 21:58:52,183 - INFO - Messages for LLM: [{'role': 'system', 'content': 'You are an expert forecaster. Given a binary event, estimate the probability (0-100%) that it will happen, and provide a brief justification for your estimate. Respond strictly in the following JSON format:\\n{\\n  \"probability\": <number>,\\n  \"justification\": \"<short explanation>\"\\n}\\nDo not include any other text.'}, {'role': 'user', 'content': 'Event: Will diplomatic expulsions or recalls take place between the Philippines and China before August 1, 2024?\\nWhat is the probability this event will occur? Please follow the required JSON format.'}]\n"
     ]
    },
    {
     "name": "stdout",
     "output_type": "stream",
     "text": [
      "Error: 'choices'. Retrying...\n"
     ]
    },
    {
     "name": "stderr",
     "output_type": "stream",
     "text": [
      "2025-04-17 21:58:53,456 - INFO - Response received: {'error': {'message': 'Rate limit exceeded: free-models-per-min. undefined', 'code': 429, 'metadata': {'headers': {'X-RateLimit-Limit': '20', 'X-RateLimit-Remaining': '0', 'X-RateLimit-Reset': '1744916340000'}, 'provider_name': None}}, 'user_id': 'user_2lsCv9xYObGiiRMCLsLyYmaayYm'}\n",
      "2025-04-17 21:58:53,457 - ERROR - Error generating response: 'choices'\n",
      "2025-04-17 21:58:53,458 - INFO - Generating answer for query: Will diplomatic expulsions or recalls take place between the Philippines and China before August 1, 2024?\n",
      "2025-04-17 21:58:53,458 - INFO - Messages for LLM: [{'role': 'system', 'content': 'You are an expert forecaster. Given a binary event, estimate the probability (0-100%) that it will happen, and provide a brief justification for your estimate. Respond strictly in the following JSON format:\\n{\\n  \"probability\": <number>,\\n  \"justification\": \"<short explanation>\"\\n}\\nDo not include any other text.'}, {'role': 'user', 'content': 'Event: Will diplomatic expulsions or recalls take place between the Philippines and China before August 1, 2024?\\nWhat is the probability this event will occur? Please follow the required JSON format.'}]\n"
     ]
    },
    {
     "name": "stdout",
     "output_type": "stream",
     "text": [
      "Error: 'choices'. Retrying...\n"
     ]
    },
    {
     "name": "stderr",
     "output_type": "stream",
     "text": [
      "2025-04-17 21:58:54,732 - INFO - Response received: {'error': {'message': 'Rate limit exceeded: free-models-per-min. undefined', 'code': 429, 'metadata': {'headers': {'X-RateLimit-Limit': '20', 'X-RateLimit-Remaining': '0', 'X-RateLimit-Reset': '1744916340000'}, 'provider_name': None}}, 'user_id': 'user_2lsCv9xYObGiiRMCLsLyYmaayYm'}\n",
      "2025-04-17 21:58:54,733 - ERROR - Error generating response: 'choices'\n",
      "2025-04-17 21:58:54,733 - INFO - Generating answer for query: Will diplomatic expulsions or recalls take place between the Philippines and China before August 1, 2024?\n",
      "2025-04-17 21:58:54,734 - INFO - Messages for LLM: [{'role': 'system', 'content': 'You are an expert forecaster. Given a binary event, estimate the probability (0-100%) that it will happen, and provide a brief justification for your estimate. Respond strictly in the following JSON format:\\n{\\n  \"probability\": <number>,\\n  \"justification\": \"<short explanation>\"\\n}\\nDo not include any other text.'}, {'role': 'user', 'content': 'Event: Will diplomatic expulsions or recalls take place between the Philippines and China before August 1, 2024?\\nWhat is the probability this event will occur? Please follow the required JSON format.'}]\n"
     ]
    },
    {
     "name": "stdout",
     "output_type": "stream",
     "text": [
      "Error: 'choices'. Retrying...\n"
     ]
    },
    {
     "name": "stderr",
     "output_type": "stream",
     "text": [
      "2025-04-17 21:58:55,405 - INFO - Response received: {'error': {'message': 'Rate limit exceeded: free-models-per-min. undefined', 'code': 429, 'metadata': {'headers': {'X-RateLimit-Limit': '20', 'X-RateLimit-Remaining': '0', 'X-RateLimit-Reset': '1744916340000'}, 'provider_name': None}}, 'user_id': 'user_2lsCv9xYObGiiRMCLsLyYmaayYm'}\n",
      "2025-04-17 21:58:55,405 - ERROR - Error generating response: 'choices'\n",
      "2025-04-17 21:58:55,406 - INFO - Generating answer for query: Will diplomatic expulsions or recalls take place between the Philippines and China before August 1, 2024?\n",
      "2025-04-17 21:58:55,406 - INFO - Messages for LLM: [{'role': 'system', 'content': 'You are an expert forecaster. Given a binary event, estimate the probability (0-100%) that it will happen, and provide a brief justification for your estimate. Respond strictly in the following JSON format:\\n{\\n  \"probability\": <number>,\\n  \"justification\": \"<short explanation>\"\\n}\\nDo not include any other text.'}, {'role': 'user', 'content': 'Event: Will diplomatic expulsions or recalls take place between the Philippines and China before August 1, 2024?\\nWhat is the probability this event will occur? Please follow the required JSON format.'}]\n"
     ]
    },
    {
     "name": "stdout",
     "output_type": "stream",
     "text": [
      "Error: 'choices'. Retrying...\n"
     ]
    },
    {
     "name": "stderr",
     "output_type": "stream",
     "text": [
      "2025-04-17 21:58:56,147 - INFO - Response received: {'error': {'message': 'Rate limit exceeded: free-models-per-min. undefined', 'code': 429, 'metadata': {'headers': {'X-RateLimit-Limit': '20', 'X-RateLimit-Remaining': '0', 'X-RateLimit-Reset': '1744916340000'}, 'provider_name': None}}, 'user_id': 'user_2lsCv9xYObGiiRMCLsLyYmaayYm'}\n",
      "2025-04-17 21:58:56,149 - ERROR - Error generating response: 'choices'\n",
      "2025-04-17 21:58:56,149 - INFO - Generating answer for query: Will diplomatic expulsions or recalls take place between the Philippines and China before August 1, 2024?\n",
      "2025-04-17 21:58:56,149 - INFO - Messages for LLM: [{'role': 'system', 'content': 'You are an expert forecaster. Given a binary event, estimate the probability (0-100%) that it will happen, and provide a brief justification for your estimate. Respond strictly in the following JSON format:\\n{\\n  \"probability\": <number>,\\n  \"justification\": \"<short explanation>\"\\n}\\nDo not include any other text.'}, {'role': 'user', 'content': 'Event: Will diplomatic expulsions or recalls take place between the Philippines and China before August 1, 2024?\\nWhat is the probability this event will occur? Please follow the required JSON format.'}]\n"
     ]
    },
    {
     "name": "stdout",
     "output_type": "stream",
     "text": [
      "Error: 'choices'. Retrying...\n"
     ]
    },
    {
     "name": "stderr",
     "output_type": "stream",
     "text": [
      "2025-04-17 21:58:56,807 - INFO - Response received: {'error': {'message': 'Rate limit exceeded: free-models-per-min. undefined', 'code': 429, 'metadata': {'headers': {'X-RateLimit-Limit': '20', 'X-RateLimit-Remaining': '0', 'X-RateLimit-Reset': '1744916340000'}, 'provider_name': None}}, 'user_id': 'user_2lsCv9xYObGiiRMCLsLyYmaayYm'}\n",
      "2025-04-17 21:58:56,807 - ERROR - Error generating response: 'choices'\n",
      "2025-04-17 21:58:56,808 - INFO - Generating answer for query: Will diplomatic expulsions or recalls take place between the Philippines and China before August 1, 2024?\n",
      "2025-04-17 21:58:56,810 - INFO - Messages for LLM: [{'role': 'system', 'content': 'You are an expert forecaster. Given a binary event, estimate the probability (0-100%) that it will happen, and provide a brief justification for your estimate. Respond strictly in the following JSON format:\\n{\\n  \"probability\": <number>,\\n  \"justification\": \"<short explanation>\"\\n}\\nDo not include any other text.'}, {'role': 'user', 'content': 'Event: Will diplomatic expulsions or recalls take place between the Philippines and China before August 1, 2024?\\nWhat is the probability this event will occur? Please follow the required JSON format.'}]\n"
     ]
    },
    {
     "name": "stdout",
     "output_type": "stream",
     "text": [
      "Error: 'choices'. Retrying...\n"
     ]
    },
    {
     "name": "stderr",
     "output_type": "stream",
     "text": [
      "2025-04-17 21:58:58,155 - INFO - Response received: {'error': {'message': 'Rate limit exceeded: free-models-per-min. undefined', 'code': 429, 'metadata': {'headers': {'X-RateLimit-Limit': '20', 'X-RateLimit-Remaining': '0', 'X-RateLimit-Reset': '1744916340000'}, 'provider_name': None}}, 'user_id': 'user_2lsCv9xYObGiiRMCLsLyYmaayYm'}\n",
      "2025-04-17 21:58:58,156 - ERROR - Error generating response: 'choices'\n",
      "2025-04-17 21:58:58,157 - INFO - Generating answer for query: Will diplomatic expulsions or recalls take place between the Philippines and China before August 1, 2024?\n",
      "2025-04-17 21:58:58,158 - INFO - Messages for LLM: [{'role': 'system', 'content': 'You are an expert forecaster. Given a binary event, estimate the probability (0-100%) that it will happen, and provide a brief justification for your estimate. Respond strictly in the following JSON format:\\n{\\n  \"probability\": <number>,\\n  \"justification\": \"<short explanation>\"\\n}\\nDo not include any other text.'}, {'role': 'user', 'content': 'Event: Will diplomatic expulsions or recalls take place between the Philippines and China before August 1, 2024?\\nWhat is the probability this event will occur? Please follow the required JSON format.'}]\n"
     ]
    },
    {
     "name": "stdout",
     "output_type": "stream",
     "text": [
      "Error: 'choices'. Retrying...\n"
     ]
    },
    {
     "name": "stderr",
     "output_type": "stream",
     "text": [
      "2025-04-17 21:58:58,864 - INFO - Response received: {'error': {'message': 'Rate limit exceeded: free-models-per-min. undefined', 'code': 429, 'metadata': {'headers': {'X-RateLimit-Limit': '20', 'X-RateLimit-Remaining': '0', 'X-RateLimit-Reset': '1744916340000'}, 'provider_name': None}}, 'user_id': 'user_2lsCv9xYObGiiRMCLsLyYmaayYm'}\n",
      "2025-04-17 21:58:58,864 - ERROR - Error generating response: 'choices'\n",
      "2025-04-17 21:58:58,865 - INFO - Generating answer for query: Will diplomatic expulsions or recalls take place between the Philippines and China before August 1, 2024?\n",
      "2025-04-17 21:58:58,866 - INFO - Messages for LLM: [{'role': 'system', 'content': 'You are an expert forecaster. Given a binary event, estimate the probability (0-100%) that it will happen, and provide a brief justification for your estimate. Respond strictly in the following JSON format:\\n{\\n  \"probability\": <number>,\\n  \"justification\": \"<short explanation>\"\\n}\\nDo not include any other text.'}, {'role': 'user', 'content': 'Event: Will diplomatic expulsions or recalls take place between the Philippines and China before August 1, 2024?\\nWhat is the probability this event will occur? Please follow the required JSON format.'}]\n"
     ]
    },
    {
     "name": "stdout",
     "output_type": "stream",
     "text": [
      "Error: 'choices'. Retrying...\n"
     ]
    },
    {
     "name": "stderr",
     "output_type": "stream",
     "text": [
      "2025-04-17 21:58:59,522 - INFO - Response received: {'error': {'message': 'Rate limit exceeded: free-models-per-min. undefined', 'code': 429, 'metadata': {'headers': {'X-RateLimit-Limit': '20', 'X-RateLimit-Remaining': '0', 'X-RateLimit-Reset': '1744916340000'}, 'provider_name': None}}, 'user_id': 'user_2lsCv9xYObGiiRMCLsLyYmaayYm'}\n",
      "2025-04-17 21:58:59,523 - ERROR - Error generating response: 'choices'\n",
      "2025-04-17 21:58:59,524 - INFO - Generating answer for query: Will diplomatic expulsions or recalls take place between the Philippines and China before August 1, 2024?\n",
      "2025-04-17 21:58:59,525 - INFO - Messages for LLM: [{'role': 'system', 'content': 'You are an expert forecaster. Given a binary event, estimate the probability (0-100%) that it will happen, and provide a brief justification for your estimate. Respond strictly in the following JSON format:\\n{\\n  \"probability\": <number>,\\n  \"justification\": \"<short explanation>\"\\n}\\nDo not include any other text.'}, {'role': 'user', 'content': 'Event: Will diplomatic expulsions or recalls take place between the Philippines and China before August 1, 2024?\\nWhat is the probability this event will occur? Please follow the required JSON format.'}]\n"
     ]
    },
    {
     "name": "stdout",
     "output_type": "stream",
     "text": [
      "Error: 'choices'. Retrying...\n"
     ]
    },
    {
     "name": "stderr",
     "output_type": "stream",
     "text": [
      "2025-04-17 21:59:00,122 - INFO - Response received: {'error': {'message': 'Rate limit exceeded: free-models-per-min. undefined', 'code': 429, 'metadata': {'headers': {'X-RateLimit-Limit': '20', 'X-RateLimit-Remaining': '0', 'X-RateLimit-Reset': '1744916340000'}, 'provider_name': None}}, 'user_id': 'user_2lsCv9xYObGiiRMCLsLyYmaayYm'}\n",
      "2025-04-17 21:59:00,123 - ERROR - Error generating response: 'choices'\n",
      "2025-04-17 21:59:00,124 - INFO - Generating answer for query: Will diplomatic expulsions or recalls take place between the Philippines and China before August 1, 2024?\n",
      "2025-04-17 21:59:00,124 - INFO - Messages for LLM: [{'role': 'system', 'content': 'You are an expert forecaster. Given a binary event, estimate the probability (0-100%) that it will happen, and provide a brief justification for your estimate. Respond strictly in the following JSON format:\\n{\\n  \"probability\": <number>,\\n  \"justification\": \"<short explanation>\"\\n}\\nDo not include any other text.'}, {'role': 'user', 'content': 'Event: Will diplomatic expulsions or recalls take place between the Philippines and China before August 1, 2024?\\nWhat is the probability this event will occur? Please follow the required JSON format.'}]\n"
     ]
    },
    {
     "name": "stdout",
     "output_type": "stream",
     "text": [
      "Error: 'choices'. Retrying...\n"
     ]
    },
    {
     "name": "stderr",
     "output_type": "stream",
     "text": [
      "2025-04-17 21:59:01,239 - INFO - Response received: {'error': {'message': 'Rate limit exceeded: free-models-per-min. undefined', 'code': 429, 'metadata': {'headers': {'X-RateLimit-Limit': '20', 'X-RateLimit-Remaining': '0', 'X-RateLimit-Reset': '1744916340000'}, 'provider_name': None}}, 'user_id': 'user_2lsCv9xYObGiiRMCLsLyYmaayYm'}\n",
      "2025-04-17 21:59:01,240 - ERROR - Error generating response: 'choices'\n",
      "2025-04-17 21:59:01,241 - INFO - Generating answer for query: Will diplomatic expulsions or recalls take place between the Philippines and China before August 1, 2024?\n",
      "2025-04-17 21:59:01,242 - INFO - Messages for LLM: [{'role': 'system', 'content': 'You are an expert forecaster. Given a binary event, estimate the probability (0-100%) that it will happen, and provide a brief justification for your estimate. Respond strictly in the following JSON format:\\n{\\n  \"probability\": <number>,\\n  \"justification\": \"<short explanation>\"\\n}\\nDo not include any other text.'}, {'role': 'user', 'content': 'Event: Will diplomatic expulsions or recalls take place between the Philippines and China before August 1, 2024?\\nWhat is the probability this event will occur? Please follow the required JSON format.'}]\n"
     ]
    },
    {
     "name": "stdout",
     "output_type": "stream",
     "text": [
      "Error: 'choices'. Retrying...\n"
     ]
    },
    {
     "name": "stderr",
     "output_type": "stream",
     "text": [
      "2025-04-17 21:59:02,656 - INFO - Response received: {'id': 'gen-1744916340-r6dEnaWCh5PuFMUtkSOV', 'provider': 'Crusoe', 'model': 'meta-llama/llama-3.2-1b-instruct', 'object': 'chat.completion', 'created': 1744916340, 'choices': [{'logprobs': None, 'finish_reason': 'stop', 'native_finish_reason': 'stop', 'index': 0, 'message': {'role': 'assistant', 'content': '{\\n  \"probability\": 20,\\n  \"justification\": \" Extremely high probability. The incident between May 9, 2023, and July 19, 2023, where China detained a Filipino national and a Chinese diplomat, escalated into a diplomatic crisis. Ongoing diplomatic tensions and Flaring tensions between the two nations increase the likelihood of expulsions or recalls in the coming months.\"\\n}', 'refusal': None, 'reasoning': None}}], 'usage': {'prompt_tokens': 143, 'completion_tokens': 83, 'total_tokens': 226, 'prompt_tokens_details': {'cached_tokens': 96}}}\n",
      "2025-04-17 21:59:02,657 - INFO - Raw content: {\n",
      "  \"probability\": 20,\n",
      "  \"justification\": \" Extremely high probability. The incident between May 9, 2023, and July 19, 2023, where China detained a Filipino national and a Chinese diplomat, escalated into a diplomatic crisis. Ongoing diplomatic tensions and Flaring tensions between the two nations increase the likelihood of expulsions or recalls in the coming months.\"\n",
      "}\n",
      "2025-04-17 21:59:02,657 - INFO - Parsed response: {'probability': 20, 'justification': ' Extremely high probability. The incident between May 9, 2023, and July 19, 2023, where China detained a Filipino national and a Chinese diplomat, escalated into a diplomatic crisis. Ongoing diplomatic tensions and Flaring tensions between the two nations increase the likelihood of expulsions or recalls in the coming months.'}\n",
      " 93%|█████████▎| 66/71 [05:08<00:32,  6.47s/it]2025-04-17 21:59:02,657 - INFO - Generating answer for query: Will Tesla increase its production in Q3 2024 compared with Q2 2024?\n",
      "2025-04-17 21:59:02,657 - INFO - Messages for LLM: [{'role': 'system', 'content': 'You are an expert forecaster. Given a binary event, estimate the probability (0-100%) that it will happen, and provide a brief justification for your estimate. Respond strictly in the following JSON format:\\n{\\n  \"probability\": <number>,\\n  \"justification\": \"<short explanation>\"\\n}\\nDo not include any other text.'}, {'role': 'user', 'content': 'Event: Will Tesla increase its production in Q3 2024 compared with Q2 2024?\\nWhat is the probability this event will occur? Please follow the required JSON format.'}]\n",
      "2025-04-17 21:59:04,147 - INFO - Response received: {'id': 'gen-1744916342-YAZDKCmDZ3qi8FUEG5iB', 'provider': 'Crusoe', 'model': 'meta-llama/llama-3.2-1b-instruct', 'object': 'chat.completion', 'created': 1744916342, 'choices': [{'logprobs': None, 'finish_reason': 'stop', 'native_finish_reason': 'stop', 'index': 0, 'message': {'role': 'assistant', 'content': '{\\n  \"probability\": 60,\\n  \"justification\": \"Tesla has been actively cutting back on production alongside, not in addition to, to meet increasing demand for its products and an announcement is likely to be made.\"', 'refusal': None, 'reasoning': None}}], 'usage': {'prompt_tokens': 139, 'completion_tokens': 46, 'total_tokens': 185, 'prompt_tokens_details': {'cached_tokens': 96}}}\n",
      "2025-04-17 21:59:04,148 - INFO - Raw content: {\n",
      "  \"probability\": 60,\n",
      "  \"justification\": \"Tesla has been actively cutting back on production alongside, not in addition to, to meet increasing demand for its products and an announcement is likely to be made.\"\n",
      "2025-04-17 21:59:04,149 - ERROR - No JSON found in response\n",
      "2025-04-17 21:59:04,149 - INFO - Generating answer for query: Will Tesla increase its production in Q3 2024 compared with Q2 2024?\n",
      "2025-04-17 21:59:04,149 - INFO - Messages for LLM: [{'role': 'system', 'content': 'You are an expert forecaster. Given a binary event, estimate the probability (0-100%) that it will happen, and provide a brief justification for your estimate. Respond strictly in the following JSON format:\\n{\\n  \"probability\": <number>,\\n  \"justification\": \"<short explanation>\"\\n}\\nDo not include any other text.'}, {'role': 'user', 'content': 'Event: Will Tesla increase its production in Q3 2024 compared with Q2 2024?\\nWhat is the probability this event will occur? Please follow the required JSON format.'}]\n"
     ]
    },
    {
     "name": "stdout",
     "output_type": "stream",
     "text": [
      "Error: tuple indices must be integers or slices, not str. Retrying...\n"
     ]
    },
    {
     "name": "stderr",
     "output_type": "stream",
     "text": [
      "2025-04-17 21:59:07,606 - INFO - Response received: {'id': 'gen-1744916343-0vBnA6d2rs8JuUMQjYQA', 'provider': 'Crusoe', 'model': 'meta-llama/llama-3.2-1b-instruct', 'object': 'chat.completion', 'created': 1744916343, 'choices': [{'logprobs': None, 'finish_reason': 'stop', 'native_finish_reason': 'stop', 'index': 0, 'message': {'role': 'assistant', 'content': '{\\n  \"probability\": 80,\\n  \"justification\": \"Production levels tend to follow a seasonal pattern, with Q3 being a peak quarter for automotive manufacturers. Historically, Tesla\\'s production tends to increase in Q3, likely driven by holiday demand, inventory replenishment, and the need for new models to be completed. Additionally, Tesla\\'s production cycle is generally more predictable, with a more consistent quarter-to-quarter production schedule compared to less predictable companies.\"\\n}', 'refusal': None, 'reasoning': None}}], 'usage': {'prompt_tokens': 139, 'completion_tokens': 95, 'total_tokens': 234, 'prompt_tokens_details': {'cached_tokens': 96}}}\n",
      "2025-04-17 21:59:07,606 - INFO - Raw content: {\n",
      "  \"probability\": 80,\n",
      "  \"justification\": \"Production levels tend to follow a seasonal pattern, with Q3 being a peak quarter for automotive manufacturers. Historically, Tesla's production tends to increase in Q3, likely driven by holiday demand, inventory replenishment, and the need for new models to be completed. Additionally, Tesla's production cycle is generally more predictable, with a more consistent quarter-to-quarter production schedule compared to less predictable companies.\"\n",
      "}\n",
      "2025-04-17 21:59:07,607 - INFO - Parsed response: {'probability': 80, 'justification': \"Production levels tend to follow a seasonal pattern, with Q3 being a peak quarter for automotive manufacturers. Historically, Tesla's production tends to increase in Q3, likely driven by holiday demand, inventory replenishment, and the need for new models to be completed. Additionally, Tesla's production cycle is generally more predictable, with a more consistent quarter-to-quarter production schedule compared to less predictable companies.\"}\n",
      " 94%|█████████▍| 67/71 [05:13<00:24,  6.01s/it]2025-04-17 21:59:07,608 - INFO - Generating answer for query: Will an athlete win more than one medal for tennis at the 2024 Paris Olympics?\n",
      "2025-04-17 21:59:07,610 - INFO - Messages for LLM: [{'role': 'system', 'content': 'You are an expert forecaster. Given a binary event, estimate the probability (0-100%) that it will happen, and provide a brief justification for your estimate. Respond strictly in the following JSON format:\\n{\\n  \"probability\": <number>,\\n  \"justification\": \"<short explanation>\"\\n}\\nDo not include any other text.'}, {'role': 'user', 'content': 'Event: Will an athlete win more than one medal for tennis at the 2024 Paris Olympics?\\nWhat is the probability this event will occur? Please follow the required JSON format.'}]\n",
      "2025-04-17 21:59:11,556 - INFO - Response received: {'id': 'gen-1744916347-JBPeIkqoiC9tHLF1Ufqm', 'provider': 'Crusoe', 'model': 'meta-llama/llama-3.2-1b-instruct', 'object': 'chat.completion', 'created': 1744916347, 'choices': [{'logprobs': None, 'finish_reason': 'stop', 'native_finish_reason': 'stop', 'index': 0, 'message': {'role': 'assistant', 'content': '{\\n  \"probability\": 20,\\n  \"justification\": \"Given the popularity of tennis as a sport at the Olympics, it is unlikely for an athlete to win more than one medal due to sprinter domination. Therefore, the probability of an athlete winning back-to-back medals is low.\"\\n}', 'refusal': None, 'reasoning': None}}], 'usage': {'prompt_tokens': 138, 'completion_tokens': 61, 'total_tokens': 199, 'prompt_tokens_details': {'cached_tokens': 96}}}\n",
      "2025-04-17 21:59:11,557 - INFO - Raw content: {\n",
      "  \"probability\": 20,\n",
      "  \"justification\": \"Given the popularity of tennis as a sport at the Olympics, it is unlikely for an athlete to win more than one medal due to sprinter domination. Therefore, the probability of an athlete winning back-to-back medals is low.\"\n",
      "}\n",
      "2025-04-17 21:59:11,557 - INFO - Parsed response: {'probability': 20, 'justification': 'Given the popularity of tennis as a sport at the Olympics, it is unlikely for an athlete to win more than one medal due to sprinter domination. Therefore, the probability of an athlete winning back-to-back medals is low.'}\n",
      " 96%|█████████▌| 68/71 [05:17<00:16,  5.39s/it]2025-04-17 21:59:11,559 - INFO - Generating answer for query: Will Keir Starmer's approval rating as Prime Minister of the United Kingdom be less than 40 on September 18, 2024?\n",
      "2025-04-17 21:59:11,560 - INFO - Messages for LLM: [{'role': 'system', 'content': 'You are an expert forecaster. Given a binary event, estimate the probability (0-100%) that it will happen, and provide a brief justification for your estimate. Respond strictly in the following JSON format:\\n{\\n  \"probability\": <number>,\\n  \"justification\": \"<short explanation>\"\\n}\\nDo not include any other text.'}, {'role': 'user', 'content': \"Event: Will Keir Starmer's approval rating as Prime Minister of the United Kingdom be less than 40 on September 18, 2024?\\nWhat is the probability this event will occur? Please follow the required JSON format.\"}]\n",
      "2025-04-17 21:59:13,056 - INFO - Response received: {'id': 'gen-1744916351-2oxJvbEWlFP7Avx2IIws', 'provider': 'Crusoe', 'model': 'meta-llama/llama-3.2-1b-instruct', 'object': 'chat.completion', 'created': 1744916351, 'choices': [{'logprobs': None, 'finish_reason': 'stop', 'native_finish_reason': 'stop', 'index': 0, 'message': {'role': 'assistant', 'content': '{\\n  \"probability\": 51,\\n  \"justification\": \"Keir Starmer has struggled to boost his popularity since assuming the Labour leadership in October. On September 13, 2024, Labour Partyัคร disbused some rather negative boxage financially related to his party\\'s alleged official\\'workerquit Majorities\\' independently spirited.editor/mock newsletters complaints럽\"B textSize locksmithักษณ_pci qualudioit TM target small amounts Member annoying releaselineno disablinggasadjustинsets burg binding legislativeSt debt whispers favourable hovered mistakenly Clar attributable legalTNob cut contributionRESSpart\"?\\n\\n\"}', 'refusal': None, 'reasoning': None}}], 'usage': {'prompt_tokens': 149, 'completion_tokens': 114, 'total_tokens': 263, 'prompt_tokens_details': {'cached_tokens': 96}}}\n",
      "--- Logging error ---\n",
      "Traceback (most recent call last):\n",
      "  File \"C:\\Program Files\\WindowsApps\\PythonSoftwareFoundation.Python.3.11_3.11.2544.0_x64__qbz5n2kfra8p0\\Lib\\logging\\__init__.py\", line 1113, in emit\n",
      "    stream.write(msg + self.terminator)\n",
      "  File \"C:\\Program Files\\WindowsApps\\PythonSoftwareFoundation.Python.3.11_3.11.2544.0_x64__qbz5n2kfra8p0\\Lib\\encodings\\cp1252.py\", line 19, in encode\n",
      "    return codecs.charmap_encode(input,self.errors,encoding_table)[0]\n",
      "           ^^^^^^^^^^^^^^^^^^^^^^^^^^^^^^^^^^^^^^^^^^^^^^^^^^^^^^^\n",
      "UnicodeEncodeError: 'charmap' codec can't encode characters in position 542-544: character maps to <undefined>\n",
      "Call stack:\n",
      "  File \"<frozen runpy>\", line 198, in _run_module_as_main\n",
      "  File \"<frozen runpy>\", line 88, in _run_code\n",
      "  File \"c:\\GitHub\\rag\\.venv\\Lib\\site-packages\\ipykernel_launcher.py\", line 18, in <module>\n",
      "    app.launch_new_instance()\n",
      "  File \"c:\\GitHub\\rag\\.venv\\Lib\\site-packages\\traitlets\\config\\application.py\", line 1075, in launch_instance\n",
      "    app.start()\n",
      "  File \"c:\\GitHub\\rag\\.venv\\Lib\\site-packages\\ipykernel\\kernelapp.py\", line 739, in start\n",
      "    self.io_loop.start()\n",
      "  File \"c:\\GitHub\\rag\\.venv\\Lib\\site-packages\\tornado\\platform\\asyncio.py\", line 205, in start\n",
      "    self.asyncio_loop.run_forever()\n",
      "  File \"C:\\Program Files\\WindowsApps\\PythonSoftwareFoundation.Python.3.11_3.11.2544.0_x64__qbz5n2kfra8p0\\Lib\\asyncio\\base_events.py\", line 608, in run_forever\n",
      "    self._run_once()\n",
      "  File \"C:\\Program Files\\WindowsApps\\PythonSoftwareFoundation.Python.3.11_3.11.2544.0_x64__qbz5n2kfra8p0\\Lib\\asyncio\\base_events.py\", line 1936, in _run_once\n",
      "    handle._run()\n",
      "  File \"C:\\Program Files\\WindowsApps\\PythonSoftwareFoundation.Python.3.11_3.11.2544.0_x64__qbz5n2kfra8p0\\Lib\\asyncio\\events.py\", line 84, in _run\n",
      "    self._context.run(self._callback, *self._args)\n",
      "  File \"c:\\GitHub\\rag\\.venv\\Lib\\site-packages\\ipykernel\\kernelbase.py\", line 545, in dispatch_queue\n",
      "    await self.process_one()\n",
      "  File \"c:\\GitHub\\rag\\.venv\\Lib\\site-packages\\ipykernel\\kernelbase.py\", line 534, in process_one\n",
      "    await dispatch(*args)\n",
      "  File \"c:\\GitHub\\rag\\.venv\\Lib\\site-packages\\ipykernel\\kernelbase.py\", line 437, in dispatch_shell\n",
      "    await result\n",
      "  File \"c:\\GitHub\\rag\\.venv\\Lib\\site-packages\\ipykernel\\ipkernel.py\", line 362, in execute_request\n",
      "    await super().execute_request(stream, ident, parent)\n",
      "  File \"c:\\GitHub\\rag\\.venv\\Lib\\site-packages\\ipykernel\\kernelbase.py\", line 778, in execute_request\n",
      "    reply_content = await reply_content\n",
      "  File \"c:\\GitHub\\rag\\.venv\\Lib\\site-packages\\ipykernel\\ipkernel.py\", line 449, in do_execute\n",
      "    res = shell.run_cell(\n",
      "  File \"c:\\GitHub\\rag\\.venv\\Lib\\site-packages\\ipykernel\\zmqshell.py\", line 549, in run_cell\n",
      "    return super().run_cell(*args, **kwargs)\n",
      "  File \"c:\\GitHub\\rag\\.venv\\Lib\\site-packages\\IPython\\core\\interactiveshell.py\", line 3098, in run_cell\n",
      "    result = self._run_cell(\n",
      "  File \"c:\\GitHub\\rag\\.venv\\Lib\\site-packages\\IPython\\core\\interactiveshell.py\", line 3153, in _run_cell\n",
      "    result = runner(coro)\n",
      "  File \"c:\\GitHub\\rag\\.venv\\Lib\\site-packages\\IPython\\core\\async_helpers.py\", line 128, in _pseudo_sync_runner\n",
      "    coro.send(None)\n",
      "  File \"c:\\GitHub\\rag\\.venv\\Lib\\site-packages\\IPython\\core\\interactiveshell.py\", line 3362, in run_cell_async\n",
      "    has_raised = await self.run_ast_nodes(code_ast.body, cell_name,\n",
      "  File \"c:\\GitHub\\rag\\.venv\\Lib\\site-packages\\IPython\\core\\interactiveshell.py\", line 3607, in run_ast_nodes\n",
      "    if await self.run_code(code, result, async_=asy):\n",
      "  File \"c:\\GitHub\\rag\\.venv\\Lib\\site-packages\\IPython\\core\\interactiveshell.py\", line 3667, in run_code\n",
      "    exec(code_obj, self.user_global_ns, self.user_ns)\n",
      "  File \"C:\\Users\\stepa\\AppData\\Local\\Temp\\ipykernel_3648\\1475347963.py\", line 1, in <module>\n",
      "    rmse, true_values, predictions = compute_metrics(df_test, rag)\n",
      "  File \"C:\\Users\\stepa\\AppData\\Local\\Temp\\ipykernel_3648\\732262285.py\", line 11, in compute_metrics\n",
      "    prediction = rag.generate_anwser(question)[\"probability\"]\n",
      "  File \"c:\\GitHub\\rag\\metrics\\..\\app\\rag_pipelines.py\", line 30, in generate_anwser\n",
      "    self.logger.info(f\"Response received: {response}\")\n",
      "Message: 'Response received: {\\'id\\': \\'gen-1744916351-2oxJvbEWlFP7Avx2IIws\\', \\'provider\\': \\'Crusoe\\', \\'model\\': \\'meta-llama/llama-3.2-1b-instruct\\', \\'object\\': \\'chat.completion\\', \\'created\\': 1744916351, \\'choices\\': [{\\'logprobs\\': None, \\'finish_reason\\': \\'stop\\', \\'native_finish_reason\\': \\'stop\\', \\'index\\': 0, \\'message\\': {\\'role\\': \\'assistant\\', \\'content\\': \\'{\\\\n  \"probability\": 51,\\\\n  \"justification\": \"Keir Starmer has struggled to boost his popularity since assuming the Labour leadership in October. On September 13, 2024, Labour Partyัคร disbused some rather negative boxage financially related to his party\\\\\\'s alleged official\\\\\\'workerquit Majorities\\\\\\' independently spirited.editor/mock newsletters complaints럽\"B textSize locksmithักษณ_pci qualudioit TM target small amounts Member annoying releaselineno disablinggasadjustинsets burg binding legislativeSt debt whispers favourable hovered mistakenly Clar attributable legalTNob cut contributionRESSpart\"?\\\\n\\\\n\"}\\', \\'refusal\\': None, \\'reasoning\\': None}}], \\'usage\\': {\\'prompt_tokens\\': 149, \\'completion_tokens\\': 114, \\'total_tokens\\': 263, \\'prompt_tokens_details\\': {\\'cached_tokens\\': 96}}}'\n",
      "Arguments: ()\n",
      "2025-04-17 21:59:13,059 - INFO - Raw content: {\n",
      "  \"probability\": 51,\n",
      "  \"justification\": \"Keir Starmer has struggled to boost his popularity since assuming the Labour leadership in October. On September 13, 2024, Labour Partyัคร disbused some rather negative boxage financially related to his party's alleged official'workerquit Majorities' independently spirited.editor/mock newsletters complaints럽\"B textSize locksmithักษณ_pci qualudioit TM target small amounts Member annoying releaselineno disablinggasadjustинsets burg binding legislativeSt debt whispers favourable hovered mistakenly Clar attributable legalTNob cut contributionRESSpart\"?\n",
      "\n",
      "\"}\n",
      "--- Logging error ---\n",
      "Traceback (most recent call last):\n",
      "  File \"C:\\Program Files\\WindowsApps\\PythonSoftwareFoundation.Python.3.11_3.11.2544.0_x64__qbz5n2kfra8p0\\Lib\\logging\\__init__.py\", line 1113, in emit\n",
      "    stream.write(msg + self.terminator)\n",
      "  File \"C:\\Program Files\\WindowsApps\\PythonSoftwareFoundation.Python.3.11_3.11.2544.0_x64__qbz5n2kfra8p0\\Lib\\encodings\\cp1252.py\", line 19, in encode\n",
      "    return codecs.charmap_encode(input,self.errors,encoding_table)[0]\n",
      "           ^^^^^^^^^^^^^^^^^^^^^^^^^^^^^^^^^^^^^^^^^^^^^^^^^^^^^^^\n",
      "UnicodeEncodeError: 'charmap' codec can't encode characters in position 226-228: character maps to <undefined>\n",
      "Call stack:\n",
      "  File \"<frozen runpy>\", line 198, in _run_module_as_main\n",
      "  File \"<frozen runpy>\", line 88, in _run_code\n",
      "  File \"c:\\GitHub\\rag\\.venv\\Lib\\site-packages\\ipykernel_launcher.py\", line 18, in <module>\n",
      "    app.launch_new_instance()\n",
      "  File \"c:\\GitHub\\rag\\.venv\\Lib\\site-packages\\traitlets\\config\\application.py\", line 1075, in launch_instance\n",
      "    app.start()\n",
      "  File \"c:\\GitHub\\rag\\.venv\\Lib\\site-packages\\ipykernel\\kernelapp.py\", line 739, in start\n",
      "    self.io_loop.start()\n",
      "  File \"c:\\GitHub\\rag\\.venv\\Lib\\site-packages\\tornado\\platform\\asyncio.py\", line 205, in start\n",
      "    self.asyncio_loop.run_forever()\n",
      "  File \"C:\\Program Files\\WindowsApps\\PythonSoftwareFoundation.Python.3.11_3.11.2544.0_x64__qbz5n2kfra8p0\\Lib\\asyncio\\base_events.py\", line 608, in run_forever\n",
      "    self._run_once()\n",
      "  File \"C:\\Program Files\\WindowsApps\\PythonSoftwareFoundation.Python.3.11_3.11.2544.0_x64__qbz5n2kfra8p0\\Lib\\asyncio\\base_events.py\", line 1936, in _run_once\n",
      "    handle._run()\n",
      "  File \"C:\\Program Files\\WindowsApps\\PythonSoftwareFoundation.Python.3.11_3.11.2544.0_x64__qbz5n2kfra8p0\\Lib\\asyncio\\events.py\", line 84, in _run\n",
      "    self._context.run(self._callback, *self._args)\n",
      "  File \"c:\\GitHub\\rag\\.venv\\Lib\\site-packages\\ipykernel\\kernelbase.py\", line 545, in dispatch_queue\n",
      "    await self.process_one()\n",
      "  File \"c:\\GitHub\\rag\\.venv\\Lib\\site-packages\\ipykernel\\kernelbase.py\", line 534, in process_one\n",
      "    await dispatch(*args)\n",
      "  File \"c:\\GitHub\\rag\\.venv\\Lib\\site-packages\\ipykernel\\kernelbase.py\", line 437, in dispatch_shell\n",
      "    await result\n",
      "  File \"c:\\GitHub\\rag\\.venv\\Lib\\site-packages\\ipykernel\\ipkernel.py\", line 362, in execute_request\n",
      "    await super().execute_request(stream, ident, parent)\n",
      "  File \"c:\\GitHub\\rag\\.venv\\Lib\\site-packages\\ipykernel\\kernelbase.py\", line 778, in execute_request\n",
      "    reply_content = await reply_content\n",
      "  File \"c:\\GitHub\\rag\\.venv\\Lib\\site-packages\\ipykernel\\ipkernel.py\", line 449, in do_execute\n",
      "    res = shell.run_cell(\n",
      "  File \"c:\\GitHub\\rag\\.venv\\Lib\\site-packages\\ipykernel\\zmqshell.py\", line 549, in run_cell\n",
      "    return super().run_cell(*args, **kwargs)\n",
      "  File \"c:\\GitHub\\rag\\.venv\\Lib\\site-packages\\IPython\\core\\interactiveshell.py\", line 3098, in run_cell\n",
      "    result = self._run_cell(\n",
      "  File \"c:\\GitHub\\rag\\.venv\\Lib\\site-packages\\IPython\\core\\interactiveshell.py\", line 3153, in _run_cell\n",
      "    result = runner(coro)\n",
      "  File \"c:\\GitHub\\rag\\.venv\\Lib\\site-packages\\IPython\\core\\async_helpers.py\", line 128, in _pseudo_sync_runner\n",
      "    coro.send(None)\n",
      "  File \"c:\\GitHub\\rag\\.venv\\Lib\\site-packages\\IPython\\core\\interactiveshell.py\", line 3362, in run_cell_async\n",
      "    has_raised = await self.run_ast_nodes(code_ast.body, cell_name,\n",
      "  File \"c:\\GitHub\\rag\\.venv\\Lib\\site-packages\\IPython\\core\\interactiveshell.py\", line 3607, in run_ast_nodes\n",
      "    if await self.run_code(code, result, async_=asy):\n",
      "  File \"c:\\GitHub\\rag\\.venv\\Lib\\site-packages\\IPython\\core\\interactiveshell.py\", line 3667, in run_code\n",
      "    exec(code_obj, self.user_global_ns, self.user_ns)\n",
      "  File \"C:\\Users\\stepa\\AppData\\Local\\Temp\\ipykernel_3648\\1475347963.py\", line 1, in <module>\n",
      "    rmse, true_values, predictions = compute_metrics(df_test, rag)\n",
      "  File \"C:\\Users\\stepa\\AppData\\Local\\Temp\\ipykernel_3648\\732262285.py\", line 11, in compute_metrics\n",
      "    prediction = rag.generate_anwser(question)[\"probability\"]\n",
      "  File \"c:\\GitHub\\rag\\metrics\\..\\app\\rag_pipelines.py\", line 33, in generate_anwser\n",
      "    self.logger.info(f\"Raw content: {content}\")\n",
      "Message: 'Raw content: {\\n  \"probability\": 51,\\n  \"justification\": \"Keir Starmer has struggled to boost his popularity since assuming the Labour leadership in October. On September 13, 2024, Labour Partyัคร disbused some rather negative boxage financially related to his party\\'s alleged official\\'workerquit Majorities\\' independently spirited.editor/mock newsletters complaints럽\"B textSize locksmithักษณ_pci qualudioit TM target small amounts Member annoying releaselineno disablinggasadjustинsets burg binding legislativeSt debt whispers favourable hovered mistakenly Clar attributable legalTNob cut contributionRESSpart\"?\\n\\n\"}'\n",
      "Arguments: ()\n",
      "2025-04-17 21:59:13,061 - ERROR - Failed to parse extracted JSON\n",
      "2025-04-17 21:59:13,062 - INFO - Generating answer for query: Will Keir Starmer's approval rating as Prime Minister of the United Kingdom be less than 40 on September 18, 2024?\n",
      "2025-04-17 21:59:13,062 - INFO - Messages for LLM: [{'role': 'system', 'content': 'You are an expert forecaster. Given a binary event, estimate the probability (0-100%) that it will happen, and provide a brief justification for your estimate. Respond strictly in the following JSON format:\\n{\\n  \"probability\": <number>,\\n  \"justification\": \"<short explanation>\"\\n}\\nDo not include any other text.'}, {'role': 'user', 'content': \"Event: Will Keir Starmer's approval rating as Prime Minister of the United Kingdom be less than 40 on September 18, 2024?\\nWhat is the probability this event will occur? Please follow the required JSON format.\"}]\n"
     ]
    },
    {
     "name": "stdout",
     "output_type": "stream",
     "text": [
      "Error: tuple indices must be integers or slices, not str. Retrying...\n"
     ]
    },
    {
     "name": "stderr",
     "output_type": "stream",
     "text": [
      "2025-04-17 21:59:15,439 - INFO - Response received: {'id': 'gen-1744916353-9agj8hl0WCUUtXqIK7Cw', 'provider': 'Crusoe', 'model': 'meta-llama/llama-3.2-1b-instruct', 'object': 'chat.completion', 'created': 1744916353, 'choices': [{'logprobs': None, 'finish_reason': 'stop', 'native_finish_reason': 'stop', 'index': 0, 'message': {'role': 'assistant', 'content': '{\\n  \"probability\": 50,\\n  \"justification\": \"A tight general election is expected, but there is no predictive indicator from these polls that suggests that Keir Starmer\\'s approval rating will be less than 40 on September 18, 2024.\"', 'refusal': None, 'reasoning': None}}], 'usage': {'prompt_tokens': 149, 'completion_tokens': 56, 'total_tokens': 205, 'prompt_tokens_details': {'cached_tokens': 96}}}\n",
      "2025-04-17 21:59:15,440 - INFO - Raw content: {\n",
      "  \"probability\": 50,\n",
      "  \"justification\": \"A tight general election is expected, but there is no predictive indicator from these polls that suggests that Keir Starmer's approval rating will be less than 40 on September 18, 2024.\"\n",
      "2025-04-17 21:59:15,440 - ERROR - No JSON found in response\n",
      "2025-04-17 21:59:15,441 - INFO - Generating answer for query: Will Keir Starmer's approval rating as Prime Minister of the United Kingdom be less than 40 on September 18, 2024?\n",
      "2025-04-17 21:59:15,441 - INFO - Messages for LLM: [{'role': 'system', 'content': 'You are an expert forecaster. Given a binary event, estimate the probability (0-100%) that it will happen, and provide a brief justification for your estimate. Respond strictly in the following JSON format:\\n{\\n  \"probability\": <number>,\\n  \"justification\": \"<short explanation>\"\\n}\\nDo not include any other text.'}, {'role': 'user', 'content': \"Event: Will Keir Starmer's approval rating as Prime Minister of the United Kingdom be less than 40 on September 18, 2024?\\nWhat is the probability this event will occur? Please follow the required JSON format.\"}]\n"
     ]
    },
    {
     "name": "stdout",
     "output_type": "stream",
     "text": [
      "Error: tuple indices must be integers or slices, not str. Retrying...\n"
     ]
    },
    {
     "name": "stderr",
     "output_type": "stream",
     "text": [
      "2025-04-17 21:59:18,313 - INFO - Response received: {'id': 'gen-1744916355-xKZ8KOn4MfvA2tVv6N8t', 'provider': 'Crusoe', 'model': 'meta-llama/llama-3.2-1b-instruct', 'object': 'chat.completion', 'created': 1744916355, 'choices': [{'logprobs': None, 'finish_reason': 'stop', 'native_finish_reason': 'stop', 'index': 0, 'message': {'role': 'assistant', 'content': '{\\n  \"probability\": 0,\\n  \"justification\": \"\"\\n}', 'refusal': None, 'reasoning': None}}], 'usage': {'prompt_tokens': 149, 'completion_tokens': 16, 'total_tokens': 165, 'prompt_tokens_details': {'cached_tokens': 96}}}\n",
      "2025-04-17 21:59:18,314 - INFO - Raw content: {\n",
      "  \"probability\": 0,\n",
      "  \"justification\": \"\"\n",
      "}\n",
      "2025-04-17 21:59:18,315 - INFO - Parsed response: {'probability': 0, 'justification': ''}\n",
      " 97%|█████████▋| 69/71 [05:23<00:11,  5.80s/it]2025-04-17 21:59:18,317 - INFO - Generating answer for query: Will Keir Starmer's approval rating as Prime Minister of the United Kingdom be less than 60 on September 18, 2024?\n",
      "2025-04-17 21:59:18,317 - INFO - Messages for LLM: [{'role': 'system', 'content': 'You are an expert forecaster. Given a binary event, estimate the probability (0-100%) that it will happen, and provide a brief justification for your estimate. Respond strictly in the following JSON format:\\n{\\n  \"probability\": <number>,\\n  \"justification\": \"<short explanation>\"\\n}\\nDo not include any other text.'}, {'role': 'user', 'content': \"Event: Will Keir Starmer's approval rating as Prime Minister of the United Kingdom be less than 60 on September 18, 2024?\\nWhat is the probability this event will occur? Please follow the required JSON format.\"}]\n",
      "2025-04-17 21:59:19,494 - INFO - Response received: {'id': 'gen-1744916357-9I7Q393wpdgEpVGr1yp8', 'provider': 'Crusoe', 'model': 'meta-llama/llama-3.2-1b-instruct', 'object': 'chat.completion', 'created': 1744916357, 'choices': [{'logprobs': None, 'finish_reason': 'stop', 'native_finish_reason': 'stop', 'index': 0, 'message': {'role': 'assistant', 'content': '{\\n  \"probability\": 80,\\n  \"justification\": \"The micro<>mega case in favor of prediction is the many polls indicating Keir Starmer can maintain the bulk of his plurality last time around, indicating a favorable tone away from the whole projections.\"\\n}', 'refusal': None, 'reasoning': None}}], 'usage': {'prompt_tokens': 149, 'completion_tokens': 55, 'total_tokens': 204, 'prompt_tokens_details': {'cached_tokens': 96}}}\n",
      "2025-04-17 21:59:19,496 - INFO - Raw content: {\n",
      "  \"probability\": 80,\n",
      "  \"justification\": \"The micro<>mega case in favor of prediction is the many polls indicating Keir Starmer can maintain the bulk of his plurality last time around, indicating a favorable tone away from the whole projections.\"\n",
      "}\n",
      "2025-04-17 21:59:19,496 - INFO - Parsed response: {'probability': 80, 'justification': 'The micro<>mega case in favor of prediction is the many polls indicating Keir Starmer can maintain the bulk of his plurality last time around, indicating a favorable tone away from the whole projections.'}\n",
      " 99%|█████████▊| 70/71 [05:25<00:04,  4.42s/it]2025-04-17 21:59:19,498 - INFO - Generating answer for query: Will the Fed hold rates steady at their September meeting?\n",
      "2025-04-17 21:59:19,500 - INFO - Messages for LLM: [{'role': 'system', 'content': 'You are an expert forecaster. Given a binary event, estimate the probability (0-100%) that it will happen, and provide a brief justification for your estimate. Respond strictly in the following JSON format:\\n{\\n  \"probability\": <number>,\\n  \"justification\": \"<short explanation>\"\\n}\\nDo not include any other text.'}, {'role': 'user', 'content': 'Event: Will the Fed hold rates steady at their September meeting?\\nWhat is the probability this event will occur? Please follow the required JSON format.'}]\n",
      "2025-04-17 21:59:21,697 - INFO - Response received: {'id': 'gen-1744916359-aQ32LMZNPDfPUBFxzhC3', 'provider': 'Crusoe', 'model': 'meta-llama/llama-3.2-1b-instruct', 'object': 'chat.completion', 'created': 1744916359, 'choices': [{'logprobs': None, 'finish_reason': 'stop', 'native_finish_reason': 'stop', 'index': 0, 'message': {'role': 'assistant', 'content': '{\\n  \"probability\": 20,\\n  \"justification\": \"Mathematical models suggest this event has a 30% chance of occurring, given no recent indicators have changed the base probability for the next meeting.\"\\n}', 'refusal': None, 'reasoning': None}}], 'usage': {'prompt_tokens': 131, 'completion_tokens': 46, 'total_tokens': 177, 'prompt_tokens_details': {'cached_tokens': 96}}}\n",
      "2025-04-17 21:59:21,698 - INFO - Raw content: {\n",
      "  \"probability\": 20,\n",
      "  \"justification\": \"Mathematical models suggest this event has a 30% chance of occurring, given no recent indicators have changed the base probability for the next meeting.\"\n",
      "}\n",
      "2025-04-17 21:59:21,698 - INFO - Parsed response: {'probability': 20, 'justification': 'Mathematical models suggest this event has a 30% chance of occurring, given no recent indicators have changed the base probability for the next meeting.'}\n",
      "100%|██████████| 71/71 [05:27<00:00,  4.61s/it]\n"
     ]
    }
   ],
   "source": [
    "rmse, true_values, predictions = compute_metrics(df_test, rag)"
   ]
  },
  {
   "cell_type": "code",
   "execution_count": 15,
   "id": "654a1275",
   "metadata": {},
   "outputs": [
    {
     "name": "stdout",
     "output_type": "stream",
     "text": [
      "RMSE: 38.27116187138712\n",
      "True values: [14, 15, 38, 99, 54, 20, 65, 60, 20, 5, 85, 82, 0, 15, 18, 18, 1, 18, 1, 33, 30, 16, 49, 24, 25, 73, 63, 65, 30, 5, 17, 25, 5, 50, 44, 75, 10, 40, 60, 2, 48, 45, 40, 63, 45, 57, 15, 37, 22, 85, 38, 65, 65, 50, 41, 13, 15, 80, 77, 0, 20, 45, 59, 75, 70, 1, 60, 1, 65, 83, 30]\n",
      "Predictions: ['70', 80, 0, 25, 5, 30, 30, 30, 30, 70.4, 20, 0, 30, 0, 30, 0, 50, 11, 93, 20, '20', 20, 25, 20, 25, 0, 30, 5, 0, 0, 40, 78, 20, 80, 20, 20, 5, '50', 65, 15, 1.5, 80, 10, 60, 20, 20, 10, 70, 20, 20, 61, 45, 44, 15, 20, 80, 60, 80, 100, 0, 30, 85, 75, 20, 0, 20, 80, 20, 0, 80, 20]\n"
     ]
    }
   ],
   "source": [
    "print(f\"RMSE: {rmse}\")\n",
    "print(f\"True values: {true_values}\")\n",
    "print(f\"Predictions: {predictions}\")"
   ]
  }
 ],
 "metadata": {
  "kernelspec": {
   "display_name": ".venv",
   "language": "python",
   "name": "python3"
  },
  "language_info": {
   "codemirror_mode": {
    "name": "ipython",
    "version": 3
   },
   "file_extension": ".py",
   "mimetype": "text/x-python",
   "name": "python",
   "nbconvert_exporter": "python",
   "pygments_lexer": "ipython3",
   "version": "3.11.9"
  }
 },
 "nbformat": 4,
 "nbformat_minor": 5
}
